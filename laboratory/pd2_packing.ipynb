{
 "cells": [
  {
   "cell_type": "code",
   "execution_count": 63,
   "metadata": {},
   "outputs": [],
   "source": [
    "from __future__ import annotations\n",
    "from itertools import combinations\n",
    "import copy\n",
    "import math\n",
    "import random\n",
    "import bin_repr as bi\n",
    "from matplotlib import pyplot as plt\n",
    "import numpy as np\n",
    "from enum import Enum\n",
    "import numpy.linalg as la\n",
    "from matplotlib.colors import colorConverter\n"
   ]
  },
  {
   "cell_type": "markdown",
   "metadata": {},
   "source": [
    "# Problema 1\n",
    "Dada la ecuación:\n",
    "$$x + 2y + 3z + 4w + 5v = 50 $$\n",
    "haciendo uso del algoritmo genético determinar al menos una combinación que satisfaga la igualdad de dicha ecuación, considerando que: $x ∈ [−10, 0], y ∈ [50, 100], z ∈ [10, 20], w ∈ [−20, 30], v ∈ [−40, 40]$ y que solo pueden tomar valores enteros. Implementar la solución del problema para tres tipos de representaciones diferentes (binaria, código de gray, y entera), y luego comparar en un mismo gráfico la evolución del mejor individuo en cada generación.\n",
    "\n",
    "Considerar:\n"
   ]
  },
  {
   "cell_type": "code",
   "execution_count": 64,
   "metadata": {},
   "outputs": [],
   "source": [
    "# intervalo de trabajo\n",
    "DOMINIO = np.array([[-10, 0],\n",
    "                    [50, 100],\n",
    "                    [10, 20],\n",
    "                    [-20, 30],\n",
    "                    [-40, 40]])\n",
    "\n",
    "# numero de variables\n",
    "N = DOMINIO[:, 1] - DOMINIO[:, 0] + 1       # 2^a <= N < 2^{a+1}\n",
    "GEN_SIZE = np.ceil(np.log2(N)).astype(int)  # longitud de cada GEN (cromosoma)\n",
    "DNA_SIZE = GEN_SIZE.sum()\n",
    "EPSILON = 1\n",
    "\n",
    "class Representation(Enum):\n",
    "    BIN = DNA_SIZE\n",
    "    GRAY = DNA_SIZE\n",
    "    DECIMAL = len(DOMINIO)\n",
    "\n",
    "def f(x: list[int]):\n",
    "    return abs(x[0] + 2*x[1] + 3*x[2] + 4*x[3] + 5*x[4] - 50)\n",
    "\n",
    "f_max = f(DOMINIO[:, 1])\n",
    "\n",
    "def fit(x: list[int]):\n",
    "    return f_max - f(x)"
   ]
  },
  {
   "cell_type": "markdown",
   "metadata": {},
   "source": [
    "1. Una población inicial y constante de 20 individuos seleccionados de forma aleatoria.\n"
   ]
  },
  {
   "cell_type": "code",
   "execution_count": 65,
   "metadata": {},
   "outputs": [],
   "source": [
    "class Individual():\n",
    "    def __init__(self, phenotype, my_repr=Representation.DECIMAL):\n",
    "        self.fitness = fit(phenotype)\n",
    "        self.phenotype = phenotype\n",
    "        self.my_repr = my_repr\n",
    "\n",
    "    def getSize(self):\n",
    "        return self.my_repr.value\n",
    "\n",
    "    def getGenotype(self):\n",
    "        list_repr: list[int] = []\n",
    "        if self.my_repr == Representation.BIN:\n",
    "            for i, gen in enumerate(self.phenotype):\n",
    "                list_repr += bi.dec2bin(num=bi.my_map(gen, DOMINIO[i, 0], DOMINIO[i, 1], EPSILON), bits=GEN_SIZE[i])\n",
    "        elif self.my_repr == Representation.GRAY:\n",
    "            for i, gen in enumerate(self.phenotype):\n",
    "                list_repr += bi.bin2gray(bi.dec2bin(num=bi.my_map(gen, DOMINIO[i, 0], DOMINIO[i, 1], EPSILON), bits=GEN_SIZE[i]))\n",
    "        else:\n",
    "            list_repr = copy.deepcopy(self.phenotype)\n",
    "        return list_repr\n",
    "\n",
    "    @classmethod\n",
    "    def new(cls, genotype, my_rep: Representation):\n",
    "        phenotype: list[int] = []\n",
    "        dec_size = Representation.DECIMAL.value\n",
    "\n",
    "        if my_rep == Representation.BIN:\n",
    "            for i in range(dec_size):\n",
    "                gen = genotype[GEN_SIZE[:i].sum():GEN_SIZE[:i + 1].sum()]\n",
    "                phenotype.append(bi.inverse_map(bi.bin2dec(gen), DOMINIO[i, 0], EPSILON))\n",
    "        elif my_rep == Representation.GRAY:\n",
    "            for i in range(dec_size):\n",
    "                gen = genotype[GEN_SIZE[:i].sum():GEN_SIZE[:i + 1].sum()]\n",
    "                phenotype.append(bi.inverse_map(bi.bin2dec(bi.bin2dec(gen)), DOMINIO[i, 0], EPSILON))\n",
    "        else:\n",
    "            phenotype = copy.deepcopy(genotype)\n",
    "        return cls(phenotype, my_rep)\n",
    "\n",
    "    @classmethod\n",
    "    def newRandom(cls, my_rep=Representation.DECIMAL):\n",
    "       # creación de la poblacion inicial\n",
    "        return Individual([random.randint(d[0], d[1]) for d in DOMINIO], my_rep)\n"
   ]
  },
  {
   "cell_type": "code",
   "execution_count": 66,
   "metadata": {},
   "outputs": [
    {
     "name": "stdout",
     "output_type": "stream",
     "text": [
      "Población inicial con 20 individuos\n",
      "1 [1, 0, 1, 0, 0, 1, 0, 0, 0, 0, 0, 1, 0, 0, 0, 0, 1, 0, 0, 1, 0, 1, 1, 0, 0, 0, 0]\n",
      "2 [1, 0, 1, 0, 1, 0, 1, 1, 1, 1, 0, 0, 0, 1, 0, 0, 0, 0, 1, 1, 0, 1, 0, 1, 1, 0, 0]\n",
      "3 [1, 0, 0, 1, 0, 0, 0, 0, 1, 1, 0, 1, 0, 0, 0, 1, 0, 0, 1, 1, 0, 0, 1, 0, 1, 0, 0]\n",
      "4 [0, 1, 1, 0, 0, 0, 1, 0, 1, 0, 0, 0, 0, 0, 1, 0, 0, 0, 0, 0, 0, 1, 1, 0, 0, 1, 0]\n",
      "5 [0, 0, 0, 1, 0, 0, 1, 0, 0, 1, 0, 0, 1, 1, 0, 0, 0, 1, 1, 0, 0, 0, 1, 0, 0, 1, 0]\n",
      "6 [0, 0, 1, 0, 0, 1, 0, 0, 0, 0, 0, 0, 0, 1, 1, 0, 1, 1, 0, 0, 0, 0, 0, 1, 1, 0, 1]\n",
      "7 [0, 0, 1, 1, 0, 1, 1, 0, 1, 0, 1, 0, 1, 0, 0, 1, 0, 1, 1, 1, 0, 0, 0, 0, 1, 1, 0]\n",
      "8 [0, 1, 0, 1, 0, 1, 1, 0, 1, 0, 0, 0, 1, 1, 0, 1, 1, 1, 1, 0, 0, 0, 1, 1, 1, 0, 1]\n",
      "9 [0, 1, 0, 0, 0, 0, 1, 0, 1, 0, 1, 0, 0, 0, 0, 0, 1, 0, 0, 0, 0, 0, 0, 0, 0, 1, 1]\n",
      "10 [0, 1, 1, 0, 1, 0, 0, 1, 0, 0, 1, 0, 0, 0, 0, 1, 0, 0, 0, 1, 0, 0, 0, 1, 1, 0, 0]\n",
      "11 [1, 0, 1, 0, 0, 1, 1, 0, 0, 1, 0, 0, 1, 0, 1, 0, 0, 1, 0, 1, 0, 1, 0, 0, 0, 0, 1]\n",
      "12 [0, 1, 0, 1, 1, 0, 0, 1, 0, 0, 0, 1, 1, 1, 1, 0, 0, 0, 0, 1, 0, 0, 1, 1, 1, 1, 0]\n",
      "13 [0, 0, 1, 1, 1, 1, 0, 0, 1, 0, 0, 0, 1, 0, 1, 0, 0, 0, 1, 1, 1, 0, 0, 1, 0, 0, 1]\n",
      "14 [0, 0, 0, 0, 0, 1, 1, 1, 0, 1, 0, 1, 0, 1, 0, 0, 0, 1, 0, 1, 0, 0, 1, 0, 0, 0, 1]\n",
      "15 [0, 0, 0, 0, 1, 0, 1, 0, 1, 0, 0, 0, 0, 0, 0, 0, 1, 0, 1, 0, 0, 0, 1, 1, 1, 0, 0]\n",
      "16 [0, 1, 1, 1, 0, 0, 0, 0, 1, 0, 0, 0, 0, 1, 0, 1, 0, 0, 1, 0, 0, 1, 0, 0, 0, 0, 0]\n",
      "17 [0, 1, 1, 0, 0, 0, 1, 1, 0, 1, 0, 1, 0, 0, 1, 0, 0, 1, 1, 1, 0, 0, 1, 0, 1, 0, 0]\n",
      "18 [0, 1, 1, 1, 1, 0, 0, 0, 0, 1, 1, 0, 0, 1, 1, 0, 1, 1, 0, 1, 0, 1, 1, 1, 0, 0, 1]\n",
      "19 [0, 0, 0, 0, 0, 0, 1, 0, 1, 0, 1, 0, 0, 1, 0, 0, 0, 1, 1, 0, 0, 0, 0, 0, 1, 1, 0]\n",
      "20 [0, 1, 1, 1, 0, 1, 1, 0, 1, 1, 0, 1, 0, 1, 0, 1, 0, 1, 0, 0, 1, 0, 0, 1, 1, 1, 0]\n"
     ]
    }
   ],
   "source": [
    "POPULATION_SIZE = 20\n",
    "\n",
    "initial_population = [Individual.newRandom(Representation.GRAY) for _ in range(POPULATION_SIZE)]\n",
    "\n",
    "print(\"Población inicial con 20 individuos\")\n",
    "for i, ind in enumerate(initial_population):\n",
    "    print(i + 1, ind.getGenotype())"
   ]
  },
  {
   "cell_type": "markdown",
   "metadata": {},
   "source": [
    "2. Para la selección de padres, cada individuo tiene una probabilidad $P_i = [f_i + 100]/\\sum_{i=1}^{20}{(fi + 100)}$ de ser seleccionado donde $f_i$ representa la aptitud del i-ésimo individuo."
   ]
  },
  {
   "cell_type": "code",
   "execution_count": 67,
   "metadata": {},
   "outputs": [],
   "source": [
    "def selection(population: list[Individual], shift: float = 0) -> list[Individual]:\n",
    "    population_fitness = np.array([ind.fitness + shift for ind in population])\n",
    "    distribution = population_fitness/np.sum(population_fitness)\n",
    "    return random.choices(population, distribution, k=POPULATION_SIZE)\n"
   ]
  },
  {
   "cell_type": "code",
   "execution_count": 68,
   "metadata": {},
   "outputs": [
    {
     "name": "stdout",
     "output_type": "stream",
     "text": [
      "Selección inicial\n",
      "1 [0, 0, 0, 0, 0, 0, 1, 0, 1, 0, 1, 0, 0, 1, 0, 0, 0, 1, 1, 0, 0, 0, 0, 0, 1, 1, 0]\n",
      "2 [0, 1, 1, 0, 0, 0, 1, 0, 1, 0, 0, 0, 0, 0, 1, 0, 0, 0, 0, 0, 0, 1, 1, 0, 0, 1, 0]\n",
      "3 [0, 1, 1, 0, 0, 0, 1, 1, 0, 1, 0, 1, 0, 0, 1, 0, 0, 1, 1, 1, 0, 0, 1, 0, 1, 0, 0]\n",
      "4 [0, 1, 0, 1, 0, 1, 1, 0, 1, 0, 0, 0, 1, 1, 0, 1, 1, 1, 1, 0, 0, 0, 1, 1, 1, 0, 1]\n",
      "5 [0, 1, 1, 1, 0, 0, 0, 0, 1, 0, 0, 0, 0, 1, 0, 1, 0, 0, 1, 0, 0, 1, 0, 0, 0, 0, 0]\n",
      "6 [0, 1, 1, 0, 0, 0, 1, 1, 0, 1, 0, 1, 0, 0, 1, 0, 0, 1, 1, 1, 0, 0, 1, 0, 1, 0, 0]\n",
      "7 [0, 0, 1, 0, 0, 1, 0, 0, 0, 0, 0, 0, 0, 1, 1, 0, 1, 1, 0, 0, 0, 0, 0, 1, 1, 0, 1]\n",
      "8 [1, 0, 1, 0, 0, 1, 0, 0, 0, 0, 0, 1, 0, 0, 0, 0, 1, 0, 0, 1, 0, 1, 1, 0, 0, 0, 0]\n",
      "9 [1, 0, 1, 0, 0, 1, 0, 0, 0, 0, 0, 1, 0, 0, 0, 0, 1, 0, 0, 1, 0, 1, 1, 0, 0, 0, 0]\n",
      "10 [0, 1, 1, 0, 1, 0, 0, 1, 0, 0, 1, 0, 0, 0, 0, 1, 0, 0, 0, 1, 0, 0, 0, 1, 1, 0, 0]\n",
      "11 [0, 1, 1, 1, 0, 0, 0, 0, 1, 0, 0, 0, 0, 1, 0, 1, 0, 0, 1, 0, 0, 1, 0, 0, 0, 0, 0]\n",
      "12 [0, 0, 0, 0, 0, 0, 1, 0, 1, 0, 1, 0, 0, 1, 0, 0, 0, 1, 1, 0, 0, 0, 0, 0, 1, 1, 0]\n",
      "13 [0, 0, 0, 0, 0, 0, 1, 0, 1, 0, 1, 0, 0, 1, 0, 0, 0, 1, 1, 0, 0, 0, 0, 0, 1, 1, 0]\n",
      "14 [0, 1, 0, 1, 0, 1, 1, 0, 1, 0, 0, 0, 1, 1, 0, 1, 1, 1, 1, 0, 0, 0, 1, 1, 1, 0, 1]\n",
      "15 [0, 1, 1, 0, 1, 0, 0, 1, 0, 0, 1, 0, 0, 0, 0, 1, 0, 0, 0, 1, 0, 0, 0, 1, 1, 0, 0]\n",
      "16 [1, 0, 1, 0, 0, 1, 0, 0, 0, 0, 0, 1, 0, 0, 0, 0, 1, 0, 0, 1, 0, 1, 1, 0, 0, 0, 0]\n",
      "17 [0, 1, 1, 1, 0, 0, 0, 0, 1, 0, 0, 0, 0, 1, 0, 1, 0, 0, 1, 0, 0, 1, 0, 0, 0, 0, 0]\n",
      "18 [0, 1, 0, 1, 1, 0, 0, 1, 0, 0, 0, 1, 1, 1, 1, 0, 0, 0, 0, 1, 0, 0, 1, 1, 1, 1, 0]\n",
      "19 [0, 1, 0, 0, 0, 0, 1, 0, 1, 0, 1, 0, 0, 0, 0, 0, 1, 0, 0, 0, 0, 0, 0, 0, 0, 1, 1]\n",
      "20 [0, 1, 0, 1, 1, 0, 0, 1, 0, 0, 0, 1, 1, 1, 1, 0, 0, 0, 0, 1, 0, 0, 1, 1, 1, 1, 0]\n"
     ]
    }
   ],
   "source": [
    "print(\"Selección inicial\")\n",
    "for i, ind in enumerate([ind for ind in selection(initial_population, shift=100)]):\n",
    "    print(i + 1, ind.getGenotype())"
   ]
  },
  {
   "cell_type": "markdown",
   "metadata": {},
   "source": [
    "3. Asumir un ratio de cruza del 80%, donde el punto de corte se debe elegir de forma aleatoria entre 1 y la longitud de la cadena menos 1.\n"
   ]
  },
  {
   "cell_type": "code",
   "execution_count": 69,
   "metadata": {},
   "outputs": [],
   "source": [
    "CROSSOVER_RATIO = 0.8\n",
    "\n",
    "def crossover(p1: list[Individual], p2: list[Individual]):\n",
    "    # one-point random-crossover\n",
    "    if random.random() < CROSSOVER_RATIO:\n",
    "        point = random.randint(1, p1.getSize() - 2)\n",
    "        c1, c2 = copy.deepcopy(p1.getGenotype()), copy.deepcopy(p2.getGenotype())\n",
    "        \n",
    "        c1[point:], c2[point:] = c2[point:], c1[point:]\n",
    "        return Individual.new(c1, p1.my_repr), Individual.new(c2, p1.my_repr)\n",
    "    else:\n",
    "        return p1, p2\n"
   ]
  },
  {
   "cell_type": "code",
   "execution_count": 70,
   "metadata": {},
   "outputs": [
    {
     "name": "stdout",
     "output_type": "stream",
     "text": [
      "Padre 1 [1, 0, 1, 0, 0, 1, 0, 0, 0, 0, 0, 1, 0, 0, 0, 0, 1, 0, 0, 1, 0, 1, 1, 0, 0, 0, 0]\n",
      "Padre 2 [1, 0, 1, 0, 1, 0, 1, 1, 1, 1, 0, 0, 0, 1, 0, 0, 0, 0, 1, 1, 0, 1, 0, 1, 1, 0, 0]\n",
      "Hijo 1 [1, 0, 1, 0, 0, 1, 0, 0, 0, 0, 0, 1, 0, 0, 0, 0, 1, 0, 0, 1, 0, 1, 0, 1, 1, 0, 0]\n",
      "Hijo 2 [1, 0, 1, 0, 1, 0, 1, 1, 1, 1, 0, 0, 0, 1, 0, 0, 0, 0, 1, 1, 0, 1, 1, 0, 0, 0, 0]\n"
     ]
    }
   ],
   "source": [
    "p1 = initial_population[0]\n",
    "p2 = initial_population[1]\n",
    "c1, c2 = crossover(p1, p2)\n",
    "\n",
    "print(\"Padre 1\", p1.getGenotype())\n",
    "print(\"Padre 2\", p2.getGenotype())\n",
    "\n",
    "print(\"Hijo 1\", c1.getGenotype())\n",
    "print(\"Hijo 2\", c2.getGenotype())"
   ]
  },
  {
   "cell_type": "markdown",
   "metadata": {},
   "source": [
    "4. Asumir un ratio de mutación del $10\\%$, el proceso de mutación del o los individuos se realiza generando un valor entero entre 1 y la longitud de la cadena este valor indica la posición del alelo a cambiar, el valor a cambiar debe generarse de forma aleatoria para el caso de la representación entera y para las\n",
    "otras dos representaciones debe hacer un cambio de valor de cero a uno o viceversa."
   ]
  },
  {
   "cell_type": "code",
   "execution_count": 71,
   "metadata": {},
   "outputs": [],
   "source": [
    "MUTATION_RATIO = 0.1\n",
    "\n",
    "\n",
    "def mutation(ind: list[Individual]):\n",
    "    # bit-flip mutation\n",
    "    mut = copy.deepcopy(ind.getGenotype())\n",
    "    if random.random() < MUTATION_RATIO:\n",
    "        # punto aleatorio de la cadea\n",
    "        point = random.randint(0, ind.getSize() - 1)\n",
    "        # valor a cambiar aleatorio \n",
    "        if ind.getSize() > 5:\n",
    "            mut[point] = (mut[point] + 1) % 2\n",
    "        else:\n",
    "            mut[point] = random.randint(DOMINIO[point, 0], DOMINIO[point, 1])\n",
    "    return Individual.new(mut, ind.my_repr)\n"
   ]
  },
  {
   "cell_type": "code",
   "execution_count": 72,
   "metadata": {},
   "outputs": [
    {
     "name": "stdout",
     "output_type": "stream",
     "text": [
      "Original [1, 0, 1, 0, 0, 1, 0, 0, 0, 0, 0, 1, 0, 0, 0, 0, 1, 0, 0, 1, 0, 1, 1, 0, 0, 0, 0]\n",
      "Mutado   [1, 0, 1, 0, 0, 1, 0, 0, 0, 0, 0, 1, 0, 0, 0, 0, 1, 0, 0, 1, 0, 1, 1, 0, 0, 0, 0]\n"
     ]
    }
   ],
   "source": [
    "ind = initial_population[0]\n",
    "print(\"Original\", ind.getGenotype())\n",
    "print(\"Mutado  \", mutation(ind).getGenotype())"
   ]
  },
  {
   "cell_type": "code",
   "execution_count": 73,
   "metadata": {},
   "outputs": [],
   "source": [
    "def get_best(population: list[Individual]):\n",
    "    best = population[0]\n",
    "    for ind in population:\n",
    "        if f(ind.phenotype) < f(best.phenotype):\n",
    "            best = ind\n",
    "    return best\n"
   ]
  },
  {
   "cell_type": "markdown",
   "metadata": {},
   "source": [
    "5. La selección de los individuos de la nueva generación se deben seleccionar en funciona a la probabilidad\n",
    "$Pi = f_i/\\sum_{i=1}^{20}{f_i}$"
   ]
  },
  {
   "cell_type": "code",
   "execution_count": 74,
   "metadata": {},
   "outputs": [
    {
     "data": {
      "text/plain": [
       "Text(0.5, 1.0, 'Generation number 50')"
      ]
     },
     "execution_count": 74,
     "metadata": {},
     "output_type": "execute_result"
    },
    {
     "data": {
      "image/png": "[encoded data removed]",
      "text/plain": [
       "<Figure size 432x288 with 1 Axes>"
      ]
     },
     "metadata": {
      "needs_background": "light"
     },
     "output_type": "display_data"
    }
   ],
   "source": [
    "# GA CANONICAL FLOW\n",
    "generation_number = 0\n",
    "\n",
    "population = [Individual.newRandom(Representation.GRAY) for _ in range(POPULATION_SIZE)]\n",
    "MAX_GENERATION = 50\n",
    "best: list[Individual] = []\n",
    "\n",
    "# SE DETIENE DESPUES DE 50 GENERACIONES\n",
    "while generation_number < MAX_GENERATION:\n",
    "    generation_number += 1\n",
    "\n",
    "    # SELECCION DE PADRES\n",
    "    parents = selection(population, shift=100)\n",
    "    offspring = []\n",
    "    # CRUZAMIENTO\n",
    "    for p1, p2 in zip(parents[::2], parents[1::2]):\n",
    "        if not p1.phenotype == p2.phenotype:\n",
    "            kid1, kid2 = crossover(p1, p2)\n",
    "            offspring.append(kid1)\n",
    "            offspring.append(kid2)\n",
    "\n",
    "    # MUTACION\n",
    "    offspring_mut = []\n",
    "    for mutant in offspring:\n",
    "        offspring_mut.append(mutation(mutant))\n",
    "\n",
    "    parents.extend(offspring)\n",
    "    parents.extend(offspring_mut)\n",
    "\n",
    "    population = selection(parents)\n",
    "    best.append(get_best(population))\n",
    "\n",
    "plt.plot([f(x.phenotype) for x in best], \"r-\")\n",
    "plt.title(f\"Generation number {generation_number}\")\n"
   ]
  },
  {
   "cell_type": "code",
   "execution_count": 75,
   "metadata": {},
   "outputs": [
    {
     "name": "stdout",
     "output_type": "stream",
     "text": [
      "Solution:\n",
      " x*=[-8, 70, 19, -6, -23], f(x*)=0\n"
     ]
    }
   ],
   "source": [
    "solution = get_best(best)\n",
    "print(f\"Solution:\\n x*={solution.phenotype}, f(x*)={f(solution.phenotype)}\")"
   ]
  },
  {
   "cell_type": "markdown",
   "metadata": {},
   "source": [
    "# Tarea (corresponde a 3 puntos de la 2da PC)\n",
    "\n",
    "Determine el radio de circunscripción mínimo para 10 círculos con radio $i^{(−0.5)}$ para $i = 1, 2, ..., 10 $ aplicando un algoritmos genético. Considerar el mismo criterio para las operaciones de: selección de padres, cruzamiento, mutación y selección de sobrevivientes.\n"
   ]
  },
  {
   "cell_type": "markdown",
   "metadata": {},
   "source": [
    "***Solución***\n",
    "\n",
    "Se minimizará la diferencia de área del radio grande con la suma de las áreas de los radios pequeños sujeto a restricciones tangenciales:\n",
    "\n",
    "\\begin{align*}\n",
    "\\min & \\quad | \\pi R^2 - \\sum_{i=1}^m \\pi r_i^2|\\\\\n",
    "\\text{s.t}\\quad &\\|c_i - c_j\\| \\ge r_i + r_j,\\quad\\forall i, j \\in \\{1, ..., m\\}\\\\\n",
    "& \\|C - c_i\\| \\le R - r_i,\\quad \\forall i \\in \\{1, ..., m\\}\n",
    "\\end{align*}"
   ]
  },
  {
   "cell_type": "code",
   "execution_count": 76,
   "metadata": {},
   "outputs": [],
   "source": [
    "# intervalo de trabajo\n",
    "NUM_CIRCLES = 11\n",
    "# dominio de los circulos pequeños\n",
    "DOMAIN = np.array([[-2, 2.]] * (2 * NUM_CIRCLES + 1))\n",
    "# dominio para el circulo grande\n",
    "DOMAIN[-2] = [-1, 1]\n",
    "# dominio del radio grande\n",
    "DOMAIN[-1] = [2, 6]\n",
    "\n",
    "radii = [1 / math.sqrt(i) for i in range(1, 11)]\n",
    "\n",
    "# numero de variables\n",
    "DNA_SIZE = 23\n",
    "CROSSOVER_RATIO = 0.9\n",
    "POPULATION_SIZE = 100\n",
    "MUTATION_RATIO = 0.8\n",
    "\n",
    "\n",
    "def checkTangent(centers, R):\n",
    "    # restricciones\n",
    "    for i in range(len(radii)):\n",
    "        for j in range(len(radii)):\n",
    "            if i != j:\n",
    "                if not la.norm(centers[i] - centers[j]) > radii[i] + radii[j]:\n",
    "                    return False\n",
    "        if not la.norm(centers[-1] - centers[i]) < R - radii[i]:\n",
    "            return False\n",
    "    return True\n",
    "\n",
    "\n",
    "def fit(phenotype):\n",
    "    centers = phenotype[:-1].reshape(NUM_CIRCLES, 2)\n",
    "    R = phenotype[-1]\n",
    "\n",
    "    diff_area = R**2\n",
    "    for i in range(len(radii)):\n",
    "        diff_area -= radii[i]**2\n",
    "\n",
    "    return abs(diff_area) if checkTangent(centers, R) else 1e3\n"
   ]
  },
  {
   "cell_type": "code",
   "execution_count": 77,
   "metadata": {},
   "outputs": [],
   "source": [
    "class Individual():\n",
    "    def __init__(self, phenotype):\n",
    "        self.fitness = fit(phenotype)\n",
    "        self.phenotype = phenotype\n",
    "\n",
    "    @classmethod\n",
    "    def newRandom(cls):\n",
    "        return cls(np.array([random.uniform(DOMAIN[i, 0], DOMAIN[i, 1]) for i in range(len(DOMAIN))]))\n"
   ]
  },
  {
   "cell_type": "code",
   "execution_count": 79,
   "metadata": {},
   "outputs": [],
   "source": [
    "def crossover(p1: list[Individual], p2: list[Individual]):\n",
    "    # one-point random-crossover\n",
    "    if random.random() < CROSSOVER_RATIO:\n",
    "        c1, c2 = copy.deepcopy(p1.phenotype), copy.deepcopy(p2.phenotype)\n",
    "        point = random.randint(1, DNA_SIZE - 2)\n",
    "        c1[point:], c2[point:] = c2[point:], c1[point:]\n",
    "        return Individual(c1), Individual(c2)\n",
    "    else:\n",
    "        return p1, p2\n"
   ]
  },
  {
   "cell_type": "code",
   "execution_count": 80,
   "metadata": {},
   "outputs": [],
   "source": [
    "def mutation(ind: list[Individual]):\n",
    "    mut = copy.deepcopy(ind.phenotype)\n",
    "    if random.random() < MUTATION_RATIO:\n",
    "        # punto aleatorio de la cadea\n",
    "        point = random.randint(0, DNA_SIZE - 1)\n",
    "        # valor a cambiar aleatorio \n",
    "        mut[point] = random.uniform(DOMAIN[point, 0], DOMAIN[point, 1])\n",
    "    return Individual(mut)\n"
   ]
  },
  {
   "cell_type": "code",
   "execution_count": 81,
   "metadata": {},
   "outputs": [],
   "source": [
    "def tournament_selection(population: list[Individual]):\n",
    "    # tournament selection\n",
    "    tournament_size = 5\n",
    "    new_offspring = []\n",
    "    for _ in range(len(population)):\n",
    "        # select max of each 5 until has len(population) individuals\n",
    "        candidates = [random.choice(population) for _ in range(tournament_size)]\n",
    "        new_offspring.append(min(candidates, key=lambda ind: ind.fitness))\n",
    "    return new_offspring\n"
   ]
  },
  {
   "cell_type": "code",
   "execution_count": 82,
   "metadata": {},
   "outputs": [],
   "source": [
    "def get_best(population: list[Individual]):\n",
    "    best = population[0]\n",
    "    for ind in population:\n",
    "        if fit(ind.phenotype) < fit(best.phenotype):\n",
    "            best = ind\n",
    "    return best\n"
   ]
  },
  {
   "cell_type": "code",
   "execution_count": null,
   "metadata": {},
   "outputs": [],
   "source": [
    "# GA CANONICAL FLOW\n",
    "generation_number = 0\n",
    "population = [Individual.newRandom() for _ in range(POPULATION_SIZE)]\n",
    "MAX_GENERATION = 2500\n",
    "best: list[Individual] = []\n",
    "\n",
    "# SE DETIENE DESPUES DE 500 GENERACIONES\n",
    "while generation_number < MAX_GENERATION:\n",
    "    generation_number += 1\n",
    "\n",
    "    # SELECCION DE PADRES\n",
    "    parents = tournament_selection(population)\n",
    "    crossed_offspring: list[Individual] = []\n",
    "    # CRUZAMIENTO\n",
    "    for p1, p2 in zip(parents[::2], parents[1::2]):\n",
    "        kid1, kid2 = crossover(p1, p2)\n",
    "        crossed_offspring.append(kid1)\n",
    "        crossed_offspring.append(kid2)\n",
    "    # MUTACION\n",
    "    mutated_offspring: list[Individual] = []\n",
    "    for mutant in crossed_offspring:\n",
    "        mutated_offspring.append(mutation(mutant))\n",
    "\n",
    "    population = mutated_offspring.copy()\n",
    "\n",
    "    best.append(get_best(population))\n",
    "    if generation_number%50 == 0:\n",
    "        print(\"Generation:\", generation_number)\n",
    "\n",
    "plt.plot([fit(x.phenotype) for x in best], \"r-\")\n",
    "plt.title(f\"Generation number {generation_number}\")\n"
   ]
  },
  {
   "cell_type": "code",
   "execution_count": 91,
   "metadata": {},
   "outputs": [
    {
     "name": "stdout",
     "output_type": "stream",
     "text": [
      "Solution:\n",
      " x*=(array([[-0.67193723,  1.917548  ],\n",
      "       [ 1.0327755 ,  1.53052392],\n",
      "       [-1.66179228,  0.38096624],\n",
      "       [-1.99360659, -0.8539687 ],\n",
      "       [ 1.6080599 , -0.36142189],\n",
      "       [ 1.85021463,  0.66916381],\n",
      "       [-0.58588454, -0.33016873],\n",
      "       [ 0.11783781, -1.50417095],\n",
      "       [ 1.25126839, -1.28012373],\n",
      "       [ 0.75446397,  0.312578  ],\n",
      "       [-0.34312944,  0.29069739]]), 2.6666279911335384), f(x*)=4.181936589128637\n"
     ]
    }
   ],
   "source": [
    "solution = get_best(best)\n",
    "centers = solution.phenotype[:-1].reshape(NUM_CIRCLES, 2)\n",
    "R = solution.phenotype[-1]\n",
    "print(f\"Solution:\\n x*={centers, R}, f(x*)={fit(solution.phenotype)}\")"
   ]
  },
  {
   "cell_type": "code",
   "execution_count": 92,
   "metadata": {},
   "outputs": [
    {
     "data": {
      "image/png": "[encoded data removed]",
      "text/plain": [
       "<Figure size 360x360 with 1 Axes>"
      ]
     },
     "metadata": {
      "needs_background": "light"
     },
     "output_type": "display_data"
    }
   ],
   "source": [
    "def drawPlot(centers, R):\n",
    "    fig, ax = plt.subplots(figsize=(5, 5))\n",
    "    ax.set_title(\"Número de generaciones %d\"%generation_number)\n",
    "    ax.set_xlim([-4, 4])\n",
    "    ax.set_ylim([-4, 4])\n",
    "    ax.set_aspect('equal', adjustable=\"datalim\")\n",
    "    for i in range(0, 10):\n",
    "        face_color = colorConverter.to_rgba(c=np.random.rand(3,), alpha=0.5)\n",
    "        ax.add_patch(plt.Circle(centers[i], radii[i], color=face_color))\n",
    "    \n",
    "    face_color = colorConverter.to_rgba(c=np.random.rand(3,), alpha=0.5)\n",
    "    ax.add_patch(plt.Circle(centers[-1], R, color=face_color))\n",
    "drawPlot(centers, R)"
   ]
  }
 ],
 "metadata": {
  "interpreter": {
   "hash": "590f4a299ae404e723bbc5f32e9a7b98b836c3c65ce9112bc934ac92a06ceee3"
  },
  "kernelspec": {
   "display_name": "Python 3.10.4 64-bit",
   "language": "python",
   "name": "python3"
  },
  "language_info": {
   "codemirror_mode": {
    "name": "ipython",
    "version": 3
   },
   "file_extension": ".py",
   "mimetype": "text/x-python",
   "name": "python",
   "nbconvert_exporter": "python",
   "pygments_lexer": "ipython3",
   "version": "3.10.4"
  },
  "orig_nbformat": 4
 },
 "nbformat": 4,
 "nbformat_minor": 2
}

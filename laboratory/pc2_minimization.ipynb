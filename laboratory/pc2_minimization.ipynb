{
  "cells": [
    {
      "cell_type": "markdown",
      "metadata": {
        "id": "HOn4mbzC1Z-q"
      },
      "source": [
        "### Curso: CC521 A Programación Evolutiva 2022-1\n",
        "Alumno: Jordi Joel Bardales Rojas"
      ]
    },
    {
      "cell_type": "markdown",
      "metadata": {
        "id": "8EvcI6Bf1Z-0"
      },
      "source": [
        "## Práctica Calificada 2: Minimización de una función con restricciones\n"
      ]
    },
    {
      "cell_type": "code",
      "execution_count": 51,
      "metadata": {
        "id": "D0RArf2n1Z-1"
      },
      "outputs": [],
      "source": [
        "from __future__ import annotations\n",
        "import math\n",
        "from math import sin\n",
        "import numpy as np\n",
        "from enum import Enum\n",
        "import random\n",
        "import matplotlib.pyplot as plt\n",
        "from typing import Callable\n",
        "from abc import ABC, abstractmethod\n",
        "from itertools import combinations\n"
      ]
    },
    {
      "cell_type": "markdown",
      "metadata": {
        "id": "8GdDBcKu1Z-4"
      },
      "source": [
        "## Descripción del problema\n",
        "El problema a minimizar esta dado por la siguiente función."
      ]
    },
    {
      "cell_type": "code",
      "execution_count": 52,
      "metadata": {
        "id": "eeVXeTpK1Z-7"
      },
      "outputs": [
        {
          "name": "stdout",
          "output_type": "stream",
          "text": [
            "x_opt = [1.570796, 1.570796, 1.570796, 1.570796, 1.570796], f(x*) = -6.0\n"
          ]
        }
      ],
      "source": [
        "f = lambda x: -5*sin(x[0])*sin(x[1])*sin(x[2])*sin(x[3])*sin(x[4]) - sin(5*x[0])*sin(5*x[1])*sin(x[2])*sin(5*x[3])*sin(5*x[4])\n",
        "# dominio\n",
        "domain, n_var = [0, math.pi], 5\n",
        "# solucion global\n",
        "x_opt = [round(math.pi/2, 6)]*n_var\n",
        "print(f\"x_opt = {x_opt}, f(x*) = {f([math.pi/2]*n_var)}\")\n"
      ]
    },
    {
      "cell_type": "markdown",
      "metadata": {
        "id": "eDTMT9bO1Z_D"
      },
      "source": [
        "### 1. Implementación de la representación:\n",
        "Debido a que en el cruzamiento se están utilizando el valor real $\\mathbf{x_i}=(x_{i_1},x_{i_2},x_{i_3},x_{i_4},x_{i_5})$ del cromosoma no hay necesidad de pasar a una representación binaria/gray, además podría causar problemas en el cruce $\\mathbf{x_3}=r(\\mathbf{x_2}-\\mathbf{x_1})+\\mathbf{x_2}$ debido al factor $r$ el cual es un número real entre $[0,1]$. Por ese motivo el genotipo es igual al fenotipo.\n",
        "\n"
      ]
    },
    {
      "cell_type": "code",
      "execution_count": 53,
      "metadata": {
        "id": "FEOv_hkx1Z--"
      },
      "outputs": [],
      "source": [
        "# Clase individuo\n",
        "class Individual():\n",
        "    def __init__(self, phenotype: list[float], domain: tuple[float, float], n_var: int):\n",
        "        self.domain = domain\n",
        "        self.n_var = n_var\n",
        "        self.phenotype = phenotype\n",
        "\n",
        "    @classmethod\n",
        "    def newRandom(cls, domain: tuple[float, float], n_var: int):\n",
        "        phenotype = [random.uniform(domain[0], domain[1]) for _ in range(n_var)]\n",
        "        return cls(phenotype, domain, n_var)\n"
      ]
    },
    {
      "cell_type": "code",
      "execution_count": 54,
      "metadata": {
        "colab": {
          "base_uri": "https://localhost:8080/"
        },
        "id": "4S6ZNXyP1Z_D",
        "outputId": "64f346df-ef37-4645-916e-1cd88a22e433"
      },
      "outputs": [
        {
          "name": "stdout",
          "output_type": "stream",
          "text": [
            "Representación decimal o real\n",
            "Individuo 0 = [2.8522299742001627, 2.455780599845955, 2.2827516970163675, 2.3805434591990826, 0.47648844519343975]\n",
            "Individuo 1 = [3.098990908380964, 0.8586579871492716, 2.2786349147540603, 2.493362257132338, 1.6231966089244028]\n",
            "Individuo 2 = [0.3998474971640438, 2.848152381833613, 0.19328256888257042, 1.1639033574984448, 0.8184767022437486]\n",
            "Individuo 3 = [0.7717444156317411, 2.884650774732193, 1.6297313366707018, 0.9900907521174733, 1.8775362950407966]\n",
            "Individuo 4 = [1.2601426964090856, 0.3387853006813955, 1.2905651681984516, 1.5148658312026453, 0.4878572413042706]\n",
            "Individuo 5 = [1.0075469045453302, 1.1332584839576814, 0.1357040191660345, 0.2510990887326664, 1.9039906272129308]\n",
            "Individuo 6 = [0.18149564637885604, 2.842489393101925, 2.054530489716974, 0.497590679958002, 0.41930868663554016]\n",
            "Individuo 7 = [2.603392557514078, 1.5065704450946273, 0.21178586428405705, 2.9629035890694664, 1.0538301778881651]\n",
            "Individuo 8 = [1.5772443354823955, 1.1749637424937605, 0.9875520676165227, 1.5924129994827443, 0.7399543335172354]\n",
            "Individuo 9 = [0.6736570720638178, 2.5457996759041257, 1.6244817370416254, 1.1859725052367027, 2.0335744689104236]\n"
          ]
        }
      ],
      "source": [
        "POPULATION_SIZE = 10\n",
        "\n",
        "population = [Individual.newRandom(domain, n_var) for _ in range(POPULATION_SIZE)]\n",
        "print(\"Representación decimal o real\")\n",
        "for i, ind in enumerate(population):\n",
        "    print(f\"Individuo {i} = {ind.phenotype}\")"
      ]
    },
    {
      "cell_type": "markdown",
      "metadata": {
        "id": "14J-0S7p1Z_G"
      },
      "source": [
        "### 2. Implementación del método de cruza"
      ]
    },
    {
      "cell_type": "markdown",
      "metadata": {
        "id": "qOaFSB64clIn"
      },
      "source": [
        "Clase para la selección"
      ]
    },
    {
      "cell_type": "code",
      "execution_count": 55,
      "metadata": {
        "id": "FtqoKWuC1Z_G"
      },
      "outputs": [],
      "source": [
        "class TournamentSelection:\n",
        "    def __init__(self, nro_individuals: int, tournament_size: int):\n",
        "        self.nro_individuals = nro_individuals\n",
        "        self.tournament_size = tournament_size\n",
        "\n",
        "    def get_individuals(self, population: list[Individual], fitness: list[float]):\n",
        "        population = list(zip(population, fitness))\n",
        "        selected: list[Individual] = []\n",
        "        for _ in range(self.nro_individuals):\n",
        "            candidates = random.choices(population, k=self.tournament_size)\n",
        "            selected.append(min(candidates, key=lambda ind: ind[1])[0])\n",
        "        return selected\n"
      ]
    },
    {
      "cell_type": "markdown",
      "metadata": {
        "id": "ZIj111YhGtCS"
      },
      "source": [
        "#### Movimiento en dirección del mínimo. \n",
        "El operador de cruzamiento está diseñado para que se dirija a un mínimo.\n",
        "\n",
        "Figura[1]: Movimiento del operador de cruzamiento"
      ]
    },
    {
      "cell_type": "markdown",
      "metadata": {
        "id": "esN-B6WUGpWG"
      },
      "source": [
        "![image.png](data:image/png;base64,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)"
      ]
    },
    {
      "cell_type": "markdown",
      "metadata": {
        "id": "CPhyFyK6Qsxc"
      },
      "source": [
        "Función que verifica que $\\mathbf{x}$ pertenezca a dominio (restricciones)"
      ]
    },
    {
      "cell_type": "code",
      "execution_count": 56,
      "metadata": {
        "id": "JWQhtPL3QALl"
      },
      "outputs": [],
      "source": [
        "def check_constraints(x: list[float], domain: list[float]) -> bool:\n",
        "    for x_gen in x:\n",
        "        if not domain[0] <= x_gen <= domain[1]:\n",
        "            return False\n",
        "    return True"
      ]
    },
    {
      "cell_type": "code",
      "execution_count": 57,
      "metadata": {
        "colab": {
          "base_uri": "https://localhost:8080/"
        },
        "id": "JpffbKEyQleZ",
        "outputId": "e23b5340-e4e5-4fee-83e0-0109c1b2e190"
      },
      "outputs": [
        {
          "data": {
            "text/plain": [
              "True"
            ]
          },
          "execution_count": 57,
          "metadata": {},
          "output_type": "execute_result"
        }
      ],
      "source": [
        "# zi < pi\n",
        "z = [1.003777, 2.007109, 1.029691, 1.933698, 2.864449]\n",
        "check_constraints(z, domain)"
      ]
    },
    {
      "cell_type": "code",
      "execution_count": 58,
      "metadata": {
        "colab": {
          "base_uri": "https://localhost:8080/"
        },
        "id": "pmS-xu7pQbDv",
        "outputId": "c3b03b4d-cd7b-45f7-f61a-0560bc29221d"
      },
      "outputs": [
        {
          "data": {
            "text/plain": [
              "False"
            ]
          },
          "execution_count": 58,
          "metadata": {},
          "output_type": "execute_result"
        }
      ],
      "source": [
        "# 4 > pi\n",
        "z = [1.003777, 2.007109, 4.029691, 1.933698, 2.864449]\n",
        "check_constraints(z, domain)"
      ]
    },
    {
      "cell_type": "markdown",
      "metadata": {
        "id": "h_ZENgqpcdRu"
      },
      "source": [
        "Clase utilizada para el cruzamiento"
      ]
    },
    {
      "cell_type": "code",
      "execution_count": 59,
      "metadata": {
        "id": "YeGl48Dm9TvJ"
      },
      "outputs": [],
      "source": [
        "class Crossover(ABC):\n",
        "    @abstractmethod\n",
        "    def __init__(self, probability: float):\n",
        "        self.probability = probability\n",
        "\n",
        "    @abstractmethod\n",
        "    def make(self, parent1: Individual, parent2: Individual, fitnees: Callable) -> Individual:\n",
        "        pass\n",
        "\n",
        "class CustomCrossover(Crossover):\n",
        "    def __init__(self, probability: float, n_intentos: int):\n",
        "        super().__init__(probability=probability)\n",
        "        self.n_intentos = n_intentos\n",
        "\n",
        "    def make(self, parent1: Individual, parent2: Individual, fitnees: Callable) -> Individual:\n",
        "        if random.random() < self.probability:\n",
        "            x1 = np.array(parent1.phenotype)\n",
        "            x2 = np.array(parent2.phenotype)\n",
        "            count = 1\n",
        "            x_fit = [[x1, fitnees(x1)], [x2, fitnees(x2)]]\n",
        "            # ordenando de acuerdo al fitness f(a) <= f(b) [a, f(a), b, f(b)]\n",
        "            x1_fit1, x2_fit2 = sorted(x_fit, key=lambda x: x[1])\n",
        "\n",
        "            x2 = x1_fit1[0]  # menor\n",
        "            x1 = x2_fit2[0]  # mayor\n",
        "            # en direccion del menor fitness\n",
        "            while count < self.n_intentos:\n",
        "                r = random.random()\n",
        "                x3 = r * (x2 - x1) + x2\n",
        "                if check_constraints(x3, parent1.domain):\n",
        "                    return Individual(x3.tolist(), parent1.domain, parent1.n_var)\n",
        "                count += 1\n",
        "            else:\n",
        "                print(f\"Estos padres {x2} y {x1} no pueden generar descendencia\")\n",
        "        return None\n"
      ]
    },
    {
      "cell_type": "markdown",
      "metadata": {
        "id": "fik7nMdb1Z_H"
      },
      "source": [
        "##### Esquema general de un AE genérico "
      ]
    },
    {
      "cell_type": "code",
      "execution_count": 60,
      "metadata": {
        "id": "4oIh2qUa1Z_H"
      },
      "outputs": [],
      "source": [
        "def genenetic_algorithm(max_generation: int,\n",
        "                        fitness: Callable[[list[float]], float],\n",
        "                        population: list[Individual],\n",
        "                        selection: TournamentSelection,\n",
        "                        crossover: Crossover):\n",
        "    best: list[Individual] = []\n",
        "    generation_number = 0\n",
        "    while generation_number < max_generation:\n",
        "        generation_number += 1\n",
        "        # evaluacion de la aptitud de la población inicial (n individuos)\n",
        "        population_fitness = [fitness(ind.phenotype) for ind in population]\n",
        "        # seleccion de los padres (para la reproducción)\n",
        "        parents = selection.get_individuals(population, population_fitness)\n",
        "        # operadores de variación\n",
        "        offspring: list[Individual] = []\n",
        "        # crossover\n",
        "        for p1, p2 in zip(parents[1::2], parents[0::2]):\n",
        "            if (child := crossover.make(p1, p2, fitness)) != None:\n",
        "                offspring.append(child)\n",
        "        # evaluacion de la aptitud de los λ descendientes\n",
        "        offspring_fitness = [fitness(ind.phenotype) for ind in offspring]\n",
        "        # λ individuos aptos + n padres\n",
        "        population += offspring\n",
        "        population_fitness += offspring_fitness\n",
        "        # seleccionamos un individuo random para la gráfica\n",
        "        best.append(population[random.randint(0, len(population) - 1)])\n",
        "        # selección del ambiente n\n",
        "        population = selection.get_individuals(population, population_fitness)\n",
        "        # impresión de la generación\n",
        "        if generation_number % int(max_generation / 10) == 0:\n",
        "            print(\"Generation:\", generation_number, \"nro descendientes:\", len(offspring))\n",
        "\n",
        "    plt.plot([fitness(x.phenotype) for x in best], \"r-\")\n",
        "    plt.title(f\"Generation number {generation_number}\")\n",
        "    plt.show()\n",
        "    return population\n"
      ]
    },
    {
      "cell_type": "markdown",
      "metadata": {
        "id": "MBJ11srb1Z_H"
      },
      "source": [
        "### 3. Grafica del Fitness vs las generaciones (t) \n",
        "Se eligirá el mínimo de cada generación para la gráfica."
      ]
    },
    {
      "cell_type": "code",
      "execution_count": 94,
      "metadata": {
        "colab": {
          "base_uri": "https://localhost:8080/",
          "height": 489
        },
        "id": "3Pub11_W1Z_H",
        "outputId": "f6770802-36db-4624-d42c-d9edce19ba4a"
      },
      "outputs": [
        {
          "name": "stdout",
          "output_type": "stream",
          "text": [
            "Generation: 1 nro descendientes: 8\n",
            "Generation: 2 nro descendientes: 8\n",
            "Generation: 3 nro descendientes: 8\n",
            "Generation: 4 nro descendientes: 6\n",
            "Generation: 5 nro descendientes: 8\n",
            "Generation: 6 nro descendientes: 6\n",
            "Generation: 7 nro descendientes: 10\n",
            "Generation: 8 nro descendientes: 8\n",
            "Generation: 9 nro descendientes: 10\n",
            "Generation: 10 nro descendientes: 6\n"
          ]
        },
        {
          "data": {
            "image/png": "[encoded data removed]",
            "text/plain": [
              "<Figure size 432x288 with 1 Axes>"
            ]
          },
          "metadata": {
            "needs_background": "light"
          },
          "output_type": "display_data"
        }
      ],
      "source": [
        "MAX_GENERATION = 10\n",
        "POPULATION_SIZE = 20\n",
        "initial_population = [Individual.newRandom(domain, n_var) for _ in range(POPULATION_SIZE)]\n",
        "best = genenetic_algorithm(max_generation=MAX_GENERATION,\n",
        "                           fitness=f, \n",
        "                           population=initial_population,\n",
        "                           selection=TournamentSelection(nro_individuals=20, tournament_size=10),\n",
        "                           crossover=CustomCrossover(probability=0.8, n_intentos=10))\n"
      ]
    },
    {
      "cell_type": "code",
      "execution_count": 62,
      "metadata": {
        "colab": {
          "base_uri": "https://localhost:8080/"
        },
        "id": "yPil3_vb1Z_I",
        "outputId": "5a1d4a81-65ad-47c9-e647-c173357099b4"
      },
      "outputs": [
        {
          "name": "stdout",
          "output_type": "stream",
          "text": [
            "Optimal value\n",
            " x* = [0.9991062255918197, 1.6401353848689493, 0.915502237651398, 1.2607435483721707, 2.242086960080182], f(x*) = -2.494469466213863\n"
          ]
        }
      ],
      "source": [
        "solution = min(best, key=lambda x: f(best[0].phenotype))\n",
        "print(f\"Optimal value\\n x* = {solution.phenotype}, f(x*) = {f(solution.phenotype)}\")"
      ]
    },
    {
      "cell_type": "markdown",
      "metadata": {
        "id": "YKCDMIcXKxde"
      },
      "source": [
        "### 4. Discusión de resultados\n",
        "La función de cruzamiento está diseñada para que el descendiente se diriga hacia donde la función disminuye, sin embargo este podría pasarse del dominio de búsqueda, por ello se implementó un cierto número de intentos hasta generar un individuo válido que satisfaga las restricciones.\n",
        "\n",
        "En la gráfica del número de generaciones vs fitness se observa que no hay una mejora a partir de pocas generaciones (5 aproximadamente), es posible que se haya caido en un mínimo local.\n",
        "\n",
        "Debido a que el movimiento es operador cruzamiento es en una recta formada por la combinación lineal de los padres, ver figura [1], es posible caer en un mínimo local. Por ello se modificara para agregar un vector aleatorio de perturbación."
      ]
    },
    {
      "cell_type": "markdown",
      "metadata": {
        "id": "Y8SVfUW7LKwy"
      },
      "source": [
        "### 5. Implementar o mejorar el método de cruza\n",
        "Se agregó un vector pequeño de perturbacion $\\delta$, para evitar caer en mínimos locales."
      ]
    },
    {
      "cell_type": "markdown",
      "metadata": {
        "id": "oTLm6k7Wahpl"
      },
      "source": [
        "![image.png](data:image/png;base64,iVBORw0KGgoAAAANSUhEUgAAAVkAAAGrCAYAAABqqOTJAAAgAElEQVR4nO3dbYwb950f8C9tVwgcI6vzFSgKWNJZJreGsFYKBAXcoWQHqi93nLVdJS9UA1a7NRoMc6gDsmerygvj4gv0IsbaOBJx0ZJw4Qiw3+wLx3GsmcbwCXGkJdwW9yI2IQQaWoYegD4AdXcFX+DqrExfDLk7y50hZ8h5+D98P8DC1u5wHjj/+fLH38yQJc/zPBARUSbuKHoFiIhUxpAlIsoQQ5aIKEN3Fb0CJJ5SqVT0KsTGUwokOoasRmQKz7jibhPDmIrCkFVIGiEqYxjF2e5p08i43SSHEi/hks+sYarzruZzRkVhyAouSThwV86OzzNlhSErEPYXxcN9QvNiyBYozgHM3SMe7jdKgiGbI558URf3LUVhyGaIB56+uO9phCGbskkHF59qfXFc6IshmwIeQJRU1JjheFEPQ3ZGPEgoLRxLamPIJsCDgbLGMaYehuwUHPRUFI49NTBkI4QNcD5VVBSOR3kxZANYOZDoOEblw5AFqwSSE8etHLQOWQ5SUgHHsdi0DFkOSlLV+NjmuC6eViHLAUi64FgXhxYhywFHuuLYL57SIcsBRuTjsVAcJUOWA4ooHI+N/CkVshxARPHwWMmPEiHLqwWIZsOwzd4dRa/AvMIGCQcKUTzjx0oaXytPO0lbyfIVmChdPKayIWUly8FAlD5WtdmQqpJluBLlg8daeqSpZLnTifLDqjY9UlSywR0sweoSKYXH33yEr2S5g4mKFTzuSqUSq9qEhK1k2R4gEg+LnuSErGTHdyR3JpEYxqtamk64kOUrJZHYGLTJCBWyDFgiOTBo4xMmZBmwRHJh0MYjRMgyYInkxKCdrvCQZcASyY1BO1mhIcuAJVIDgzZaYSHLgCVSC4M2XCEhy4AlUhODdrfcQ5YBS6Q2Bu1OhbULGLBE6uLxvS3XkB29qnEHEKlvdJzrXs3mFrK6P9FEOtP5+M8lZNmHJdIT+7M5twsYsET60f24zzxk2YclIp37s4XfVktEpLJMQ5ZVLBGN6FrNspIlIspQZiHLKpaIxulYzbKSJSLKUCYhyyqWiKLoVs2ykiUiyhBDlogoQ6mHLFsFRDSNTi0DVrJERBliyBIRZSjVkGWrgIji0iUnWMkSEWWIIUtEhSqVSkqfAGPIEhFliCFLRJQhhiwRUYYYskREGWLIEhFliCFLRIXR4VpZhiwRFUblS7dGGLJERBliyBIRZSi1kNWh7CciSoqVLBEVTuUTYAxZIqIMMWSJiDKUasjq9JUSRDQfXXKClSwRUYYYskREGUo9ZNkyIKJpdMqHTL7ji4goLpUv3wLYLiAiylQmIcuWARFF0S0XWMkSEWUos5BlNUtE40Z5oHofNoiVLBFRhlIL2bDKldUsEY0Eq1idKlpWskREGco8ZFnNEpFOleu4XCtZBi2RfnQ/7nMJ2eCrl+5POJFOws7R6Ca3jzrU9QkmovBCS5dMyLVdwP4skT50C9MohV1dwKAlUheP7225hyz7s0RqYx92p0IqWQYtkZoYsLsV9qHdDFoitcQJWB37tIXe8cWgJVIDK9hohd9Wy6AlkhsDdrLCQxZg0BLJigE7nRAhCzBoiWTDgI1HqK+fYdASyWGWgNX1mBamkh1h0BKJbd4KVreqV7iQBRi0RKJiiyA5IUMW2B20DFui4owfgwzY+IQNWcDfkaxqiYo1Hq4M2GSk+LZaBi1RMVi9zk/oSjaI7QOi/KTdHtDxdtqRu4pegSTGq2OddxxRVli9pkuaSjZofMezqiWaH09uZaPkZfxMZl1tjgcsBwZRclmGq+7BLWUlG8Sqlmh2eVavOgYsIFlPNgp7tUTJ8B1gfpQI2RGGLdFkDNf8Zd6TBYoLOw4oIl9Rx4Lu/VhAsUp2HCtb0p0ohYbOx5z0J77iCDs5xhNkpLKwMa5z0BVJ6Uo2KOw2X1a2pJqw4oHju1i59GQBMQONr/SkChHHMvuxPm0q2TBRPdvg34hEJUvVKuI65UnrkB2Z1EoI/p1IBLKEK/kYsgFRH88oYquD9BJ1opZjUny59WQBOcOKg5uKIvPYk/FYzwor2SmiPjCc7QTKgszBSuEYsglMaycEpyGKa9I12xxP8mPIzmDS1+EwcCkOBqs+cu3JAur3anjwUBidxoXqx3hSrGRTFrfKHZ+W1DLttm3ue30wZDM07QPFGbrqiPNZGNy/emLI5ihp6IY9horHQKUkcu/JAuzZRIn7yWB83vLDfZIMj+3dWMkKJGxghh3kvJYyfUk/+pLPNcXFkBVc3OCd9Puo+ehmls8Q5vNG8yqkXQDwbUUW0vggchn3h67bLRoe0+FYySpk0uCOG0Qqf2MED34qAkNWE3EDRsaQZXiSyAprFwB8e0GkCt5OHk2LL1IkonwwYHdjyBIRZajQkI366EAikgeP38lYyRJRKtgqCMeQJSLKkDAhy7ccRPLhcTtd4SHLtxhE8uNxHK3wkCUiUplQIcu3HkSkGiFClm81iOTDOzbjESJkiYhUxZAlIsqQMCHLu7+I5MFWQXzChCwRkYoYskREGRIqZNkyIBIfWwXJCBWyRESqETZkWc0SiYfHZXLChSzfghCJj8dpfMKFLBGRSoQMWZ4AIxIPT3jNRsiQVclg4MBxHAwGmS4EjuPAyXQhRDQLhmxGBk4d1VIJlYoJ0zSx6ma4MHcVpmnCrFRQKlXRZtYSCUPYkBW2ZTBw0K5XUSqVtn7qztg0Th0Vs4seDFi2C9d10alluE61DlzXhd2yYKCHZiVknYjmwFbBHDyBAfDEWkXbs4brBMPyLMvyLKvl2W5wGtdrGfAAw2u5UfNJxnVtzzKM4fNhefbEiVueAXgwWl5KiycS8FiUh9DP2mjHCrNzbcsD4BmT0jPONAm4LWPH8zA1ZD3Psy1/WmvahEQxCHccSkbYdgEg3lsT5+0uAAMnlsuR0wwu96dMM0C7WtrdOx20US2VUBp/n794Ai3bhed5sK1461k77k/Yv8zmLKVHtONRFkKHrIzcSz0AS1iMzOEyGmdbfu90pQ0/BgdorzTRgwV7rHlbrjXQqEWHeqjacVgAepeyPNtGRHHcVfQKTON53tYJpkJeSQcOnGFWXe77/710zoGzOPx7pYJaeRSCg61pJio3sG5fQslsYqW9jLNYQbMHWHYHWZ4fI0qKJ7zmJ3zIFm1w7gzMZi/wmx66TRPd0T8tG14nYaUJALUObKsLs1lBZTifTK9AIKJCSNEu8Aq8nKvcWIfnnyAc9kQNtFxv63fejmQsY3Ep/rxrp1owACCkTUBUNFax6ZAiZOXTR5xzTs5qE36N3IWZ5oWtg8voAzAOVdKbJxHNRLqQFe7mhDH+mf0e1s5NSVmnDrMLGC3Xr5C7Zmo3EAzOraEHYCn67BsR5USakJXmLcvozH5zFdGZ6aDuJyzONsqodWz4OVuf8Ji4HKw2ewAsHGcHgmbEVkF6pAlZedRwqmUA6MKstuHsKmgHaFdNdGGgdbaB8vAxHbcFI6RtMGjXUa/7P2f6ANDHmeG/6+MfUjBwUK/6J+WM1ileqUAkgJIn2UuVLK+wTr0Kszu6KsGAZa/PdPWAUy/B7Eb80bL9E29OHVWzi62lWTbWeSKNZiTLMSYLVrIZqXXW4bk2WpYFw5hnPoErGcZ/gkFqGLCsFmzXY8ASCUS6ShbgKy1RVoInlnl8pYOVLBHtwoBNj9QhK/rlXEQy4fGUDSlDlq+yRNnh8ZUuKUM2iK++RCQyaT8gZvTpXDJ74J0ntv7/kyd/UeCakO54Mjk70leyREQikzpki/x0LiJVsIrNltQhS0QkOulDVpVqNtifJcoLq9jsSR+yREQiUyJkValmifLEKjYfSoQsEZGolAlZmavZ0TWy7MtSXljF5keZkCUiEpFSIStzNUuUF1ax+VIqZFXAlgGRWpQLWVmrWX52AeWBVWz+lAvZINmClihLPB6KoWTI8lWa8jAYOHAcB4Nd30ic6kLgOA6cFBfC4yNfSoZskEyv3ryUSw4Dp45qqYRKxYRpmlh1M1yYuwrTNGFWKiiVqhj/Fvi4ZDoOVKNsyPLVmhIbOGjXqyiVSls/dWdsGqeOitlFDwYs24XrujN91XtstQ5c14XdsmCgh2YlZJ0S4HGRP2VDNoiv4jSdg3rFRLPbAwwLlmXBslo4XglOM0D7TBeAgZa7jk6tjHK5PMcyB3DaflU8CvVqtQ5nrFotl8uoNTpYd1swAHTPtJGkoOX4L5inOACeqJt58OePewd//njs31OGbMsD4Bktd75pYnO9loHh+DQ8y7I8yzCG/7Y8O3IV/MdYUROEEPkY0IHylawn6SVdlC/nbb9CPbEcXZkOLvenTDNAu1ra3TsdtP1qdcf7/DKWT1iwWi48bx2dTged9XW4LQNAF29HtARqxy0AQP9yvFqWl2wVT/mQJUqLe6kHYAmLkTlcRuNsy++droze0g/QXmmiBwv2WPO23Oig09g5s/LiEoAJIVo7DgtA71KWZ9soTdJ+kWIS3vBLF0ulkhSv6J88+Qs88M4TeOCdJ3iTQpYGDpxhVl3u+/+9dM6Bszj8e6WC2lbPdbA1zUTlBtbtSyiZTay0l3EWK2j2AMvuIMn5saXoJI+NVawYtAjZIFmClrI3OHcGZrMX+E0P3aaJ7uiflg2vM0PY1TqwrS7MZgWV4XziXoEwalscqkyddCK2x8ShTbuAwUrjyo11eJ4Hz/NgW4B/1YC39TtvRzKWMXwnH0vtlH8lAELaBJGcOswuAOsFNOYvZAFw3ItAm5AF5DoJxhsTRNVHnHNOzmoTfo3chRnnwtaBg7qfsJNDeXAZfQDGhFJXhvGtE61Clmge/pn9HtbOTUnZYUVqtFy/Qu6ak28gGLRRrZjowkDLndy7HZxbQw/xerasYsWgXcjKVM2SYEZn9puriM7MYUVqtHC2UUatY8PP2XrIYwZw2lWUKk30DAu2uz6lTeBgtdkDYOF4RBLzZJd4tAvZINGDli0D0dRwangdq1lt77ozy79OdliRnm2gPHxMx23BCGkbOPXK8MSbAWsJeHu1jnp99DN2V9fAQb3qn5QzWqdCq13Rx7O28r//QQwQ4C6YOHd28e4v8diWsTV+ACPR3Vc754PAfMZ/hnd92ZZnBH5vTFiYCGOadtO2kvXYNqAZ1Trr8FwbLcuCYcwzn8CVDLt+Ar1Zw4BltWC7HtYjToqxTSCukqfxXgkGbBFPw6gNMO2Gg7jTkZ6KHsc0mbaVLMABSWrheBaT1iELsG1AcuO4FZ/2IRsk6oDlVQYUhm0COTBkwQFKcuP4FRtDdkiWtgGrWQLEH6e0jSEbQsQBzCsLaIRtArkwZAM4YEkmHK9yYMiOEbltwBNgxJsO5MOQnUDEoCV9cTzKiSEbIlgliDawWc3qiX1YeTFkI3Agk4g4LuXDkJ1A5P4s6YN9WLkxZGMSKWjZMtCHSOOOZsOQnULk/izpg1WsvBiyMYg4wFnNqo9tAjUwZGNif5byxIBVB0N2BqIELatZNYkyvigdDNkE2J+lrPF6WPUwZBMSNWhZzcqPAasmhuwMRApafjqXehiwamHIzkjEA4HVrLx4oktdDNk5iHLFAatZuRU9fihbDNk5iRK0I6xm5cI+rPoYsikqMmhZzcqHAasHhmwKRDoRBrCandUD7zyR23PHgNUHQzYlIgQtq1k5MGD1wpBNkUhBy2pWTAxY/TBkUyZC0FJyebwoMWD1xJDNQNFBy2pWPAxYfTFkM1J00JI4GLB6Y8hmqMigZTUbX5bPEQOWGLIZE6GiZdAWgwFLAEM2F0UFLS/pmi6rFyAGLI0wZHNSdNCymp0szRckBiwFMWRzVHTrgEG7UxbPBwOWxjFkc1bEgce2wWRpPD+lUokBS6EYsgXwPC/3qpZtg53SfB7Gw5UBS0EMWUHk2T7QPWiD2z9vFcvqlaZhyAok66ANBoruQQswYCkfDFkBjLcOsgxb3fuzoxcXBizlhSEriCL6tLpVs2lsL09wUVIMWcHkEbQ6tg3S6MPyBBfNgiEroDzaBzoGLZBewBLFxZAVVB7tA136s/P0YYMvcqxeaRYMWcFlXdWqfv3srAGbVu91MHDgOA4Gg5keHnchcBwHTqYLibsqem1vHAxZCWRd1aoatLNuTxq914FTR7VUQqViwjRNrLozrUo87ipM04RZqaBUqqJdQPbotr1JMGQlkmVVq1rQpnGiKzRcBw7a9erW818qlVB3xqZx6qiYXfRgwLJduK6LTm2WNRjAafvhNVpWtVqHMx4qtQ5c14XdsmCgh2YlZJ1mlev2+pVwvTpaXh2hm5Hl9mbBo8Ic/Pnj3sGfPz7TYwHs+BFhnUQx2oa42zF6Dqc/xvas0XNuWJ5lWZ5ltTzbDU7jei0DHmB4LTdqPnGM5uPPy7IszzKM4b8tz458WMszAA9Gy5tr8Z7n5bu9nue2jLFxPWE7tx+U4vZmgyFboHkDbTxo0wpbmYN21oCNFbK25QHwjElpEmeamNyW5Vlj8xkFkTUhfWwLU6cJzNFzbcszrJCQynt77ZbXGia4vw0xQtZLur35Y7tAYl5IvzCNFkKwdSBL+yC4rp88+YupLYJZTmw5b3cBGDixXI6cZnC5P2WaAdrV0u5e4qDttwUC73vLjQ46jZ3zKS8uAQD6l6MbkbXj1tRpttsAFf+tfn/3JLlvb62BRi16WVFibW+BGLIKGA/bNPq1Ml1Hm6T/GhaucQI2LvdSD8ASFiOzoozG2ZbfS1xpw4+FAdorTfRgwY7ZzFyKXgBQOw4LQO/S+NmngX+CqlpCqWKi2e3BsFqwXRfeegPJ4y2/7Z0ocnvFcFfRK0DpGYXFKETmvQTpkyd/sRVgD7zzhJDX1cYJ2LAXnNjPx8CBMzx2Lw+rvUvnHDiLw79XKqiVRwkz2JpmonID6/YllMwmVtrLOIsVNHuAZXcwLXJG1eWhSrzV396ONqqVJnoADMNCyz4VXjUKtr0qYMgqaDxsg/+fNGzHg3b0u6KNV9dh6zRXuA4Nzp2B2ewFftNDt2miO/qnZcPrzFAD1jqwrS7MZgWV4XymFnVOHWYXgPUCGrOUnQAAA0snjmO5Ej4DobZXEWwXKCyqZ5u0nTDe4yy6fTAtYMO2b9a2QLmxvvVY2wIAAy3X2/qdtyMpyhi2TGOpnWrBAIA4b5sHDup+ws72FrvcwLrrwraAftNEpVJCqVpFve1gsGMyQbZXIQxZDWwdIBGBG9d40OYdtuPLDIZ/1ItH2j3XePqIcw7GWfXfvgNdmJMu9By0Ua2Y6MJAy43xFntwGX0AxnhPoVxGrbOOdc+Da7dgDavUSqmEUrWN2U8bpby9SUVtryAYspqZt7oNq2qzDtyocJ0WrPmH6+hMdw9r56akzvCtv9Hyq0t0zZAL6gdw2lWUKk30DAu2ux6rTTA4t4YeJp8cK9ca6Kx78FwXtmUMK8zk0t3e2cTZ3iKxJ6up8asRwv5/fLqgsDvEkpzljwrlSXeeXfnn7/rriPl7rZmpHYeFLrrNVTiNqKpz+NbfaOFso4wybFhdE12zjuPe9mOcesXvwcKAtQS8vVrH21vzOIRTnbArAhysNnsALByP8458WN3O/OY9xe0dtOtYveT/f78PAH2cqQ+3+dCpXZezjeadaHsLwJCliZ+LEFXdjh4TFYpJKtuwk2tBo3CNWgex1HCqZaDb7MKsHoJ9toGdJ/EHaFeHb/3PjkKyho7bQr/ShFk/Ptb3BIAeut3e2O8sHO9gZ8gOHNRX/JNURutUTmfu09te91IX3W7wsT30uj2/xWAdR2f8JaWQ7U2u5Ik5UrUg0tn6KLNeb3vw54/PtdywYM16qKa5P5x6FeZWMBqw7PXszqY7dVTNLraWZtlYz/nEkm7bmwQrWZooKtimhe94SE4L3eD0nuf5N7pKrNZZh3fKQXv1baz141xMOifDgLV0AsdPjVeS+dBte5NgJVsgGSpZnXB/UBZ4dQERUYYYskREGWLIEhFliCFLRJQhhiwRUYYYskREGWLIEhFliCFLRJQhhiyRpm5f+bToVUjoU9y+UvQ6JMeQpdiCHy0o+g9Fu905jZv7Kth89Fv4/P2i1ya+W899C5uPVvDZ8ml8IVHYMmRJyeBScZtS8f5pbJ55C3e8/h7uve7insfiP/T2+6dxc7mCz/ZV8Nm+b+PzTrqV8O33X8Pny9/25//c+V1/3/OKi3uvv4e78RZ+9+hp3Ep16dltH0NWA2kETfCDsGX5SfrcTPqdGj7FF3/1FnCig3seuz/ZQ6+8hr995jLueLKDhQ/ew8Lri7h1Js1K+FP83V+dw+8fXMaew5Omux9fOdfBHryFL0JD8FN88dwMAZnh9jFkFTJriKYVWKJJY7ukqYCvvIabwwrsiyvn8fmwIrsZrAiv/DVufbSEu//tsZAZnMfn+yq4uRVOn+KL5UBFefC7+Nr1n+Ge+jHcefB+3PnY93D3YeD3n8QNsynzx/34yrmf4WuvfBd7Hpw2r2PYcwL48nLEsn/bx+9z375oDFlJJTnwVQzQtIQ9D3GeG+GC9+B38dUPOtiDPm59/5e469+9h4XXv4Mv136y3b+84uJLLOKOg2EzOIZ7Xv8Ovjzz5/jiCnC78+f4HU5j4ZWwQAaAT/HlR8AdD8StiJPOf7I7F5eA317B7diPyHr7ovHzZCWQ5C09pSvJ5+mm8RXk87hzFJ5Pfg9feex+AH+CPXgLX14BEBqsYx57CfecqODz738b+Ai4+4Pv4s6oad//JW7hO9s93fdP47Nn3gqZ8Du45/pL2JN0/lPc+cAi8JGL24A/j/Hlf/QtfHZmjuWPb98cGLICivsWn4oT9vzHCd489tt29XUM91x3Ez12zysd7NlXx60THXwlKpivvIabz7yFPa+7fngBwGMvYeGD74VMfP+OIIs1/xhuf3IZOLy8Pe+t5X+Kv/t+Hbee7OCrf3z/bMsP2745sF0ggGlvO/kWXw5x9lOhLYaDFdyFy/j9hMufbj1Xx63DS0CwzRBw+/3TuPnoS8AL7+2q8u48eH/IT7L5x3X7ch948OCOAB0t0zfb8idt36wYsgVI2kMleeUXusEL9SMu2j/4z7DncB+/+w+7L48CALx/Gp+vLeHun/wM95zo43fffy3Q8/TP2m8+cxl3vP4evvrH/s0MiW4OmDh/AFc+3XGDxO0rn0b0XM/j1hpw12LCfmnW2xeBXz+Tk7ADaPS9V7p93ck3a38DAPiV842C12SnPL9+5rN9lUTT3zvlbf/tzrexeSb43VqBXmTQsHe55/X3xi7jOo/P99Xx+xfew9fq98M/+/4t/O7BDu595djW33ddm3r4NBbOxemtzjj/E6O/jwwf91HE9qW9/NjbF40hm6Fp1aru3yklWtjmtT+SBiwwPWSTuN05jb898xa+BLDn9WQ3JBTp1nMVfL4G4PB3cPdPXpqrp5snhmzKooI17GnWPWRHRAlbEfZHWAD/4Y3Bjn+ndcjevnIewLFdfUtRyba+I7y6IAVJgpV2G4WrKGFbhEnVred5u+5IC/5tVncenO0a1aLItr4jDNkZMVjTp2PYhoXrvdfdXb8PjqssApeyw5BNqOgLznWgQ9hGhWuc300LXI5HsTBkY2DVWgwVwzZuuMY1GoNpVrebH/bx0UXgwFNL2H9fxEQ3+rjw49/g6hUA2Iuvd5fxUNS0k9y4hgs/vgCcfBpHHx4uf+0iPrq2H4ef34+FGWYZvayU1hnXcOHZC/58Du7FgZNHcPTh6DXldbIThF27yOtX8/cr5xv4lfMNfLP2N1uBKxv/4/N2Buy9193QgB1Nd+91F2+Yb279TBI1LpNef7u5dg4Xru3D0ecnBCyu4YK1gb0/eBon7cfxyLEN/ObHfWzGXgoAbOLayxfx8Y2bu/6ycOIIjj51ExeejZ7ntZffxIUPkywv/jpPnfeH13D1j47ipP00njh5AJtvXJ+47axkQ7AlIKbxyjb4O1HNU7mOB2tY0J60n971u0nV7cRxfKOPC78+gKOvTqsf9+OovX/4/wvYf+QAcH4Dm0CCynMB+58/AmATH7/xG2yM//m+JRx95BwurO3D4yfSqGfTWOehhx/C1y9+jGvYj/0PL+HxhydPzpANYLjKIRisabUSrs316N3SbgtEGQ/eYOiG9W5LpRIqh17BXxz4BzjwF0eBNy7gKr6OJ15dAnpXgUeODENnEx8/+y5+cwXAsaM4+dRNvGv9BhsH/WmDwbR5bRM49hD2Y1z8eYRZMA4A1se4duJIyLzDpLHOMZay9jE29u/Fxst9LDw/fTsYsijmQzwoHWn1bf/V6v8F/tH86zNvuAZbBSfH/jatZTBJsLp1L/0n/PLv/xD/+PvP4Ln//jrw7E0Am7j26w0snBxFxgIeevVx4Nl3sXFkAbgPWDj2dRwdD5UbfVz49QIeeTUsrmLOI8p9+3Dg4FVs3gAQq3eaxjpPtrl2Dh/tX/b7xx9exLsvX8Pjz0+ej9Yhy3BVx7xh+6tTf4AH3pl9+XlVrtO8Yb4Z2kIY8cf4Jv7lo+/if/6v8yiVDvi/f3XXG3b4oXUUF569iHcvHggJx2u48OMNHP5BoNL88CLe+NFV//+PHcXJ5/dPmcc0G9i4AeC+a7hgXsDV4J/Ov7n9761qdYZ1Rsx53+jjwk8XcNge/v6+vcD5a7j2/P6JFbGWIctwVVfeVyRkFa7zVK1x/PuHgI2XPLz8T0dthH+Ck4/8ENauKRew94+AzfNXce2ppcDZ+E18/OzH2PuD5Z0nyB4+gpP2kZjzSGI/jtpP4+jwX9defhNXj2xfkTDXOsed940NbBzcux3aNzZ295JDaBWyDFd9ZB22aYbrjkB96MVZV2liBRtlu42wCAB450QJj1zfrng/fvljLDy/jMef6uNd6yIWbL8C3Fy7iI2Tyzg6DKtrL18Eng/rnUbPI5692JsolNNY5wmubGDzBrBw3yY+fuMqcOzo1Mm6Fm0AAAubSURBVMdrEbIMV32lHbbzhus8FeooRONeZRBlc+2if3LoRxdxYBhAnncZm2vn8NpfVgC4KJUWcfKRH+JPvroXX38K2OxdxQY28GsTeKS7Fx/9dAMbCLylxgE88vyuJQ1PRIXMwz6ChbWLuPDTq341+KM3sXnwAA6/Ggi9G9dx9coCDscO2QnLi73OEzz8EB45dhG/tvznf++xo3hiSj8WUPwDYkS/WkCEDyTRzaSwnbQ/ZgnXNAI1zjxnqWBD3ejjXWsDh+0jOCBAYbK5dg4XcCT0Eq7J7YL5pD1vZStZVq8UJmllGzdcswjUOMtILWAB/9rUf30OF16+FvqhNLkeQ1Ou2d3//NMzXX4VR9rzVi5kGa4UR9iNDfiz7f+dFK55BOq4SdfDpmnhxDKOftjHhZf7uHrdw/77dl5jC2R/TI1uqz36asq31RZEqXaBbAHLdoEYRvth33/0Tzr9yvkG8OKDAIDP/vPtrdtbk0orCPMK2ElkO7ZEokQlywFAsxoFLABc/7Phmf0Xt9sB9/6bO2MFbOzgG4a3//+/jfeYWZaTsvFbdfmJX/FJH7IMWErdi7/dGYZjYgXdiw/uDtHxeYZNM+vyclJ4r1ZCUrcLZP/AYrYLihesZEe29seEoPX/HhGQYdXqnBWsiGQ//vIi7UcdcgfTvMICdocXf7v9E/r3B6cHcdTjFDD+ATTzfaW5uqSrZFVqD7CSLcakcJ26LyYFZDCMp1Wz49NLjkVPNKl6styRNI+JrYG4ogIz6neT/hazJyuDYK+WfdqdpAlZBizNKpVwHRdVtYZOG6OqVQCDNpwUIcuApVlkEq5hFA7OpBi0uwkfsgxYSiq3cAWSB6sGQcyg3UnokGXAUhK5hiuQKDBLf/kovB9+MPZ4NfqxYRi024QNWQYsxZV7uE4w+INHsYpT6DTK/i+GQfzon1r45n+1hP/ixzQxaH1CXsKlS8DyEq755Bmu7WoJzZ6BlruOUX5i0Ea10kTPsuF1atEPduoomV0YLRd/77/4Xx6tU9jqcjxHEa6S1X2H0HTj4Ro3WJNeLB8cf42zLaxVmmiutLG83kAZA7RXmujBgj0pYAOWFsvoNPz/z+vrcUSge0UrVMgyYGmSWcMVSB6wu5QbWLcvoWQ2sdJexlmsoNkDLLuDaRHrvN0FYOBQ4NMT8/4usqLpHLTCtAt0DFi2C+KZJ1zjSPINGk69BLM7/Me0NoH/AJTM7tRpdQlbHY9zoSpZQJ8nnqYrIlynqZ1qwejGbBMMHNTNLhBj2rAPEVcxcMc/xUsHQoQsP5uSgoqqXCcf/AMAZTirTfQAAF2Y9ePR1enopBgMtNzpLYWRYLCqWt2Onmtd2gaFh6xur2oUTZS2QPiBXwacOswuYLRcvHCpArNron7cw86cHcBpr8Bs9gDDgn22g1o5ZHYx6NC31SFoC+3J6tifCWJP1idKuE5+R+WgXjLRNVpw1xsoj/4NC7a3Xalu92wNWNbS2DwO4VSngRkzV7mw1eX4L7ySBdR+gimaKOEanDbq7+2qiS4MtM6OQrKGjttCv9KMaBv00O32xn5n4XgHM4esapWtLv3ZwipZ9mH1rWRFCtfxx8g0HlUJWxmf+ySEqGRJfXncnTVLuMpMtcpWVYWErOqvXLRNhnCVfTzKHraqX23ASpYyIUO4qkaXa21lk3vIyl410GQM1+LJeK2tytUsK1lKhczhqtpBHSR7K0EFuYYsq1j1yByuOpEhbFWtZlnJ0kwYrnKSIWxVw5ClRBiuamDY5ie3kGWrQG4MVzWJFrYqtgxYydJEDFc9iBa2KmHIUiiGq54YtunLJWTZKpAHw5WAYm9sUK1lwEqWADBcKZyMNzaIhiGrOYYrxcVWwmwYsppiuNKsGLbJMGQ1k/VnuQIMV10wbONhyGqC4UpZYdhOxpBVHMOV8sKwDceQVRTDlYrCsN2JIasYhiuJYp6wVelLFhmyimC4kqhmqWRVCViAISs9hiuR2BiykmK4EsmBISsZhiuRXBiyEsjj7iyA4UqUBYaswBiuRPJjyArggXee2BGeDFcidZS8nI4qfqbsTmFBGobhSrpRLStYyQqK4UqkhoJC9jyAY8UsWnAMVyK15Bayqn2lRBb4ea6kO5Xu9Bq5I68Ffbavgv9z3z/ESl4LFNx4oKYZsKMXsyDP8xiwJA2VxmpuIbvwwXv40//9P3A2rwVK4JMnf7H1M69RsMobrgM47Tqqge2oVutwBjkseeCgXq0Ol1uHk/0iSSO5tQvuPHg//tv/Y8sgbVFvr+R6fgdoVyto9gDAgGUtAf0+ur0uzApgex3Uslpyu4qKv2AqmGpXFYzkVsnu8v7pwhatgrCqFZCpcg0qY/mEBavlwvPW0el00Flfh9syAHTxdpal5eIJtGwXnufBtjJcDmkr95D1A+BrWHvmrbwXrYRJLQHxwnWAdrWEUqmKdvBt/6DttwXq2+lZbnTQaZR3PLq8uAQA6F9O2jNIsNxaA41aefcsKFeqVrFAYZXsTfyLGzk02xQiZ7+1jMbZFgz00Fxpw9/jA7RXmujBgt2J1wRYWkwagukslygVXkEAeAUuXhqj5yn4Ix3b8gB4Rsv13JbhAfAsO87D4AGG13KHv3BbnhHyfGz/BKadYbn+8iwvxqpRiqQd1zHxji9BKXWNa60D2+rCbFZQAQDLxtRi0qnD7AKwXsB2F2ERJywLS5EPOoTFeZdLlLYiEx6Kv4LNAzJXrmG2qtAYlaJre1bcaVNcLivZ/Ck1xiMUd3VBgIp3eczLE/Zk1myc1Sb8C6W6MOsTLhcYtFGtmOjCQMud/9Kt2Mul3Oly3BcassEA0eUJD9LmIvjhW3+j5fqXSXVN7M67AZx2FaVKEz3Dgu2uozHvSf9Yy6UiBI93VQqJKLl91OHElVD48o0ouy+CtzK96L44DuolE12jBXe9gfLo32Pb69RLfg92dDPCDodwqtNAssyNt9xBu47VS/7/9/td9HoGDGvJ7/seOrXrsjJKh1bHfGGNijHQoDcT5Notr2X7p8LV7QW6XssIOes/6pMGTvX7z0HUT9LnJqXlxrkEghLT7VgXopIF1Hn70K6W0OwZaAXf7g7aqFaa6Fk2vJDT234Vp2olS7RNleM8CSFOfAHq9Gd5ETxROB0DFhDsmxG84WfOApD3Q2TKDazbl1Aym1hpL+MsVtDsAZbNKpX0pWvAAoKFLKBI0PIieKItOgcsIFC7IEiF1kHtVAsGALBNQBrTPWABQUMWkD9oeRE86Y4B6xM2ZAGJg5YXwZPmGLDbhLmEaxK5dhgvgie9yXW8Zk+KkAVE2HEDIMY9R3Gvk92+wylExPW0RKIr/jgVjzQhC3AHEomMx2c4oXuy46Tt0RIpjgEbTapKdiTsa1iIKH88FqeTMmRH+OpJVBwef/FI1S4Yx/YBUTEYsPFJXcmO8C0LUT54rCWnRMiOcAAQZYfV62ykbheMG9/xbCEQzc//eiQG7KyUqmSDWNUSzY/hOj+lKtkgVrVEs2P1mh5lK9kgVrVE8fBYSZ8WITvCAUQUjsdGdrQK2REOKCIfj4XsaRmyIxxgpCuO/fxoHbJA+AkxzZ8SUhjHe/60D9kRDj5SGcd3cRiyIfhWilTBsVw8huwEfPUnGXHcioUhG0PUjQx86kgkDFcxMWQTYNiSaDgmxceQnREHNxWFY08uDNkUcNBT1jjG5MWQTdGkD6Hh00xJcTypgSGbER4gNAuOG/UwZHPCg4fCcFyojyFbgGmfbctdoi7ue/0wZAXAA09dcT4snvtXbQxZAfHAlBP3G4VhyEog7lfncFfmh/uE4mLISirJd5ZxF88u6XfD8bmmcQxZhczyZZHc/XzeKFsMWQ2k8U29Mg4TXbebxMKQ1Ry/Kp1BStm6q+gVoGLFDRgZw5jhSSJgyFIsDCyi2dxR9AoQEamMIUtElCGGLBFRhhiyREQZYsgSEWWIIUtElKH/Dxjp/OCXwpRKAAAAAElFTkSuQmCC)"
      ]
    },
    {
      "cell_type": "code",
      "execution_count": 63,
      "metadata": {},
      "outputs": [],
      "source": [
        "class MyCrossover(Crossover):\n",
        "    def __init__(self, probability: float, n_intentos: int):\n",
        "        super().__init__(probability=probability)\n",
        "        self.n_intentos = n_intentos\n",
        "\n",
        "    def make(self, parent1: Individual, parent2: Individual, fitnees: Callable):\n",
        "        if random.random() < self.probability:\n",
        "            x1 = np.array(parent1.phenotype)\n",
        "            x2 = np.array(parent2.phenotype)\n",
        "            count = 1\n",
        "            x_fit = [[x1, fitnees(x1)], [x2, fitnees(x2)]]\n",
        "            # ordenando de acuerdo al fitness f(a) <= f(b) [a, f(a), b, f(b)]\n",
        "            x1_fit1, x2_fit2 = sorted(x_fit, key=lambda x: x[1])\n",
        "\n",
        "            x2 = x1_fit1[0]  # menor\n",
        "            x1 = x2_fit2[0]  # mayor\n",
        "            # en direccion del menor fitness\n",
        "            while count < self.n_intentos:\n",
        "                delta = np.random.random(size=parent1.n_var)/8\n",
        "                r = random.random()\n",
        "                x3 = r * (x2 - x1) + x2 + delta\n",
        "                if check_constraints(x3, parent1.domain):\n",
        "                    return Individual(x3.tolist(), parent1.domain, parent1.n_var)\n",
        "                count += 1\n",
        "            else:\n",
        "                print(f\"Estos padres {x2} y {x1} no pueden generar descendencia\")\n",
        "        return None\n"
      ]
    },
    {
      "cell_type": "code",
      "execution_count": 91,
      "metadata": {
        "colab": {
          "base_uri": "https://localhost:8080/",
          "height": 507
        },
        "id": "DxV6EedhLXWu",
        "outputId": "9bff5e1e-9309-4d66-b432-aaae7aa2a990"
      },
      "outputs": [
        {
          "name": "stdout",
          "output_type": "stream",
          "text": [
            "Generation: 1 nro descendientes: 7\n",
            "Generation: 2 nro descendientes: 8\n",
            "Generation: 3 nro descendientes: 7\n",
            "Generation: 4 nro descendientes: 6\n",
            "Generation: 5 nro descendientes: 9\n",
            "Generation: 6 nro descendientes: 8\n",
            "Generation: 7 nro descendientes: 9\n",
            "Generation: 8 nro descendientes: 10\n",
            "Generation: 9 nro descendientes: 9\n",
            "Generation: 10 nro descendientes: 6\n"
          ]
        },
        {
          "data": {
            "image/png": "[encoded data removed]",
            "text/plain": [
              "<Figure size 432x288 with 1 Axes>"
            ]
          },
          "metadata": {
            "needs_background": "light"
          },
          "output_type": "display_data"
        }
      ],
      "source": [
        "MAX_GENERATION = 10\n",
        "POPULATION_SIZE = 20\n",
        "initial_population = [Individual.newRandom(domain, n_var) for _ in range(POPULATION_SIZE)]\n",
        "best = genenetic_algorithm(max_generation=MAX_GENERATION,\n",
        "                           fitness=f,\n",
        "                           population=initial_population,\n",
        "                           selection=TournamentSelection(nro_individuals=20, tournament_size=10),\n",
        "                           crossover=MyCrossover(probability=0.8, n_intentos=10))\n"
      ]
    },
    {
      "cell_type": "code",
      "execution_count": 92,
      "metadata": {
        "colab": {
          "base_uri": "https://localhost:8080/"
        },
        "id": "9bhaUyNUakkd",
        "outputId": "24e4386b-6ef1-4de0-fd6d-b700b30361d3"
      },
      "outputs": [
        {
          "name": "stdout",
          "output_type": "stream",
          "text": [
            "Optimal value\n",
            " x* = [1.5622926042123235, 1.6440483442161444, 1.6522171610540413, 1.5950600352226196, 1.6958019430095015], f(x*) = -5.678087247773396\n"
          ]
        }
      ],
      "source": [
        "solution = min(best, key=lambda x: f(best[0].phenotype))\n",
        "print(f\"Optimal value\\n x* = {solution.phenotype}, f(x*) = {f(solution.phenotype)}\")"
      ]
    },
    {
      "cell_type": "markdown",
      "metadata": {
        "id": "fIfZGE0reZhr"
      },
      "source": [
        "En la gráfica del número de generaciones vs fitness se observa una mejora en la obtención del mínimo y un un mayor número de padres que no pueden generar descendencia (3 padres). "
      ]
    }
  ],
  "metadata": {
    "colab": {
      "collapsed_sections": [],
      "name": "pc2_BardalesJordi.ipynb",
      "provenance": []
    },
    "interpreter": {
      "hash": "590f4a299ae404e723bbc5f32e9a7b98b836c3c65ce9112bc934ac92a06ceee3"
    },
    "kernelspec": {
      "display_name": "Python 3.10.4 64-bit",
      "language": "python",
      "name": "python3"
    },
    "language_info": {
      "codemirror_mode": {
        "name": "ipython",
        "version": 3
      },
      "file_extension": ".py",
      "mimetype": "text/x-python",
      "name": "python",
      "nbconvert_exporter": "python",
      "pygments_lexer": "ipython3",
      "version": "3.10.4"
    },
    "orig_nbformat": 4
  },
  "nbformat": 4,
  "nbformat_minor": 0
}

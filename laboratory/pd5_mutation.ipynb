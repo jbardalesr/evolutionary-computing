{
  "cells": [
    {
      "cell_type": "markdown",
      "metadata": {
        "id": "ml00OP9tLs7d"
      },
      "source": [
        "# Curso: CC521 A Programación Evolutiva 2022-1\n",
        "Alumno: Jordi Joel Bardales Rojas"
      ]
    },
    {
      "cell_type": "markdown",
      "metadata": {
        "id": "2Lj9ai1GLs7i"
      },
      "source": [
        "## Práctica dirigida: Operadores de Mutación\n"
      ]
    },
    {
      "cell_type": "markdown",
      "metadata": {
        "id": "wIcJPoanLs7k"
      },
      "source": [
        "### Problema 1"
      ]
    },
    {
      "cell_type": "markdown",
      "metadata": {
        "id": "ky9FsRArLs7l"
      },
      "source": [
        "Dada la cadena de longitud 27"
      ]
    },
    {
      "cell_type": "markdown",
      "metadata": {
        "id": "L9syXDK7Ls7m"
      },
      "source": [
        "![image.png](data:image/png;base64,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)"
      ]
    },
    {
      "cell_type": "markdown",
      "metadata": {
        "id": "C4xkepj9Ls7m"
      },
      "source": [
        "Sea $i$ la posición del gen en la cadena, entonces la probabilidad de posicionarse en el gen $k$ es $1/27$, es decir:\n",
        "\n",
        "$i \\sim \\text{uniforme}\\{\\mathbb{1}, \\mathbb{27}\\}$\n",
        "\n",
        "$P(i=k) = \\frac{1}{27}$\n",
        "\n",
        "Además, sea $X_i$ el valor del bit ($0$ o $1$), la probabilidad de que estando en el gen $i$, el bit $X_i$ cambie tiene probabilidad $1$, es decir, una vez posicionado en $i$ este siempre cambia.\n",
        "\n",
        "$P(X_i \\text{ cambia}) = 1$\n",
        "\n",
        "Por lo tanto, la probabilidad de que el gen $k=17$ cambie por mutación es:\n",
        "\n",
        "\\begin{align*}\n",
        "P(X_i \\text{ cambia}, i=k) &= P(X_i \\text{ cambia} | i=k)P(i=k)\\\\\n",
        "&= P(X_k \\text{ cambia})P(i=k)\\\\\n",
        "&=1\\times \\frac{1}{27} = \\frac{1}{27}\n",
        "\\end{align*}\n",
        "\n",
        "*Respuesta a)*\n"
      ]
    },
    {
      "cell_type": "markdown",
      "metadata": {
        "id": "2aVTHOi9Ls7o"
      },
      "source": [
        "### Problema 2"
      ]
    },
    {
      "cell_type": "markdown",
      "metadata": {
        "id": "dfV96lTFLs7p"
      },
      "source": [
        "La representación más adecuada es una cadena de $n$ valores binarios debido a que un interruptor unicamente puede estar en dos estados, encendido y apagado, encendido tomaría el valor de  $1$ y apagado el valor de $0$, por lo que en el problema de minimización utilizando algoritmos genéticos, se buscaría alguna configuración de $0$'s y $1$'s tal que minimize las fluctuaciones.  Por ejemplo, la cadena $[1, 0, 1, 0]$, seria la configuración ENCENDIDO, APAGADO, ENCENDIDO, APAGADO.\n",
        "\n",
        "![image.png](data:image/png;base64,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)\n",
        "\n",
        "*Respuesta a)*\n"
      ]
    },
    {
      "cell_type": "markdown",
      "metadata": {
        "id": "lUX29XeJLs7q"
      },
      "source": [
        "### Problema 3"
      ]
    },
    {
      "cell_type": "markdown",
      "metadata": {
        "id": "oictGu8PLs7q"
      },
      "source": [
        "En una operación el orden y la unicidad en las operaciones es importante, con un cruce de dos puntos, se generaria elementos repetidos. Por ejemplo se tiene el siguiente conjunto de operaciones para el corazon:\n",
        "\n",
        "1. Realizar anastesia\n",
        "2. Conectar respirador\n",
        "3. Limpiar la zona\n",
        "4. Realizar incision con el bisturí\n",
        "5. Curar el corazón\n",
        "6. Coser la la zona abierta\n",
        "7. Dar de alta al paciente\n",
        "\n",
        "Sea el individuo una permutacion del $1$ al $7$\n",
        "```\n",
        "p1 = [2, 3, | 4, 7, 6,| 1, 5]\n",
        "p2 = [7, 6, | 1, 4, 2,| 3, 5]\n",
        "c1 = [7, 6, | 4, 7, 6,| 3, 5]\n",
        "c2 = [2, 3, | 1, 4, 2,| 1, 5]\n",
        "```\n",
        "Se observa como hay dos 7 y 6 en el hijo $c_1$ y dos 2 y 1 en el hijo $c_2$, además se perdieron dos operaciones en cada hijo. Por ese motivo no es adecuado trabajar con cruces de dos puntos en permutaciones (*ver cruzamiento del problema 5*).\n",
        "\n",
        "*Respuesta a)*"
      ]
    },
    {
      "cell_type": "markdown",
      "metadata": {
        "id": "8WgkzD6_Ls7s"
      },
      "source": [
        "### Problema 4"
      ]
    },
    {
      "cell_type": "markdown",
      "metadata": {
        "id": "uJcWrCowLs7t"
      },
      "source": [
        "Asumiendo que el corte no se hace en los extremos, ese decir, los cortes válidos se hacen en la posición $2, 3, 4, 5$, las cadenas que no se pueden crear mediante cruce de un punto con los padres $000000$ y $111111$ son las siguientes:\n",
        "\n",
        "Se hizo corte en los extremos\n",
        "```\n",
        "a. 111111\n",
        "b. 000000 \n",
        "```\n",
        "Se hizo más de un corte\n",
        "```\n",
        "d. 110011\n",
        "e. 011110\n",
        "```"
      ]
    },
    {
      "cell_type": "markdown",
      "metadata": {
        "id": "L7PLBdQ_Ls7u"
      },
      "source": [
        "### Problema 5"
      ]
    },
    {
      "cell_type": "markdown",
      "metadata": {
        "id": "rFCGtPBSLs7u"
      },
      "source": [
        "Enumerando a los pacientes del $1$ al $n$, una permutación sería la adecuada, donde el orden de atención es la posición del paciente en el arreglo, por ejemplo: en la permutación $[5, 1, 3, 4, 2]$, el paciente $5$ sería atendido primero, el $1$ segundo y el $2$ último. Cada paciente tiene asociado un tiempo en minutos en ser atendido por el médico, por ejemplo $[5, 0.4]$, el paciente $5$ demora 40 minutos con el médico, además, el tiempo de espera de un paciente es la suma de los tiempos de atención de los pacientes que ya fueron atendidos, por ejemplo, en el arreglo $[[5, 0.4], [1, 0.3], [3, 0.1]]$, el paciente $5$, no espera nada, es atendido de inmediato, el paciente $1$ espera $40$ minutos y el paciente $3$, espera $70$ minutos. El tiempo medio de espera total es la suma de los tiempos medios de espera de cada paciente. Esto último se buscará minimizar, por lo que en el problema de minimización se buscaría aquella permutación que minimize el tiempo medio de espera. \n",
        "\n",
        "*Respuesta d*"
      ]
    },
    {
      "cell_type": "code",
      "execution_count": null,
      "metadata": {
        "id": "Wrf1AgTuLs7v",
        "outputId": "e3c901f3-ca66-4b42-c5b0-6b9213df4762"
      },
      "outputs": [
        {
          "data": {
            "text/plain": [
              "array([[0.        , 0.79158751],\n",
              "       [1.        , 0.54182493],\n",
              "       [2.        , 0.79695504],\n",
              "       [3.        , 0.71399197],\n",
              "       [4.        , 0.19098842],\n",
              "       [5.        , 0.90608438],\n",
              "       [6.        , 0.86234296],\n",
              "       [7.        , 0.22700625],\n",
              "       [8.        , 0.55887844],\n",
              "       [9.        , 0.30718424]])"
            ]
          },
          "execution_count": 190,
          "metadata": {},
          "output_type": "execute_result"
        }
      ],
      "source": [
        "import random\n",
        "import numpy as np\n",
        "import copy \n",
        "import matplotlib.pyplot as plt\n",
        "\n",
        "N_pacientes = 10\n",
        "tiempo_atencion = np.array([[i, random.random()] for i in range(N_pacientes)])\n",
        "initial_position = list(range(N_pacientes))\n",
        "tiempo_atencion\n"
      ]
    },
    {
      "cell_type": "markdown",
      "metadata": {
        "id": "lLSGxc0eLs7w"
      },
      "source": [
        "#### Población inicial\n",
        "Un individuo es una permutación de las posición de los pacientes en el arreglo."
      ]
    },
    {
      "cell_type": "code",
      "execution_count": null,
      "metadata": {
        "id": "updANeygLs7x"
      },
      "outputs": [],
      "source": [
        "def new_individual(initial_position: list[int]):\n",
        "    individual = copy.copy(initial_position)\n",
        "    random.shuffle(individual)\n",
        "    return individual"
      ]
    },
    {
      "cell_type": "code",
      "execution_count": null,
      "metadata": {
        "id": "HINiL4oWLs7x"
      },
      "outputs": [],
      "source": [
        "POPULATION_SIZE = 10\n",
        "initial_population = [new_individual(initial_position) for _ in range(POPULATION_SIZE)]"
      ]
    },
    {
      "cell_type": "markdown",
      "metadata": {
        "id": "Oh5nugyZLs7x"
      },
      "source": [
        "#### Fitness\n",
        "La función fitnes es la suma de los tiempos medios de espera de cada paciente."
      ]
    },
    {
      "cell_type": "code",
      "execution_count": null,
      "metadata": {
        "id": "upa7Jh5ELs7x"
      },
      "outputs": [],
      "source": [
        "def fitness(individual: list[int]):\n",
        "    t_atencion = tiempo_atencion[[individual], 1][0]\n",
        "    tiempo_espera = t_atencion[:-1].cumsum()\n",
        "    tiempo_espera = np.insert(tiempo_espera, 0, 0)\n",
        "    tiempo_espera_total = tiempo_espera.sum()\n",
        "    return tiempo_espera_total"
      ]
    },
    {
      "cell_type": "markdown",
      "metadata": {
        "id": "9DFBQML3Ls7x"
      },
      "source": [
        "#### Selección\n",
        "Se eligión la selección por ranking lineal porque dió buenos resultados en prácticas anteriores."
      ]
    },
    {
      "cell_type": "code",
      "execution_count": null,
      "metadata": {
        "id": "kMhqvz6lLs7y"
      },
      "outputs": [],
      "source": [
        "def linear_ranking_selection(num_individuals:int, s:float, population: list[int], fitness: list[float]):\n",
        "    mu = len(population)\n",
        "    pop_fit = zip(population, fitness)\n",
        "    sorted_pop_fit = sorted(pop_fit, key=lambda val: val[1], reverse=True)\n",
        "    pop_fit = list(zip(*sorted_pop_fit))\n",
        "    distribution = [(2 - s) / mu + 2 * i * (s - 1) / (mu * (mu - 1)) for i in range(mu)]\n",
        "    return random.choices(pop_fit[0], weights=distribution, k=num_individuals)\n"
      ]
    },
    {
      "cell_type": "markdown",
      "metadata": {
        "id": "fTR8KTx5Ls7y"
      },
      "source": [
        "#### Cruzamiento\n",
        "Cada par de padres genera un único descendiente, el cual consiste de recorrer cada índice y seleccionar aquel paciente con menor tiempo de atención. Por ejemplo:\n",
        "```\n",
        "p1 = [[3, 0.7], [2, 0.2], [1, 0.1], [4, 0.2]]\n",
        "p2 = [[1, 0.1], [2, 0.4], [4, 0.2], [3, 0.7]]\n",
        "c1 = [[1, 0.1]]\n",
        "```\n",
        "\n",
        "Se elimina el paciente 1 de los padres para evitar seleccionarlo nuevamente. Además el tamaño del los arreglos es el mismo en ambos padres.\n",
        "```\n",
        "p1 = [[3, 0.7], [2, 0.4], [4, 0.2]]\n",
        "p2 = [[2, 0.4], [4, 0.2], [3, 0.7]]\n",
        "c1 = [[1, 0.1], [2, 0.4]]\n",
        "```\n",
        "Luego de repetir este proceso para cada paciente, el nuevo individuo es:\n",
        "```\n",
        "c1 = [[1, 0.1], [2, 0.4], [4, 0.2], [3, 0.7]]\n",
        "```"
      ]
    },
    {
      "cell_type": "code",
      "execution_count": null,
      "metadata": {
        "id": "2ieQMwOFLs7y"
      },
      "outputs": [],
      "source": [
        "def my_crossover(probability: float, p1: list[int], p2: list[int]):\n",
        "    if random.random() < probability:\n",
        "        p1_red = copy.deepcopy(p1)\n",
        "        p2_red = copy.deepcopy(p2)\n",
        "        c1 = [0] * N_pacientes\n",
        "        for i in range(N_pacientes):\n",
        "            c1[i] = min([p1_red[0], p2_red[0]], key=lambda x: tiempo_atencion[x, 1])\n",
        "            k = p1_red.index(c1[i])\n",
        "            l = p2_red.index(c1[i])\n",
        "            del p1_red[k]\n",
        "            del p2_red[l]\n",
        "        return [c1]\n",
        "    return None\n"
      ]
    },
    {
      "cell_type": "markdown",
      "metadata": {
        "id": "KcgKZpgoLs7z"
      },
      "source": [
        "#### Mutación\n",
        "Se elige una mutación swap el cual es equivalente a intercambiar el orden de dos pacientes de forma aleatoria."
      ]
    },
    {
      "cell_type": "code",
      "execution_count": null,
      "metadata": {
        "id": "jsbWZ6tpLs7z"
      },
      "outputs": [],
      "source": [
        "def swap_mutation(probability: float, ind: list[int]):\n",
        "    mut = copy.deepcopy(ind)\n",
        "    if random.random() < probability:\n",
        "        i, j = random.sample(range(len(mut)), k=2)\n",
        "        mut[i], mut[j] = mut[j], mut[i]\n",
        "        return mut\n",
        "    return None"
      ]
    },
    {
      "cell_type": "markdown",
      "metadata": {
        "id": "KwN2Zy61Ls70"
      },
      "source": [
        "#### Algoritmo génetico\n"
      ]
    },
    {
      "cell_type": "code",
      "execution_count": null,
      "metadata": {
        "id": "OZne7MBdLs70",
        "outputId": "325393af-144d-49ed-ea4f-4a46f9019b93"
      },
      "outputs": [
        {
          "name": "stdout",
          "output_type": "stream",
          "text": [
            "Generación: 6, número de descendientes: 5\n",
            "Generación: 12, número de descendientes: 7\n",
            "Generación: 18, número de descendientes: 5\n",
            "Generación: 24, número de descendientes: 6\n",
            "Generación: 30, número de descendientes: 5\n",
            "Generación: 36, número de descendientes: 4\n",
            "Generación: 42, número de descendientes: 5\n",
            "Generación: 48, número de descendientes: 2\n",
            "Generación: 54, número de descendientes: 4\n",
            "Generación: 60, número de descendientes: 5\n"
          ]
        },
        {
          "data": {
            "image/png": "[encoded data removed]",
            "text/plain": [
              "<Figure size 432x288 with 1 Axes>"
            ]
          },
          "metadata": {
            "needs_background": "light"
          },
          "output_type": "display_data"
        }
      ],
      "source": [
        "max_generation = 60\n",
        "best: list[int] = []\n",
        "generation_number = 0\n",
        "SELECTION_SIZE = 10\n",
        "CROSSOVER_PROBABILITY = 0.8\n",
        "MUTATION_PROBABILITY = 0.1\n",
        "\n",
        "population = copy.copy(initial_population)\n",
        "while generation_number < max_generation:\n",
        "    generation_number += 1\n",
        "    # evaluacion de la aptitud de la población inicial (n individuos)\n",
        "    population_fitness = [fitness(ind) for ind in population]\n",
        "    # seleccion de los padres (para la reproducción)\n",
        "    parents = linear_ranking_selection(SELECTION_SIZE, 1.5, population, population_fitness)\n",
        "    # operadores de variación\n",
        "    offspring: list[int] = []\n",
        "    # crossover\n",
        "    for p1, p2 in zip(parents[0::2], parents[1::2]):\n",
        "        if (childs := my_crossover(CROSSOVER_PROBABILITY, p1, p2)) != None:\n",
        "            offspring += childs\n",
        "    # mutation\n",
        "    for ind in parents:\n",
        "        if (mutant := swap_mutation(MUTATION_PROBABILITY, ind)) != None:\n",
        "            offspring.append(mutant)\n",
        "    # evaluacion de la aptitud de los λ descendientes\n",
        "    offspring_fitness = [fitness(ind) for ind in offspring]\n",
        "\n",
        "    prev_fitness = copy.deepcopy(population_fitness)\n",
        "    # λ individuos aptos + n padres\n",
        "    population += offspring\n",
        "    population_fitness += offspring_fitness\n",
        "    # seleccionamos un individuo para la grafica\n",
        "    best.append(population[random.randint(0, len(population) - 1)])\n",
        "    # selección del ambiente n\n",
        "    population = linear_ranking_selection(SELECTION_SIZE, 1.5, population, population_fitness)\n",
        "\n",
        "    # impresión de la generación\n",
        "    if generation_number % int(max_generation / 10) == 0:\n",
        "        print(f\"Generación: {generation_number}, número de descendientes: {len(offspring)}\")\n",
        "\n",
        "plt.plot([fitness(x) for x in best], \"r-\")\n",
        "plt.title(f\"Nro de pacientes: {N_pacientes}, nro de generaciones {max_generation}\")\n",
        "plt.ylabel(\"Fitness\")\n",
        "plt.xlabel(\"Generation\")\n",
        "plt.show()\n"
      ]
    },
    {
      "cell_type": "code",
      "execution_count": null,
      "metadata": {
        "id": "Mv3Dtk58Ls71"
      },
      "outputs": [],
      "source": [
        "def tiempo_espera_paciente(individual: list[int]):\n",
        "    t_atencion = tiempo_atencion[[individual], 1][0]\n",
        "    tiempo_espera = t_atencion[:-1].cumsum()\n",
        "    tiempo_espera = np.insert(tiempo_espera, 0, 0)\n",
        "    return tiempo_espera"
      ]
    },
    {
      "cell_type": "code",
      "execution_count": null,
      "metadata": {
        "id": "1UsSCttXLs71",
        "outputId": "bf404fa6-2328-467c-a337-fbfc56d7453f"
      },
      "outputs": [
        {
          "name": "stdout",
          "output_type": "stream",
          "text": [
            "Posición de los pacientes\n",
            "[[4.         0.19098842]\n",
            " [7.         0.22700625]\n",
            " [9.         0.30718424]\n",
            " [1.         0.54182493]\n",
            " [8.         0.55887844]\n",
            " [2.         0.79695504]\n",
            " [3.         0.71399197]\n",
            " [0.         0.79158751]\n",
            " [6.         0.86234296]\n",
            " [5.         0.90608438]]\n",
            "\n",
            "Tiempo de espera de cada paciente\n",
            "[0.         0.19098842 0.41799467 0.72517892 1.26700384 1.82588228\n",
            " 2.62283732 3.33682929 4.1284168  4.99075976]\n",
            "\n",
            "Tiempo de espera total mínimo:\n",
            "(x*) = 19.505891308944367\n"
          ]
        }
      ],
      "source": [
        "solution = min(best, key=lambda x: fitness(x))\n",
        "print(f\"\"\"Posición de los pacientes\\n{tiempo_atencion[solution, :]}\\n\n",
        "Tiempo de espera de cada paciente\\n{tiempo_espera_paciente(solution)}\\n\n",
        "Tiempo de espera total mínimo:\\n(x*) = {fitness(solution)}\"\"\")\n"
      ]
    }
  ],
  "metadata": {
    "kernelspec": {
      "display_name": "Python 3.10.5 64-bit",
      "language": "python",
      "name": "python3"
    },
    "language_info": {
      "codemirror_mode": {
        "name": "ipython",
        "version": 3
      },
      "file_extension": ".py",
      "mimetype": "text/x-python",
      "name": "python",
      "nbconvert_exporter": "python",
      "pygments_lexer": "ipython3",
      "version": "3.10.5"
    },
    "orig_nbformat": 4,
    "vscode": {
      "interpreter": {
        "hash": "590f4a299ae404e723bbc5f32e9a7b98b836c3c65ce9112bc934ac92a06ceee3"
      }
    },
    "colab": {
      "name": "pd5_mutation_Bardales.ipynb",
      "provenance": []
    }
  },
  "nbformat": 4,
  "nbformat_minor": 0
}
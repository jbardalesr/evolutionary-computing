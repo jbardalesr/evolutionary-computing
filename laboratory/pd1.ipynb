{
  "cells": [
    {
      "cell_type": "markdown",
      "metadata": {
        "id": "rKolIu6OwBVj"
      },
      "source": [
        "Alumno: Jordi Joel Bardales Rojas"
      ]
    },
    {
      "cell_type": "code",
      "execution_count": null,
      "metadata": {
        "id": "7ALI_OlPpezC"
      },
      "outputs": [],
      "source": [
        "from __future__ import annotations\n",
        "import copy\n",
        "import random\n",
        "import math"
      ]
    },
    {
      "cell_type": "markdown",
      "metadata": {
        "id": "UR_6gwuXubsQ"
      },
      "source": [
        "# Pregunta  1"
      ]
    },
    {
      "cell_type": "code",
      "execution_count": null,
      "metadata": {
        "id": "oVRHLMxJqkgg"
      },
      "outputs": [],
      "source": [
        "def dec2bin(num: int, max_value:int=None) -> list[int]:\n",
        "    if max_value == None:\n",
        "        max_value = num\n",
        "    size = math.ceil(math.log2(max_value))\n",
        "    bin = [0]*size\n",
        "    div = num\n",
        "    index = 1\n",
        "    while True:\n",
        "        bin[size - index] = num%2\n",
        "        if num//2 <= 0:\n",
        "            break\n",
        "        num = num//2\n",
        "        index += 1\n",
        "    return bin"
      ]
    },
    {
      "cell_type": "code",
      "execution_count": null,
      "metadata": {
        "id": "Lp16qAO4IKJa"
      },
      "outputs": [],
      "source": [
        "def bin2dec(my_bin: list[int]):\n",
        "    num = 0\n",
        "    for i, b in enumerate(reversed(my_bin)):\n",
        "        num = num + b*2**i\n",
        "    return num"
      ]
    },
    {
      "cell_type": "code",
      "execution_count": null,
      "metadata": {
        "id": "fegUiI4BJb52"
      },
      "outputs": [],
      "source": [
        "def bin2gray(my_bin: list[int]) -> list[int]:\n",
        "    my_gray = [0]*len(my_bin)\n",
        "    # shift 1 right\n",
        "    my_gray[1:] = my_bin[:-1]\n",
        "    # or exclusive\n",
        "    for i in range(len(my_bin)): \n",
        "        my_gray[i] = my_gray[i] ^ my_bin[i]\n",
        "    return my_gray\n",
        "\n",
        "def dec2gray(num: int):\n",
        "    return num ^ (num >> 1)"
      ]
    },
    {
      "cell_type": "code",
      "execution_count": null,
      "metadata": {
        "id": "HvECTVWGJdrP"
      },
      "outputs": [],
      "source": [
        "def gray2bin(my_gray):\n",
        "    mask = [0]*len(my_gray)\n",
        "    my_bin = copy.deepcopy(my_gray)\n",
        "    for i in range(1, len(my_gray)):\n",
        "        mask[i:] = my_gray[:-i]\n",
        "        # or exclusive\n",
        "        for j in range(i, len(my_bin)):\n",
        "            my_bin[j] ^= mask[j]\n",
        "    return my_bin\n",
        "\n",
        "def gray2dec(gray: int):\n",
        "    mask = gray\n",
        "    while mask:\n",
        "        mask >>= 1\n",
        "        gray ^= mask\n",
        "    return gray"
      ]
    },
    {
      "cell_type": "code",
      "execution_count": null,
      "metadata": {
        "id": "2hy-627QKzV4"
      },
      "outputs": [],
      "source": [
        "show = lambda my_bin: \"\".join(str(e) for e in my_bin)"
      ]
    },
    {
      "cell_type": "code",
      "execution_count": null,
      "metadata": {
        "id": "aitr7dlzAtfB"
      },
      "outputs": [],
      "source": [
        "number = 10"
      ]
    },
    {
      "cell_type": "code",
      "execution_count": null,
      "metadata": {
        "colab": {
          "base_uri": "https://localhost:8080/"
        },
        "id": "Yn2_1V4BsiBj",
        "outputId": "f0b61363-02d0-4b10-e4e3-8f300729db8f"
      },
      "outputs": [
        {
          "name": "stdout",
          "output_type": "stream",
          "text": [
            "Python: 0b1010\n",
            "Code:   1010\n"
          ]
        }
      ],
      "source": [
        "print(\"Python:\", bin(number))\n",
        "print(\"Code:  \", show(dec2bin(number)))"
      ]
    },
    {
      "cell_type": "code",
      "execution_count": null,
      "metadata": {
        "colab": {
          "base_uri": "https://localhost:8080/"
        },
        "id": "uA1W4ddExVzo",
        "outputId": "07031ac9-b6af-4582-b4d2-29c71e8a443b"
      },
      "outputs": [
        {
          "name": "stdout",
          "output_type": "stream",
          "text": [
            "Bin:  1010\n",
            "Gray: 1111\n"
          ]
        }
      ],
      "source": [
        "my_bin = dec2bin(number)\n",
        "my_gray = bin2gray(my_bin)\n",
        "print(\"Bin: \", show(my_bin))\n",
        "print(\"Gray:\", show(my_gray))"
      ]
    },
    {
      "cell_type": "code",
      "execution_count": null,
      "metadata": {
        "colab": {
          "base_uri": "https://localhost:8080/"
        },
        "id": "mBJghcFGFHbr",
        "outputId": "5047abe1-6ecf-426e-bfee-ad4c3da44ecd"
      },
      "outputs": [
        {
          "name": "stdout",
          "output_type": "stream",
          "text": [
            "Gray: 1111\n",
            "Bin:  1010\n"
          ]
        }
      ],
      "source": [
        "my_bin = gray2bin(my_gray)\n",
        "print(\"Gray:\", show(my_gray))\n",
        "print(\"Bin: \", show(my_bin))"
      ]
    },
    {
      "cell_type": "markdown",
      "metadata": {
        "id": "tdq7UfghKrSD"
      },
      "source": [
        "# Pregunta 2\n",
        "Para todo valor entero de x en el rango de $[−5, 5]$, generar las cadenas binarias y en código de gray.\n",
        "\n",
        "*Solución:*"
      ]
    },
    {
      "cell_type": "code",
      "execution_count": null,
      "metadata": {
        "id": "qJGwolGLA0To"
      },
      "outputs": [],
      "source": [
        "def my_map(x, a, b, step):\n",
        "    if a <= x and x <= b:  \n",
        "        u = round((x - a)/step)\n",
        "        return u\n",
        "    raise Exception(f\"Error: x = {x} isn't in [{a}, {b}]\")\n",
        "\n",
        "def inverse_map(u, a, b, step):\n",
        "    return round(u*step + a, 3)"
      ]
    },
    {
      "cell_type": "code",
      "execution_count": null,
      "metadata": {
        "colab": {
          "base_uri": "https://localhost:8080/"
        },
        "id": "0HnXIQe4Kig4",
        "outputId": "129b4e34-2ccf-4ae9-a93a-221e71bb4d29"
      },
      "outputs": [
        {
          "name": "stdout",
          "output_type": "stream",
          "text": [
            "n bin gray y\n",
            "-5 0000 0000\n",
            "-4 0001 0001\n",
            "-3 0010 0011\n",
            "-2 0011 0010\n",
            "-1 0100 0110\n",
            "0 0101 0111\n",
            "1 0110 0101\n",
            "2 0111 0100\n",
            "3 1000 1100\n",
            "4 1001 1101\n"
          ]
        }
      ],
      "source": [
        "a = -5\n",
        "b = 5\n",
        "step = 1\n",
        "\n",
        "u_map = [my_map(i, a, b, step) for i in range(a, b, step)]\n",
        "print(\"n bin gray y\")\n",
        "for u in u_map:\n",
        "    u_bin = dec2bin(u, max_value=u_map[-1])\n",
        "    print(inverse_map(u, a, b, step), show(u_bin), show(bin2gray(u_bin)))\n",
        "    \n"
      ]
    },
    {
      "cell_type": "markdown",
      "metadata": {
        "id": "FgoLfDDQON-k"
      },
      "source": [
        "Para valores discretos de $x$ con una precisión de $10^{-3}$ en el rango de $[−5, 5]$, generar $10$ cadenas binarias y en código de gray de forma aleatoria."
      ]
    },
    {
      "cell_type": "code",
      "execution_count": null,
      "metadata": {
        "colab": {
          "base_uri": "https://localhost:8080/"
        },
        "id": "TIQMPkAGLojJ",
        "outputId": "a59b39d6-7490-4002-ecd5-5bcc916a1d12"
      },
      "outputs": [
        {
          "name": "stdout",
          "output_type": "stream",
          "text": [
            "x\tbin x\tgray y\n",
            "4.94 011011010110 010110111101\n",
            "4.269 010000110110 011000101101\n",
            "-4.372 001001110100 001101001110\n",
            "4.114 001110011010 001001010111\n",
            "0.389 010100001101 011110001011\n",
            "3.473 000100011010 000110010111\n",
            "-0.027 001101101101 001011011011\n",
            "-2.916 100000100100 110000110110\n",
            "-3.606 010101110010 011111001011\n",
            "-2.347 101001011101 111101110011\n"
          ]
        }
      ],
      "source": [
        "a = -5\n",
        "b = 5\n",
        "step = 1e-3\n",
        "\n",
        "u_map = [random.randint(0, round((b - a)/step)) for _ in range(10)]\n",
        "print(\"x\\tbin x\\tgray y\")\n",
        "for u in u_map:\n",
        "    u_bin = dec2bin(u, max_value=u_map[-1])\n",
        "    print(inverse_map(u, a, b, step), show(u_bin), show(bin2gray(u_bin)))\n",
        "    "
      ]
    },
    {
      "cell_type": "markdown",
      "metadata": {
        "id": "nTbNZc8PYaFp"
      },
      "source": [
        "Para valores discretos de $x$ e $y$ con una precisión de $10^{−3}$ donde $x \\in [−5, 5]$ e $y ∈ [0, 10]$, generar $10$ cadenas binarias y en código de gray de forma aleatoria."
      ]
    },
    {
      "cell_type": "code",
      "execution_count": null,
      "metadata": {
        "colab": {
          "base_uri": "https://localhost:8080/"
        },
        "id": "ZGeh29GTYlPc",
        "outputId": "b28515d1-f614-4431-8022-fa5bf11142a3"
      },
      "outputs": [
        {
          "name": "stdout",
          "output_type": "stream",
          "text": [
            "(x, y)\t\t(bin x, bin y)\t\t(gray x, gray y)\n",
            "(3.828, 1.853) = (001001111110, 1101011000101) = (001101000001, 1011110100111)\n",
            "(3.761, 4.877) = (001000111010, 0011010010101) = (001100100111, 0010111011111)\n",
            "(0.335, 1.925) = (010011010111, 1101100001101) = (011010111100, 1011010001011)\n",
            "(1.45, -4.08) = (100100110011, 0001110011000) = (110110101010, 0001001010100)\n",
            "(4.961, 3.332) = (011011101010, 0000010001101) = (010110011111, 0000011001011)\n",
            "(2.887, 2.402) = (111011001111, 1110011101010) = (100110101000, 1001010011111)\n",
            "(0.989, 1.897) = (011101100101, 1101011110001) = (010011010111, 1011110001001)\n",
            "(3.845, -3.864) = (001010001110, 0010001110000) = (001111001001, 0011001001000)\n",
            "(-0.586, -2.346) = (000100111111, 0101001011110) = (000110100000, 0111101110001)\n",
            "(-1.433, 1.654) = (110111101111, 1100111111110) = (101100011000, 1010100000001)\n"
          ]
        }
      ],
      "source": [
        "ax = -5\n",
        "bx = 5\n",
        "\n",
        "ay = 0\n",
        "by = 10\n",
        "\n",
        "step = 1e-3\n",
        "\n",
        "u_map = [random.randint(0, round((bx - ax)/step)) for _ in range(10)]\n",
        "v_map= [random.randint(0, round((by - ay)/step)) for _ in range(10)]\n",
        "\n",
        "print(\"(x, y)\\t\\t(bin x, bin y)\\t\\t(gray x, gray y)\")\n",
        "for u, v in zip(u_map, v_map):\n",
        "    u_bin = dec2bin(u, max_value=u_map[-1])\n",
        "    v_bin = dec2bin(v, max_value=v_map[-1])\n",
        "    print(f\"({inverse_map(u, a, b, step)}, {inverse_map(v, a, b, step)}) = ({show(u_bin)}, {show(v_bin)}) = ({show(bin2gray(u_bin))}, {show(bin2gray(v_bin))})\")\n"
      ]
    },
    {
      "cell_type": "markdown",
      "metadata": {
        "id": "Ylg1ugh5bDWz"
      },
      "source": [
        "# Pregunta 3\n",
        "Usando las funciones anteriores, implementar el código para los siguientes casos:\n",
        "* Por último, implementarlo el algoritmo de canónico."
      ]
    },
    {
      "cell_type": "code",
      "execution_count": null,
      "metadata": {
        "id": "_yLa8nfDZToD"
      },
      "outputs": [],
      "source": [
        "POBLATION = 20\n",
        "SELECTION = 10"
      ]
    },
    {
      "cell_type": "markdown",
      "metadata": {
        "id": "BvqbfUafi91Y"
      },
      "source": [
        "### Función población inicial, los individuos se deben elegir de forma aleatoria."
      ]
    },
    {
      "cell_type": "code",
      "execution_count": null,
      "metadata": {
        "colab": {
          "base_uri": "https://localhost:8080/"
        },
        "id": "MQTn7Xy0fodm",
        "outputId": "36574eba-b02f-485b-bf8f-edd55ec62ed9"
      },
      "outputs": [
        {
          "data": {
            "text/plain": [
              "[6, 3, 9, -3, -5, 13, 3, -7, 15, 14, 10, -1, -6, -1, -7, 8, 13, 18, -11, 19]"
            ]
          },
          "execution_count": 25,
          "metadata": {},
          "output_type": "execute_result"
        }
      ],
      "source": [
        "a = -15\n",
        "b = 20\n",
        "step = 1\n",
        "\n",
        "poblation = [random.randint(a, b) for _ in range(POBLATION)]\n",
        "poblation"
      ]
    },
    {
      "cell_type": "markdown",
      "metadata": {
        "id": "FcH_YvkSjCsL"
      },
      "source": [
        "### Función de selección, la selección lo debe realizar de forma aleatoria."
      ]
    },
    {
      "cell_type": "code",
      "execution_count": null,
      "metadata": {
        "colab": {
          "base_uri": "https://localhost:8080/"
        },
        "id": "N0HLM0OvgwhK",
        "outputId": "6ee17b9d-56b2-49b4-94ea-874e4eafad14"
      },
      "outputs": [
        {
          "data": {
            "text/plain": [
              "[9, -1, 13, 3, -3, 8, 18, 10, 3, -11]"
            ]
          },
          "execution_count": 26,
          "metadata": {},
          "output_type": "execute_result"
        }
      ],
      "source": [
        "# Función de selección, la selección lo debe realizar de forma aleatoria.\n",
        "selection = random.sample(poblation, SELECTION)\n",
        "selection"
      ]
    },
    {
      "cell_type": "markdown",
      "metadata": {
        "id": "L62Mz-kZin-V"
      },
      "source": [
        "### Función de Recombinación, debe elegir un punto aleatorio dentro de la cadena y hacer el cruce para generar los descendientes."
      ]
    },
    {
      "cell_type": "code",
      "execution_count": null,
      "metadata": {
        "colab": {
          "base_uri": "https://localhost:8080/"
        },
        "id": "AR3KQnGVhZ10",
        "outputId": "3a2f6db7-173e-4b72-d7a0-4a1dcc321ab5"
      },
      "outputs": [
        {
          "data": {
            "text/plain": [
              "[[0, 1, 1, 0, 0, 0],\n",
              " [0, 0, 1, 1, 1, 0],\n",
              " [0, 1, 1, 1, 0, 0],\n",
              " [0, 1, 0, 0, 1, 0],\n",
              " [0, 0, 1, 1, 0, 0],\n",
              " [0, 1, 0, 1, 1, 1],\n",
              " [1, 0, 0, 0, 0, 1],\n",
              " [0, 1, 1, 0, 0, 1],\n",
              " [0, 1, 0, 0, 1, 0],\n",
              " [0, 0, 0, 1, 0, 0]]"
            ]
          },
          "execution_count": 27,
          "metadata": {},
          "output_type": "execute_result"
        }
      ],
      "source": [
        "# Convertimos los negativos a positivos mediante la funcion de map creada\n",
        "selection_map = [my_map(i, a, b, step) for i in selection]\n",
        "selection_gray = [dec2bin(num, max_value=my_map(b, a, b, step)) for num in selection_map]\n",
        "selection_gray"
      ]
    },
    {
      "cell_type": "code",
      "execution_count": null,
      "metadata": {
        "id": "fNmmjdV8h0WN"
      },
      "outputs": [],
      "source": [
        "def crossover(p1: list, p2:list):\n",
        "    point = random.randint(1, len(p1) - 1)\n",
        "    print(\"Point:\", point)\n",
        "    c1, c2 = copy.deepcopy(p1), copy.deepcopy(p2)\n",
        "    c1[point:], c2[point:] = c2[point:], c1[point:]\n",
        "    return [c1, c2]"
      ]
    },
    {
      "cell_type": "code",
      "execution_count": null,
      "metadata": {
        "colab": {
          "base_uri": "https://localhost:8080/"
        },
        "id": "LeBNxuS9r47r",
        "outputId": "24e9043e-2722-4432-a959-e9bffe60fbc6"
      },
      "outputs": [
        {
          "name": "stdout",
          "output_type": "stream",
          "text": [
            "Point: 3\n",
            "Parent 1: [0, 0, 1, 1, 1, 0]\n",
            "Parent 2: [0, 1, 1, 0, 0, 0]\n",
            "Child 1: [0, 0, 1, 0, 0, 0]\n",
            "Child 2: [0, 1, 1, 1, 1, 0]\n"
          ]
        }
      ],
      "source": [
        "p1, p2 = random.sample(selection_gray, 2)\n",
        "offspring1, offspring2 = crossover(p1, p2)\n",
        "\n",
        "print(f\"Parent 1: {p1}\")\n",
        "print(f\"Parent 2: {p2}\")\n",
        "print(f\"Child 1: {offspring1}\")\n",
        "print(f\"Child 2: {offspring2}\")\n"
      ]
    },
    {
      "cell_type": "markdown",
      "metadata": {
        "id": "H-sSr4eduEm3"
      },
      "source": [
        "### Función de mutación, debe elegir un bit o una posición de la cadena y invertirlo el valor, es decir, si tiene cero cambiarlo a 1 o viceversa."
      ]
    },
    {
      "cell_type": "code",
      "execution_count": null,
      "metadata": {
        "id": "tyVGZpoYsChy"
      },
      "outputs": [],
      "source": [
        "def mutation(ind:list):\n",
        "    mut = copy.deepcopy(ind)\n",
        "    point = random.randint(0, len(ind) - 1)\n",
        "    print(\"Point:\", point)\n",
        "    g1 = mut[point]\n",
        "    mut[point] = (g1 + 1) % 2\n",
        "    return mut"
      ]
    },
    {
      "cell_type": "code",
      "execution_count": null,
      "metadata": {
        "colab": {
          "base_uri": "https://localhost:8080/"
        },
        "id": "AEVh_GA1tJl8",
        "outputId": "6510cee3-cb8c-4de7-9f49-addb45321a1c"
      },
      "outputs": [
        {
          "name": "stdout",
          "output_type": "stream",
          "text": [
            "Point: 0\n",
            "Original: [0, 1, 0, 0, 1, 0]\n",
            "Mutated: [1, 1, 0, 0, 1, 0]\n"
          ]
        }
      ],
      "source": [
        "ind = random.choice(selection_gray)\n",
        "mut = mutation(ind)\n",
        "\n",
        "print(f\"Original: {ind}\")\n",
        "print(f\"Mutated: {mut}\")"
      ]
    }
  ],
  "metadata": {
    "colab": {
      "collapsed_sections": [],
      "name": "PD1_evolutivas.ipynb",
      "provenance": []
    },
    "kernelspec": {
      "display_name": "Python 3",
      "name": "python3"
    },
    "language_info": {
      "name": "python"
    }
  },
  "nbformat": 4,
  "nbformat_minor": 0
}

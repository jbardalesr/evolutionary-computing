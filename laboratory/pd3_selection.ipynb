{
 "cells": [
  {
   "cell_type": "markdown",
   "metadata": {},
   "source": [
    "# Curso: CC521 A Programación Evolutiva 2022-1\n",
    "Alumno: Jordi Joel Bardales Rojas"
   ]
  },
  {
   "cell_type": "markdown",
   "metadata": {},
   "source": [
    "# Práctica dirigida: Representación y Selección \n"
   ]
  },
  {
   "cell_type": "code",
   "execution_count": 1,
   "metadata": {},
   "outputs": [],
   "source": [
    "from __future__ import annotations\n",
    "import math\n",
    "import numpy as np\n",
    "from enum import Enum\n",
    "from bin_repr import dec2bin, bin2gray, my_map, inverse_map, bin2dec, gray2bin\n",
    "import copy\n",
    "import random \n",
    "import matplotlib.pyplot as plt\n",
    "from typing import Callable,  NamedTuple\n",
    "from itertools import combinations\n",
    "from abc import ABC, abstractmethod\n",
    "\n",
    "class Representation(Enum):\n",
    "    BIN = 0\n",
    "    GRAY = 1\n",
    "    DECIMAL = 2"
   ]
  },
  {
   "cell_type": "markdown",
   "metadata": {},
   "source": [
    "# Problemas de optimización\n",
    "Este laboratorio se mostrará varios métodos de selección como la selección proporcional, ranking lineal, torneo, uniforme y selección ruleta, luego se medirá la intensidad de selección en un problema de minimización.\n"
   ]
  },
  {
   "cell_type": "markdown",
   "metadata": {},
   "source": [
    "## 1. Dado los siguientes problemas de minimización de una función $\\min_\\mathbf{x}f(\\mathbf{x})$\n"
   ]
  },
  {
   "cell_type": "code",
   "execution_count": 2,
   "metadata": {},
   "outputs": [],
   "source": [
    "f1 = lambda x: x[0]**4 + 5*x[0]**3 + 4*x[0]**2 - 4*x[0] + 1\n",
    "f2 = lambda x: 0.2 + x[0]**2 + x[1]**2 - 0.1*math.cos(6*math.pi*x[0]) - 0.1*math.sin(6*math.pi*x[1])\n",
    "f3 = lambda x: math.pow(1/6.931 - x[0]*x[1]/(x[2]*x[3]), 2)\n"
   ]
  },
  {
   "cell_type": "markdown",
   "metadata": {},
   "source": [
    "Dominio"
   ]
  },
  {
   "cell_type": "code",
   "execution_count": 3,
   "metadata": {},
   "outputs": [],
   "source": [
    "domain_1, n_var_1 = [-4.0, 1], 1\n",
    "domain_2, n_var_2 = [-1, 1.0], 2\n",
    "domain_3, n_var_3 = [12, 60.], 4\n"
   ]
  },
  {
   "cell_type": "markdown",
   "metadata": {},
   "source": [
    "Parámetros del individuo tipados"
   ]
  },
  {
   "cell_type": "code",
   "execution_count": 4,
   "metadata": {},
   "outputs": [],
   "source": [
    "class IndividualArguments(NamedTuple):\n",
    "    domain: tuple[int, int]\n",
    "    eps: float\n",
    "    n_var: int\n",
    "    gen_size: int\n",
    "    default_repr: Representation = Representation.DECIMAL\n"
   ]
  },
  {
   "cell_type": "markdown",
   "metadata": {},
   "source": [
    "Clase individuo "
   ]
  },
  {
   "cell_type": "code",
   "execution_count": 5,
   "metadata": {},
   "outputs": [],
   "source": [
    "class Individual():\n",
    "    def __init__(self, phenotype: list[float], args: IndividualArguments):\n",
    "        self.domain = args.domain\n",
    "        self.eps = args.eps\n",
    "        self.n_var = args.n_var\n",
    "        self.gen_size = args.gen_size\n",
    "        self.default_repr = args.default_repr\n",
    "        self.phenotype = phenotype\n",
    "\n",
    "    def getGenotype(self, my_repr: Representation = None):\n",
    "        my_repr = self.default_repr if my_repr == None else my_repr\n",
    "        list_repr: list[int] = []\n",
    "        if my_repr == Representation.BIN:\n",
    "            for gen in self.phenotype:\n",
    "                list_repr.extend(dec2bin(num=my_map(gen, self.domain[0], self.domain[1], self.eps),\n",
    "                                         bits=self.gen_size))\n",
    "        elif my_repr == Representation.GRAY:\n",
    "            for gen in self.phenotype:\n",
    "                list_repr.extend(bin2gray(dec2bin(num=my_map(gen, self.domain[0], self.domain[1], self.eps),\n",
    "                                                  bits=self.gen_size)))\n",
    "        else:\n",
    "            list_repr = copy.deepcopy(self.phenotype)\n",
    "        return list_repr\n",
    "\n",
    "    @classmethod\n",
    "    def new(cls, genotype, args: IndividualArguments):\n",
    "        phenotype: list[int] = []\n",
    "        if args.default_repr == Representation.BIN:\n",
    "            for k in range(args.n_var):\n",
    "                gen = genotype[args.gen_size * k:args.gen_size * (k + 1)]\n",
    "                phenotype.append(inverse_map(bin2dec(gen), args.domain[0], args.eps))\n",
    "        elif args.default_repr == Representation.GRAY:\n",
    "            for k in range(args.n_var):\n",
    "                gen = genotype[args.gen_size * k:args.gen_size * (k + 1)]\n",
    "                phenotype.append(inverse_map(bin2dec(gray2bin(gen)), args.domain[0], args.eps))\n",
    "        else:\n",
    "            phenotype = copy.deepcopy(genotype)\n",
    "\n",
    "        return cls(phenotype, args)\n",
    "\n",
    "    @staticmethod\n",
    "    def newLike(genotype: list[int], parent: Individual):\n",
    "        args = IndividualArguments(parent.domain, parent.eps, parent.n_var, parent.gen_size, parent.default_repr)\n",
    "        return Individual.new(genotype, args)\n",
    "\n",
    "    @classmethod\n",
    "    def newRandom(cls, args: IndividualArguments):\n",
    "        phenotype = [round(random.uniform(args.domain[0], args.domain[1]), 6) for _ in range(args.n_var)]\n",
    "        return cls(phenotype, args)\n"
   ]
  },
  {
   "cell_type": "markdown",
   "metadata": {},
   "source": [
    "### a) Representación del problema (1)\n",
    "Implemente un programa en python que represente el cromosoma como una cadena binaria de 10 dígitos (10 bits) y muestre/imprima el Fenotipo y su representación binaria para una población de 10 individuos."
   ]
  },
  {
   "cell_type": "code",
   "execution_count": 6,
   "metadata": {},
   "outputs": [
    {
     "name": "stdout",
     "output_type": "stream",
     "text": [
      "Representación binaria\n",
      "Genotipo 0 = [0, 0, 0, 0, 0, 0, 0, 1, 0, 1] Fenotipo 0 = [-3.973393]\n",
      "Genotipo 1 = [1, 0, 1, 0, 1, 1, 0, 0, 0, 0] Fenotipo 1 = [-0.638215]\n",
      "Genotipo 2 = [1, 0, 1, 1, 0, 0, 1, 1, 0, 0] Fenotipo 2 = [-0.502098]\n",
      "Genotipo 3 = [0, 0, 0, 1, 0, 0, 0, 1, 1, 1] Fenotipo 3 = [-3.653383]\n",
      "Genotipo 4 = [1, 1, 1, 0, 1, 0, 0, 1, 1, 1] Fenotipo 4 = [0.568976]\n",
      "Genotipo 5 = [1, 0, 0, 0, 0, 1, 0, 1, 0, 1] Fenotipo 5 = [-1.392798]\n",
      "Genotipo 6 = [1, 0, 1, 1, 1, 0, 0, 0, 1, 0] Fenotipo 6 = [-0.393327]\n",
      "Genotipo 7 = [1, 1, 0, 1, 0, 0, 0, 1, 0, 1] Fenotipo 7 = [0.090479]\n",
      "Genotipo 8 = [1, 1, 0, 0, 0, 1, 0, 1, 1, 0] Fenotipo 8 = [-0.141014]\n",
      "Genotipo 9 = [1, 0, 0, 1, 1, 0, 1, 1, 0, 1] Fenotipo 9 = [-0.963855]\n"
     ]
    }
   ],
   "source": [
    "POPULATION_SIZE = 10\n",
    "GEN_SIZE_1 = 10\n",
    "eps_1 = (domain_1[1] - domain_1[0]) / (2**GEN_SIZE_1 - 1)\n",
    "N_POINTS_1 = 2**GEN_SIZE_1\n",
    "\n",
    "args1 = IndividualArguments(domain_1, eps_1, n_var_1, GEN_SIZE_1, f1)\n",
    "\n",
    "population_1 = [Individual.newRandom(args1) for _ in range(POPULATION_SIZE)]\n",
    "print(\"Representación binaria\")\n",
    "for i, ind in enumerate(population_1):\n",
    "    print(f\"Genotipo {i} = {ind.getGenotype(Representation.BIN)} Fenotipo {i} = {ind.phenotype}\")\n"
   ]
  },
  {
   "cell_type": "markdown",
   "metadata": {},
   "source": [
    "Realizar lo mismo del ítem anterior para la representación en código de Gray."
   ]
  },
  {
   "cell_type": "code",
   "execution_count": 7,
   "metadata": {},
   "outputs": [
    {
     "name": "stdout",
     "output_type": "stream",
     "text": [
      "Representación en código Gray\n",
      "Genotipo 0 = [0, 0, 0, 0, 0, 0, 0, 1, 1, 1] Fenotipo 0 = [-3.973393]\n",
      "Genotipo 1 = [1, 1, 1, 1, 1, 0, 1, 0, 0, 0] Fenotipo 1 = [-0.638215]\n",
      "Genotipo 2 = [1, 1, 1, 0, 1, 0, 1, 0, 1, 0] Fenotipo 2 = [-0.502098]\n",
      "Genotipo 3 = [0, 0, 0, 1, 1, 0, 0, 1, 0, 0] Fenotipo 3 = [-3.653383]\n",
      "Genotipo 4 = [1, 0, 0, 1, 1, 1, 0, 1, 0, 0] Fenotipo 4 = [0.568976]\n",
      "Genotipo 5 = [1, 1, 0, 0, 0, 1, 1, 1, 1, 1] Fenotipo 5 = [-1.392798]\n",
      "Genotipo 6 = [1, 1, 1, 0, 0, 1, 0, 0, 1, 1] Fenotipo 6 = [-0.393327]\n",
      "Genotipo 7 = [1, 0, 1, 1, 1, 0, 0, 1, 1, 1] Fenotipo 7 = [0.090479]\n",
      "Genotipo 8 = [1, 0, 1, 0, 0, 1, 1, 1, 0, 1] Fenotipo 8 = [-0.141014]\n",
      "Genotipo 9 = [1, 1, 0, 1, 0, 1, 1, 0, 1, 1] Fenotipo 9 = [-0.963855]\n"
     ]
    }
   ],
   "source": [
    "print(\"Representación en código Gray\")\n",
    "for i, ind in enumerate(population_1):\n",
    "    print(f\"Genotipo {i} = {ind.getGenotype(Representation.GRAY)} Fenotipo {i} = {ind.phenotype}\")"
   ]
  },
  {
   "cell_type": "markdown",
   "metadata": {},
   "source": [
    "Considerando las representaciones anteriores (cadena de 10 bits) ¿cual sería el tamaño del espacio intrínseco?\n"
   ]
  },
  {
   "cell_type": "code",
   "execution_count": 8,
   "metadata": {},
   "outputs": [
    {
     "name": "stdout",
     "output_type": "stream",
     "text": [
      "El espacio intrinseco tendría 1024 elementos con una precisión de 0.004887585532746823\n"
     ]
    }
   ],
   "source": [
    "print(f\"El espacio intrinseco tendría {N_POINTS_1} elementos con una precisión de {eps_1}\")"
   ]
  },
  {
   "cell_type": "markdown",
   "metadata": {},
   "source": [
    "### b) Representación del problema (2):\n",
    "\n",
    "Implemente un programa en python que represente el cromosoma como una cadena binaria donde $x, y$ estén representados por 5 bits cada uno y luego muestre/imprima el Fenotipo y su\n",
    "representación binaria."
   ]
  },
  {
   "cell_type": "code",
   "execution_count": 9,
   "metadata": {},
   "outputs": [
    {
     "name": "stdout",
     "output_type": "stream",
     "text": [
      "Representación binaria\n",
      "Genotipo 0 = [0, 1, 1, 1, 1, 0, 1, 1, 1, 0] Fenotipo 0 = [-0.034078, -0.114507]\n",
      "Genotipo 1 = [0, 1, 1, 1, 0, 1, 0, 0, 0, 0] Fenotipo 1 = [-0.128902, 0.028072]\n",
      "Genotipo 2 = [1, 1, 1, 1, 0, 0, 1, 1, 1, 0] Fenotipo 2 = [0.965512, -0.125956]\n",
      "Genotipo 3 = [0, 1, 0, 1, 1, 1, 0, 0, 1, 1] Fenotipo 3 = [-0.318014, 0.244446]\n",
      "Genotipo 4 = [0, 1, 1, 0, 1, 0, 0, 1, 1, 1] Fenotipo 4 = [-0.187242, -0.559144]\n",
      "Genotipo 5 = [1, 1, 0, 1, 1, 1, 1, 0, 0, 0] Fenotipo 5 = [0.755047, 0.577504]\n",
      "Genotipo 6 = [1, 1, 1, 0, 0, 1, 1, 0, 1, 1] Fenotipo 6 = [0.818692, 0.757856]\n",
      "Genotipo 7 = [0, 0, 1, 0, 0, 1, 0, 0, 1, 0] Fenotipo 7 = [-0.72384, 0.172695]\n",
      "Genotipo 8 = [0, 0, 0, 0, 1, 1, 0, 1, 1, 0] Fenotipo 8 = [-0.938309, 0.396054]\n",
      "Genotipo 9 = [1, 0, 0, 0, 1, 0, 0, 1, 0, 0] Fenotipo 9 = [0.113586, -0.753662]\n"
     ]
    }
   ],
   "source": [
    "POPULATION_SIZE = 10\n",
    "GEN_SIZE_2 = 5\n",
    "eps_2 = (domain_2[1] - domain_2[0]) / (2**GEN_SIZE_2 - 1)\n",
    "N_POINTS_2 = 2**GEN_SIZE_2\n",
    "\n",
    "args2 = IndividualArguments(domain_2, eps_2, n_var_2, GEN_SIZE_2, f2)\n",
    "\n",
    "population_2 = [Individual.newRandom(args2) for _ in range(POPULATION_SIZE)]\n",
    "print(\"Representación binaria\")\n",
    "for i, ind in enumerate(population_2):\n",
    "    print(f\"Genotipo {i} = {ind.getGenotype(Representation.BIN)} Fenotipo {i} = {ind.phenotype}\")"
   ]
  },
  {
   "cell_type": "markdown",
   "metadata": {},
   "source": [
    "Realizar lo mismo del ítem anterior para la representación en código de Gray"
   ]
  },
  {
   "cell_type": "code",
   "execution_count": 10,
   "metadata": {},
   "outputs": [
    {
     "name": "stdout",
     "output_type": "stream",
     "text": [
      "Representación en código Gray\n",
      "Genotipo 0 = [0, 1, 0, 0, 0, 0, 1, 0, 0, 1] Fenotipo 0 = [-0.034078, -0.114507]\n",
      "Genotipo 1 = [0, 1, 0, 0, 1, 1, 1, 0, 0, 0] Fenotipo 1 = [-0.128902, 0.028072]\n",
      "Genotipo 2 = [1, 0, 0, 0, 1, 0, 1, 0, 0, 1] Fenotipo 2 = [0.965512, -0.125956]\n",
      "Genotipo 3 = [0, 1, 1, 1, 0, 1, 1, 0, 1, 0] Fenotipo 3 = [-0.318014, 0.244446]\n",
      "Genotipo 4 = [0, 1, 0, 1, 1, 0, 0, 1, 0, 0] Fenotipo 4 = [-0.187242, -0.559144]\n",
      "Genotipo 5 = [1, 0, 1, 1, 0, 1, 0, 1, 0, 0] Fenotipo 5 = [0.755047, 0.577504]\n",
      "Genotipo 6 = [1, 0, 0, 1, 0, 1, 0, 1, 1, 0] Fenotipo 6 = [0.818692, 0.757856]\n",
      "Genotipo 7 = [0, 0, 1, 1, 0, 1, 1, 0, 1, 1] Fenotipo 7 = [-0.72384, 0.172695]\n",
      "Genotipo 8 = [0, 0, 0, 0, 1, 1, 1, 1, 0, 1] Fenotipo 8 = [-0.938309, 0.396054]\n",
      "Genotipo 9 = [1, 1, 0, 0, 1, 0, 0, 1, 1, 0] Fenotipo 9 = [0.113586, -0.753662]\n"
     ]
    }
   ],
   "source": [
    "print(\"Representación en código Gray\")\n",
    "for i, ind in enumerate(population_2):\n",
    "    print(f\"Genotipo {i} = {ind.getGenotype(Representation.GRAY)} Fenotipo {i} = {ind.phenotype}\")"
   ]
  },
  {
   "cell_type": "markdown",
   "metadata": {},
   "source": [
    "Realizar lo mismo del ítem anterior para la representación real"
   ]
  },
  {
   "cell_type": "code",
   "execution_count": 11,
   "metadata": {},
   "outputs": [
    {
     "name": "stdout",
     "output_type": "stream",
     "text": [
      "Representación real\n",
      "Individuo 0 = [-0.034078, -0.114507]\n",
      "Individuo 1 = [-0.128902, 0.028072]\n",
      "Individuo 2 = [0.965512, -0.125956]\n",
      "Individuo 3 = [-0.318014, 0.244446]\n",
      "Individuo 4 = [-0.187242, -0.559144]\n",
      "Individuo 5 = [0.755047, 0.577504]\n",
      "Individuo 6 = [0.818692, 0.757856]\n",
      "Individuo 7 = [-0.72384, 0.172695]\n",
      "Individuo 8 = [-0.938309, 0.396054]\n",
      "Individuo 9 = [0.113586, -0.753662]\n"
     ]
    }
   ],
   "source": [
    "print(\"Representación real\")\n",
    "for i, ind in enumerate(population_2):\n",
    "    print(f\"Individuo {i} = {ind.phenotype}\")"
   ]
  },
  {
   "cell_type": "markdown",
   "metadata": {},
   "source": [
    "Considerando las representaciones anteriores (cadena de 10 bits y representación real) ¿cual sería el tamaño del espacio intrínseco?\n"
   ]
  },
  {
   "cell_type": "code",
   "execution_count": 12,
   "metadata": {},
   "outputs": [
    {
     "name": "stdout",
     "output_type": "stream",
     "text": [
      "El espacio intrinseco tendría 32 x 32 = 1024 elementos con una precisión de 0.06451612903225806\n"
     ]
    }
   ],
   "source": [
    "print(f\"El espacio intrinseco tendría {N_POINTS_2} x {N_POINTS_2} = {2**(2*GEN_SIZE_2)} elementos con una precisión de {eps_2}\")"
   ]
  },
  {
   "cell_type": "markdown",
   "metadata": {},
   "source": [
    "### c) Representación del problema (3):\n",
    "\n",
    "Implemente un programa en python que represente el cromosoma como una cadena binaria donde $x_1, x_2, x_3, x_4$ estén representados por 6 bits cada uno y luego muestre/imprima el Fenotipo y su representación binaria.\n"
   ]
  },
  {
   "cell_type": "code",
   "execution_count": 13,
   "metadata": {},
   "outputs": [
    {
     "name": "stdout",
     "output_type": "stream",
     "text": [
      "Representación binaria\n",
      "Genotipo 0 = [1, 0, 1, 1, 1, 1, 1, 0, 1, 0, 1, 0, 0, 0, 0, 0, 0, 1, 1, 0, 0, 1, 1, 0] Fenotipo 0 = [48.102371, 43.650471, 12.484033, 41.080698]\n",
      "Genotipo 1 = [0, 0, 0, 0, 1, 1, 0, 0, 0, 1, 1, 0, 0, 0, 1, 1, 1, 1, 1, 1, 0, 1, 1, 1] Fenotipo 1 = [14.324769, 16.266444, 23.229431, 53.619417]\n",
      "Genotipo 2 = [1, 1, 1, 0, 0, 0, 0, 1, 0, 1, 0, 1, 1, 0, 0, 1, 1, 1, 1, 1, 1, 0, 1, 1] Fenotipo 2 = [54.595189, 28.352395, 41.579329, 57.188521]\n",
      "Genotipo 3 = [0, 1, 0, 1, 0, 0, 0, 0, 1, 1, 0, 0, 1, 0, 0, 1, 1, 1, 0, 0, 0, 1, 1, 1] Fenotipo 3 = [27.209021, 21.199294, 41.696521, 16.98298]\n",
      "Genotipo 4 = [1, 1, 0, 1, 1, 1, 0, 0, 1, 1, 0, 0, 0, 0, 1, 0, 1, 0, 0, 1, 0, 0, 0, 0] Fenotipo 4 = [53.992723, 21.068834, 19.400912, 24.359983]\n",
      "Genotipo 5 = [1, 0, 0, 0, 1, 0, 1, 1, 0, 0, 1, 1, 1, 1, 1, 1, 0, 1, 1, 1, 0, 0, 0, 1] Fenotipo 5 = [37.654413, 51.117603, 58.594478, 49.03283]\n",
      "Genotipo 6 = [0, 0, 0, 1, 0, 0, 1, 1, 1, 1, 0, 0, 1, 1, 1, 1, 0, 0, 0, 0, 0, 1, 0, 1] Fenotipo 6 = [14.794646, 57.587637, 57.885115, 15.943264]\n",
      "Genotipo 7 = [1, 1, 0, 1, 0, 1, 1, 1, 0, 1, 0, 0, 0, 0, 1, 0, 0, 0, 1, 1, 0, 0, 1, 1] Fenotipo 7 = [52.335488, 51.249981, 17.957711, 50.737694]\n",
      "Genotipo 8 = [1, 0, 1, 0, 1, 0, 1, 1, 0, 0, 0, 0, 1, 0, 1, 1, 0, 1, 0, 1, 0, 0, 1, 1] Fenotipo 8 = [44.21225, 48.597074, 45.990606, 26.667194]\n",
      "Genotipo 9 = [1, 1, 0, 1, 0, 0, 0, 0, 0, 0, 0, 1, 1, 0, 1, 0, 0, 0, 1, 1, 0, 0, 1, 1] Fenotipo 9 = [51.592774, 12.411218, 42.433635, 51.146742]\n"
     ]
    }
   ],
   "source": [
    "POPULATION_SIZE = 10\n",
    "GEN_SIZE_3 = 6\n",
    "eps_3 = (60 - 12) / (2**GEN_SIZE_3 - 1)\n",
    "N_POINTS_3 = 2**GEN_SIZE_3\n",
    "\n",
    "args3 = IndividualArguments(domain_3, eps_3, n_var_3, GEN_SIZE_3, f3)\n",
    "\n",
    "population_3 = [Individual.newRandom(args3) for _ in range(POPULATION_SIZE)]\n",
    "print(\"Representación binaria\")\n",
    "for i, ind in enumerate(population_3):\n",
    "    print(f\"Genotipo {i} = {ind.getGenotype(Representation.BIN)} Fenotipo {i} = {ind.phenotype}\")"
   ]
  },
  {
   "cell_type": "markdown",
   "metadata": {},
   "source": [
    "Realizar lo mismo del ítem anterior para la representación en código de Gray"
   ]
  },
  {
   "cell_type": "code",
   "execution_count": 14,
   "metadata": {},
   "outputs": [
    {
     "name": "stdout",
     "output_type": "stream",
     "text": [
      "Genotipo 0 = [1, 1, 1, 0, 0, 0, 1, 1, 1, 1, 1, 1, 0, 0, 0, 0, 0, 1, 1, 1, 0, 1, 0, 1] Fenotipo 0 = [48.102371, 43.650471, 12.484033, 41.080698]\n",
      "Genotipo 1 = [0, 0, 0, 0, 1, 0, 0, 0, 0, 1, 0, 1, 0, 0, 1, 0, 0, 0, 1, 0, 1, 1, 0, 0] Fenotipo 1 = [14.324769, 16.266444, 23.229431, 53.619417]\n",
      "Genotipo 2 = [1, 0, 0, 1, 0, 0, 0, 1, 1, 1, 1, 1, 1, 1, 0, 1, 0, 0, 1, 0, 0, 1, 1, 0] Fenotipo 2 = [54.595189, 28.352395, 41.579329, 57.188521]\n",
      "Genotipo 3 = [0, 1, 1, 1, 1, 0, 0, 0, 1, 0, 1, 0, 1, 1, 0, 1, 0, 0, 0, 0, 0, 1, 0, 0] Fenotipo 3 = [27.209021, 21.199294, 41.696521, 16.98298]\n",
      "Genotipo 4 = [1, 0, 1, 1, 0, 0, 0, 0, 1, 0, 1, 0, 0, 0, 1, 1, 1, 1, 0, 1, 1, 0, 0, 0] Fenotipo 4 = [53.992723, 21.068834, 19.400912, 24.359983]\n",
      "Genotipo 5 = [1, 1, 0, 0, 1, 1, 1, 0, 1, 0, 1, 0, 1, 0, 0, 0, 1, 1, 1, 0, 1, 0, 0, 1] Fenotipo 5 = [37.654413, 51.117603, 58.594478, 49.03283]\n",
      "Genotipo 6 = [0, 0, 0, 1, 1, 0, 1, 0, 0, 0, 1, 0, 1, 0, 0, 0, 1, 0, 0, 0, 0, 1, 1, 1] Fenotipo 6 = [14.794646, 57.587637, 57.885115, 15.943264]\n",
      "Genotipo 7 = [1, 0, 1, 1, 1, 1, 1, 0, 1, 1, 1, 0, 0, 0, 1, 1, 0, 0, 1, 0, 1, 0, 1, 0] Fenotipo 7 = [52.335488, 51.249981, 17.957711, 50.737694]\n",
      "Genotipo 8 = [1, 1, 1, 1, 1, 1, 1, 0, 1, 0, 0, 0, 1, 1, 1, 0, 1, 1, 0, 1, 1, 0, 1, 0] Fenotipo 8 = [44.21225, 48.597074, 45.990606, 26.667194]\n",
      "Genotipo 9 = [1, 0, 1, 1, 1, 0, 0, 0, 0, 0, 0, 1, 1, 1, 1, 1, 0, 0, 1, 0, 1, 0, 1, 0] Fenotipo 9 = [51.592774, 12.411218, 42.433635, 51.146742]\n"
     ]
    }
   ],
   "source": [
    "for i, ind in enumerate(population_3):\n",
    "    print(f\"Genotipo {i} = {ind.getGenotype(Representation.GRAY)} Fenotipo {i} = {ind.phenotype}\")"
   ]
  },
  {
   "cell_type": "markdown",
   "metadata": {},
   "source": [
    "Realizar lo mismo del ítem anterior para la representación real."
   ]
  },
  {
   "cell_type": "code",
   "execution_count": 15,
   "metadata": {},
   "outputs": [
    {
     "name": "stdout",
     "output_type": "stream",
     "text": [
      "Individuo 0 = [48.102371, 43.650471, 12.484033, 41.080698]\n",
      "Individuo 1 = [14.324769, 16.266444, 23.229431, 53.619417]\n",
      "Individuo 2 = [54.595189, 28.352395, 41.579329, 57.188521]\n",
      "Individuo 3 = [27.209021, 21.199294, 41.696521, 16.98298]\n",
      "Individuo 4 = [53.992723, 21.068834, 19.400912, 24.359983]\n",
      "Individuo 5 = [37.654413, 51.117603, 58.594478, 49.03283]\n",
      "Individuo 6 = [14.794646, 57.587637, 57.885115, 15.943264]\n",
      "Individuo 7 = [52.335488, 51.249981, 17.957711, 50.737694]\n",
      "Individuo 8 = [44.21225, 48.597074, 45.990606, 26.667194]\n",
      "Individuo 9 = [51.592774, 12.411218, 42.433635, 51.146742]\n"
     ]
    }
   ],
   "source": [
    "for i, ind in enumerate(population_3):\n",
    "    print(f\"Individuo {i} = {ind.getGenotype(Representation.DECIMAL)}\")"
   ]
  },
  {
   "cell_type": "markdown",
   "metadata": {},
   "source": [
    "Considerando las representaciones anteriores (cadena de bits, representación real) ¿cual seria el tamaño del espacio intrínseco"
   ]
  },
  {
   "cell_type": "code",
   "execution_count": 16,
   "metadata": {},
   "outputs": [
    {
     "name": "stdout",
     "output_type": "stream",
     "text": [
      "El espacio intrinseco tendría 64x64x64x64=16777216 elementos con una precisión de 0.7619047619047619\n"
     ]
    }
   ],
   "source": [
    "print(f\"El espacio intrinseco tendría {N_POINTS_3}x{N_POINTS_3}x{N_POINTS_3}x{N_POINTS_3}={2**(4*GEN_SIZE_3)} elementos con una precisión de {eps_3}\")"
   ]
  },
  {
   "cell_type": "markdown",
   "metadata": {},
   "source": [
    "## 2. Gestión de la población: de la teoría se sabe que los métodos de selección son independientes del método de representación del algoritmo evolutivo, implemente los siguientes métodos de selección en python:"
   ]
  },
  {
   "cell_type": "markdown",
   "metadata": {},
   "source": [
    "## Selection"
   ]
  },
  {
   "cell_type": "code",
   "execution_count": 17,
   "metadata": {},
   "outputs": [],
   "source": [
    "class Selection(ABC):\n",
    "    def __init__(self, num_individuals: int):\n",
    "        self.num_individuals = num_individuals\n",
    "\n",
    "    @abstractmethod\n",
    "    def get_individuals(self, population: list[Individual], fitness: list[float]):\n",
    "        pass\n",
    "\n",
    "    @staticmethod\n",
    "    def intensity(prev_fitness: list[float], curr_fitness: list[float]):\n",
    "        prev_fitness = np.array(prev_fitness)\n",
    "        curr_fitness = np.array(curr_fitness)\n",
    "        mean_prev = np.mean(prev_fitness)   # f\n",
    "        mean_curr = np.mean(curr_fitness)   # g\n",
    "        std_prev = np.std(prev_fitness)     # f \n",
    "        return (mean_curr - mean_prev) / std_prev if std_prev != 0.0 else 0.0\n"
   ]
  },
  {
   "cell_type": "markdown",
   "metadata": {},
   "source": [
    "De una población de 10 individuos se seleccionarán 5 individuos del problema 2"
   ]
  },
  {
   "cell_type": "code",
   "execution_count": 18,
   "metadata": {},
   "outputs": [
    {
     "name": "stdout",
     "output_type": "stream",
     "text": [
      "Individuo 0 = [-0.624736, 0.424578]\n",
      "Individuo 1 = [-0.973763, -0.982139]\n",
      "Individuo 2 = [0.211532, 0.563907]\n",
      "Individuo 3 = [-0.099866, -0.303929]\n",
      "Individuo 4 = [-0.882453, 0.263732]\n",
      "Individuo 5 = [-0.360691, 0.352006]\n",
      "Individuo 6 = [-0.555453, -0.188356]\n",
      "Individuo 7 = [-0.923673, 0.03138]\n",
      "Individuo 8 = [0.217721, -0.409983]\n",
      "Individuo 9 = [0.087218, 0.637384]\n"
     ]
    }
   ],
   "source": [
    "POPULATION_SIZE = 10\n",
    "SELECTED_SIZE = 5\n",
    "args2 = IndividualArguments(domain_2, eps_2, n_var_2, GEN_SIZE_2, Representation.GRAY)\n",
    "initial_population = [Individual.newRandom(args2) for _ in range(POPULATION_SIZE)]\n",
    "fitness_population = [f2(ind.phenotype) for ind in initial_population]\n",
    "for i, ind in enumerate(initial_population):\n",
    "    print(f\"Individuo {i} = {ind.getGenotype(Representation.DECIMAL)}\")"
   ]
  },
  {
   "cell_type": "markdown",
   "metadata": {},
   "source": [
    "### Método de selección proporcional"
   ]
  },
  {
   "cell_type": "code",
   "execution_count": 19,
   "metadata": {},
   "outputs": [],
   "source": [
    "class ProportionalSelection(Selection):\n",
    "    def __init__(self, num_individuals: int, delta: float = 0.0):\n",
    "        super().__init__(num_individuals)\n",
    "        # fi + 10, fi + 100\n",
    "        self.delta = delta\n",
    "\n",
    "    def get_individuals(self, population: list[Individual], fitness: list[float]):\n",
    "        f_max = max(fitness)\n",
    "        # individuos con menor fitness (f_max - f) tienen mayor probabilidad de ser seleccionados  \n",
    "        # presión de selección\n",
    "        fitness = f_max - np.array(fitness) + 1e-4 + self.delta\n",
    "        distribution = fitness / fitness.sum()\n",
    "        return random.choices(population, weights=distribution, k=self.num_individuals)\n"
   ]
  },
  {
   "cell_type": "code",
   "execution_count": 20,
   "metadata": {},
   "outputs": [
    {
     "name": "stdout",
     "output_type": "stream",
     "text": [
      "Individuo 0 = [-0.555453, -0.188356]\n",
      "Individuo 1 = [-0.882453, 0.263732]\n",
      "Individuo 2 = [-0.360691, 0.352006]\n",
      "Individuo 3 = [-0.882453, 0.263732]\n",
      "Individuo 4 = [-0.923673, 0.03138]\n"
     ]
    }
   ],
   "source": [
    "selected = ProportionalSelection(num_individuals=SELECTED_SIZE, delta=10).get_individuals(initial_population, fitness_population)\n",
    "for i, ind in enumerate(selected):\n",
    "    print(f\"Individuo {i} = {ind.phenotype}\")\n"
   ]
  },
  {
   "cell_type": "markdown",
   "metadata": {},
   "source": [
    "### Método de selección basada en ranking lineal"
   ]
  },
  {
   "cell_type": "code",
   "execution_count": 21,
   "metadata": {},
   "outputs": [],
   "source": [
    "class LinearRankingSelection(Selection):\n",
    "    def __init__(self, num_individuals: int, s: float):\n",
    "        super().__init__(num_individuals)\n",
    "        self.s = s\n",
    "\n",
    "    def get_individuals(self, population: list[Individual], fitness: list[float]):\n",
    "        mu = len(population)\n",
    "        pop_fit = zip(population, fitness)\n",
    "        sorted_pop_fit = sorted(pop_fit, key=lambda val: val[1], reverse=True)\n",
    "        pop_fit = list(zip(*sorted_pop_fit))\n",
    "        distribution = [(2 - self.s) / mu + 2 * i * (self.s - 1) / (mu * (mu - 1)) for i in range(mu)]\n",
    "\n",
    "        return random.choices(pop_fit[0], weights=distribution, k=self.num_individuals)\n"
   ]
  },
  {
   "cell_type": "code",
   "execution_count": 22,
   "metadata": {},
   "outputs": [
    {
     "name": "stdout",
     "output_type": "stream",
     "text": [
      "Individuo 0 = [0.211532, 0.563907]\n",
      "Individuo 1 = [-0.923673, 0.03138]\n",
      "Individuo 2 = [-0.555453, -0.188356]\n",
      "Individuo 3 = [-0.882453, 0.263732]\n",
      "Individuo 4 = [-0.923673, 0.03138]\n"
     ]
    }
   ],
   "source": [
    "selected = LinearRankingSelection(num_individuals=SELECTED_SIZE, s=1.5).get_individuals(initial_population, fitness_population)\n",
    "for i, ind in enumerate(selected):\n",
    "    print(f\"Individuo {i} = {ind.phenotype}\")\n"
   ]
  },
  {
   "cell_type": "markdown",
   "metadata": {},
   "source": [
    "### Método de torneo"
   ]
  },
  {
   "cell_type": "code",
   "execution_count": 23,
   "metadata": {},
   "outputs": [],
   "source": [
    "class TournamentSelection(Selection):\n",
    "    def __init__(self, num_individuals: int, tournament_size: int):\n",
    "        super().__init__(num_individuals)\n",
    "        self.tournament_size = tournament_size\n",
    "\n",
    "    def get_individuals(self, population: list[Individual], fitness: list[float]):\n",
    "        pop_fit_zipped = list(zip(population, fitness))\n",
    "        selected: list[Individual] = []\n",
    "        for _ in range(self.num_individuals):\n",
    "            candidates = random.choices(pop_fit_zipped, k=self.tournament_size)\n",
    "            selected.append(min(candidates, key=lambda pop_fit: pop_fit[1])[0])\n",
    "        return selected\n"
   ]
  },
  {
   "cell_type": "code",
   "execution_count": 24,
   "metadata": {},
   "outputs": [
    {
     "name": "stdout",
     "output_type": "stream",
     "text": [
      "Individuo 0 = [-0.099866, -0.303929]\n",
      "Individuo 1 = [-0.555453, -0.188356]\n",
      "Individuo 2 = [-0.360691, 0.352006]\n",
      "Individuo 3 = [-0.099866, -0.303929]\n",
      "Individuo 4 = [-0.099866, -0.303929]\n"
     ]
    }
   ],
   "source": [
    "selected = TournamentSelection(num_individuals=SELECTED_SIZE, tournament_size=5).get_individuals(initial_population, fitness_population)\n",
    "for i, ind in enumerate(selected):\n",
    "    print(f\"Individuo {i} = {ind.phenotype}\")\n"
   ]
  },
  {
   "cell_type": "markdown",
   "metadata": {},
   "source": [
    "### Método de selección uniforme"
   ]
  },
  {
   "cell_type": "code",
   "execution_count": 25,
   "metadata": {},
   "outputs": [],
   "source": [
    "class UniformSelection(Selection):\n",
    "    def __init__(self, num_individuals: int):\n",
    "        super().__init__(num_individuals)\n",
    "\n",
    "    def get_individuals(self, population: list[Individual], fitness: list[float] = None):\n",
    "        # por defecto el metodo choice implementa una distribucion uniforme\n",
    "        return random.choices(population, k=self.num_individuals) \n"
   ]
  },
  {
   "cell_type": "code",
   "execution_count": 26,
   "metadata": {},
   "outputs": [
    {
     "name": "stdout",
     "output_type": "stream",
     "text": [
      "Individuo 0 = [-0.973763, -0.982139]\n",
      "Individuo 1 = [-0.360691, 0.352006]\n",
      "Individuo 2 = [-0.882453, 0.263732]\n",
      "Individuo 3 = [-0.099866, -0.303929]\n",
      "Individuo 4 = [-0.624736, 0.424578]\n"
     ]
    }
   ],
   "source": [
    "selected = UniformSelection(num_individuals=SELECTED_SIZE).get_individuals(initial_population)\n",
    "for i, ind in enumerate(selected):\n",
    "    print(f\"Individuo {i} = {ind.phenotype}\")\n"
   ]
  },
  {
   "cell_type": "markdown",
   "metadata": {},
   "source": [
    "### Método de de la ruleta"
   ]
  },
  {
   "cell_type": "code",
   "execution_count": 27,
   "metadata": {},
   "outputs": [],
   "source": [
    "class RouletteSelection(Selection):\n",
    "    def __init__(self, num_individuals: int):\n",
    "        super().__init__(num_individuals)\n",
    "\n",
    "    def get_individuals(self, population: list[Individual], fitness: list[float]):\n",
    "        # individuos con menor fitness tienen mayor probabilidad de ser seleccionados\n",
    "        # presion de seleccion\n",
    "        f_max = max(fitness)\n",
    "        fitness = f_max - np.array(fitness) + 1e-4\n",
    "        distribution = np.array(fitness) / sum(fitness)\n",
    "        # el metodo de la ruleta es similar a seleccionar elementos de una lista dada una distribucion de probabilidades\n",
    "        return random.choices(population, weights=distribution, k=self.num_individuals)\n"
   ]
  },
  {
   "cell_type": "code",
   "execution_count": 28,
   "metadata": {},
   "outputs": [
    {
     "name": "stdout",
     "output_type": "stream",
     "text": [
      "Individuo 0 = [-0.360691, 0.352006]\n",
      "Individuo 1 = [0.211532, 0.563907]\n",
      "Individuo 2 = [-0.923673, 0.03138]\n",
      "Individuo 3 = [-0.923673, 0.03138]\n",
      "Individuo 4 = [-0.360691, 0.352006]\n"
     ]
    }
   ],
   "source": [
    "selected = RouletteSelection(num_individuals=SELECTED_SIZE).get_individuals(initial_population, fitness_population)\n",
    "for i, ind in enumerate(selected):\n",
    "    print(f\"Individuo {i} = {ind.phenotype}\")\n"
   ]
  },
  {
   "cell_type": "markdown",
   "metadata": {},
   "source": [
    "## Crossover"
   ]
  },
  {
   "cell_type": "code",
   "execution_count": 29,
   "metadata": {},
   "outputs": [],
   "source": [
    "class Crossover(ABC):\n",
    "    def __init__(self, probability: float):\n",
    "        self.probability = probability\n",
    "    \n",
    "    @abstractmethod\n",
    "    def make(self, p1: Individual, p2: Individual):\n",
    "        pass\n",
    "        "
   ]
  },
  {
   "cell_type": "markdown",
   "metadata": {},
   "source": [
    "### One-Point Crossover"
   ]
  },
  {
   "cell_type": "code",
   "execution_count": 30,
   "metadata": {},
   "outputs": [],
   "source": [
    "class OnePointCrossover(Crossover):\n",
    "    def __init__(self, probability: float):\n",
    "        super().__init__(probability)\n",
    "\n",
    "    def make(self, p1: Individual, p2: Individual):\n",
    "        # dos hijos por pareja\n",
    "        if random.random() < self.probability:\n",
    "            c1 = copy.deepcopy(p1.getGenotype())\n",
    "            c2 = copy.deepcopy(p2.getGenotype())\n",
    "            point = random.randint(1, len(c1) - 2)\n",
    "\n",
    "            c1[point:], c2[point:] = c2[point:], c1[point:]\n",
    "            return Individual.newLike(c1, p1), Individual.newLike(c2, p2)\n",
    "        return None"
   ]
  },
  {
   "cell_type": "markdown",
   "metadata": {},
   "source": [
    "### N-Point Crossover"
   ]
  },
  {
   "cell_type": "code",
   "execution_count": 31,
   "metadata": {},
   "outputs": [],
   "source": [
    "class NPointCrossover(Crossover):\n",
    "    def __init__(self, probability: float, n: int):\n",
    "        super().__init__(probability)\n",
    "        self.n = n\n",
    "\n",
    "    def make(self, p1: Individual, p2: Individual):\n",
    "        # dos hijos por pareja\n",
    "        if random.random() < self.probability:\n",
    "            ps = random.sample(range(1, p1.gen_size * p1.n_var - 1), self.n)\n",
    "            ps.append(0)\n",
    "            ps.append(p1.gen_size * p1.n_var)\n",
    "            ps = sorted(ps)\n",
    "            c1 = copy.deepcopy(p1.getGenotype())\n",
    "            c2 = copy.deepcopy(p2.getGenotype())\n",
    "            for i in range(0, self.n + 1):\n",
    "                if i % 2 == 0:\n",
    "                    continue\n",
    "                c1[ps[i]:ps[i + 1]], c2[ps[i]:ps[i + 1]] = c2[ps[i]:ps[i + 1]], c1[ps[i]:ps[i + 1]]\n",
    "\n",
    "            return Individual.newLike(c1, p1), Individual.newLike(c2, p2)\n",
    "        return None\n"
   ]
  },
  {
   "cell_type": "markdown",
   "metadata": {},
   "source": [
    "### Shuffle Crossover"
   ]
  },
  {
   "cell_type": "code",
   "execution_count": 32,
   "metadata": {},
   "outputs": [],
   "source": [
    "class ShuffleCrossover(Crossover):\n",
    "    def __init__(self, probability: float):\n",
    "        super().__init__(probability)\n",
    "\n",
    "    def make(self, p1: Individual, p2: Individual):\n",
    "        # dos hijos por pareja\n",
    "        if random.random() < self.probability:\n",
    "            index = list(range(0, p1.gen_size * p1.n_var))\n",
    "            random.shuffle(index)\n",
    "\n",
    "            p1_gen = np.array(p1.getGenotype())\n",
    "            p2_gen = np.array(p2.getGenotype())\n",
    "\n",
    "            c1 = np.copy(p1_gen[index])\n",
    "            c2 = np.copy(p1_gen[index])\n",
    "            temp = np.copy(p2_gen[index])\n",
    "\n",
    "            point = random.randint(1, len(c1) - 2)\n",
    "            # slice swap list isn't equals that slice in numpy\n",
    "            c1[point:], c2[:point] = temp[point:], temp[:point]\n",
    "\n",
    "            c1_unshuffle = np.zeros_like(c1, dtype=int)\n",
    "            c2_unshuffle = np.zeros_like(c2, dtype=int)\n",
    "\n",
    "            c1_unshuffle[index] = c1[index]\n",
    "            c2_unshuffle[index] = c2[index]\n",
    "            return Individual.newLike(c1_unshuffle, p1), Individual.newLike(c2_unshuffle, p2)\n",
    "        return None\n"
   ]
  },
  {
   "cell_type": "markdown",
   "metadata": {},
   "source": [
    "### Uniform Crossover"
   ]
  },
  {
   "cell_type": "code",
   "execution_count": 33,
   "metadata": {},
   "outputs": [],
   "source": [
    "class UniformCrossover(Crossover):\n",
    "    def __init__(self, probability: float, swap_probability: float):\n",
    "        super().__init__(probability)\n",
    "        self.swap_probability = swap_probability\n",
    "\n",
    "    def make(self, p1: Individual, p2: Individual):\n",
    "        # dos hijos por pareja\n",
    "        if random.random() < self.probability:\n",
    "            # swap a random position i\n",
    "            c1 = copy.deepcopy(p1.getGenotype())\n",
    "            c2 = copy.deepcopy(p2.getGenotype())\n",
    "\n",
    "            for i in range(p1.gen_size * p1.n_var):\n",
    "                if random.random() < self.swap_probability:\n",
    "                    c1[i], c2[i] = c2[i], c1[i]\n",
    "            return Individual.newLike(c1, p1), Individual.newLike(c2, p2)\n",
    "        return None\n"
   ]
  },
  {
   "cell_type": "markdown",
   "metadata": {},
   "source": [
    "## Mutation"
   ]
  },
  {
   "cell_type": "code",
   "execution_count": 34,
   "metadata": {},
   "outputs": [],
   "source": [
    "class Mutation(ABC):\n",
    "    def __init__(self, probability: float):\n",
    "        self.probability = probability\n",
    "    \n",
    "    @abstractmethod\n",
    "    def make(self, p1: Individual, p2: Individual):\n",
    "        pass\n",
    "        "
   ]
  },
  {
   "cell_type": "code",
   "execution_count": 35,
   "metadata": {},
   "outputs": [],
   "source": [
    "class OneFlipMutation(Mutation):\n",
    "    def __init__(self, probability: float):\n",
    "        super().__init__(probability)\n",
    "\n",
    "    def make(self, ind: Individual):\n",
    "        mut = copy.deepcopy(ind.getGenotype())\n",
    "        if random.random() < self.probability:\n",
    "            # punto aleatorio de la cadena\n",
    "            point = random.randint(0, len(mut) - 1)\n",
    "\n",
    "            if len(mut) > ind.n_var:\n",
    "                mut[point] = (mut[point] + 1) % 2\n",
    "            else:\n",
    "                mut[point] = random.uniform(ind.domain[0], ind.domain[1])\n",
    "            return Individual.newLike(mut, ind)\n",
    "        return None"
   ]
  },
  {
   "cell_type": "code",
   "execution_count": 36,
   "metadata": {},
   "outputs": [],
   "source": [
    "class UniformMutation(Mutation):\n",
    "    def __init__(self, probability: float):\n",
    "        super().__init__(probability)\n",
    "\n",
    "    def make(self, ind: Individual):\n",
    "        mut = copy.deepcopy(ind.getGenotype())\n",
    "        if random.random() < self.probability:\n",
    "            # punto aleatorio de la cadena\n",
    "            p = 0.5\n",
    "            for i in range(len(mut)):\n",
    "                if random.random() < p:\n",
    "                    mut[i] = (mut[i] + 1) % 2\n",
    "            return Individual.newLike(mut, ind)\n",
    "        return None\n"
   ]
  },
  {
   "cell_type": "code",
   "execution_count": 37,
   "metadata": {},
   "outputs": [],
   "source": [
    "class SwapMutation(Mutation):\n",
    "    def __init__(self, probability: float):\n",
    "        super().__init__(probability)\n",
    "\n",
    "    def make(self, ind: Individual):\n",
    "        mut = copy.deepcopy(ind.getGenotype())\n",
    "        if ind.default_repr != Representation.DECIMAL:\n",
    "            if random.random() < self.probability:\n",
    "                i, j = random.sample(range(len(mut)), k=2)\n",
    "                mut[i], mut[j] = mut[j], mut[i]\n",
    "                return Individual.newLike(mut, ind)\n",
    "        return None\n"
   ]
  },
  {
   "cell_type": "code",
   "execution_count": 38,
   "metadata": {},
   "outputs": [],
   "source": [
    "class ReversingMutation(Mutation):\n",
    "    def __init__(self, probability: float):\n",
    "        super().__init__(probability)\n",
    "\n",
    "    def make(self, ind: Individual):\n",
    "        mut = copy.deepcopy(ind.getGenotype())\n",
    "        if ind.default_repr != Representation.DECIMAL:\n",
    "            if random.random() < self.probability:\n",
    "                point = random.randint(0, len(mut) - 2)\n",
    "                mut[point] = (mut[point + 1] + 1) % 2\n",
    "                return Individual.newLike(mut, ind)\n",
    "        return None\n"
   ]
  },
  {
   "cell_type": "markdown",
   "metadata": {},
   "source": [
    "### Esquema general de un AE genérico "
   ]
  },
  {
   "cell_type": "code",
   "execution_count": 39,
   "metadata": {},
   "outputs": [],
   "source": [
    "def genenetic_algorithm(max_generation: int,\n",
    "                        fitness: Callable[[list[float]], float],\n",
    "                        population: list[Individual],\n",
    "                        selection: Selection,\n",
    "                        crossover: Crossover,\n",
    "                        mutation: Mutation):\n",
    "    best: list[Individual] = []\n",
    "    generation_number = 0\n",
    "    while generation_number < max_generation:\n",
    "        generation_number += 1\n",
    "        # evaluacion de la aptitud de la población inicial (n individuos)\n",
    "        population_fitness = [fitness(ind.phenotype) for ind in population]\n",
    "        # seleccion de los padres (para la reproducción)\n",
    "        parents = selection.get_individuals(population, population_fitness)\n",
    "        # operadores de variación\n",
    "        offspring: list[Individual] = []\n",
    "        # crossover\n",
    "        for p1, p2 in zip(parents[0::2], parents[1::2]):\n",
    "            if (childs := crossover.make(p1, p2)) != None:\n",
    "                offspring += childs\n",
    "        # mutation\n",
    "        for ind in parents:\n",
    "            if (mutant := mutation.make(ind)) != None:\n",
    "                offspring.append(mutant)\n",
    "        # evaluacion de la aptitud de los λ descendientes\n",
    "        offspring_fitness = [fitness(ind.phenotype) for ind in offspring]\n",
    "\n",
    "        prev_fitness = copy.deepcopy(population_fitness)\n",
    "        # λ individuos aptos + n padres\n",
    "        population += offspring\n",
    "        population_fitness += offspring_fitness\n",
    "        # seleccionamos un individuo para la grafica\n",
    "        best.append(population[random.randint(0, len(population) - 1)])\n",
    "        # selección del ambiente n\n",
    "        population = selection.get_individuals(population, population_fitness)\n",
    "\n",
    "        curr_fitness = [fitness(ind.phenotype) for ind in population]\n",
    "        S = selection.intensity(prev_fitness, curr_fitness)\n",
    "\n",
    "        # impresión de la generación\n",
    "        if generation_number % int(max_generation / 10) == 0:\n",
    "            print(f\"Generación: {generation_number}, número de descendientes: {len(offspring)}, intensidad: {S}\")\n",
    "\n",
    "    plt.plot([fitness(x.phenotype) for x in best], \"r-\")\n",
    "    plt.title(f\"{selection.__class__.__name__}, {crossover.__class__.__name__} & {mutation.__class__.__name__}\\nGeneration number {generation_number}\")\n",
    "    plt.ylabel(\"Fitness\")\n",
    "    plt.xlabel(\"Generation\")\n",
    "    plt.show()\n",
    "    return best\n"
   ]
  },
  {
   "cell_type": "markdown",
   "metadata": {},
   "source": [
    "## 3. Evaluación de la intensidad de selección: para los problemas planteados en la pregunta (1) evaluar la presión de selección considerando los siguientes casos.\n",
    "**Importante**: El número de descendientes está dado de manera probabiliística por los operadores de variación, por lo que es complicado establecer un número fijo de descendientes, sin embargo, tendrá el casi el mismo número según la cantidad de padres que se apareen, pues si son 10 padres, cada 2 parejas pueden tener 2 hijos, habrá alrededor de 8, 9 o 10 descendientes.\n"
   ]
  },
  {
   "cell_type": "markdown",
   "metadata": {},
   "source": [
    "#### a) Para el primer caso (ecuación 1) considerar la representación binaria, una población inicial 15 individuos del cual debe seleccionar 10 padres y crear 10 descendientes, una taza de cruce de 0.8, una tasa de mutación de 0.01, donde el cruce y la mutación son seleccionadas de forma aleatoria (Usando los mismos criterios del ejemplo mostrado en Colab-note) realizar lo siguiente:\n",
    "\n",
    "• Usando el método de torneo para la selección de las nuevas generaciones (constantes de 15 individuos)\n"
   ]
  },
  {
   "cell_type": "code",
   "execution_count": 40,
   "metadata": {},
   "outputs": [
    {
     "name": "stdout",
     "output_type": "stream",
     "text": [
      "Generación: 1, número de descendientes: 8, intensidad: -1.2830433621120527\n",
      "Generación: 2, número de descendientes: 14, intensidad: -0.5952867274918677\n",
      "Generación: 3, número de descendientes: 7, intensidad: -0.5428822162011948\n",
      "Generación: 4, número de descendientes: 7, intensidad: 0.0\n",
      "Generación: 5, número de descendientes: 8, intensidad: 0.0\n",
      "Generación: 6, número de descendientes: 9, intensidad: 0.0\n",
      "Generación: 7, número de descendientes: 8, intensidad: 0.0\n",
      "Generación: 8, número de descendientes: 12, intensidad: 0.0\n",
      "Generación: 9, número de descendientes: 9, intensidad: 0.0\n",
      "Generación: 10, número de descendientes: 12, intensidad: 0.0\n"
     ]
    },
    {
     "data": {
      "image/png": "[encoded data removed]",
      "text/plain": [
       "<Figure size 432x288 with 1 Axes>"
      ]
     },
     "metadata": {
      "needs_background": "light"
     },
     "output_type": "display_data"
    }
   ],
   "source": [
    "# GA CANONICAL HYPERPARAMETERS\n",
    "MAX_GENERATION = 10\n",
    "POPULATION_SIZE = 15\n",
    "SELECTED_SIZE = 10\n",
    "# NOTA: El número de descendientes está dado de manera estocástica según los operadores de variación, así que es complicado establecer un número fijo de descendientes\n",
    "# sin embargo rondará los 10 individuos.\n",
    "OFFSPRING_SIZE = 10\n",
    "CROSSOVER_PROBABILITY = 0.8\n",
    "MUTATION_PROBABILITY = 0.01\n",
    "\n",
    "args = IndividualArguments(domain_1, eps_1, n_var_1, GEN_SIZE_1, Representation.GRAY)\n",
    "initial_population = [Individual.newRandom(args) for _ in range(POPULATION_SIZE)]\n",
    "\n",
    "# PIPELINE GA TOURNAMENT SELECTION\n",
    "best = genenetic_algorithm(max_generation=MAX_GENERATION,\n",
    "                           fitness=f1,\n",
    "                           population=initial_population,\n",
    "                           selection=TournamentSelection(num_individuals=SELECTED_SIZE, tournament_size=3),\n",
    "                           crossover=NPointCrossover(probability=CROSSOVER_PROBABILITY, n=2),\n",
    "                           mutation=UniformMutation(probability=0.1))\n"
   ]
  },
  {
   "cell_type": "code",
   "execution_count": 41,
   "metadata": {},
   "outputs": [
    {
     "name": "stdout",
     "output_type": "stream",
     "text": [
      "[0, 0, 0, 0, 1, 0, 0, 0, 1, 1]\n",
      "[1, 1, 1, 0, 0, 1, 0, 0, 0, 0]\n"
     ]
    }
   ],
   "source": [
    "ind = initial_population[0]\n",
    "print(ind.getGenotype())\n",
    "child = UniformMutation(1).make(ind)\n",
    "print(child.getGenotype())\n"
   ]
  },
  {
   "cell_type": "code",
   "execution_count": 42,
   "metadata": {},
   "outputs": [
    {
     "name": "stdout",
     "output_type": "stream",
     "text": [
      "Generación: 1, número de descendientes: 10, intensidad: -0.8730719618653247\n",
      "Generación: 2, número de descendientes: 10, intensidad: -1.1048594944586332\n",
      "Generación: 3, número de descendientes: 8, intensidad: -0.8319962372075357\n",
      "Generación: 4, número de descendientes: 10, intensidad: 0.0\n",
      "Generación: 5, número de descendientes: 6, intensidad: 0.0\n",
      "Generación: 6, número de descendientes: 6, intensidad: 0.0\n",
      "Generación: 7, número de descendientes: 8, intensidad: 0.0\n",
      "Generación: 8, número de descendientes: 6, intensidad: 0.0\n",
      "Generación: 9, número de descendientes: 10, intensidad: 0.0\n",
      "Generación: 10, número de descendientes: 8, intensidad: 0.0\n"
     ]
    },
    {
     "data": {
      "image/png": "[encoded data removed]",
      "text/plain": [
       "<Figure size 432x288 with 1 Axes>"
      ]
     },
     "metadata": {
      "needs_background": "light"
     },
     "output_type": "display_data"
    }
   ],
   "source": [
    "# GA CANONICAL HYPERPARAMETERS\n",
    "MAX_GENERATION = 10\n",
    "POPULATION_SIZE = 15\n",
    "SELECTED_SIZE = 10\n",
    "CROSSOVER_PROBABILITY = 0.8\n",
    "MUTATION_PROBABILITY = 0.01\n",
    "\n",
    "args = IndividualArguments(domain_1, eps_1, n_var_1, GEN_SIZE_1, Representation.GRAY)\n",
    "initial_population = [Individual.newRandom(args) for _ in range(POPULATION_SIZE)]\n",
    "\n",
    "# PIPELINE GA TOURNAMENT SELECTION\n",
    "best = genenetic_algorithm(max_generation=MAX_GENERATION,\n",
    "                           fitness=f1,\n",
    "                           population=initial_population,\n",
    "                           selection=TournamentSelection(num_individuals=SELECTED_SIZE, tournament_size=3),\n",
    "                           crossover=NPointCrossover(probability=CROSSOVER_PROBABILITY, n=2),\n",
    "                           mutation=UniformMutation(probability=MUTATION_PROBABILITY))\n"
   ]
  },
  {
   "cell_type": "markdown",
   "metadata": {},
   "source": [
    "#### Evalúe la intensidad de selección para cada uno de los métodos de selección en la pregunta (2)."
   ]
  },
  {
   "cell_type": "code",
   "execution_count": 43,
   "metadata": {},
   "outputs": [
    {
     "name": "stdout",
     "output_type": "stream",
     "text": [
      "Optimal value with Tournament Selection\n",
      " x* = [-2.734115347018573], f(x*) = -4.47343284158822\n"
     ]
    }
   ],
   "source": [
    "solution = min(best, key=lambda x: f1(x.phenotype))\n",
    "print(f\"Optimal value with Tournament Selection\\n x* = {solution.phenotype}, f(x*) = {f1(solution.phenotype)}\")"
   ]
  },
  {
   "cell_type": "code",
   "execution_count": 44,
   "metadata": {},
   "outputs": [
    {
     "name": "stdout",
     "output_type": "stream",
     "text": [
      "Generación: 1, número de descendientes: 6, intensidad: -1.1925412871791314\n",
      "Generación: 2, número de descendientes: 10, intensidad: -0.1451788238616627\n",
      "Generación: 3, número de descendientes: 11, intensidad: -0.08561719202730518\n",
      "Generación: 4, número de descendientes: 8, intensidad: -0.13769576559297508\n",
      "Generación: 5, número de descendientes: 10, intensidad: 0.08873015383719424\n",
      "Generación: 6, número de descendientes: 8, intensidad: -0.5604702776263769\n",
      "Generación: 7, número de descendientes: 6, intensidad: 0.2244779347917085\n",
      "Generación: 8, número de descendientes: 6, intensidad: -0.03194188231419825\n",
      "Generación: 9, número de descendientes: 8, intensidad: 0.07237983167810531\n",
      "Generación: 10, número de descendientes: 10, intensidad: -0.20105229940923608\n"
     ]
    },
    {
     "data": {
      "image/png": "[encoded data removed]",
      "text/plain": [
       "<Figure size 432x288 with 1 Axes>"
      ]
     },
     "metadata": {
      "needs_background": "light"
     },
     "output_type": "display_data"
    }
   ],
   "source": [
    "# PIPELINE GA PROPORTIONAL SELECTION\n",
    "best = genenetic_algorithm(max_generation=MAX_GENERATION,\n",
    "                           fitness=f1,\n",
    "                           population=initial_population,\n",
    "                           selection=ProportionalSelection(num_individuals=SELECTED_SIZE, delta=10),\n",
    "                           crossover=UniformCrossover(probability=CROSSOVER_PROBABILITY, swap_probability=0.5),\n",
    "                           mutation=UniformMutation(probability=MUTATION_PROBABILITY))\n"
   ]
  },
  {
   "cell_type": "code",
   "execution_count": 45,
   "metadata": {},
   "outputs": [
    {
     "name": "stdout",
     "output_type": "stream",
     "text": [
      "Optimal value with Proportional Selection\n",
      " x* = [-2.870967741935484], f(x*) = -4.927351949766155\n"
     ]
    }
   ],
   "source": [
    "solution = min(best, key=lambda x: f1(x.phenotype))\n",
    "print(f\"Optimal value with Proportional Selection\\n x* = {solution.phenotype}, f(x*) = {f1(solution.phenotype)}\")"
   ]
  },
  {
   "cell_type": "code",
   "execution_count": 46,
   "metadata": {},
   "outputs": [
    {
     "name": "stdout",
     "output_type": "stream",
     "text": [
      "Generación: 1, número de descendientes: 9, intensidad: -0.9532968866032757\n",
      "Generación: 2, número de descendientes: 10, intensidad: -0.6713681147335184\n",
      "Generación: 3, número de descendientes: 9, intensidad: -0.728703256163023\n",
      "Generación: 4, número de descendientes: 9, intensidad: -1.0212847643172673\n",
      "Generación: 5, número de descendientes: 10, intensidad: -0.5226664938445498\n",
      "Generación: 6, número de descendientes: 9, intensidad: 0.0\n",
      "Generación: 7, número de descendientes: 10, intensidad: 0.0\n",
      "Generación: 8, número de descendientes: 10, intensidad: -1.1658496443040904\n",
      "Generación: 9, número de descendientes: 9, intensidad: -1.0754283708663122\n",
      "Generación: 10, número de descendientes: 11, intensidad: -1.7633000790017195\n"
     ]
    },
    {
     "data": {
      "image/png": "[encoded data removed]",
      "text/plain": [
       "<Figure size 432x288 with 1 Axes>"
      ]
     },
     "metadata": {
      "needs_background": "light"
     },
     "output_type": "display_data"
    }
   ],
   "source": [
    "# PIPELINE GA LINEAR RANKING SELECTION\n",
    "best = genenetic_algorithm(max_generation=MAX_GENERATION,\n",
    "                           fitness=f1,\n",
    "                           population=initial_population,\n",
    "                           selection=LinearRankingSelection(num_individuals=SELECTED_SIZE, s=2),\n",
    "                           crossover=OnePointCrossover(probability=0.8),\n",
    "                           mutation=OneFlipMutation(probability=0.1))\n"
   ]
  },
  {
   "cell_type": "code",
   "execution_count": 47,
   "metadata": {},
   "outputs": [
    {
     "name": "stdout",
     "output_type": "stream",
     "text": [
      "Generación: 1, número de descendientes: 8, intensidad: -0.489897689836177\n",
      "Generación: 2, número de descendientes: 12, intensidad: -0.8569102171450402\n",
      "Generación: 3, número de descendientes: 10, intensidad: -0.49076258190598204\n",
      "Generación: 4, número de descendientes: 10, intensidad: -0.8791038535922968\n",
      "Generación: 5, número de descendientes: 8, intensidad: -1.7072507923996467\n",
      "Generación: 6, número de descendientes: 7, intensidad: -1.2177073855103486\n",
      "Generación: 7, número de descendientes: 10, intensidad: -0.8417607741768581\n",
      "Generación: 8, número de descendientes: 7, intensidad: -0.4406111858265423\n",
      "Generación: 9, número de descendientes: 11, intensidad: -0.3333333333333333\n",
      "Generación: 10, número de descendientes: 10, intensidad: 0.0\n"
     ]
    },
    {
     "data": {
      "image/png": "[encoded data removed]",
      "text/plain": [
       "<Figure size 432x288 with 1 Axes>"
      ]
     },
     "metadata": {
      "needs_background": "light"
     },
     "output_type": "display_data"
    }
   ],
   "source": [
    "# PIPELINE GA LINEAR RANKING SELECTION\n",
    "best = genenetic_algorithm(max_generation=MAX_GENERATION,\n",
    "                           fitness=f1,\n",
    "                           population=initial_population,\n",
    "                           selection=LinearRankingSelection(num_individuals=SELECTED_SIZE, s=2),\n",
    "                           crossover=OnePointCrossover(probability=0.8),\n",
    "                           mutation=UniformMutation(probability=0.1))\n"
   ]
  },
  {
   "cell_type": "code",
   "execution_count": 48,
   "metadata": {},
   "outputs": [
    {
     "name": "stdout",
     "output_type": "stream",
     "text": [
      "Optimal value with Linear Ranking Selection\n",
      " x* = [-3.0664711632453567], f(x*) = -4.874014031751251\n"
     ]
    }
   ],
   "source": [
    "solution = min(best, key=lambda x: f1(x.phenotype))\n",
    "print(f\"Optimal value with Linear Ranking Selection\\n x* = {solution.phenotype}, f(x*) = {f1(solution.phenotype)}\")"
   ]
  },
  {
   "cell_type": "code",
   "execution_count": 49,
   "metadata": {},
   "outputs": [
    {
     "name": "stdout",
     "output_type": "stream",
     "text": [
      "Generación: 1, número de descendientes: 10, intensidad: 0.30171310414151264\n",
      "Generación: 2, número de descendientes: 10, intensidad: 0.0009643698438907802\n",
      "Generación: 3, número de descendientes: 10, intensidad: -0.3252967057419954\n",
      "Generación: 4, número de descendientes: 7, intensidad: -0.4118718862884051\n",
      "Generación: 5, número de descendientes: 10, intensidad: 0.42094070054704485\n",
      "Generación: 6, número de descendientes: 10, intensidad: -0.41757168595500493\n",
      "Generación: 7, número de descendientes: 6, intensidad: 0.14341728012142427\n",
      "Generación: 8, número de descendientes: 8, intensidad: 0.4242473356952996\n",
      "Generación: 9, número de descendientes: 2, intensidad: 0.6102993270092428\n",
      "Generación: 10, número de descendientes: 6, intensidad: -0.3333333333333332\n"
     ]
    },
    {
     "data": {
      "image/png": "[encoded data removed]",
      "text/plain": [
       "<Figure size 432x288 with 1 Axes>"
      ]
     },
     "metadata": {
      "needs_background": "light"
     },
     "output_type": "display_data"
    }
   ],
   "source": [
    "# PIPELINE GA UNIFORM SELECTION\n",
    "best = genenetic_algorithm(max_generation=MAX_GENERATION,\n",
    "                           fitness=f1,\n",
    "                           population=initial_population,\n",
    "                           selection=UniformSelection(num_individuals=SELECTED_SIZE),\n",
    "                           crossover=OnePointCrossover(probability=CROSSOVER_PROBABILITY),\n",
    "                           mutation=OneFlipMutation(probability=MUTATION_PROBABILITY))\n"
   ]
  },
  {
   "cell_type": "code",
   "execution_count": 50,
   "metadata": {},
   "outputs": [
    {
     "name": "stdout",
     "output_type": "stream",
     "text": [
      "Optimal value with Uniform Selection\n",
      " x* = [-2.333333333333333], f(x*) = -1.7654320987654266\n"
     ]
    }
   ],
   "source": [
    "solution = min(best, key=lambda x: f1(x.phenotype))\n",
    "print(f\"Optimal value with Uniform Selection\\n x* = {solution.phenotype}, f(x*) = {f1(solution.phenotype)}\")"
   ]
  },
  {
   "cell_type": "code",
   "execution_count": 51,
   "metadata": {},
   "outputs": [
    {
     "name": "stdout",
     "output_type": "stream",
     "text": [
      "Generación: 1, número de descendientes: 8, intensidad: -0.35218301257097634\n",
      "Generación: 2, número de descendientes: 9, intensidad: -0.9978664428294219\n",
      "Generación: 3, número de descendientes: 6, intensidad: -0.7819290487081938\n",
      "Generación: 4, número de descendientes: 8, intensidad: -0.5\n",
      "Generación: 5, número de descendientes: 6, intensidad: 0.0\n",
      "Generación: 6, número de descendientes: 10, intensidad: 0.0\n",
      "Generación: 7, número de descendientes: 8, intensidad: 0.0\n",
      "Generación: 8, número de descendientes: 6, intensidad: 0.0\n",
      "Generación: 9, número de descendientes: 10, intensidad: 0.0\n",
      "Generación: 10, número de descendientes: 4, intensidad: 0.0\n"
     ]
    },
    {
     "data": {
      "image/png": "[encoded data removed]",
      "text/plain": [
       "<Figure size 432x288 with 1 Axes>"
      ]
     },
     "metadata": {
      "needs_background": "light"
     },
     "output_type": "display_data"
    }
   ],
   "source": [
    "# PIPELINE GA ROULETTE SELECTION\n",
    "best = genenetic_algorithm(max_generation=MAX_GENERATION,\n",
    "                           fitness=f1,\n",
    "                           population=initial_population,\n",
    "                           selection=RouletteSelection(num_individuals=SELECTED_SIZE),\n",
    "                           crossover=OnePointCrossover(probability=CROSSOVER_PROBABILITY),\n",
    "                           mutation=OneFlipMutation(probability=MUTATION_PROBABILITY))\n"
   ]
  },
  {
   "cell_type": "code",
   "execution_count": 52,
   "metadata": {},
   "outputs": [
    {
     "name": "stdout",
     "output_type": "stream",
     "text": [
      "Optimal value with Roulette Selection\n",
      " x* = [-2.734115347018573], f(x*) = -4.47343284158822\n"
     ]
    }
   ],
   "source": [
    "solution = min(best, key=lambda x: f1(x.phenotype))\n",
    "print(f\"Optimal value with Roulette Selection\\n x* = {solution.phenotype}, f(x*) = {f1(solution.phenotype)}\")"
   ]
  },
  {
   "cell_type": "markdown",
   "metadata": {},
   "source": [
    "#### b) Para el segundo caso (ecuación 2) considerar la representación Gray, una población inicial 20 individuos del cual debe seleccionar 15 padres y crear 15 descendientes, una taza de cruce de 0.8, una tasa de mutación de 0.01, donde el cruce y la mutación son seleccionadas de forma aleatoria (Usando los mismos criterios del ejemplo mostrado en Colab-note) realizar lo siguiente:\n",
    "\n",
    "• Usando el método de torneo para la selección de las nuevas generaciones (constantes de 20 individuos)"
   ]
  },
  {
   "cell_type": "code",
   "execution_count": 53,
   "metadata": {},
   "outputs": [
    {
     "name": "stdout",
     "output_type": "stream",
     "text": [
      "Generación: 1, número de descendientes: 8, intensidad: -1.3787891313741014\n",
      "Generación: 2, número de descendientes: 14, intensidad: -1.5221679028499175\n",
      "Generación: 3, número de descendientes: 6, intensidad: -0.5733893019767788\n",
      "Generación: 4, número de descendientes: 12, intensidad: 0.0\n",
      "Generación: 5, número de descendientes: 12, intensidad: 0.0\n",
      "Generación: 6, número de descendientes: 12, intensidad: 0.0\n",
      "Generación: 7, número de descendientes: 6, intensidad: 0.0\n",
      "Generación: 8, número de descendientes: 12, intensidad: 0.0\n",
      "Generación: 9, número de descendientes: 14, intensidad: 0.0\n",
      "Generación: 10, número de descendientes: 12, intensidad: 0.0\n"
     ]
    },
    {
     "data": {
      "image/png": "[encoded data removed]",
      "text/plain": [
       "<Figure size 432x288 with 1 Axes>"
      ]
     },
     "metadata": {
      "needs_background": "light"
     },
     "output_type": "display_data"
    }
   ],
   "source": [
    "# GA CANONICAL HYPERPARAMETERS\n",
    "MAX_GENERATION = 10\n",
    "POPULATION_SIZE = 20\n",
    "SELECTED_SIZE = 15\n",
    "OFFSPRING_SIZE = 15\n",
    "CROSSOVER_PROBABILITY = 0.8\n",
    "MUTATION_PROBABILITY = 0.01\n",
    "\n",
    "args2 = IndividualArguments(domain_2, eps_2, n_var_2, GEN_SIZE_2, Representation.GRAY)\n",
    "initial_population = [Individual.newRandom(args2) for _ in range(POPULATION_SIZE)]\n",
    "\n",
    "# PIPELINE GA\n",
    "best = genenetic_algorithm(max_generation=MAX_GENERATION,\n",
    "                           fitness=f2,\n",
    "                           population=initial_population,\n",
    "                           selection=TournamentSelection(num_individuals=SELECTED_SIZE, tournament_size=5),\n",
    "                           crossover=OnePointCrossover(probability=CROSSOVER_PROBABILITY),\n",
    "                           mutation=OneFlipMutation(probability=MUTATION_PROBABILITY))\n",
    "\n"
   ]
  },
  {
   "cell_type": "code",
   "execution_count": 54,
   "metadata": {},
   "outputs": [
    {
     "name": "stdout",
     "output_type": "stream",
     "text": [
      "Optimal value\n",
      " x* = [-0.032258064516129004, 0.032258064516129004], f(x*) = 0.06287799982244661\n"
     ]
    }
   ],
   "source": [
    "solution = min(best, key=lambda x: f2(x.phenotype))\n",
    "print(f\"Optimal value\\n x* = {solution.phenotype}, f(x*) = {f2(solution.phenotype)}\")"
   ]
  },
  {
   "cell_type": "markdown",
   "metadata": {},
   "source": [
    "#### Evalúe la intensidad de selección para cada uno de los métodos de selección en la pregunta (2).\n"
   ]
  },
  {
   "cell_type": "code",
   "execution_count": 55,
   "metadata": {},
   "outputs": [
    {
     "name": "stdout",
     "output_type": "stream",
     "text": [
      "Generación: 1, número de descendientes: 10, intensidad: 0.054470419851748435\n",
      "Generación: 2, número de descendientes: 14, intensidad: -0.2767769588217424\n",
      "Generación: 3, número de descendientes: 10, intensidad: 0.4298563236894312\n",
      "Generación: 4, número de descendientes: 14, intensidad: 0.3103220341033755\n",
      "Generación: 5, número de descendientes: 12, intensidad: 0.007617169489990124\n",
      "Generación: 6, número de descendientes: 12, intensidad: 0.36354199746061994\n",
      "Generación: 7, número de descendientes: 14, intensidad: 0.031155696408187234\n",
      "Generación: 8, número de descendientes: 11, intensidad: 0.3759898575680947\n",
      "Generación: 9, número de descendientes: 12, intensidad: 0.19365035339964554\n",
      "Generación: 10, número de descendientes: 12, intensidad: 0.0\n"
     ]
    },
    {
     "data": {
      "image/png": "[encoded data removed]",
      "text/plain": [
       "<Figure size 432x288 with 1 Axes>"
      ]
     },
     "metadata": {
      "needs_background": "light"
     },
     "output_type": "display_data"
    }
   ],
   "source": [
    "# PIPELINE GA PROPORTIONAL SELECTION\n",
    "best = genenetic_algorithm(max_generation=MAX_GENERATION,\n",
    "                           fitness=f2,\n",
    "                           population=initial_population,\n",
    "                           selection=ProportionalSelection(num_individuals=SELECTED_SIZE, delta=10),\n",
    "                           crossover=OnePointCrossover(probability=CROSSOVER_PROBABILITY),\n",
    "                           mutation=OneFlipMutation(probability=MUTATION_PROBABILITY))\n"
   ]
  },
  {
   "cell_type": "code",
   "execution_count": 56,
   "metadata": {},
   "outputs": [
    {
     "name": "stdout",
     "output_type": "stream",
     "text": [
      "Optimal value with Proportional Selection\n",
      " x* = [-0.310092, -0.652859], f(x*) = 0.6060915255663886\n"
     ]
    }
   ],
   "source": [
    "solution = min(best, key=lambda x: f2(x.phenotype))\n",
    "print(f\"Optimal value with Proportional Selection\\n x* = {solution.phenotype}, f(x*) = {f2(solution.phenotype)}\")"
   ]
  },
  {
   "cell_type": "code",
   "execution_count": 57,
   "metadata": {},
   "outputs": [
    {
     "name": "stdout",
     "output_type": "stream",
     "text": [
      "Generación: 1, número de descendientes: 14, intensidad: -0.6514120332475529\n",
      "Generación: 2, número de descendientes: 12, intensidad: -0.794176999228642\n",
      "Generación: 3, número de descendientes: 9, intensidad: -0.6511624037632093\n",
      "Generación: 4, número de descendientes: 12, intensidad: -0.6376484223307438\n",
      "Generación: 5, número de descendientes: 8, intensidad: -0.7221807630292241\n",
      "Generación: 6, número de descendientes: 12, intensidad: -0.267261241912424\n",
      "Generación: 7, número de descendientes: 14, intensidad: 0.0\n",
      "Generación: 8, número de descendientes: 9, intensidad: 0.0\n",
      "Generación: 9, número de descendientes: 12, intensidad: 0.0\n",
      "Generación: 10, número de descendientes: 10, intensidad: 0.0\n"
     ]
    },
    {
     "data": {
      "image/png": "[encoded data removed]",
      "text/plain": [
       "<Figure size 432x288 with 1 Axes>"
      ]
     },
     "metadata": {
      "needs_background": "light"
     },
     "output_type": "display_data"
    }
   ],
   "source": [
    "# PIPELINE GA LINEAR RANKING SELECTION\n",
    "best = genenetic_algorithm(max_generation=MAX_GENERATION,\n",
    "                           fitness=f2,\n",
    "                           population=initial_population,\n",
    "                           selection=LinearRankingSelection(num_individuals=SELECTED_SIZE, s=2),\n",
    "                           crossover=OnePointCrossover(probability=CROSSOVER_PROBABILITY),\n",
    "                           mutation=OneFlipMutation(probability=MUTATION_PROBABILITY))\n"
   ]
  },
  {
   "cell_type": "code",
   "execution_count": 58,
   "metadata": {},
   "outputs": [
    {
     "name": "stdout",
     "output_type": "stream",
     "text": [
      "Optimal value with Linear Ranking Selection\n",
      " x* = [-0.29032258064516125, 0.09677419354838701], f(x*) = 0.12794804157521777\n"
     ]
    }
   ],
   "source": [
    "solution = min(best, key=lambda x: f2(x.phenotype))\n",
    "print(f\"Optimal value with Linear Ranking Selection\\n x* = {solution.phenotype}, f(x*) = {f2(solution.phenotype)}\")"
   ]
  },
  {
   "cell_type": "code",
   "execution_count": 59,
   "metadata": {},
   "outputs": [
    {
     "name": "stdout",
     "output_type": "stream",
     "text": [
      "Generación: 1, número de descendientes: 13, intensidad: 0.35933699614641157\n",
      "Generación: 2, número de descendientes: 12, intensidad: 0.08996429872799405\n",
      "Generación: 3, número de descendientes: 12, intensidad: -0.28539015664297845\n",
      "Generación: 4, número de descendientes: 12, intensidad: -0.09954860318603369\n",
      "Generación: 5, número de descendientes: 14, intensidad: -0.5025501686907531\n",
      "Generación: 6, número de descendientes: 8, intensidad: 0.07114730173293546\n",
      "Generación: 7, número de descendientes: 10, intensidad: -0.2886125769388526\n",
      "Generación: 8, número de descendientes: 14, intensidad: -0.15047973029726092\n",
      "Generación: 9, número de descendientes: 10, intensidad: -0.1567835793245688\n",
      "Generación: 10, número de descendientes: 8, intensidad: -0.05592727668570905\n"
     ]
    },
    {
     "data": {
      "image/png": "[encoded data removed]",
      "text/plain": [
       "<Figure size 432x288 with 1 Axes>"
      ]
     },
     "metadata": {
      "needs_background": "light"
     },
     "output_type": "display_data"
    }
   ],
   "source": [
    "# PIPELINE GA UNIFORM SELECTION\n",
    "best = genenetic_algorithm(max_generation=MAX_GENERATION,\n",
    "                           fitness=f1,\n",
    "                           population=initial_population,\n",
    "                           selection=UniformSelection(num_individuals=SELECTED_SIZE),\n",
    "                           crossover=OnePointCrossover(probability=CROSSOVER_PROBABILITY),\n",
    "                           mutation=OneFlipMutation(probability=MUTATION_PROBABILITY))\n"
   ]
  },
  {
   "cell_type": "code",
   "execution_count": 60,
   "metadata": {},
   "outputs": [
    {
     "name": "stdout",
     "output_type": "stream",
     "text": [
      "Optimal value with Uniform Selection\n",
      " x* = [-0.032258064516129004, -0.6774193548387097], f(x*) = 0.5979910729245589\n"
     ]
    }
   ],
   "source": [
    "solution = min(best, key=lambda x: f2(x.phenotype))\n",
    "print(f\"Optimal value with Uniform Selection\\n x* = {solution.phenotype}, f(x*) = {f2(solution.phenotype)}\")\n"
   ]
  },
  {
   "cell_type": "code",
   "execution_count": 61,
   "metadata": {},
   "outputs": [
    {
     "name": "stdout",
     "output_type": "stream",
     "text": [
      "Generación: 1, número de descendientes: 12, intensidad: -0.7186925182762784\n",
      "Generación: 2, número de descendientes: 14, intensidad: -0.5920317026893579\n",
      "Generación: 3, número de descendientes: 14, intensidad: -0.6553054807769523\n",
      "Generación: 4, número de descendientes: 14, intensidad: -0.7348540834076062\n",
      "Generación: 5, número de descendientes: 14, intensidad: -0.61702527442958\n",
      "Generación: 6, número de descendientes: 12, intensidad: -0.527207494081365\n",
      "Generación: 7, número de descendientes: 10, intensidad: -0.6497226630872053\n",
      "Generación: 8, número de descendientes: 10, intensidad: 0.0\n",
      "Generación: 9, número de descendientes: 8, intensidad: 0.0\n",
      "Generación: 10, número de descendientes: 12, intensidad: 0.0\n"
     ]
    },
    {
     "data": {
      "image/png": "[encoded data removed]",
      "text/plain": [
       "<Figure size 432x288 with 1 Axes>"
      ]
     },
     "metadata": {
      "needs_background": "light"
     },
     "output_type": "display_data"
    }
   ],
   "source": [
    "# PIPELINE GA ROULETTE SELECTION\n",
    "best = genenetic_algorithm(max_generation=MAX_GENERATION,\n",
    "                           fitness=f2,\n",
    "                           population=initial_population,\n",
    "                           selection=RouletteSelection(num_individuals=SELECTED_SIZE),\n",
    "                           crossover=OnePointCrossover(probability=CROSSOVER_PROBABILITY),\n",
    "                           mutation=OneFlipMutation(probability=MUTATION_PROBABILITY))\n"
   ]
  },
  {
   "cell_type": "code",
   "execution_count": 62,
   "metadata": {},
   "outputs": [
    {
     "name": "stdout",
     "output_type": "stream",
     "text": [
      "Optimal value with Roulette Selection\n",
      " x* = [-0.29032258064516125, -0.22580645161290325], f(x*) = 0.17659860855783382\n"
     ]
    }
   ],
   "source": [
    "solution = min(best, key=lambda x: f2(x.phenotype))\n",
    "print(f\"Optimal value with Roulette Selection\\n x* = {solution.phenotype}, f(x*) = {f2(solution.phenotype)}\")\n"
   ]
  },
  {
   "cell_type": "markdown",
   "metadata": {},
   "source": [
    "#### c) Para el tercer caso (ecuación 3) considerar la representación real, una población inicial 20 individuos del cual debe seleccionar 15 padres y crear 15 descendientes, una taza de cruce de 0.8, una tasa de mutación de 0.01, donde el cruce y la mutación son seleccionadas de forma aleatoria (Usando los mismos criterios del ejemplo mostrado en Colab-note) realizar lo siguiente:\n",
    "\n",
    "• Usando el método de torneo para la selección de las nuevas generaciones (constantes de 20 individuos)"
   ]
  },
  {
   "cell_type": "code",
   "execution_count": 63,
   "metadata": {},
   "outputs": [
    {
     "name": "stdout",
     "output_type": "stream",
     "text": [
      "Generación: 1, número de descendientes: 8, intensidad: -0.824669677771154\n",
      "Generación: 2, número de descendientes: 8, intensidad: -0.670121119711604\n",
      "Generación: 3, número de descendientes: 12, intensidad: -0.5201507157935404\n",
      "Generación: 4, número de descendientes: 10, intensidad: 0.0\n",
      "Generación: 5, número de descendientes: 10, intensidad: 0.0\n",
      "Generación: 6, número de descendientes: 12, intensidad: 0.0\n",
      "Generación: 7, número de descendientes: 14, intensidad: 0.0\n",
      "Generación: 8, número de descendientes: 10, intensidad: 0.0\n",
      "Generación: 9, número de descendientes: 10, intensidad: 0.0\n",
      "Generación: 10, número de descendientes: 13, intensidad: 0.0\n"
     ]
    },
    {
     "data": {
      "image/png": "[encoded data removed]",
      "text/plain": [
       "<Figure size 432x288 with 1 Axes>"
      ]
     },
     "metadata": {
      "needs_background": "light"
     },
     "output_type": "display_data"
    }
   ],
   "source": [
    "# GA CANONICAL HYPERPARAMETERS\n",
    "MAX_GENERATION = 10\n",
    "POPULATION_SIZE = 20\n",
    "SELECTED_SIZE = 15\n",
    "OFFSPRING_SIZE = 15\n",
    "CROSSOVER_PROBABILITY = 0.8\n",
    "MUTATION_PROBABILITY = 0.01\n",
    "\n",
    "args3 = IndividualArguments(domain_3, eps_3, n_var_3, GEN_SIZE_3, Representation.DECIMAL)\n",
    "initial_population = [Individual.newRandom(args3) for _ in range(POPULATION_SIZE)]\n",
    "\n",
    "# PIPELINE GA\n",
    "best = genenetic_algorithm(max_generation=MAX_GENERATION,\n",
    "                           fitness=f3,\n",
    "                           population=initial_population,\n",
    "                           selection=TournamentSelection(num_individuals=SELECTED_SIZE, tournament_size=5),\n",
    "                           crossover=OnePointCrossover(probability=CROSSOVER_PROBABILITY),\n",
    "                           mutation=OneFlipMutation(probability=MUTATION_PROBABILITY))\n"
   ]
  },
  {
   "cell_type": "code",
   "execution_count": 64,
   "metadata": {},
   "outputs": [
    {
     "name": "stdout",
     "output_type": "stream",
     "text": [
      "Optimal value\n",
      " x* = [19.430225, 21.690378, 48.341911, 55.998701], f(x*) = 0.00013006008873278982\n"
     ]
    }
   ],
   "source": [
    "solution = min(best, key=lambda x: f3(x.phenotype))\n",
    "print(f\"Optimal value\\n x* = {solution.phenotype}, f(x*) = {f3(solution.phenotype)}\")"
   ]
  },
  {
   "cell_type": "code",
   "execution_count": 65,
   "metadata": {},
   "outputs": [
    {
     "name": "stdout",
     "output_type": "stream",
     "text": [
      "Generación: 1, número de descendientes: 10, intensidad: -0.40446972583970886\n",
      "Generación: 2, número de descendientes: 8, intensidad: -0.5866289122935003\n",
      "Generación: 3, número de descendientes: 10, intensidad: -0.3941177402774332\n",
      "Generación: 4, número de descendientes: 8, intensidad: 0.0\n",
      "Generación: 5, número de descendientes: 12, intensidad: 0.0\n",
      "Generación: 6, número de descendientes: 12, intensidad: 0.0\n",
      "Generación: 7, número de descendientes: 8, intensidad: 0.0\n",
      "Generación: 8, número de descendientes: 12, intensidad: 0.0\n",
      "Generación: 9, número de descendientes: 10, intensidad: 0.0\n",
      "Generación: 10, número de descendientes: 12, intensidad: 0.0\n"
     ]
    },
    {
     "data": {
      "image/png": "[encoded data removed]",
      "text/plain": [
       "<Figure size 432x288 with 1 Axes>"
      ]
     },
     "metadata": {
      "needs_background": "light"
     },
     "output_type": "display_data"
    }
   ],
   "source": [
    "# GA CANONICAL HYPERPARAMETERS\n",
    "MAX_GENERATION = 10\n",
    "POPULATION_SIZE = 20\n",
    "SELECTED_SIZE = 15\n",
    "OFFSPRING_SIZE = 15\n",
    "CROSSOVER_PROBABILITY = 0.8\n",
    "MUTATION_PROBABILITY = 0.01\n",
    "\n",
    "args3 = IndividualArguments(domain_3, eps_3, n_var_3, GEN_SIZE_3, Representation.DECIMAL)\n",
    "initial_population = [Individual.newRandom(args3) for _ in range(POPULATION_SIZE)]\n",
    "\n",
    "# PIPELINE GA\n",
    "best = genenetic_algorithm(max_generation=MAX_GENERATION,\n",
    "                           fitness=f3,\n",
    "                           population=initial_population,\n",
    "                           selection=TournamentSelection(num_individuals=SELECTED_SIZE, tournament_size=5),\n",
    "                           crossover=OnePointCrossover(probability=CROSSOVER_PROBABILITY),\n",
    "                           mutation=UniformMutation(probability=MUTATION_PROBABILITY))\n"
   ]
  },
  {
   "cell_type": "markdown",
   "metadata": {},
   "source": [
    "#### Evalúe la intensidad de selección para cada uno de los métodos de selección en la pregunta (2).\n"
   ]
  },
  {
   "cell_type": "code",
   "execution_count": 66,
   "metadata": {},
   "outputs": [
    {
     "name": "stdout",
     "output_type": "stream",
     "text": [
      "Generación: 1, número de descendientes: 12, intensidad: -0.2100246289496848\n",
      "Generación: 2, número de descendientes: 4, intensidad: -0.3703581578321642\n",
      "Generación: 3, número de descendientes: 8, intensidad: 0.2584035400524048\n",
      "Generación: 4, número de descendientes: 12, intensidad: 0.4236744490510514\n",
      "Generación: 5, número de descendientes: 13, intensidad: 0.16046222351602074\n",
      "Generación: 6, número de descendientes: 10, intensidad: -0.16021677014602012\n",
      "Generación: 7, número de descendientes: 15, intensidad: 0.033868075341864895\n",
      "Generación: 8, número de descendientes: 10, intensidad: 0.30820480181575294\n",
      "Generación: 9, número de descendientes: 14, intensidad: -0.1301430464553659\n",
      "Generación: 10, número de descendientes: 13, intensidad: 0.04621262795342135\n"
     ]
    },
    {
     "data": {
      "image/png": "[encoded data removed]",
      "text/plain": [
       "<Figure size 432x288 with 1 Axes>"
      ]
     },
     "metadata": {
      "needs_background": "light"
     },
     "output_type": "display_data"
    }
   ],
   "source": [
    "# PIPELINE GA PROPORTIONAL SELECTION\n",
    "best = genenetic_algorithm(max_generation=MAX_GENERATION,\n",
    "                           fitness=f3,\n",
    "                           population=initial_population,\n",
    "                           selection=ProportionalSelection(num_individuals=SELECTED_SIZE, delta=10),\n",
    "                           crossover=OnePointCrossover(probability=CROSSOVER_PROBABILITY),\n",
    "                           mutation=OneFlipMutation(probability=MUTATION_PROBABILITY))\n"
   ]
  },
  {
   "cell_type": "code",
   "execution_count": 67,
   "metadata": {},
   "outputs": [
    {
     "name": "stdout",
     "output_type": "stream",
     "text": [
      "Optimal value with Proportional Selection\n",
      " x* = [16.214231, 35.649834, 34.417184, 57.040718], f(x*) = 0.022547564966860112\n"
     ]
    }
   ],
   "source": [
    "solution = min(best, key=lambda x: f3(x.phenotype))\n",
    "print(f\"Optimal value with Proportional Selection\\n x* = {solution.phenotype}, f(x*) = {f3(solution.phenotype)}\")"
   ]
  },
  {
   "cell_type": "code",
   "execution_count": 68,
   "metadata": {},
   "outputs": [
    {
     "name": "stdout",
     "output_type": "stream",
     "text": [
      "Generación: 1, número de descendientes: 12, intensidad: -0.28011957162084067\n",
      "Generación: 2, número de descendientes: 10, intensidad: -0.42501470992714047\n",
      "Generación: 3, número de descendientes: 12, intensidad: -0.31944072677017915\n",
      "Generación: 4, número de descendientes: 12, intensidad: -0.34124119113958695\n",
      "Generación: 5, número de descendientes: 8, intensidad: -0.695881294259701\n",
      "Generación: 6, número de descendientes: 14, intensidad: -0.4961745417251101\n",
      "Generación: 7, número de descendientes: 12, intensidad: 1.6366980589569193\n",
      "Generación: 8, número de descendientes: 11, intensidad: -0.2672612419124245\n",
      "Generación: 9, número de descendientes: 11, intensidad: 0.0\n",
      "Generación: 10, número de descendientes: 8, intensidad: 0.0\n"
     ]
    },
    {
     "data": {
      "image/png": "[encoded data removed]",
      "text/plain": [
       "<Figure size 432x288 with 1 Axes>"
      ]
     },
     "metadata": {
      "needs_background": "light"
     },
     "output_type": "display_data"
    }
   ],
   "source": [
    "# PIPELINE GA LINEAR RANKING SELECTION\n",
    "best = genenetic_algorithm(max_generation=MAX_GENERATION,\n",
    "                           fitness=f3,\n",
    "                           population=initial_population,\n",
    "                           selection=LinearRankingSelection(num_individuals=SELECTED_SIZE, s=2),\n",
    "                           crossover=OnePointCrossover(probability=CROSSOVER_PROBABILITY),\n",
    "                           mutation=OneFlipMutation(probability=MUTATION_PROBABILITY))\n"
   ]
  },
  {
   "cell_type": "code",
   "execution_count": 69,
   "metadata": {},
   "outputs": [
    {
     "name": "stdout",
     "output_type": "stream",
     "text": [
      "Optimal value with Linear Ranking Selection\n",
      " x* = [12.367881, 32.925635, 49.828007, 55.659029], f(x*) = 6.515461588446051e-06\n"
     ]
    }
   ],
   "source": [
    "solution = min(best, key=lambda x: f3(x.phenotype))\n",
    "print(f\"Optimal value with Linear Ranking Selection\\n x* = {solution.phenotype}, f(x*) = {f3(solution.phenotype)}\")"
   ]
  },
  {
   "cell_type": "code",
   "execution_count": 70,
   "metadata": {},
   "outputs": [
    {
     "name": "stdout",
     "output_type": "stream",
     "text": [
      "Generación: 1, número de descendientes: 12, intensidad: -0.04721117909262252\n",
      "Generación: 2, número de descendientes: 8, intensidad: 0.49489253518500026\n",
      "Generación: 3, número de descendientes: 14, intensidad: 0.1677893679174169\n",
      "Generación: 4, número de descendientes: 8, intensidad: 0.29574122620387494\n",
      "Generación: 5, número de descendientes: 10, intensidad: 0.33178554870865334\n",
      "Generación: 6, número de descendientes: 12, intensidad: 0.134014262487081\n",
      "Generación: 7, número de descendientes: 8, intensidad: 0.4173531046708375\n",
      "Generación: 8, número de descendientes: 14, intensidad: 0.20234665973049173\n",
      "Generación: 9, número de descendientes: 15, intensidad: -0.7004589536603969\n",
      "Generación: 10, número de descendientes: 12, intensidad: 0.0811377450381224\n"
     ]
    },
    {
     "data": {
      "image/png": "[encoded data removed]",
      "text/plain": [
       "<Figure size 432x288 with 1 Axes>"
      ]
     },
     "metadata": {
      "needs_background": "light"
     },
     "output_type": "display_data"
    }
   ],
   "source": [
    "# PIPELINE GA UNIFORM SELECTION\n",
    "best = genenetic_algorithm(max_generation=MAX_GENERATION,\n",
    "                           fitness=f3,\n",
    "                           population=initial_population,\n",
    "                           selection=UniformSelection(num_individuals=SELECTED_SIZE),\n",
    "                           crossover=OnePointCrossover(probability=CROSSOVER_PROBABILITY),\n",
    "                           mutation=UniformMutation(probability=MUTATION_PROBABILITY))\n"
   ]
  },
  {
   "cell_type": "code",
   "execution_count": 71,
   "metadata": {},
   "outputs": [
    {
     "name": "stdout",
     "output_type": "stream",
     "text": [
      "Optimal value with Uniform Selection\n",
      " x* = [25.747346, 35.649834, 49.972622, 32.601567], f(x*) = 0.17566488790935225\n"
     ]
    }
   ],
   "source": [
    "solution = min(best, key=lambda x: f3(x.phenotype))\n",
    "print(f\"Optimal value with Uniform Selection\\n x* = {solution.phenotype}, f(x*) = {f3(solution.phenotype)}\")\n"
   ]
  },
  {
   "cell_type": "code",
   "execution_count": 72,
   "metadata": {},
   "outputs": [
    {
     "name": "stdout",
     "output_type": "stream",
     "text": [
      "Generación: 1, número de descendientes: 10, intensidad: -0.12633395425117291\n",
      "Generación: 2, número de descendientes: 8, intensidad: -0.530658273733258\n",
      "Generación: 3, número de descendientes: 12, intensidad: -0.4085721407163115\n",
      "Generación: 4, número de descendientes: 10, intensidad: -0.7793085944036462\n",
      "Generación: 5, número de descendientes: 8, intensidad: -0.09697745809095208\n",
      "Generación: 6, número de descendientes: 12, intensidad: -0.20558140667283245\n",
      "Generación: 7, número de descendientes: 10, intensidad: -3.474396144861522\n",
      "Generación: 8, número de descendientes: 10, intensidad: -0.2672612419124237\n",
      "Generación: 9, número de descendientes: 12, intensidad: 0.0\n",
      "Generación: 10, número de descendientes: 12, intensidad: 0.0\n"
     ]
    },
    {
     "data": {
      "image/png": "[encoded data removed]",
      "text/plain": [
       "<Figure size 432x288 with 1 Axes>"
      ]
     },
     "metadata": {
      "needs_background": "light"
     },
     "output_type": "display_data"
    }
   ],
   "source": [
    "# PIPELINE GA ROULETTE SELECTION\n",
    "best = genenetic_algorithm(max_generation=MAX_GENERATION,\n",
    "                           fitness=f3,\n",
    "                           population=initial_population,\n",
    "                           selection=RouletteSelection(num_individuals=SELECTED_SIZE),\n",
    "                           crossover=NPointCrossover(probability=CROSSOVER_PROBABILITY, n=2),\n",
    "                           mutation=OneFlipMutation(probability=MUTATION_PROBABILITY))\n"
   ]
  },
  {
   "cell_type": "code",
   "execution_count": 73,
   "metadata": {},
   "outputs": [
    {
     "name": "stdout",
     "output_type": "stream",
     "text": [
      "Generación: 1, número de descendientes: 10, intensidad: -0.04023567062068599\n",
      "Generación: 2, número de descendientes: 8, intensidad: -0.26631301561881016\n",
      "Generación: 3, número de descendientes: 8, intensidad: -0.49600038011654257\n",
      "Generación: 4, número de descendientes: 12, intensidad: -0.48143631700058764\n",
      "Generación: 5, número de descendientes: 13, intensidad: 0.2509541285835459\n",
      "Generación: 6, número de descendientes: 8, intensidad: -0.272346988489923\n",
      "Generación: 7, número de descendientes: 13, intensidad: -1.467267939837732\n",
      "Generación: 8, número de descendientes: 13, intensidad: -0.26837203555909644\n",
      "Generación: 9, número de descendientes: 14, intensidad: -0.31108260321473125\n",
      "Generación: 10, número de descendientes: 6, intensidad: 0.2672612419124249\n"
     ]
    },
    {
     "data": {
      "image/png": "[encoded data removed]",
      "text/plain": [
       "<Figure size 432x288 with 1 Axes>"
      ]
     },
     "metadata": {
      "needs_background": "light"
     },
     "output_type": "display_data"
    }
   ],
   "source": [
    "# PIPELINE GA ROULETTE SELECTION\n",
    "best = genenetic_algorithm(max_generation=MAX_GENERATION,\n",
    "                           fitness=f3,\n",
    "                           population=initial_population,\n",
    "                           selection=RouletteSelection(num_individuals=SELECTED_SIZE),\n",
    "                           crossover=NPointCrossover(probability=CROSSOVER_PROBABILITY, n=2),\n",
    "                           mutation=UniformMutation(probability=MUTATION_PROBABILITY))\n"
   ]
  },
  {
   "cell_type": "code",
   "execution_count": 74,
   "metadata": {},
   "outputs": [
    {
     "name": "stdout",
     "output_type": "stream",
     "text": [
      "Generación: 1, número de descendientes: 12, intensidad: -0.21378289554090693\n",
      "Generación: 2, número de descendientes: 10, intensidad: -0.027274437892465316\n",
      "Generación: 3, número de descendientes: 10, intensidad: -0.5357086312227762\n",
      "Generación: 4, número de descendientes: 10, intensidad: -0.3116478780451961\n",
      "Generación: 5, número de descendientes: 12, intensidad: -0.3453806516740121\n",
      "Generación: 6, número de descendientes: 8, intensidad: -0.716722421969362\n",
      "Generación: 7, número de descendientes: 14, intensidad: -0.7071067811865472\n",
      "Generación: 8, número de descendientes: 8, intensidad: 0.0\n",
      "Generación: 9, número de descendientes: 10, intensidad: 0.0\n",
      "Generación: 10, número de descendientes: 12, intensidad: 0.0\n"
     ]
    },
    {
     "data": {
      "image/png": "[encoded data removed]",
      "text/plain": [
       "<Figure size 432x288 with 1 Axes>"
      ]
     },
     "metadata": {
      "needs_background": "light"
     },
     "output_type": "display_data"
    }
   ],
   "source": [
    "# PIPELINE GA ROULETTE SELECTION\n",
    "best = genenetic_algorithm(max_generation=MAX_GENERATION,\n",
    "                           fitness=f3,\n",
    "                           population=initial_population,\n",
    "                           selection=RouletteSelection(num_individuals=SELECTED_SIZE),\n",
    "                           crossover=NPointCrossover(probability=CROSSOVER_PROBABILITY, n=2),\n",
    "                           mutation=UniformMutation(probability=MUTATION_PROBABILITY))\n"
   ]
  },
  {
   "cell_type": "code",
   "execution_count": 75,
   "metadata": {},
   "outputs": [
    {
     "name": "stdout",
     "output_type": "stream",
     "text": [
      "Optimal value with Roulette Selection\n",
      " x* = [12.367881, 32.925635, 48.852745, 52.832262], f(x*) = 0.00018216356887707657\n"
     ]
    }
   ],
   "source": [
    "solution = min(best, key=lambda x: f3(x.phenotype))\n",
    "print(f\"Optimal value with Roulette Selection\\n x* = {solution.phenotype}, f(x*) = {f3(solution.phenotype)}\")\n"
   ]
  }
 ],
 "metadata": {
  "interpreter": {
   "hash": "590f4a299ae404e723bbc5f32e9a7b98b836c3c65ce9112bc934ac92a06ceee3"
  },
  "kernelspec": {
   "display_name": "Python 3.10.4 64-bit",
   "language": "python",
   "name": "python3"
  },
  "language_info": {
   "codemirror_mode": {
    "name": "ipython",
    "version": 3
   },
   "file_extension": ".py",
   "mimetype": "text/x-python",
   "name": "python",
   "nbconvert_exporter": "python",
   "pygments_lexer": "ipython3",
   "version": "3.10.6"
  },
  "orig_nbformat": 4
 },
 "nbformat": 4,
 "nbformat_minor": 2
}

{
 "cells": [
  {
   "cell_type": "markdown",
   "metadata": {},
   "source": [
    "# Curso: CC521 A Programación Evolutiva 2022-1\n",
    "Alumno: Jordi Joel Bardales Rojas"
   ]
  },
  {
   "cell_type": "markdown",
   "metadata": {},
   "source": [
    "# Práctica dirigida: Representación y Selección \n"
   ]
  },
  {
   "cell_type": "code",
   "execution_count": 560,
   "metadata": {},
   "outputs": [],
   "source": [
    "from __future__ import annotations\n",
    "import math\n",
    "import numpy as np\n",
    "from enum import Enum\n",
    "from bin_repr import dec2bin, bin2gray, my_map, inverse_map, bin2dec, gray2bin\n",
    "import copy\n",
    "import random \n",
    "import matplotlib.pyplot as plt\n",
    "from typing import Callable,  NamedTuple\n",
    "from itertools import combinations\n",
    "from abc import ABC, abstractmethod\n",
    "\n",
    "class Representation(Enum):\n",
    "    BIN = 0\n",
    "    GRAY = 1\n",
    "    DECIMAL = 2"
   ]
  },
  {
   "cell_type": "markdown",
   "metadata": {},
   "source": [
    "# Problemas de optimización\n",
    "Este laboratorio se mostrará varios métodos de selección como la selección proporcional, ranking lineal, torneo, uniforme y selección ruleta, luego se medirá la intensidad de selección en un problema de minimización.\n"
   ]
  },
  {
   "cell_type": "markdown",
   "metadata": {},
   "source": [
    "## 1. Dado los siguientes problemas de minimización de una función $\\min_\\mathbf{x}f(\\mathbf{x})$\n"
   ]
  },
  {
   "cell_type": "code",
   "execution_count": 561,
   "metadata": {},
   "outputs": [],
   "source": [
    "f1 = lambda x: x[0]**4 + 5*x[0]**3 + 4*x[0]**2 - 4*x[0] + 1\n",
    "f2 = lambda x: 0.2 + x[0]**2 + x[1]**2 - 0.1*math.cos(6*math.pi*x[0]) - 0.1*math.sin(6*math.pi*x[1])\n",
    "f3 = lambda x: math.pow(1/6.931 - x[0]*x[1]/(x[2]*x[3]), 2)\n"
   ]
  },
  {
   "cell_type": "markdown",
   "metadata": {},
   "source": [
    "Dominio"
   ]
  },
  {
   "cell_type": "code",
   "execution_count": 562,
   "metadata": {},
   "outputs": [],
   "source": [
    "domain_1, n_var_1 = [-4.0, 1], 1\n",
    "domain_2, n_var_2 = [-1, 1.0], 2\n",
    "domain_3, n_var_3 = [12, 60.], 4\n"
   ]
  },
  {
   "cell_type": "markdown",
   "metadata": {},
   "source": [
    "Parámetros del individuo tipados"
   ]
  },
  {
   "cell_type": "code",
   "execution_count": 563,
   "metadata": {},
   "outputs": [],
   "source": [
    "class IndividualArguments(NamedTuple):\n",
    "    domain: tuple[int, int]\n",
    "    eps: float\n",
    "    n_var: int\n",
    "    gen_size: int\n",
    "    default_repr: Representation = Representation.DECIMAL\n"
   ]
  },
  {
   "cell_type": "markdown",
   "metadata": {},
   "source": [
    "Clase individuo "
   ]
  },
  {
   "cell_type": "code",
   "execution_count": 564,
   "metadata": {},
   "outputs": [],
   "source": [
    "class Individual():\n",
    "    def __init__(self, phenotype: list[float], args: IndividualArguments):\n",
    "        self.domain = args.domain\n",
    "        self.eps = args.eps\n",
    "        self.n_var = args.n_var\n",
    "        self.gen_size = args.gen_size\n",
    "        self.default_repr = args.default_repr\n",
    "        self.phenotype = phenotype\n",
    "\n",
    "    def getGenotype(self, my_repr: Representation = None):\n",
    "        my_repr = self.default_repr if my_repr == None else my_repr\n",
    "        list_repr: list[int] = []\n",
    "        if my_repr == Representation.BIN:\n",
    "            for gen in self.phenotype:\n",
    "                list_repr.extend(dec2bin(num=my_map(gen, self.domain[0], self.domain[1], self.eps),\n",
    "                                         bits=self.gen_size))\n",
    "        elif my_repr == Representation.GRAY:\n",
    "            for gen in self.phenotype:\n",
    "                list_repr.extend(bin2gray(dec2bin(num=my_map(gen, self.domain[0], self.domain[1], self.eps),\n",
    "                                                  bits=self.gen_size)))\n",
    "        else:\n",
    "            list_repr = copy.deepcopy(self.phenotype)\n",
    "        return list_repr\n",
    "\n",
    "    @classmethod\n",
    "    def new(cls, genotype, args: IndividualArguments):\n",
    "        phenotype: list[int] = []\n",
    "        if args.default_repr == Representation.BIN:\n",
    "            for k in range(args.n_var):\n",
    "                gen = genotype[args.gen_size * k:args.gen_size * (k + 1)]\n",
    "                phenotype.append(inverse_map(bin2dec(gen), args.domain[0], args.eps))\n",
    "        elif args.default_repr == Representation.GRAY:\n",
    "            for k in range(args.n_var):\n",
    "                gen = genotype[args.gen_size * k:args.gen_size * (k + 1)]\n",
    "                phenotype.append(inverse_map(bin2dec(gray2bin(gen)), args.domain[0], args.eps))\n",
    "        else:\n",
    "            phenotype = copy.deepcopy(genotype)\n",
    "\n",
    "        return cls(phenotype, args)\n",
    "\n",
    "    @staticmethod\n",
    "    def newLike(genotype: list[int], parent: Individual):\n",
    "        args = IndividualArguments(parent.domain, parent.eps, parent.n_var, parent.gen_size, parent.default_repr)\n",
    "        return Individual.new(genotype, args)\n",
    "\n",
    "    @classmethod\n",
    "    def newRandom(cls, args: IndividualArguments):\n",
    "        phenotype = [round(random.uniform(args.domain[0], args.domain[1]), 6) for _ in range(args.n_var)]\n",
    "        return cls(phenotype, args)\n"
   ]
  },
  {
   "cell_type": "markdown",
   "metadata": {},
   "source": [
    "### a) Representación del problema (1)\n",
    "Implemente un programa en python que represente el cromosoma como una cadena binaria de 10 dígitos (10 bits) y muestre/imprima el Fenotipo y su representación binaria para una población de 10 individuos."
   ]
  },
  {
   "cell_type": "code",
   "execution_count": 565,
   "metadata": {},
   "outputs": [
    {
     "name": "stdout",
     "output_type": "stream",
     "text": [
      "Representación binaria\n",
      "Genotipo 0 = [0, 0, 0, 0, 0, 1, 0, 0, 1, 0] Fenotipo 0 = [-3.914121]\n",
      "Genotipo 1 = [1, 1, 0, 0, 0, 1, 1, 0, 0, 0] Fenotipo 1 = [-0.131386]\n",
      "Genotipo 2 = [0, 1, 0, 0, 1, 1, 1, 0, 0, 0] Fenotipo 2 = [-2.475812]\n",
      "Genotipo 3 = [1, 1, 0, 1, 1, 0, 0, 1, 0, 1] Fenotipo 3 = [0.248193]\n",
      "Genotipo 4 = [0, 0, 1, 1, 0, 1, 1, 1, 1, 0] Fenotipo 4 = [-2.913855]\n",
      "Genotipo 5 = [0, 1, 0, 1, 0, 1, 0, 0, 1, 1] Fenotipo 5 = [-2.344748]\n",
      "Genotipo 6 = [0, 1, 0, 0, 0, 1, 0, 1, 1, 1] Fenotipo 6 = [-2.634392]\n",
      "Genotipo 7 = [1, 1, 1, 1, 0, 1, 0, 0, 1, 1] Fenotipo 7 = [0.78342]\n",
      "Genotipo 8 = [0, 1, 1, 0, 1, 1, 0, 1, 1, 0] Fenotipo 8 = [-1.858918]\n",
      "Genotipo 9 = [1, 0, 1, 1, 1, 1, 0, 1, 1, 1] Fenotipo 9 = [-0.289356]\n"
     ]
    }
   ],
   "source": [
    "POPULATION_SIZE = 10\n",
    "GEN_SIZE_1 = 10\n",
    "eps_1 = (domain_1[1] - domain_1[0]) / (2**GEN_SIZE_1 - 1)\n",
    "N_POINTS_1 = 2**GEN_SIZE_1\n",
    "\n",
    "args1 = IndividualArguments(domain_1, eps_1, n_var_1, GEN_SIZE_1, f1)\n",
    "\n",
    "population_1 = [Individual.newRandom(args1) for _ in range(POPULATION_SIZE)]\n",
    "print(\"Representación binaria\")\n",
    "for i, ind in enumerate(population_1):\n",
    "    print(f\"Genotipo {i} = {ind.getGenotype(Representation.BIN)} Fenotipo {i} = {ind.phenotype}\")\n"
   ]
  },
  {
   "cell_type": "markdown",
   "metadata": {},
   "source": [
    "Realizar lo mismo del ítem anterior para la representación en código de Gray."
   ]
  },
  {
   "cell_type": "code",
   "execution_count": 566,
   "metadata": {},
   "outputs": [
    {
     "name": "stdout",
     "output_type": "stream",
     "text": [
      "Representación en código Gray\n",
      "Genotipo 0 = [0, 0, 0, 0, 0, 1, 1, 0, 1, 1] Fenotipo 0 = [-3.914121]\n",
      "Genotipo 1 = [1, 0, 1, 0, 0, 1, 0, 1, 0, 0] Fenotipo 1 = [-0.131386]\n",
      "Genotipo 2 = [0, 1, 1, 0, 1, 0, 0, 1, 0, 0] Fenotipo 2 = [-2.475812]\n",
      "Genotipo 3 = [1, 0, 1, 1, 0, 1, 0, 1, 1, 1] Fenotipo 3 = [0.248193]\n",
      "Genotipo 4 = [0, 0, 1, 0, 1, 1, 0, 0, 0, 1] Fenotipo 4 = [-2.913855]\n",
      "Genotipo 5 = [0, 1, 1, 1, 1, 1, 1, 0, 1, 0] Fenotipo 5 = [-2.344748]\n",
      "Genotipo 6 = [0, 1, 1, 0, 0, 1, 1, 1, 0, 0] Fenotipo 6 = [-2.634392]\n",
      "Genotipo 7 = [1, 0, 0, 0, 1, 1, 1, 0, 1, 0] Fenotipo 7 = [0.78342]\n",
      "Genotipo 8 = [0, 1, 0, 1, 1, 0, 1, 1, 0, 1] Fenotipo 8 = [-1.858918]\n",
      "Genotipo 9 = [1, 1, 1, 0, 0, 0, 1, 1, 0, 0] Fenotipo 9 = [-0.289356]\n"
     ]
    }
   ],
   "source": [
    "print(\"Representación en código Gray\")\n",
    "for i, ind in enumerate(population_1):\n",
    "    print(f\"Genotipo {i} = {ind.getGenotype(Representation.GRAY)} Fenotipo {i} = {ind.phenotype}\")"
   ]
  },
  {
   "cell_type": "markdown",
   "metadata": {},
   "source": [
    "Considerando las representaciones anteriores (cadena de 10 bits) ¿cual sería el tamaño del espacio intrínseco?\n"
   ]
  },
  {
   "cell_type": "code",
   "execution_count": 567,
   "metadata": {},
   "outputs": [
    {
     "name": "stdout",
     "output_type": "stream",
     "text": [
      "El espacio intrinseco tendría 1024 elementos con una precisión de 0.004887585532746823\n"
     ]
    }
   ],
   "source": [
    "print(f\"El espacio intrinseco tendría {N_POINTS_1} elementos con una precisión de {eps_1}\")"
   ]
  },
  {
   "cell_type": "markdown",
   "metadata": {},
   "source": [
    "### b) Representación del problema (2):\n",
    "\n",
    "Implemente un programa en python que represente el cromosoma como una cadena binaria donde $x, y$ estén representados por 5 bits cada uno y luego muestre/imprima el Fenotipo y su\n",
    "representación binaria."
   ]
  },
  {
   "cell_type": "code",
   "execution_count": 568,
   "metadata": {},
   "outputs": [
    {
     "name": "stdout",
     "output_type": "stream",
     "text": [
      "Representación binaria\n",
      "Genotipo 0 = [1, 0, 0, 0, 0, 1, 1, 1, 0, 1] Fenotipo 0 = [0.006921, 0.900884]\n",
      "Genotipo 1 = [1, 1, 1, 0, 1, 0, 1, 0, 1, 0] Fenotipo 1 = [0.841191, -0.349836]\n",
      "Genotipo 2 = [1, 1, 1, 0, 1, 1, 0, 1, 0, 1] Fenotipo 2 = [0.899701, 0.367053]\n",
      "Genotipo 3 = [1, 0, 1, 0, 1, 1, 1, 0, 0, 0] Fenotipo 3 = [0.364547, 0.560538]\n",
      "Genotipo 4 = [0, 1, 1, 1, 0, 0, 0, 1, 0, 0] Fenotipo 4 = [-0.078577, -0.756779]\n",
      "Genotipo 5 = [0, 1, 0, 1, 1, 1, 0, 1, 0, 0] Fenotipo 5 = [-0.292888, 0.285503]\n",
      "Genotipo 6 = [0, 0, 0, 1, 0, 1, 0, 1, 1, 0] Fenotipo 6 = [-0.843499, 0.401395]\n",
      "Genotipo 7 = [1, 1, 0, 0, 1, 0, 1, 0, 1, 1] Fenotipo 7 = [0.61417, -0.309994]\n",
      "Genotipo 8 = [0, 0, 0, 0, 0, 1, 1, 0, 1, 0] Fenotipo 8 = [-0.9712, 0.686897]\n",
      "Genotipo 9 = [0, 0, 0, 1, 0, 0, 1, 1, 0, 0] Fenotipo 9 = [-0.884818, -0.222678]\n"
     ]
    }
   ],
   "source": [
    "POPULATION_SIZE = 10\n",
    "GEN_SIZE_2 = 5\n",
    "eps_2 = (domain_2[1] - domain_2[0]) / (2**GEN_SIZE_2 - 1)\n",
    "N_POINTS_2 = 2**GEN_SIZE_2\n",
    "\n",
    "args2 = IndividualArguments(domain_2, eps_2, n_var_2, GEN_SIZE_2, f2)\n",
    "\n",
    "population_2 = [Individual.newRandom(args2) for _ in range(POPULATION_SIZE)]\n",
    "print(\"Representación binaria\")\n",
    "for i, ind in enumerate(population_2):\n",
    "    print(f\"Genotipo {i} = {ind.getGenotype(Representation.BIN)} Fenotipo {i} = {ind.phenotype}\")"
   ]
  },
  {
   "cell_type": "markdown",
   "metadata": {},
   "source": [
    "Realizar lo mismo del ítem anterior para la representación en código de Gray"
   ]
  },
  {
   "cell_type": "code",
   "execution_count": 569,
   "metadata": {},
   "outputs": [
    {
     "name": "stdout",
     "output_type": "stream",
     "text": [
      "Representación en código Gray\n",
      "Genotipo 0 = [1, 1, 0, 0, 0, 1, 0, 0, 1, 1] Fenotipo 0 = [0.006921, 0.900884]\n",
      "Genotipo 1 = [1, 0, 0, 1, 1, 0, 1, 1, 1, 1] Fenotipo 1 = [0.841191, -0.349836]\n",
      "Genotipo 2 = [1, 0, 0, 1, 1, 1, 1, 1, 1, 1] Fenotipo 2 = [0.899701, 0.367053]\n",
      "Genotipo 3 = [1, 1, 1, 1, 1, 1, 0, 1, 0, 0] Fenotipo 3 = [0.364547, 0.560538]\n",
      "Genotipo 4 = [0, 1, 0, 0, 1, 0, 0, 1, 1, 0] Fenotipo 4 = [-0.078577, -0.756779]\n",
      "Genotipo 5 = [0, 1, 1, 1, 0, 1, 1, 1, 1, 0] Fenotipo 5 = [-0.292888, 0.285503]\n",
      "Genotipo 6 = [0, 0, 0, 1, 1, 1, 1, 1, 0, 1] Fenotipo 6 = [-0.843499, 0.401395]\n",
      "Genotipo 7 = [1, 0, 1, 0, 1, 0, 1, 1, 1, 0] Fenotipo 7 = [0.61417, -0.309994]\n",
      "Genotipo 8 = [0, 0, 0, 0, 0, 1, 0, 1, 1, 1] Fenotipo 8 = [-0.9712, 0.686897]\n",
      "Genotipo 9 = [0, 0, 0, 1, 1, 0, 1, 0, 1, 0] Fenotipo 9 = [-0.884818, -0.222678]\n"
     ]
    }
   ],
   "source": [
    "print(\"Representación en código Gray\")\n",
    "for i, ind in enumerate(population_2):\n",
    "    print(f\"Genotipo {i} = {ind.getGenotype(Representation.GRAY)} Fenotipo {i} = {ind.phenotype}\")"
   ]
  },
  {
   "cell_type": "markdown",
   "metadata": {},
   "source": [
    "Realizar lo mismo del ítem anterior para la representación real"
   ]
  },
  {
   "cell_type": "code",
   "execution_count": 570,
   "metadata": {},
   "outputs": [
    {
     "name": "stdout",
     "output_type": "stream",
     "text": [
      "Representación real\n",
      "Individuo 0 = [0.006921, 0.900884]\n",
      "Individuo 1 = [0.841191, -0.349836]\n",
      "Individuo 2 = [0.899701, 0.367053]\n",
      "Individuo 3 = [0.364547, 0.560538]\n",
      "Individuo 4 = [-0.078577, -0.756779]\n",
      "Individuo 5 = [-0.292888, 0.285503]\n",
      "Individuo 6 = [-0.843499, 0.401395]\n",
      "Individuo 7 = [0.61417, -0.309994]\n",
      "Individuo 8 = [-0.9712, 0.686897]\n",
      "Individuo 9 = [-0.884818, -0.222678]\n"
     ]
    }
   ],
   "source": [
    "print(\"Representación real\")\n",
    "for i, ind in enumerate(population_2):\n",
    "    print(f\"Individuo {i} = {ind.phenotype}\")"
   ]
  },
  {
   "cell_type": "markdown",
   "metadata": {},
   "source": [
    "Considerando las representaciones anteriores (cadena de 10 bits y representación real) ¿cual sería el tamaño del espacio intrínseco?\n"
   ]
  },
  {
   "cell_type": "code",
   "execution_count": 571,
   "metadata": {},
   "outputs": [
    {
     "name": "stdout",
     "output_type": "stream",
     "text": [
      "El espacio intrinseco tendría 32 x 32 = 1024 elementos con una precisión de 0.06451612903225806\n"
     ]
    }
   ],
   "source": [
    "print(f\"El espacio intrinseco tendría {N_POINTS_2} x {N_POINTS_2} = {2**(2*GEN_SIZE_2)} elementos con una precisión de {eps_2}\")"
   ]
  },
  {
   "cell_type": "markdown",
   "metadata": {},
   "source": [
    "### c) Representación del problema (3):\n",
    "\n",
    "Implemente un programa en python que represente el cromosoma como una cadena binaria donde $x_1, x_2, x_3, x_4$ estén representados por 6 bits cada uno y luego muestre/imprima el Fenotipo y su representación binaria.\n"
   ]
  },
  {
   "cell_type": "code",
   "execution_count": 572,
   "metadata": {},
   "outputs": [
    {
     "name": "stdout",
     "output_type": "stream",
     "text": [
      "Representación binaria\n",
      "Genotipo 0 = [1, 1, 0, 0, 0, 0, 0, 0, 0, 1, 0, 0, 1, 1, 0, 0, 0, 0, 1, 1, 1, 1, 1, 0] Fenotipo 0 = [48.235886, 15.001365, 48.257308, 59.145676]\n",
      "Genotipo 1 = [1, 0, 1, 0, 1, 1, 1, 1, 0, 0, 0, 1, 0, 0, 0, 0, 1, 0, 1, 0, 1, 0, 1, 0] Fenotipo 1 = [44.630056, 49.182551, 13.237768, 43.704849]\n",
      "Genotipo 2 = [1, 0, 1, 0, 0, 1, 1, 0, 0, 0, 1, 1, 0, 1, 0, 1, 0, 0, 1, 0, 0, 0, 1, 0] Fenotipo 2 = [43.431189, 38.873368, 27.285933, 37.845266]\n",
      "Genotipo 3 = [0, 1, 1, 1, 1, 0, 0, 1, 1, 0, 1, 1, 1, 1, 1, 0, 1, 1, 1, 0, 0, 1, 1, 1] Fenotipo 3 = [34.699079, 32.429633, 56.778843, 41.38937]\n",
      "Genotipo 4 = [1, 1, 1, 0, 0, 0, 1, 0, 1, 0, 0, 0, 0, 0, 0, 1, 0, 1, 0, 1, 0, 0, 0, 0] Fenotipo 4 = [54.473489, 42.659395, 15.69235, 24.052769]\n",
      "Genotipo 5 = [1, 1, 0, 1, 1, 1, 1, 0, 1, 1, 1, 0, 0, 1, 1, 1, 0, 0, 0, 1, 0, 1, 1, 1] Fenotipo 5 = [54.233864, 46.800456, 33.012641, 29.150955]\n",
      "Genotipo 6 = [1, 0, 1, 1, 0, 0, 0, 0, 0, 0, 1, 0, 0, 1, 1, 0, 1, 0, 1, 0, 0, 1, 0, 1] Fenotipo 6 = [45.345028, 13.303076, 31.999298, 39.860591]\n",
      "Genotipo 7 = [1, 1, 1, 1, 0, 0, 0, 0, 1, 0, 1, 0, 1, 0, 0, 1, 0, 1, 1, 1, 0, 0, 0, 1] Fenotipo 7 = [57.395328, 19.649783, 39.875548, 49.602804]\n",
      "Genotipo 8 = [1, 0, 1, 0, 1, 0, 0, 1, 0, 1, 0, 1, 1, 0, 0, 0, 1, 0, 1, 0, 1, 0, 0, 0] Fenotipo 8 = [43.860011, 28.326346, 38.248186, 42.510411]\n",
      "Genotipo 9 = [1, 0, 1, 1, 0, 1, 1, 1, 1, 0, 0, 0, 1, 0, 1, 0, 1, 1, 1, 1, 0, 0, 0, 1] Fenotipo 9 = [46.551941, 54.673829, 45.068754, 49.435203]\n"
     ]
    }
   ],
   "source": [
    "POPULATION_SIZE = 10\n",
    "GEN_SIZE_3 = 6\n",
    "eps_3 = (60 - 12) / (2**GEN_SIZE_3 - 1)\n",
    "N_POINTS_3 = 2**GEN_SIZE_3\n",
    "\n",
    "args3 = IndividualArguments(domain_3, eps_3, n_var_3, GEN_SIZE_3, f3)\n",
    "\n",
    "population_3 = [Individual.newRandom(args3) for _ in range(POPULATION_SIZE)]\n",
    "print(\"Representación binaria\")\n",
    "for i, ind in enumerate(population_3):\n",
    "    print(f\"Genotipo {i} = {ind.getGenotype(Representation.BIN)} Fenotipo {i} = {ind.phenotype}\")"
   ]
  },
  {
   "cell_type": "markdown",
   "metadata": {},
   "source": [
    "Realizar lo mismo del ítem anterior para la representación en código de Gray"
   ]
  },
  {
   "cell_type": "code",
   "execution_count": 573,
   "metadata": {},
   "outputs": [
    {
     "name": "stdout",
     "output_type": "stream",
     "text": [
      "Genotipo 0 = [1, 0, 1, 0, 0, 0, 0, 0, 0, 1, 1, 0, 1, 0, 1, 0, 0, 0, 1, 0, 0, 0, 0, 1] Fenotipo 0 = [48.235886, 15.001365, 48.257308, 59.145676]\n",
      "Genotipo 1 = [1, 1, 1, 1, 1, 0, 1, 0, 1, 0, 0, 1, 0, 0, 0, 0, 1, 1, 1, 1, 1, 1, 1, 1] Fenotipo 1 = [44.630056, 49.182551, 13.237768, 43.704849]\n",
      "Genotipo 2 = [1, 1, 1, 1, 0, 1, 1, 1, 0, 0, 1, 0, 0, 1, 1, 1, 1, 0, 1, 1, 0, 0, 1, 1] Fenotipo 2 = [43.431189, 38.873368, 27.285933, 37.845266]\n",
      "Genotipo 3 = [0, 1, 0, 0, 0, 1, 0, 1, 0, 1, 1, 0, 1, 0, 0, 1, 1, 0, 1, 1, 0, 1, 0, 0] Fenotipo 3 = [34.699079, 32.429633, 56.778843, 41.38937]\n",
      "Genotipo 4 = [1, 0, 0, 1, 0, 0, 1, 1, 1, 1, 0, 0, 0, 0, 0, 1, 1, 1, 0, 1, 1, 0, 0, 0] Fenotipo 4 = [54.473489, 42.659395, 15.69235, 24.052769]\n",
      "Genotipo 5 = [1, 0, 1, 1, 0, 0, 1, 1, 1, 0, 0, 1, 0, 1, 0, 0, 1, 0, 0, 1, 1, 1, 0, 0] Fenotipo 5 = [54.233864, 46.800456, 33.012641, 29.150955]\n",
      "Genotipo 6 = [1, 1, 1, 0, 1, 0, 0, 0, 0, 0, 1, 1, 0, 1, 0, 1, 1, 1, 1, 1, 0, 1, 1, 1] Fenotipo 6 = [45.345028, 13.303076, 31.999298, 39.860591]\n",
      "Genotipo 7 = [1, 0, 0, 0, 1, 0, 0, 0, 1, 1, 1, 1, 1, 1, 0, 1, 1, 1, 1, 0, 1, 0, 0, 1] Fenotipo 7 = [57.395328, 19.649783, 39.875548, 49.602804]\n",
      "Genotipo 8 = [1, 1, 1, 1, 1, 1, 0, 1, 1, 1, 1, 1, 1, 1, 0, 0, 1, 1, 1, 1, 1, 1, 0, 0] Fenotipo 8 = [43.860011, 28.326346, 38.248186, 42.510411]\n",
      "Genotipo 9 = [1, 1, 1, 0, 1, 1, 1, 0, 0, 1, 0, 0, 1, 1, 1, 1, 1, 0, 1, 0, 1, 0, 0, 1] Fenotipo 9 = [46.551941, 54.673829, 45.068754, 49.435203]\n"
     ]
    }
   ],
   "source": [
    "for i, ind in enumerate(population_3):\n",
    "    print(f\"Genotipo {i} = {ind.getGenotype(Representation.GRAY)} Fenotipo {i} = {ind.phenotype}\")"
   ]
  },
  {
   "cell_type": "markdown",
   "metadata": {},
   "source": [
    "Realizar lo mismo del ítem anterior para la representación real."
   ]
  },
  {
   "cell_type": "code",
   "execution_count": 574,
   "metadata": {},
   "outputs": [
    {
     "name": "stdout",
     "output_type": "stream",
     "text": [
      "Individuo 0 = [48.235886, 15.001365, 48.257308, 59.145676]\n",
      "Individuo 1 = [44.630056, 49.182551, 13.237768, 43.704849]\n",
      "Individuo 2 = [43.431189, 38.873368, 27.285933, 37.845266]\n",
      "Individuo 3 = [34.699079, 32.429633, 56.778843, 41.38937]\n",
      "Individuo 4 = [54.473489, 42.659395, 15.69235, 24.052769]\n",
      "Individuo 5 = [54.233864, 46.800456, 33.012641, 29.150955]\n",
      "Individuo 6 = [45.345028, 13.303076, 31.999298, 39.860591]\n",
      "Individuo 7 = [57.395328, 19.649783, 39.875548, 49.602804]\n",
      "Individuo 8 = [43.860011, 28.326346, 38.248186, 42.510411]\n",
      "Individuo 9 = [46.551941, 54.673829, 45.068754, 49.435203]\n"
     ]
    }
   ],
   "source": [
    "for i, ind in enumerate(population_3):\n",
    "    print(f\"Individuo {i} = {ind.getGenotype(Representation.DECIMAL)}\")"
   ]
  },
  {
   "cell_type": "markdown",
   "metadata": {},
   "source": [
    "Considerando las representaciones anteriores (cadena de bits, representación real) ¿cual seria el tamaño del espacio intrínseco"
   ]
  },
  {
   "cell_type": "code",
   "execution_count": 575,
   "metadata": {},
   "outputs": [
    {
     "name": "stdout",
     "output_type": "stream",
     "text": [
      "El espacio intrinseco tendría 64x64x64x64=16777216 elementos con una precisión de 0.7619047619047619\n"
     ]
    }
   ],
   "source": [
    "print(f\"El espacio intrinseco tendría {N_POINTS_3}x{N_POINTS_3}x{N_POINTS_3}x{N_POINTS_3}={2**(4*GEN_SIZE_3)} elementos con una precisión de {eps_3}\")"
   ]
  },
  {
   "cell_type": "markdown",
   "metadata": {},
   "source": [
    "## 2. Gestión de la población: de la teoría se sabe que los métodos de selección son independientes del método de representación del algoritmo evolutivo, implemente los siguientes métodos de selección en python:"
   ]
  },
  {
   "cell_type": "markdown",
   "metadata": {},
   "source": [
    "## Selection"
   ]
  },
  {
   "cell_type": "code",
   "execution_count": 576,
   "metadata": {},
   "outputs": [],
   "source": [
    "class Selection(ABC):\n",
    "    def __init__(self, num_individuals: int):\n",
    "        self.num_individuals = num_individuals\n",
    "\n",
    "    @abstractmethod\n",
    "    def get_individuals(self, population: list[Individual], fitness: list[float]):\n",
    "        pass\n",
    "\n",
    "    @staticmethod\n",
    "    def intensity(prev_fitness: list[float], curr_fitness: list[float]):\n",
    "        prev_fitness = np.array(prev_fitness)\n",
    "        curr_fitness = np.array(curr_fitness)\n",
    "        mean_prev = np.mean(prev_fitness)   # f\n",
    "        mean_curr = np.mean(curr_fitness)   # g\n",
    "        std_prev = np.std(prev_fitness)     # f \n",
    "        return (mean_curr - mean_prev) / std_prev if std_prev != 0.0 else 0.0\n"
   ]
  },
  {
   "cell_type": "markdown",
   "metadata": {},
   "source": [
    "De una población de 10 individuos se seleccionarán 5 individuos del problema 2"
   ]
  },
  {
   "cell_type": "code",
   "execution_count": 577,
   "metadata": {},
   "outputs": [
    {
     "name": "stdout",
     "output_type": "stream",
     "text": [
      "Individuo 0 = [0.385852, 0.146741]\n",
      "Individuo 1 = [-0.84245, 0.382142]\n",
      "Individuo 2 = [-0.369355, -0.898481]\n",
      "Individuo 3 = [-0.374426, 0.817075]\n",
      "Individuo 4 = [0.702347, 0.369933]\n",
      "Individuo 5 = [-0.423479, -0.131547]\n",
      "Individuo 6 = [-0.610845, -0.70721]\n",
      "Individuo 7 = [-0.535791, 0.941648]\n",
      "Individuo 8 = [0.115228, 0.762114]\n",
      "Individuo 9 = [0.261679, -0.128341]\n"
     ]
    }
   ],
   "source": [
    "POPULATION_SIZE = 10\n",
    "SELECTED_SIZE = 5\n",
    "args2 = IndividualArguments(domain_2, eps_2, n_var_2, GEN_SIZE_2, Representation.GRAY)\n",
    "initial_population = [Individual.newRandom(args2) for _ in range(POPULATION_SIZE)]\n",
    "fitness_population = [f2(ind.phenotype) for ind in initial_population]\n",
    "for i, ind in enumerate(initial_population):\n",
    "    print(f\"Individuo {i} = {ind.getGenotype(Representation.DECIMAL)}\")"
   ]
  },
  {
   "cell_type": "markdown",
   "metadata": {},
   "source": [
    "### Método de selección proporcional"
   ]
  },
  {
   "cell_type": "code",
   "execution_count": 578,
   "metadata": {},
   "outputs": [],
   "source": [
    "class ProportionalSelection(Selection):\n",
    "    def __init__(self, num_individuals: int, delta: float = 0.0):\n",
    "        super().__init__(num_individuals)\n",
    "        # fi + 10, fi + 100\n",
    "        self.delta = delta\n",
    "\n",
    "    def get_individuals(self, population: list[Individual], fitness: list[float]):\n",
    "        f_max = max(fitness)\n",
    "        # individuos con menor fitness (f_max - f) tienen mayor probabilidad de ser seleccionados  \n",
    "        # presión de selección\n",
    "        fitness = f_max - np.array(fitness) + 1e-4 + self.delta\n",
    "        distribution = fitness / fitness.sum()\n",
    "        return random.choices(population, weights=distribution, k=self.num_individuals)\n"
   ]
  },
  {
   "cell_type": "code",
   "execution_count": 579,
   "metadata": {},
   "outputs": [
    {
     "name": "stdout",
     "output_type": "stream",
     "text": [
      "Individuo 0 = [0.385852, 0.146741]\n",
      "Individuo 1 = [-0.374426, 0.817075]\n",
      "Individuo 2 = [-0.374426, 0.817075]\n",
      "Individuo 3 = [-0.84245, 0.382142]\n",
      "Individuo 4 = [0.261679, -0.128341]\n"
     ]
    }
   ],
   "source": [
    "selected = ProportionalSelection(num_individuals=SELECTED_SIZE, delta=10).get_individuals(initial_population, fitness_population)\n",
    "for i, ind in enumerate(selected):\n",
    "    print(f\"Individuo {i} = {ind.phenotype}\")\n"
   ]
  },
  {
   "cell_type": "markdown",
   "metadata": {},
   "source": [
    "### Método de selección basada en ranking lineal"
   ]
  },
  {
   "cell_type": "code",
   "execution_count": 580,
   "metadata": {},
   "outputs": [],
   "source": [
    "class LinearRankingSelection(Selection):\n",
    "    def __init__(self, num_individuals: int, s: float):\n",
    "        super().__init__(num_individuals)\n",
    "        self.s = s\n",
    "\n",
    "    def get_individuals(self, population: list[Individual], fitness: list[float]):\n",
    "        mu = len(population)\n",
    "        pop_fit = zip(population, fitness)\n",
    "        sorted_pop_fit = sorted(pop_fit, key=lambda val: val[1], reverse=True)\n",
    "        pop_fit = list(zip(*sorted_pop_fit))\n",
    "        distribution = [(2 - self.s) / mu + 2 * i * (self.s - 1) / (mu * (mu - 1)) for i in range(mu)]\n",
    "\n",
    "        return random.choices(pop_fit[0], weights=distribution, k=self.num_individuals)\n"
   ]
  },
  {
   "cell_type": "code",
   "execution_count": 581,
   "metadata": {},
   "outputs": [
    {
     "name": "stdout",
     "output_type": "stream",
     "text": [
      "Individuo 0 = [0.261679, -0.128341]\n",
      "Individuo 1 = [-0.423479, -0.131547]\n",
      "Individuo 2 = [0.261679, -0.128341]\n",
      "Individuo 3 = [0.115228, 0.762114]\n",
      "Individuo 4 = [-0.423479, -0.131547]\n"
     ]
    }
   ],
   "source": [
    "selected = LinearRankingSelection(num_individuals=SELECTED_SIZE, s=1.5).get_individuals(initial_population, fitness_population)\n",
    "for i, ind in enumerate(selected):\n",
    "    print(f\"Individuo {i} = {ind.phenotype}\")\n"
   ]
  },
  {
   "cell_type": "markdown",
   "metadata": {},
   "source": [
    "### Método de torneo"
   ]
  },
  {
   "cell_type": "code",
   "execution_count": 582,
   "metadata": {},
   "outputs": [],
   "source": [
    "class TournamentSelection(Selection):\n",
    "    def __init__(self, num_individuals: int, tournament_size: int):\n",
    "        super().__init__(num_individuals)\n",
    "        self.tournament_size = tournament_size\n",
    "\n",
    "    def get_individuals(self, population: list[Individual], fitness: list[float]):\n",
    "        pop_fit_zipped = list(zip(population, fitness))\n",
    "        selected: list[Individual] = []\n",
    "        for _ in range(self.num_individuals):\n",
    "            candidates = random.choices(pop_fit_zipped, k=self.tournament_size)\n",
    "            selected.append(min(candidates, key=lambda pop_fit: pop_fit[1])[0])\n",
    "        return selected\n"
   ]
  },
  {
   "cell_type": "code",
   "execution_count": 583,
   "metadata": {},
   "outputs": [
    {
     "name": "stdout",
     "output_type": "stream",
     "text": [
      "Individuo 0 = [-0.423479, -0.131547]\n",
      "Individuo 1 = [0.261679, -0.128341]\n",
      "Individuo 2 = [-0.423479, -0.131547]\n",
      "Individuo 3 = [0.702347, 0.369933]\n",
      "Individuo 4 = [0.702347, 0.369933]\n"
     ]
    }
   ],
   "source": [
    "selected = TournamentSelection(num_individuals=SELECTED_SIZE, tournament_size=5).get_individuals(initial_population, fitness_population)\n",
    "for i, ind in enumerate(selected):\n",
    "    print(f\"Individuo {i} = {ind.phenotype}\")\n"
   ]
  },
  {
   "cell_type": "markdown",
   "metadata": {},
   "source": [
    "### Método de selección uniforme"
   ]
  },
  {
   "cell_type": "code",
   "execution_count": 584,
   "metadata": {},
   "outputs": [],
   "source": [
    "class UniformSelection(Selection):\n",
    "    def __init__(self, num_individuals: int):\n",
    "        super().__init__(num_individuals)\n",
    "\n",
    "    def get_individuals(self, population: list[Individual], fitness: list[float] = None):\n",
    "        # por defecto el metodo choice implementa una distribucion uniforme\n",
    "        return random.choices(population, k=self.num_individuals) \n"
   ]
  },
  {
   "cell_type": "code",
   "execution_count": 585,
   "metadata": {},
   "outputs": [
    {
     "name": "stdout",
     "output_type": "stream",
     "text": [
      "Individuo 0 = [0.115228, 0.762114]\n",
      "Individuo 1 = [-0.84245, 0.382142]\n",
      "Individuo 2 = [-0.374426, 0.817075]\n",
      "Individuo 3 = [-0.535791, 0.941648]\n",
      "Individuo 4 = [-0.369355, -0.898481]\n"
     ]
    }
   ],
   "source": [
    "selected = UniformSelection(num_individuals=SELECTED_SIZE).get_individuals(initial_population)\n",
    "for i, ind in enumerate(selected):\n",
    "    print(f\"Individuo {i} = {ind.phenotype}\")\n"
   ]
  },
  {
   "cell_type": "markdown",
   "metadata": {},
   "source": [
    "### Método de de la ruleta"
   ]
  },
  {
   "cell_type": "code",
   "execution_count": 586,
   "metadata": {},
   "outputs": [],
   "source": [
    "class RouletteSelection(Selection):\n",
    "    def __init__(self, num_individuals: int):\n",
    "        super().__init__(num_individuals)\n",
    "\n",
    "    def get_individuals(self, population: list[Individual], fitness: list[float]):\n",
    "        # individuos con menor fitness tienen mayor probabilidad de ser seleccionados\n",
    "        # presion de seleccion\n",
    "        f_max = max(fitness)\n",
    "        fitness = f_max - np.array(fitness) + 1e-4\n",
    "        distribution = np.array(fitness) / sum(fitness)\n",
    "        # el metodo de la ruleta es similar a seleccionar elementos de una lista dada una distribucion de probabilidades\n",
    "        return random.choices(population, weights=distribution, k=self.num_individuals)\n"
   ]
  },
  {
   "cell_type": "code",
   "execution_count": 587,
   "metadata": {},
   "outputs": [
    {
     "name": "stdout",
     "output_type": "stream",
     "text": [
      "Individuo 0 = [0.702347, 0.369933]\n",
      "Individuo 1 = [-0.423479, -0.131547]\n",
      "Individuo 2 = [-0.423479, -0.131547]\n",
      "Individuo 3 = [-0.423479, -0.131547]\n",
      "Individuo 4 = [-0.423479, -0.131547]\n"
     ]
    }
   ],
   "source": [
    "selected = RouletteSelection(num_individuals=SELECTED_SIZE).get_individuals(initial_population, fitness_population)\n",
    "for i, ind in enumerate(selected):\n",
    "    print(f\"Individuo {i} = {ind.phenotype}\")\n"
   ]
  },
  {
   "cell_type": "markdown",
   "metadata": {},
   "source": [
    "## Crossover"
   ]
  },
  {
   "cell_type": "code",
   "execution_count": 588,
   "metadata": {},
   "outputs": [],
   "source": [
    "class Crossover(ABC):\n",
    "    def __init__(self, probability: float):\n",
    "        self.probability = probability\n",
    "    \n",
    "    @abstractmethod\n",
    "    def make(self, p1: Individual, p2: Individual):\n",
    "        pass\n",
    "        "
   ]
  },
  {
   "cell_type": "markdown",
   "metadata": {},
   "source": [
    "### One-Point Crossover"
   ]
  },
  {
   "cell_type": "code",
   "execution_count": 589,
   "metadata": {},
   "outputs": [],
   "source": [
    "class OnePointCrossover(Crossover):\n",
    "    def __init__(self, probability: float):\n",
    "        super().__init__(probability)\n",
    "\n",
    "    def make(self, p1: Individual, p2: Individual):\n",
    "        # dos hijos por pareja\n",
    "        if random.random() < self.probability:\n",
    "            c1 = copy.deepcopy(p1.getGenotype())\n",
    "            c2 = copy.deepcopy(p2.getGenotype())\n",
    "            point = random.randint(1, len(c1) - 2)\n",
    "\n",
    "            c1[point:], c2[point:] = c2[point:], c1[point:]\n",
    "            return Individual.newLike(c1, p1), Individual.newLike(c2, p2)\n",
    "        return None"
   ]
  },
  {
   "cell_type": "markdown",
   "metadata": {},
   "source": [
    "### N-Point Crossover"
   ]
  },
  {
   "cell_type": "code",
   "execution_count": 590,
   "metadata": {},
   "outputs": [],
   "source": [
    "class NPointCrossover(Crossover):\n",
    "    def __init__(self, probability: float, n: int):\n",
    "        super().__init__(probability)\n",
    "        self.n = n\n",
    "\n",
    "    def make(self, p1: Individual, p2: Individual):\n",
    "        # dos hijos por pareja\n",
    "        if random.random() < self.probability:\n",
    "            ps = random.sample(range(1, p1.gen_size * p1.n_var - 1), self.n)\n",
    "            ps.append(0)\n",
    "            ps.append(p1.gen_size * p1.n_var)\n",
    "            ps = sorted(ps)\n",
    "            c1 = copy.deepcopy(p1.getGenotype())\n",
    "            c2 = copy.deepcopy(p2.getGenotype())\n",
    "            for i in range(0, self.n + 1):\n",
    "                if i % 2 == 0:\n",
    "                    continue\n",
    "                c1[ps[i]:ps[i + 1]], c2[ps[i]:ps[i + 1]] = c2[ps[i]:ps[i + 1]], c1[ps[i]:ps[i + 1]]\n",
    "\n",
    "            return Individual.newLike(c1, p1), Individual.newLike(c2, p2)\n",
    "        return None\n"
   ]
  },
  {
   "cell_type": "markdown",
   "metadata": {},
   "source": [
    "### Shuffle Crossover"
   ]
  },
  {
   "cell_type": "code",
   "execution_count": 591,
   "metadata": {},
   "outputs": [],
   "source": [
    "class ShuffleCrossover(Crossover):\n",
    "    def __init__(self, probability: float):\n",
    "        super().__init__(probability)\n",
    "\n",
    "    def make(self, p1: Individual, p2: Individual):\n",
    "        # dos hijos por pareja\n",
    "        if random.random() < self.probability:\n",
    "            index = list(range(0, p1.gen_size * p1.n_var))\n",
    "            random.shuffle(index)\n",
    "\n",
    "            p1_gen = np.array(p1.getGenotype())\n",
    "            p2_gen = np.array(p2.getGenotype())\n",
    "\n",
    "            c1 = np.copy(p1_gen[index])\n",
    "            c2 = np.copy(p1_gen[index])\n",
    "            temp = np.copy(p2_gen[index])\n",
    "\n",
    "            point = random.randint(1, len(c1) - 2)\n",
    "            # slice swap list isn't equals that slice in numpy\n",
    "            c1[point:], c2[:point] = temp[point:], temp[:point]\n",
    "\n",
    "            c1_unshuffle = np.zeros_like(c1, dtype=int)\n",
    "            c2_unshuffle = np.zeros_like(c2, dtype=int)\n",
    "\n",
    "            c1_unshuffle[index] = c1[index]\n",
    "            c2_unshuffle[index] = c2[index]\n",
    "            return Individual.newLike(c1_unshuffle, p1), Individual.newLike(c2_unshuffle, p2)\n",
    "        return None\n"
   ]
  },
  {
   "cell_type": "markdown",
   "metadata": {},
   "source": [
    "### Uniform Crossover"
   ]
  },
  {
   "cell_type": "code",
   "execution_count": 592,
   "metadata": {},
   "outputs": [],
   "source": [
    "class UniformCrossover(Crossover):\n",
    "    def __init__(self, probability: float, swap_probability: float):\n",
    "        super().__init__(probability)\n",
    "        self.swap_probability = swap_probability\n",
    "\n",
    "    def make(self, p1: Individual, p2: Individual):\n",
    "        # dos hijos por pareja\n",
    "        if random.random() < self.probability:\n",
    "            # swap a random position i\n",
    "            c1 = copy.deepcopy(p1.getGenotype())\n",
    "            c2 = copy.deepcopy(p2.getGenotype())\n",
    "\n",
    "            for i in range(p1.gen_size * p1.n_var):\n",
    "                if random.random() < self.swap_probability:\n",
    "                    c1[i], c2[i] = c2[i], c1[i]\n",
    "            return Individual.newLike(c1, p1), Individual.newLike(c2, p2)\n",
    "        return None\n"
   ]
  },
  {
   "cell_type": "markdown",
   "metadata": {},
   "source": [
    "## Mutation"
   ]
  },
  {
   "cell_type": "code",
   "execution_count": 593,
   "metadata": {},
   "outputs": [],
   "source": [
    "class Mutation:\n",
    "    def __init__(self, probability: float):\n",
    "        self.probability = probability\n",
    "\n",
    "    def make(self, ind: Individual):\n",
    "        mut = copy.deepcopy(ind.getGenotype())\n",
    "        if random.random() < self.probability:\n",
    "            # punto aleatorio de la cadea\n",
    "            point = random.randint(0, len(mut) - 1)\n",
    "\n",
    "            if len(mut) > ind.n_var:\n",
    "                mut[point] = (mut[point] + 1) % 2\n",
    "            else:\n",
    "                mut[point] = random.uniform(ind.domain[0], ind.domain[1])\n",
    "            return Individual.newLike(mut, ind)\n",
    "        return None"
   ]
  },
  {
   "cell_type": "markdown",
   "metadata": {},
   "source": [
    "### Esquema general de un AE genérico "
   ]
  },
  {
   "cell_type": "code",
   "execution_count": 594,
   "metadata": {},
   "outputs": [],
   "source": [
    "def genenetic_algorithm(max_generation: int,\n",
    "                        fitness: Callable[[list[float]], float],\n",
    "                        population: list[Individual],\n",
    "                        selection: Selection,\n",
    "                        crossover: Crossover,\n",
    "                        mutation: Mutation):\n",
    "    best: list[Individual] = []\n",
    "    generation_number = 0\n",
    "    while generation_number < max_generation:\n",
    "        generation_number += 1\n",
    "        # evaluacion de la aptitud de la población inicial (n individuos)\n",
    "        population_fitness = [fitness(ind.phenotype) for ind in population]\n",
    "        # seleccion de los padres (para la reproducción)\n",
    "        parents = selection.get_individuals(population, population_fitness)\n",
    "        # operadores de variación\n",
    "        offspring: list[Individual] = []\n",
    "        # crossover\n",
    "        for p1, p2 in zip(parents[0::2], parents[1::2]):\n",
    "            if (childs := crossover.make(p1, p2)) != None:\n",
    "                offspring += childs\n",
    "        # mutation\n",
    "        for ind in parents:\n",
    "            if (mutant := mutation.make(ind)) != None:\n",
    "                offspring.append(mutant)\n",
    "        # evaluacion de la aptitud de los λ descendientes\n",
    "        offspring_fitness = [fitness(ind.phenotype) for ind in offspring]\n",
    "\n",
    "        prev_fitness = copy.deepcopy(population_fitness) \n",
    "        # λ individuos aptos + n padres\n",
    "        population += offspring\n",
    "        population_fitness += offspring_fitness\n",
    "        # seleccionamos un individuo para la grafica\n",
    "        best.append(population[random.randint(0, len(population) - 1)])\n",
    "        # selección del ambiente n\n",
    "        population = selection.get_individuals(population, population_fitness)\n",
    "        \n",
    "        curr_fitness = [fitness(ind.phenotype) for ind in population]\n",
    "        S = selection.intensity(prev_fitness, curr_fitness)      \n",
    "        \n",
    "        # impresión de la generación\n",
    "        if generation_number % int(max_generation / 10) == 0:\n",
    "            print(f\"Generación: {generation_number}, número de descendientes: {len(offspring)}, intensidad: {S}\")\n",
    "\n",
    "    plt.plot([fitness(x.phenotype) for x in best], \"r-\")\n",
    "    plt.title(f\"Generation number {generation_number} with {selection.__class__.__name__}\")\n",
    "    plt.ylabel(\"Fitness\")\n",
    "    plt.xlabel(\"Generation\")\n",
    "    plt.show()\n",
    "    return best\n"
   ]
  },
  {
   "cell_type": "markdown",
   "metadata": {},
   "source": [
    "## 3. Evaluación de la intensidad de selección: para los problemas planteados en la pregunta (1) evaluar la presión de selección considerando los siguientes casos.\n",
    "**Importante**: El número de descendientes está dado de manera probabiliística por los operadores de variación, por lo que es complicado establecer un número fijo de descendientes, sin embargo, tendrá el casi el mismo número según la cantidad de padres que se apareen, pues si son 10 padres, cada 2 parejas pueden tener 2 hijos, habrá alrededor de 8, 9 o 10 descendientes.\n"
   ]
  },
  {
   "cell_type": "markdown",
   "metadata": {},
   "source": [
    "#### a) Para el primer caso (ecuación 1) considerar la representación binaria, una población inicial 15 individuos del cual debe seleccionar 10 padres y crear 10 descendientes, una taza de cruce de 0.8, una tasa de mutación de 0.01, donde el cruce y la mutación son seleccionadas de forma aleatoria (Usando los mismos criterios del ejemplo mostrado en Colab-note) realizar lo siguiente:\n",
    "\n",
    "• Usando el método de torneo para la selección de las nuevas generaciones (constantes de 15 individuos)\n"
   ]
  },
  {
   "cell_type": "code",
   "execution_count": 638,
   "metadata": {},
   "outputs": [
    {
     "name": "stdout",
     "output_type": "stream",
     "text": [
      "Generación: 1, número de descendientes: 6, intensidad: -0.5663579479546602\n",
      "Generación: 2, número de descendientes: 10, intensidad: -0.8616987931215491\n",
      "Generación: 3, número de descendientes: 9, intensidad: -0.5026966711592507\n",
      "Generación: 4, número de descendientes: 11, intensidad: -0.6427701752787921\n",
      "Generación: 5, número de descendientes: 8, intensidad: -0.6546536707079772\n",
      "Generación: 6, número de descendientes: 8, intensidad: 0.0\n",
      "Generación: 7, número de descendientes: 10, intensidad: 0.0\n",
      "Generación: 8, número de descendientes: 10, intensidad: 0.0\n",
      "Generación: 9, número de descendientes: 7, intensidad: 0.0\n",
      "Generación: 10, número de descendientes: 6, intensidad: 0.0\n"
     ]
    },
    {
     "data": {
      "image/png": "[encoded data removed]",
      "text/plain": [
       "<Figure size 432x288 with 1 Axes>"
      ]
     },
     "metadata": {
      "needs_background": "light"
     },
     "output_type": "display_data"
    }
   ],
   "source": [
    "# GA CANONICAL HYPERPARAMETERS\n",
    "MAX_GENERATION = 10\n",
    "POPULATION_SIZE = 15\n",
    "SELECTED_SIZE = 10\n",
    "# NOTA: El número de descendientes está dado de manera estocástica según los operadores de variación, así que es complicado establecer un número fijo de descendientes\n",
    "# sin embargo rondará los 10 individuos.\n",
    "OFFSPRING_SIZE = 10\n",
    "CROSSOVER_PROBABILITY = 0.8\n",
    "MUTATION_PROBABILITY = 0.01\n",
    "\n",
    "args = IndividualArguments(domain_1, eps_1, n_var_1, GEN_SIZE_1, Representation.GRAY)\n",
    "initial_population = [Individual.newRandom(args) for _ in range(POPULATION_SIZE)]\n",
    "\n",
    "# PIPELINE GA TOURNAMENT SELECTION\n",
    "best = genenetic_algorithm(max_generation=MAX_GENERATION,\n",
    "                           fitness=f1,\n",
    "                           population=initial_population,\n",
    "                           selection=TournamentSelection(num_individuals=SELECTED_SIZE, tournament_size=3),\n",
    "                           crossover=NPointCrossover(probability=CROSSOVER_PROBABILITY, n=2),\n",
    "                           mutation=Mutation(probability=MUTATION_PROBABILITY))\n"
   ]
  },
  {
   "cell_type": "markdown",
   "metadata": {},
   "source": [
    "#### Evalúe la intensidad de selección para cada uno de los métodos de selección en la pregunta (2)."
   ]
  },
  {
   "cell_type": "code",
   "execution_count": 639,
   "metadata": {},
   "outputs": [
    {
     "name": "stdout",
     "output_type": "stream",
     "text": [
      "Optimal value with Tournament Selection\n",
      " x* = [-3.032258064516129], f(x*) = -4.953978306936161\n"
     ]
    }
   ],
   "source": [
    "solution = min(best, key=lambda x: f1(x.phenotype))\n",
    "print(f\"Optimal value with Tournament Selection\\n x* = {solution.phenotype}, f(x*) = {f1(solution.phenotype)}\")"
   ]
  },
  {
   "cell_type": "code",
   "execution_count": 641,
   "metadata": {},
   "outputs": [
    {
     "name": "stdout",
     "output_type": "stream",
     "text": [
      "Generación: 1, número de descendientes: 8, intensidad: -0.15701192211201484\n",
      "Generación: 2, número de descendientes: 8, intensidad: -0.4404896361422289\n",
      "Generación: 3, número de descendientes: 10, intensidad: -0.6360181370136749\n",
      "Generación: 4, número de descendientes: 8, intensidad: -0.29127167540599946\n",
      "Generación: 5, número de descendientes: 10, intensidad: -0.7071506747912225\n",
      "Generación: 6, número de descendientes: 8, intensidad: 0.2499999999999981\n",
      "Generación: 7, número de descendientes: 8, intensidad: -0.21821789023599072\n",
      "Generación: 8, número de descendientes: 4, intensidad: -0.24999999999998868\n",
      "Generación: 9, número de descendientes: 8, intensidad: 0.0\n",
      "Generación: 10, número de descendientes: 8, intensidad: -0.3333333333333434\n"
     ]
    },
    {
     "data": {
      "image/png": "[encoded data removed]",
      "text/plain": [
       "<Figure size 432x288 with 1 Axes>"
      ]
     },
     "metadata": {
      "needs_background": "light"
     },
     "output_type": "display_data"
    }
   ],
   "source": [
    "# PIPELINE GA PROPORTIONAL SELECTION\n",
    "best = genenetic_algorithm(max_generation=MAX_GENERATION,\n",
    "                           fitness=f1,\n",
    "                           population=initial_population,\n",
    "                           selection=ProportionalSelection(num_individuals=SELECTED_SIZE, delta=10),\n",
    "                           crossover=UniformCrossover(probability=CROSSOVER_PROBABILITY, swap_probability=0.5),\n",
    "                           mutation=Mutation(probability=MUTATION_PROBABILITY))\n"
   ]
  },
  {
   "cell_type": "code",
   "execution_count": 642,
   "metadata": {},
   "outputs": [
    {
     "name": "stdout",
     "output_type": "stream",
     "text": [
      "Optimal value with Proportional Selection\n",
      " x* = [-2.870967741935484], f(x*) = -4.927351949766155\n"
     ]
    }
   ],
   "source": [
    "solution = min(best, key=lambda x: f1(x.phenotype))\n",
    "print(f\"Optimal value with Proportional Selection\\n x* = {solution.phenotype}, f(x*) = {f1(solution.phenotype)}\")"
   ]
  },
  {
   "cell_type": "code",
   "execution_count": 599,
   "metadata": {},
   "outputs": [
    {
     "name": "stdout",
     "output_type": "stream",
     "text": [
      "Generación: 1, número de descendientes: 8, intensidad: -0.5395850489233303\n",
      "Generación: 2, número de descendientes: 8, intensidad: -0.4827628851856865\n",
      "Generación: 3, número de descendientes: 10, intensidad: -0.3333333333333333\n",
      "Generación: 4, número de descendientes: 8, intensidad: 0.0\n",
      "Generación: 5, número de descendientes: 10, intensidad: 0.0\n",
      "Generación: 6, número de descendientes: 6, intensidad: 0.0\n",
      "Generación: 7, número de descendientes: 10, intensidad: 0.0\n",
      "Generación: 8, número de descendientes: 6, intensidad: 0.0\n",
      "Generación: 9, número de descendientes: 8, intensidad: 0.0\n",
      "Generación: 10, número de descendientes: 8, intensidad: 0.0\n"
     ]
    },
    {
     "data": {
      "image/png": "[encoded data removed]",
      "text/plain": [
       "<Figure size 432x288 with 1 Axes>"
      ]
     },
     "metadata": {
      "needs_background": "light"
     },
     "output_type": "display_data"
    }
   ],
   "source": [
    "# PIPELINE GA LINEAR RANKING SELECTION\n",
    "best = genenetic_algorithm(max_generation=MAX_GENERATION,\n",
    "                           fitness=f1,\n",
    "                           population=initial_population,\n",
    "                           selection=LinearRankingSelection(num_individuals=SELECTED_SIZE, s=2),\n",
    "                           crossover=OnePointCrossover(probability=CROSSOVER_PROBABILITY),\n",
    "                           mutation=Mutation(probability=MUTATION_PROBABILITY))\n"
   ]
  },
  {
   "cell_type": "code",
   "execution_count": 600,
   "metadata": {},
   "outputs": [
    {
     "name": "stdout",
     "output_type": "stream",
     "text": [
      "Optimal value with Linear Ranking Selection\n",
      " x* = [-2.500177], f(x*) = -3.0637831246562754\n"
     ]
    }
   ],
   "source": [
    "solution = min(best, key=lambda x: f1(x.phenotype))\n",
    "print(f\"Optimal value with Linear Ranking Selection\\n x* = {solution.phenotype}, f(x*) = {f1(solution.phenotype)}\")"
   ]
  },
  {
   "cell_type": "code",
   "execution_count": 601,
   "metadata": {},
   "outputs": [
    {
     "name": "stdout",
     "output_type": "stream",
     "text": [
      "Generación: 1, número de descendientes: 10, intensidad: -0.12917332825194944\n",
      "Generación: 2, número de descendientes: 8, intensidad: 0.17110679607885393\n",
      "Generación: 3, número de descendientes: 10, intensidad: -0.48444624380764423\n",
      "Generación: 4, número de descendientes: 8, intensidad: -0.6187744226527045\n",
      "Generación: 5, número de descendientes: 6, intensidad: -0.23716870704341267\n",
      "Generación: 6, número de descendientes: 10, intensidad: 0.2856217100055644\n",
      "Generación: 7, número de descendientes: 8, intensidad: 0.0021998471564474687\n",
      "Generación: 8, número de descendientes: 8, intensidad: 0.3087664739294465\n",
      "Generación: 9, número de descendientes: 11, intensidad: -0.22800334589644292\n",
      "Generación: 10, número de descendientes: 8, intensidad: -0.3326773183046768\n"
     ]
    },
    {
     "data": {
      "image/png": "[encoded data removed]",
      "text/plain": [
       "<Figure size 432x288 with 1 Axes>"
      ]
     },
     "metadata": {
      "needs_background": "light"
     },
     "output_type": "display_data"
    }
   ],
   "source": [
    "# PIPELINE GA UNIFORM SELECTION\n",
    "best = genenetic_algorithm(max_generation=MAX_GENERATION,\n",
    "                           fitness=f1,\n",
    "                           population=initial_population,\n",
    "                           selection=UniformSelection(num_individuals=SELECTED_SIZE),\n",
    "                           crossover=OnePointCrossover(probability=CROSSOVER_PROBABILITY),\n",
    "                           mutation=Mutation(probability=MUTATION_PROBABILITY))\n"
   ]
  },
  {
   "cell_type": "code",
   "execution_count": 602,
   "metadata": {},
   "outputs": [
    {
     "name": "stdout",
     "output_type": "stream",
     "text": [
      "Optimal value with Uniform Selection\n",
      " x* = [-2.734115347018573], f(x*) = -4.47343284158822\n"
     ]
    }
   ],
   "source": [
    "solution = min(best, key=lambda x: f1(x.phenotype))\n",
    "print(f\"Optimal value with Uniform Selection\\n x* = {solution.phenotype}, f(x*) = {f1(solution.phenotype)}\")"
   ]
  },
  {
   "cell_type": "code",
   "execution_count": 603,
   "metadata": {},
   "outputs": [
    {
     "name": "stdout",
     "output_type": "stream",
     "text": [
      "Generación: 1, número de descendientes: 10, intensidad: -0.14599092242224576\n",
      "Generación: 2, número de descendientes: 10, intensidad: -1.1494835834284813\n",
      "Generación: 3, número de descendientes: 8, intensidad: -0.8923504989362767\n",
      "Generación: 4, número de descendientes: 10, intensidad: -1.5263116659908722\n",
      "Generación: 5, número de descendientes: 10, intensidad: 0.0\n",
      "Generación: 6, número de descendientes: 6, intensidad: 0.0\n",
      "Generación: 7, número de descendientes: 4, intensidad: 0.0\n",
      "Generación: 8, número de descendientes: 6, intensidad: 0.0\n",
      "Generación: 9, número de descendientes: 4, intensidad: 0.0\n",
      "Generación: 10, número de descendientes: 8, intensidad: 0.0\n"
     ]
    },
    {
     "data": {
      "image/png": "[encoded data removed]",
      "text/plain": [
       "<Figure size 432x288 with 1 Axes>"
      ]
     },
     "metadata": {
      "needs_background": "light"
     },
     "output_type": "display_data"
    }
   ],
   "source": [
    "# PIPELINE GA ROULETTE SELECTION\n",
    "best = genenetic_algorithm(max_generation=MAX_GENERATION,\n",
    "                           fitness=f1,\n",
    "                           population=initial_population,\n",
    "                           selection=RouletteSelection(num_individuals=SELECTED_SIZE),\n",
    "                           crossover=OnePointCrossover(probability=CROSSOVER_PROBABILITY),\n",
    "                           mutation=Mutation(probability=MUTATION_PROBABILITY))\n"
   ]
  },
  {
   "cell_type": "code",
   "execution_count": 604,
   "metadata": {},
   "outputs": [
    {
     "name": "stdout",
     "output_type": "stream",
     "text": [
      "Optimal value with Roulette Selection\n",
      " x* = [-3.0469208211143695], f(x*) = -4.923730912946397\n"
     ]
    }
   ],
   "source": [
    "solution = min(best, key=lambda x: f1(x.phenotype))\n",
    "print(f\"Optimal value with Roulette Selection\\n x* = {solution.phenotype}, f(x*) = {f1(solution.phenotype)}\")"
   ]
  },
  {
   "cell_type": "markdown",
   "metadata": {},
   "source": [
    "#### b) Para el segundo caso (ecuación 2) considerar la representación Gray, una población inicial 20 individuos del cual debe seleccionar 15 padres y crear 15 descendientes, una taza de cruce de 0.8, una tasa de mutación de 0.01, donde el cruce y la mutación son seleccionadas de forma aleatoria (Usando los mismos criterios del ejemplo mostrado en Colab-note) realizar lo siguiente:\n",
    "\n",
    "• Usando el método de torneo para la selección de las nuevas generaciones (constantes de 20 individuos)"
   ]
  },
  {
   "cell_type": "code",
   "execution_count": 605,
   "metadata": {},
   "outputs": [
    {
     "name": "stdout",
     "output_type": "stream",
     "text": [
      "Generación: 1, número de descendientes: 10, intensidad: -1.079381238071998\n",
      "Generación: 2, número de descendientes: 10, intensidad: -1.5060943909841256\n",
      "Generación: 3, número de descendientes: 14, intensidad: -1.8363809028504623\n",
      "Generación: 4, número de descendientes: 12, intensidad: -0.6030226891555283\n",
      "Generación: 5, número de descendientes: 12, intensidad: 0.0\n",
      "Generación: 6, número de descendientes: 10, intensidad: 0.0\n",
      "Generación: 7, número de descendientes: 10, intensidad: 0.0\n",
      "Generación: 8, número de descendientes: 15, intensidad: 0.0\n",
      "Generación: 9, número de descendientes: 10, intensidad: 0.0\n",
      "Generación: 10, número de descendientes: 8, intensidad: 0.0\n"
     ]
    },
    {
     "data": {
      "image/png": "[encoded data removed]",
      "text/plain": [
       "<Figure size 432x288 with 1 Axes>"
      ]
     },
     "metadata": {
      "needs_background": "light"
     },
     "output_type": "display_data"
    }
   ],
   "source": [
    "# GA CANONICAL HYPERPARAMETERS\n",
    "MAX_GENERATION = 10\n",
    "POPULATION_SIZE = 20\n",
    "SELECTED_SIZE = 15\n",
    "OFFSPRING_SIZE = 15\n",
    "CROSSOVER_PROBABILITY = 0.8\n",
    "MUTATION_PROBABILITY = 0.01\n",
    "\n",
    "args2 = IndividualArguments(domain_2, eps_2, n_var_2, GEN_SIZE_2, Representation.GRAY)\n",
    "initial_population = [Individual.newRandom(args2) for _ in range(POPULATION_SIZE)]\n",
    "\n",
    "# PIPELINE GA\n",
    "best = genenetic_algorithm(max_generation=MAX_GENERATION,\n",
    "                           fitness=f2,\n",
    "                           population=initial_population,\n",
    "                           selection=TournamentSelection(num_individuals=SELECTED_SIZE, tournament_size=5),\n",
    "                           crossover=OnePointCrossover(probability=CROSSOVER_PROBABILITY),\n",
    "                           mutation=Mutation(probability=MUTATION_PROBABILITY))\n",
    "\n"
   ]
  },
  {
   "cell_type": "code",
   "execution_count": 606,
   "metadata": {},
   "outputs": [
    {
     "name": "stdout",
     "output_type": "stream",
     "text": [
      "Optimal value\n",
      " x* = [0.032258064516129004, 0.032258064516129004], f(x*) = 0.06287799982244661\n"
     ]
    }
   ],
   "source": [
    "solution = min(best, key=lambda x: f2(x.phenotype))\n",
    "print(f\"Optimal value\\n x* = {solution.phenotype}, f(x*) = {f2(solution.phenotype)}\")"
   ]
  },
  {
   "cell_type": "markdown",
   "metadata": {},
   "source": [
    "#### Evalúe la intensidad de selección para cada uno de los métodos de selección en la pregunta (2).\n"
   ]
  },
  {
   "cell_type": "code",
   "execution_count": 607,
   "metadata": {},
   "outputs": [
    {
     "name": "stdout",
     "output_type": "stream",
     "text": [
      "Generación: 1, número de descendientes: 12, intensidad: -0.11285767448348359\n",
      "Generación: 2, número de descendientes: 14, intensidad: -0.24380128276271273\n",
      "Generación: 3, número de descendientes: 15, intensidad: 1.0694559401869899\n",
      "Generación: 4, número de descendientes: 10, intensidad: 0.39535400155666345\n",
      "Generación: 5, número de descendientes: 12, intensidad: -0.133159739471113\n",
      "Generación: 6, número de descendientes: 10, intensidad: -0.37354242998191256\n",
      "Generación: 7, número de descendientes: 12, intensidad: 0.5537938309679157\n",
      "Generación: 8, número de descendientes: 10, intensidad: -0.08946345102205833\n",
      "Generación: 9, número de descendientes: 6, intensidad: 0.14441328921026989\n",
      "Generación: 10, número de descendientes: 10, intensidad: -0.24757673166064667\n"
     ]
    },
    {
     "data": {
      "image/png": "[encoded data removed]",
      "text/plain": [
       "<Figure size 432x288 with 1 Axes>"
      ]
     },
     "metadata": {
      "needs_background": "light"
     },
     "output_type": "display_data"
    }
   ],
   "source": [
    "# PIPELINE GA PROPORTIONAL SELECTION\n",
    "best = genenetic_algorithm(max_generation=MAX_GENERATION,\n",
    "                           fitness=f2,\n",
    "                           population=initial_population,\n",
    "                           selection=ProportionalSelection(num_individuals=SELECTED_SIZE, delta=10),\n",
    "                           crossover=OnePointCrossover(probability=CROSSOVER_PROBABILITY),\n",
    "                           mutation=Mutation(probability=MUTATION_PROBABILITY))\n"
   ]
  },
  {
   "cell_type": "code",
   "execution_count": 608,
   "metadata": {},
   "outputs": [
    {
     "name": "stdout",
     "output_type": "stream",
     "text": [
      "Optimal value with Proportional Selection\n",
      " x* = [-0.09677419354838712, 0.09677419354838701], f(x*) = 0.14698803041313296\n"
     ]
    }
   ],
   "source": [
    "solution = min(best, key=lambda x: f2(x.phenotype))\n",
    "print(f\"Optimal value with Proportional Selection\\n x* = {solution.phenotype}, f(x*) = {f2(solution.phenotype)}\")"
   ]
  },
  {
   "cell_type": "code",
   "execution_count": 609,
   "metadata": {},
   "outputs": [
    {
     "name": "stdout",
     "output_type": "stream",
     "text": [
      "Generación: 1, número de descendientes: 11, intensidad: -0.5337390529365587\n",
      "Generación: 2, número de descendientes: 13, intensidad: -0.7138256783707017\n",
      "Generación: 3, número de descendientes: 14, intensidad: -0.4676735767686079\n",
      "Generación: 4, número de descendientes: 12, intensidad: -0.6418177917766158\n",
      "Generación: 5, número de descendientes: 12, intensidad: -0.6259434471916975\n",
      "Generación: 6, número de descendientes: 10, intensidad: -0.2945295796928845\n",
      "Generación: 7, número de descendientes: 14, intensidad: -0.9125211690128076\n",
      "Generación: 8, número de descendientes: 14, intensidad: -0.7071067811865474\n",
      "Generación: 9, número de descendientes: 10, intensidad: 0.0\n",
      "Generación: 10, número de descendientes: 8, intensidad: 0.0\n"
     ]
    },
    {
     "data": {
      "image/png": "[encoded data removed]",
      "text/plain": [
       "<Figure size 432x288 with 1 Axes>"
      ]
     },
     "metadata": {
      "needs_background": "light"
     },
     "output_type": "display_data"
    }
   ],
   "source": [
    "# PIPELINE GA LINEAR RANKING SELECTION\n",
    "best = genenetic_algorithm(max_generation=MAX_GENERATION,\n",
    "                           fitness=f2,\n",
    "                           population=initial_population,\n",
    "                           selection=LinearRankingSelection(num_individuals=SELECTED_SIZE, s=2),\n",
    "                           crossover=OnePointCrossover(probability=CROSSOVER_PROBABILITY),\n",
    "                           mutation=Mutation(probability=MUTATION_PROBABILITY))\n"
   ]
  },
  {
   "cell_type": "code",
   "execution_count": 610,
   "metadata": {},
   "outputs": [
    {
     "name": "stdout",
     "output_type": "stream",
     "text": [
      "Optimal value with Linear Ranking Selection\n",
      " x* = [0.032258064516129004, 0.09677419354838701], f(x*) = 0.031521771255919276\n"
     ]
    }
   ],
   "source": [
    "solution = min(best, key=lambda x: f2(x.phenotype))\n",
    "print(f\"Optimal value with Linear Ranking Selection\\n x* = {solution.phenotype}, f(x*) = {f2(solution.phenotype)}\")"
   ]
  },
  {
   "cell_type": "code",
   "execution_count": 611,
   "metadata": {},
   "outputs": [
    {
     "name": "stdout",
     "output_type": "stream",
     "text": [
      "Generación: 1, número de descendientes: 10, intensidad: -0.019328899811228675\n",
      "Generación: 2, número de descendientes: 13, intensidad: -0.1753531358069373\n",
      "Generación: 3, número de descendientes: 12, intensidad: -0.05367550455606672\n",
      "Generación: 4, número de descendientes: 10, intensidad: -0.12533981153663873\n",
      "Generación: 5, número de descendientes: 13, intensidad: -0.22818857712178336\n",
      "Generación: 6, número de descendientes: 10, intensidad: -0.4451401596178269\n",
      "Generación: 7, número de descendientes: 12, intensidad: -0.2930039146240388\n",
      "Generación: 8, número de descendientes: 8, intensidad: 0.8259745339226489\n",
      "Generación: 9, número de descendientes: 9, intensidad: 0.0\n",
      "Generación: 10, número de descendientes: 12, intensidad: 0.0\n"
     ]
    },
    {
     "data": {
      "image/png": "[encoded data removed]",
      "text/plain": [
       "<Figure size 432x288 with 1 Axes>"
      ]
     },
     "metadata": {
      "needs_background": "light"
     },
     "output_type": "display_data"
    }
   ],
   "source": [
    "# PIPELINE GA UNIFORM SELECTION\n",
    "best = genenetic_algorithm(max_generation=MAX_GENERATION,\n",
    "                           fitness=f1,\n",
    "                           population=initial_population,\n",
    "                           selection=UniformSelection(num_individuals=SELECTED_SIZE),\n",
    "                           crossover=OnePointCrossover(probability=CROSSOVER_PROBABILITY),\n",
    "                           mutation=Mutation(probability=MUTATION_PROBABILITY))\n"
   ]
  },
  {
   "cell_type": "code",
   "execution_count": 612,
   "metadata": {},
   "outputs": [
    {
     "name": "stdout",
     "output_type": "stream",
     "text": [
      "Optimal value with Uniform Selection\n",
      " x* = [-0.09677419354838712, 0.032258064516129004], f(x*) = 0.17834425897966033\n"
     ]
    }
   ],
   "source": [
    "solution = min(best, key=lambda x: f2(x.phenotype))\n",
    "print(f\"Optimal value with Uniform Selection\\n x* = {solution.phenotype}, f(x*) = {f2(solution.phenotype)}\")\n"
   ]
  },
  {
   "cell_type": "code",
   "execution_count": 613,
   "metadata": {},
   "outputs": [
    {
     "name": "stdout",
     "output_type": "stream",
     "text": [
      "Generación: 1, número de descendientes: 11, intensidad: -0.17337558393914598\n",
      "Generación: 2, número de descendientes: 10, intensidad: -0.8221304303517479\n",
      "Generación: 3, número de descendientes: 8, intensidad: -0.6614598602167435\n",
      "Generación: 4, número de descendientes: 12, intensidad: -0.19510547993642657\n",
      "Generación: 5, número de descendientes: 10, intensidad: -0.4898377829160584\n",
      "Generación: 6, número de descendientes: 14, intensidad: -0.26932107821103124\n",
      "Generación: 7, número de descendientes: 12, intensidad: -0.5\n",
      "Generación: 8, número de descendientes: 10, intensidad: 0.0\n",
      "Generación: 9, número de descendientes: 8, intensidad: 0.0\n",
      "Generación: 10, número de descendientes: 14, intensidad: 0.0\n"
     ]
    },
    {
     "data": {
      "image/png": "[encoded data removed]",
      "text/plain": [
       "<Figure size 432x288 with 1 Axes>"
      ]
     },
     "metadata": {
      "needs_background": "light"
     },
     "output_type": "display_data"
    }
   ],
   "source": [
    "# PIPELINE GA ROULETTE SELECTION\n",
    "best = genenetic_algorithm(max_generation=MAX_GENERATION,\n",
    "                           fitness=f2,\n",
    "                           population=initial_population,\n",
    "                           selection=RouletteSelection(num_individuals=SELECTED_SIZE),\n",
    "                           crossover=OnePointCrossover(probability=CROSSOVER_PROBABILITY),\n",
    "                           mutation=Mutation(probability=MUTATION_PROBABILITY))\n"
   ]
  },
  {
   "cell_type": "code",
   "execution_count": 614,
   "metadata": {},
   "outputs": [
    {
     "name": "stdout",
     "output_type": "stream",
     "text": [
      "Optimal value with Roulette Selection\n",
      " x* = [-0.29032258064516125, 0.032258064516129004], f(x*) = 0.15930427014174514\n"
     ]
    }
   ],
   "source": [
    "solution = min(best, key=lambda x: f2(x.phenotype))\n",
    "print(f\"Optimal value with Roulette Selection\\n x* = {solution.phenotype}, f(x*) = {f2(solution.phenotype)}\")\n"
   ]
  },
  {
   "cell_type": "markdown",
   "metadata": {},
   "source": [
    "#### c) Para el tercer caso (ecuación 3) considerar la representación real, una población inicial 20 individuos del cual debe seleccionar 15 padres y crear 15 descendientes, una taza de cruce de 0.8, una tasa de mutación de 0.01, donde el cruce y la mutación son seleccionadas de forma aleatoria (Usando los mismos criterios del ejemplo mostrado en Colab-note) realizar lo siguiente:\n",
    "\n",
    "• Usando el método de torneo para la selección de las nuevas generaciones (constantes de 20 individuos)"
   ]
  },
  {
   "cell_type": "code",
   "execution_count": 615,
   "metadata": {},
   "outputs": [
    {
     "name": "stdout",
     "output_type": "stream",
     "text": [
      "Generación: 1, número de descendientes: 10, intensidad: -0.49789909786316056\n",
      "Generación: 2, número de descendientes: 12, intensidad: -0.6106679084965847\n",
      "Generación: 3, número de descendientes: 12, intensidad: 0.0\n",
      "Generación: 4, número de descendientes: 12, intensidad: 0.0\n",
      "Generación: 5, número de descendientes: 12, intensidad: 0.0\n",
      "Generación: 6, número de descendientes: 12, intensidad: 0.0\n",
      "Generación: 7, número de descendientes: 12, intensidad: 0.0\n",
      "Generación: 8, número de descendientes: 12, intensidad: 0.0\n",
      "Generación: 9, número de descendientes: 12, intensidad: 0.0\n",
      "Generación: 10, número de descendientes: 12, intensidad: 0.0\n"
     ]
    },
    {
     "data": {
      "image/png": "[encoded data removed]",
      "text/plain": [
       "<Figure size 432x288 with 1 Axes>"
      ]
     },
     "metadata": {
      "needs_background": "light"
     },
     "output_type": "display_data"
    }
   ],
   "source": [
    "# GA CANONICAL HYPERPARAMETERS\n",
    "MAX_GENERATION = 10\n",
    "POPULATION_SIZE = 20\n",
    "SELECTED_SIZE = 15\n",
    "OFFSPRING_SIZE = 15\n",
    "CROSSOVER_PROBABILITY = 0.8\n",
    "MUTATION_PROBABILITY = 0.01\n",
    "\n",
    "args3 = IndividualArguments(domain_3, eps_3, n_var_3, GEN_SIZE_3, Representation.DECIMAL)\n",
    "initial_population = [Individual.newRandom(args3) for _ in range(POPULATION_SIZE)]\n",
    "\n",
    "# PIPELINE GA\n",
    "best = genenetic_algorithm(max_generation=MAX_GENERATION,\n",
    "                           fitness=f3,\n",
    "                           population=initial_population,\n",
    "                           selection=TournamentSelection(num_individuals=SELECTED_SIZE, tournament_size=5),\n",
    "                           crossover=OnePointCrossover(probability=CROSSOVER_PROBABILITY),\n",
    "                           mutation=Mutation(probability=MUTATION_PROBABILITY))\n"
   ]
  },
  {
   "cell_type": "code",
   "execution_count": 616,
   "metadata": {},
   "outputs": [
    {
     "name": "stdout",
     "output_type": "stream",
     "text": [
      "Optimal value\n",
      " x* = [26.323206, 14.105726, 45.784185, 51.03204], f(x*) = 0.00021431993137149163\n"
     ]
    }
   ],
   "source": [
    "solution = min(best, key=lambda x: f3(x.phenotype))\n",
    "print(f\"Optimal value\\n x* = {solution.phenotype}, f(x*) = {f3(solution.phenotype)}\")"
   ]
  },
  {
   "cell_type": "markdown",
   "metadata": {},
   "source": [
    "#### Evalúe la intensidad de selección para cada uno de los métodos de selección en la pregunta (2).\n"
   ]
  },
  {
   "cell_type": "code",
   "execution_count": 617,
   "metadata": {},
   "outputs": [
    {
     "name": "stdout",
     "output_type": "stream",
     "text": [
      "Generación: 1, número de descendientes: 12, intensidad: 0.13174652332384904\n",
      "Generación: 2, número de descendientes: 12, intensidad: -0.3490003302040988\n",
      "Generación: 3, número de descendientes: 12, intensidad: -0.25919615166615023\n",
      "Generación: 4, número de descendientes: 10, intensidad: -0.1736302123198461\n",
      "Generación: 5, número de descendientes: 12, intensidad: 0.015432676963060986\n",
      "Generación: 6, número de descendientes: 9, intensidad: 0.16419489831660683\n",
      "Generación: 7, número de descendientes: 9, intensidad: 0.3024747314973809\n",
      "Generación: 8, número de descendientes: 7, intensidad: -0.17476304342992569\n",
      "Generación: 9, número de descendientes: 14, intensidad: 0.08125192685077953\n",
      "Generación: 10, número de descendientes: 12, intensidad: 0.5299717524201449\n"
     ]
    },
    {
     "data": {
      "image/png": "[encoded data removed]",
      "text/plain": [
       "<Figure size 432x288 with 1 Axes>"
      ]
     },
     "metadata": {
      "needs_background": "light"
     },
     "output_type": "display_data"
    }
   ],
   "source": [
    "# PIPELINE GA PROPORTIONAL SELECTION\n",
    "best = genenetic_algorithm(max_generation=MAX_GENERATION,\n",
    "                           fitness=f3,\n",
    "                           population=initial_population,\n",
    "                           selection=ProportionalSelection(num_individuals=SELECTED_SIZE, delta=10),\n",
    "                           crossover=OnePointCrossover(probability=CROSSOVER_PROBABILITY),\n",
    "                           mutation=Mutation(probability=MUTATION_PROBABILITY))\n"
   ]
  },
  {
   "cell_type": "code",
   "execution_count": 618,
   "metadata": {},
   "outputs": [
    {
     "name": "stdout",
     "output_type": "stream",
     "text": [
      "Optimal value with Proportional Selection\n",
      " x* = [13.661692, 20.581172, 37.195785, 42.035815784733146], f(x*) = 0.001263828105011766\n"
     ]
    }
   ],
   "source": [
    "solution = min(best, key=lambda x: f3(x.phenotype))\n",
    "print(f\"Optimal value with Proportional Selection\\n x* = {solution.phenotype}, f(x*) = {f3(solution.phenotype)}\")"
   ]
  },
  {
   "cell_type": "code",
   "execution_count": 619,
   "metadata": {},
   "outputs": [
    {
     "name": "stdout",
     "output_type": "stream",
     "text": [
      "Generación: 1, número de descendientes: 12, intensidad: -0.34267701029356223\n",
      "Generación: 2, número de descendientes: 12, intensidad: -0.5676527396080003\n",
      "Generación: 3, número de descendientes: 12, intensidad: -0.3363867834697309\n",
      "Generación: 4, número de descendientes: 10, intensidad: -0.5008970509344062\n",
      "Generación: 5, número de descendientes: 10, intensidad: -0.6037696963620702\n",
      "Generación: 6, número de descendientes: 14, intensidad: -0.5490590976896498\n",
      "Generación: 7, número de descendientes: 14, intensidad: -0.2672612419124246\n",
      "Generación: 8, número de descendientes: 12, intensidad: 0.0\n",
      "Generación: 9, número de descendientes: 12, intensidad: 0.0\n",
      "Generación: 10, número de descendientes: 14, intensidad: 0.0\n"
     ]
    },
    {
     "data": {
      "image/png": "[encoded data removed]",
      "text/plain": [
       "<Figure size 432x288 with 1 Axes>"
      ]
     },
     "metadata": {
      "needs_background": "light"
     },
     "output_type": "display_data"
    }
   ],
   "source": [
    "# PIPELINE GA LINEAR RANKING SELECTION\n",
    "best = genenetic_algorithm(max_generation=MAX_GENERATION,\n",
    "                           fitness=f3,\n",
    "                           population=initial_population,\n",
    "                           selection=LinearRankingSelection(num_individuals=SELECTED_SIZE, s=2),\n",
    "                           crossover=OnePointCrossover(probability=CROSSOVER_PROBABILITY),\n",
    "                           mutation=Mutation(probability=MUTATION_PROBABILITY))\n"
   ]
  },
  {
   "cell_type": "code",
   "execution_count": 620,
   "metadata": {},
   "outputs": [
    {
     "name": "stdout",
     "output_type": "stream",
     "text": [
      "Optimal value with Linear Ranking Selection\n",
      " x* = [13.661692, 20.581172, 45.784185, 51.03204], f(x*) = 0.0005730094469319052\n"
     ]
    }
   ],
   "source": [
    "solution = min(best, key=lambda x: f3(x.phenotype))\n",
    "print(f\"Optimal value with Linear Ranking Selection\\n x* = {solution.phenotype}, f(x*) = {f3(solution.phenotype)}\")"
   ]
  },
  {
   "cell_type": "code",
   "execution_count": 621,
   "metadata": {},
   "outputs": [
    {
     "name": "stdout",
     "output_type": "stream",
     "text": [
      "Generación: 1, número de descendientes: 15, intensidad: 0.05252347113182083\n",
      "Generación: 2, número de descendientes: 10, intensidad: 0.35934107831714784\n",
      "Generación: 3, número de descendientes: 12, intensidad: -0.2600630716025043\n",
      "Generación: 4, número de descendientes: 14, intensidad: -0.10662768568735478\n",
      "Generación: 5, número de descendientes: 14, intensidad: 0.2540603218884757\n",
      "Generación: 6, número de descendientes: 10, intensidad: 0.5754730326489651\n",
      "Generación: 7, número de descendientes: 12, intensidad: 0.4326496775070954\n",
      "Generación: 8, número de descendientes: 12, intensidad: -0.6535263203253701\n",
      "Generación: 9, número de descendientes: 10, intensidad: -0.19975875585190037\n",
      "Generación: 10, número de descendientes: 8, intensidad: 0.38043669697775345\n"
     ]
    },
    {
     "data": {
      "image/png": "[encoded data removed]",
      "text/plain": [
       "<Figure size 432x288 with 1 Axes>"
      ]
     },
     "metadata": {
      "needs_background": "light"
     },
     "output_type": "display_data"
    }
   ],
   "source": [
    "# PIPELINE GA UNIFORM SELECTION\n",
    "best = genenetic_algorithm(max_generation=MAX_GENERATION,\n",
    "                           fitness=f3,\n",
    "                           population=initial_population,\n",
    "                           selection=UniformSelection(num_individuals=SELECTED_SIZE),\n",
    "                           crossover=OnePointCrossover(probability=CROSSOVER_PROBABILITY),\n",
    "                           mutation=Mutation(probability=MUTATION_PROBABILITY))\n"
   ]
  },
  {
   "cell_type": "code",
   "execution_count": 622,
   "metadata": {},
   "outputs": [
    {
     "name": "stdout",
     "output_type": "stream",
     "text": [
      "Optimal value with Uniform Selection\n",
      " x* = [27.36517, 20.096531, 53.724217, 54.839198], f(x*) = 0.0017963692570603267\n"
     ]
    }
   ],
   "source": [
    "solution = min(best, key=lambda x: f3(x.phenotype))\n",
    "print(f\"Optimal value with Uniform Selection\\n x* = {solution.phenotype}, f(x*) = {f3(solution.phenotype)}\")\n"
   ]
  },
  {
   "cell_type": "code",
   "execution_count": 623,
   "metadata": {},
   "outputs": [
    {
     "name": "stdout",
     "output_type": "stream",
     "text": [
      "Generación: 1, número de descendientes: 10, intensidad: -0.1933295473259702\n",
      "Generación: 2, número de descendientes: 14, intensidad: -0.51073797813808\n",
      "Generación: 3, número de descendientes: 9, intensidad: -0.49417685303451514\n",
      "Generación: 4, número de descendientes: 13, intensidad: -0.5316025217612781\n",
      "Generación: 5, número de descendientes: 12, intensidad: -3.4743961448615175\n",
      "Generación: 6, número de descendientes: 14, intensidad: -0.2672612419124244\n",
      "Generación: 7, número de descendientes: 11, intensidad: 0.0\n",
      "Generación: 8, número de descendientes: 9, intensidad: 0.0\n",
      "Generación: 9, número de descendientes: 12, intensidad: 0.0\n",
      "Generación: 10, número de descendientes: 12, intensidad: 0.0\n"
     ]
    },
    {
     "data": {
      "image/png": "[encoded data removed]",
      "text/plain": [
       "<Figure size 432x288 with 1 Axes>"
      ]
     },
     "metadata": {
      "needs_background": "light"
     },
     "output_type": "display_data"
    }
   ],
   "source": [
    "# PIPELINE GA ROULETTE SELECTION\n",
    "best = genenetic_algorithm(max_generation=MAX_GENERATION,\n",
    "                           fitness=f3,\n",
    "                           population=initial_population,\n",
    "                           selection=RouletteSelection(num_individuals=SELECTED_SIZE),\n",
    "                           crossover=NPointCrossover(probability=CROSSOVER_PROBABILITY, n=2),\n",
    "                           mutation=Mutation(probability=MUTATION_PROBABILITY))\n"
   ]
  },
  {
   "cell_type": "code",
   "execution_count": 624,
   "metadata": {},
   "outputs": [
    {
     "name": "stdout",
     "output_type": "stream",
     "text": [
      "Optimal value with Roulette Selection\n",
      " x* = [13.661692, 20.581172, 56.033235790070364, 29.515766], f(x*) = 0.0006620749704024406\n"
     ]
    }
   ],
   "source": [
    "solution = min(best, key=lambda x: f3(x.phenotype))\n",
    "print(f\"Optimal value with Roulette Selection\\n x* = {solution.phenotype}, f(x*) = {f3(solution.phenotype)}\")\n"
   ]
  }
 ],
 "metadata": {
  "interpreter": {
   "hash": "590f4a299ae404e723bbc5f32e9a7b98b836c3c65ce9112bc934ac92a06ceee3"
  },
  "kernelspec": {
   "display_name": "Python 3.10.4 64-bit",
   "language": "python",
   "name": "python3"
  },
  "language_info": {
   "codemirror_mode": {
    "name": "ipython",
    "version": 3
   },
   "file_extension": ".py",
   "mimetype": "text/x-python",
   "name": "python",
   "nbconvert_exporter": "python",
   "pygments_lexer": "ipython3",
   "version": "3.10.4"
  },
  "orig_nbformat": 4
 },
 "nbformat": 4,
 "nbformat_minor": 2
}

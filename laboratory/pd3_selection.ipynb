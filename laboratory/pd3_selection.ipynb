{
 "cells": [
  {
   "cell_type": "markdown",
   "metadata": {},
   "source": [
    "### Curso: CC521 A Programación Evolutiva 2022-1\n",
    "Alumno: Jordi Joel Bardales Rojas"
   ]
  },
  {
   "cell_type": "markdown",
   "metadata": {},
   "source": [
    "# Práctica dirigida: Representación y Selección \n"
   ]
  },
  {
   "cell_type": "code",
   "execution_count": 61,
   "metadata": {},
   "outputs": [],
   "source": [
    "from __future__ import annotations\n",
    "import math\n",
    "import numpy as np\n",
    "from enum import Enum\n",
    "from bin_repr2 import dec2bin, bin2gray, my_map, inverse_map, bin2dec, gray2bin\n",
    "import copy\n",
    "import random \n",
    "import matplotlib.pyplot as plt\n",
    "from typing import Callable,  NamedTuple\n",
    "from itertools import combinations\n",
    "from abc import ABC, abstractmethod\n",
    "\n",
    "class Representation(Enum):\n",
    "    BIN = 0\n",
    "    GRAY = 1\n",
    "    DECIMAL = 2"
   ]
  },
  {
   "cell_type": "markdown",
   "metadata": {},
   "source": [
    "# Problemas de optimización\n",
    "Este laboratorio se mostrará varios métodos de selección como la selección proporcional, ranking lineal, torneo, uniforme y selección ruleta, luego se medirá la intensidad de selección en un problema de minimización.\n"
   ]
  },
  {
   "cell_type": "markdown",
   "metadata": {},
   "source": [
    "## 1. Dado los siguientes problemas de minimización de una función $\\min_\\mathbf{x}f(\\mathbf{x})$\n"
   ]
  },
  {
   "cell_type": "code",
   "execution_count": 2,
   "metadata": {},
   "outputs": [],
   "source": [
    "f1 = lambda x: x[0]**4 + 5*x[0]**3 + 4*x[0]**2 - 4*x[0] + 1\n",
    "f2 = lambda x: 0.2 + x[0]**2 + x[1]**2 - 0.1*math.cos(6*math.pi*x[0]) - 0.1*math.sin(6*math.pi*x[1])\n",
    "f3 = lambda x: math.pow(1/6.931 - x[0]*x[1]/(x[2]*x[3]), 2)\n"
   ]
  },
  {
   "cell_type": "markdown",
   "metadata": {},
   "source": [
    "Dominio"
   ]
  },
  {
   "cell_type": "code",
   "execution_count": 3,
   "metadata": {},
   "outputs": [],
   "source": [
    "domain_1, n_var_1 = [-4.0, 1], 1\n",
    "domain_2, n_var_2 = [-1, 1.0], 2\n",
    "domain_3, n_var_3 = [12, 60.], 4\n"
   ]
  },
  {
   "cell_type": "markdown",
   "metadata": {},
   "source": [
    "Parámetros del individuo tipados"
   ]
  },
  {
   "cell_type": "code",
   "execution_count": 4,
   "metadata": {},
   "outputs": [],
   "source": [
    "class IndividualArguments(NamedTuple):\n",
    "    domain: tuple[int, int]\n",
    "    eps: float\n",
    "    n_var: int\n",
    "    gen_size: int\n",
    "    default_repr: Representation = Representation.DECIMAL"
   ]
  },
  {
   "cell_type": "markdown",
   "metadata": {},
   "source": [
    "Clase individuo "
   ]
  },
  {
   "cell_type": "code",
   "execution_count": 5,
   "metadata": {},
   "outputs": [],
   "source": [
    "class Individual():\n",
    "    def __init__(self, phenotype: list[float], args: IndividualArguments):\n",
    "        self.domain = args.domain\n",
    "        self.eps = args.eps\n",
    "        self.n_var = args.n_var\n",
    "        self.gen_size = args.gen_size\n",
    "        self.default_repr = args.default_repr\n",
    "        self.phenotype = phenotype\n",
    "\n",
    "    def getGenotype(self, my_repr: Representation = None):\n",
    "        my_repr = self.default_repr if my_repr == None else my_repr\n",
    "        list_repr: list[int] = []\n",
    "        if my_repr == Representation.BIN:\n",
    "            for gen in self.phenotype:\n",
    "                list_repr.extend(dec2bin(num=my_map(gen, self.domain[0], self.domain[1], self.eps), gen_size=self.gen_size))\n",
    "        elif my_repr == Representation.GRAY:\n",
    "            for gen in self.phenotype:\n",
    "                list_repr.extend(bin2gray(dec2bin(num=my_map(gen, self.domain[0], self.domain[1], self.eps), gen_size=self.gen_size)))\n",
    "        else:\n",
    "            list_repr = copy.deepcopy(self.phenotype)\n",
    "        return list_repr\n",
    "\n",
    "    @classmethod\n",
    "    def new(cls, genotype, args: IndividualArguments):\n",
    "        phenotype: list[int] = []\n",
    "        if args.default_repr == Representation.BIN:\n",
    "            for k in range(args.n_var):\n",
    "                gen = genotype[args.gen_size * k:args.gen_size * (k + 1)]\n",
    "                phenotype.append(inverse_map(bin2dec(gen), args.domain[0], args.eps))\n",
    "        elif args.default_repr == Representation.GRAY:\n",
    "            for k in range(args.n_var):\n",
    "                gen = genotype[args.gen_size * k:args.gen_size * (k + 1)]\n",
    "                phenotype.append(inverse_map(bin2dec(gray2bin(gen)), args.domain[0], args.eps))\n",
    "        else:\n",
    "            phenotype = copy.deepcopy(genotype)\n",
    "        \n",
    "        return cls(phenotype, args)\n",
    "\n",
    "    @staticmethod\n",
    "    def newLike(genotype: list[int], parent: Individual):\n",
    "        args = IndividualArguments(parent.domain, parent.eps, parent.n_var, parent.gen_size, parent.default_repr)\n",
    "        return Individual.new(genotype, args)\n",
    "\n",
    "    @classmethod\n",
    "    def newRandom(cls, args: IndividualArguments):\n",
    "        phenotype = [round(random.uniform(args.domain[0], args.domain[1]), 6) for _ in range(args.n_var)]\n",
    "        return cls(phenotype, args)\n"
   ]
  },
  {
   "cell_type": "markdown",
   "metadata": {},
   "source": [
    "### a) Representación del problema (1)\n",
    "Implemente un programa en python que represente el cromosoma como una cadena binaria de 10 dígitos (10 bits) y muestre/imprima el Fenotipo y su representación binaria para una población de 10 individuos."
   ]
  },
  {
   "cell_type": "code",
   "execution_count": 6,
   "metadata": {},
   "outputs": [
    {
     "name": "stdout",
     "output_type": "stream",
     "text": [
      "Representación binaria\n",
      "Genotipo 0 = [1, 0, 0, 0, 1, 1, 0, 0, 0, 0] Fenotipo 0 = [-1.265105]\n",
      "Genotipo 1 = [1, 1, 0, 1, 0, 1, 0, 1, 0, 1] Fenotipo 1 = [0.170678]\n",
      "Genotipo 2 = [0, 1, 0, 0, 0, 0, 0, 1, 1, 1] Fenotipo 2 = [-2.716772]\n",
      "Genotipo 3 = [1, 0, 1, 1, 1, 0, 1, 0, 1, 0] Fenotipo 3 = [-0.351857]\n",
      "Genotipo 4 = [0, 0, 1, 1, 0, 1, 0, 1, 0, 0] Fenotipo 4 = [-2.965955]\n",
      "Genotipo 5 = [1, 0, 0, 1, 1, 0, 1, 1, 0, 0] Fenotipo 5 = [-0.969923]\n",
      "Genotipo 6 = [1, 0, 1, 1, 1, 0, 0, 1, 1, 1] Fenotipo 6 = [-0.368393]\n",
      "Genotipo 7 = [0, 0, 0, 0, 1, 1, 1, 1, 1, 0] Fenotipo 7 = [-3.696973]\n",
      "Genotipo 8 = [1, 1, 1, 0, 0, 1, 0, 0, 1, 0] Fenotipo 8 = [0.467906]\n",
      "Genotipo 9 = [1, 1, 0, 0, 1, 0, 0, 1, 1, 1] Fenotipo 9 = [-0.054469]\n"
     ]
    }
   ],
   "source": [
    "POPULATION_SIZE = 10\n",
    "GEN_SIZE_1 = 10\n",
    "eps_1 = (domain_1[1] - domain_1[0]) / (2**GEN_SIZE_1 - 1)\n",
    "N_POINTS_1 = 2**GEN_SIZE_1\n",
    "\n",
    "args1 = IndividualArguments(domain_1, eps_1, n_var_1, GEN_SIZE_1, f1)\n",
    "\n",
    "population_1 = [Individual.newRandom(args1) for _ in range(POPULATION_SIZE)]\n",
    "print(\"Representación binaria\")\n",
    "for i, ind in enumerate(population_1):\n",
    "    print(f\"Genotipo {i} = {ind.getGenotype(Representation.BIN)} Fenotipo {i} = {ind.phenotype}\")\n"
   ]
  },
  {
   "cell_type": "markdown",
   "metadata": {},
   "source": [
    "Realizar lo mismo del ítem anterior para la representación en código de Gray."
   ]
  },
  {
   "cell_type": "code",
   "execution_count": 7,
   "metadata": {},
   "outputs": [
    {
     "name": "stdout",
     "output_type": "stream",
     "text": [
      "Representación en código Gray\n",
      "Genotipo 0 = [1, 1, 0, 0, 1, 0, 1, 0, 0, 0] Fenotipo 0 = [-1.265105]\n",
      "Genotipo 1 = [1, 0, 1, 1, 1, 1, 1, 1, 1, 1] Fenotipo 1 = [0.170678]\n",
      "Genotipo 2 = [0, 1, 1, 0, 0, 0, 0, 1, 0, 0] Fenotipo 2 = [-2.716772]\n",
      "Genotipo 3 = [1, 1, 1, 0, 0, 1, 1, 1, 1, 1] Fenotipo 3 = [-0.351857]\n",
      "Genotipo 4 = [0, 0, 1, 0, 1, 1, 1, 1, 1, 0] Fenotipo 4 = [-2.965955]\n",
      "Genotipo 5 = [1, 1, 0, 1, 0, 1, 1, 0, 1, 0] Fenotipo 5 = [-0.969923]\n",
      "Genotipo 6 = [1, 1, 1, 0, 0, 1, 0, 1, 0, 0] Fenotipo 6 = [-0.368393]\n",
      "Genotipo 7 = [0, 0, 0, 0, 1, 0, 0, 0, 0, 1] Fenotipo 7 = [-3.696973]\n",
      "Genotipo 8 = [1, 0, 0, 1, 0, 1, 1, 0, 1, 1] Fenotipo 8 = [0.467906]\n",
      "Genotipo 9 = [1, 0, 1, 0, 1, 1, 0, 1, 0, 0] Fenotipo 9 = [-0.054469]\n"
     ]
    }
   ],
   "source": [
    "print(\"Representación en código Gray\")\n",
    "for i, ind in enumerate(population_1):\n",
    "    print(f\"Genotipo {i} = {ind.getGenotype(Representation.GRAY)} Fenotipo {i} = {ind.phenotype}\")"
   ]
  },
  {
   "cell_type": "markdown",
   "metadata": {},
   "source": [
    "Considerando las representaciones anteriores (cadena de 10 bits) ¿cual sería el tamaño del espacio intrínseco?\n"
   ]
  },
  {
   "cell_type": "code",
   "execution_count": 8,
   "metadata": {},
   "outputs": [
    {
     "name": "stdout",
     "output_type": "stream",
     "text": [
      "El espacio intrinseco tendría 1024 elementos con una precisión de 0.004887585532746823\n"
     ]
    }
   ],
   "source": [
    "print(f\"El espacio intrinseco tendría {N_POINTS_1} elementos con una precisión de {eps_1}\")"
   ]
  },
  {
   "cell_type": "markdown",
   "metadata": {},
   "source": [
    "### b) Representación del problema (2):\n",
    "\n",
    "Implemente un programa en python que represente el cromosoma como una cadena binaria donde $x, y$ estén representados por 5 bits cada uno y luego muestre/imprima el Fenotipo y su\n",
    "representación binaria."
   ]
  },
  {
   "cell_type": "code",
   "execution_count": 9,
   "metadata": {},
   "outputs": [
    {
     "name": "stdout",
     "output_type": "stream",
     "text": [
      "Representación binaria\n",
      "Genotipo 0 = [0, 1, 1, 1, 0, 1, 1, 1, 0, 0] Fenotipo 0 = [-0.11803, 0.835948]\n",
      "Genotipo 1 = [1, 1, 0, 1, 1, 1, 0, 0, 0, 1] Fenotipo 1 = [0.741866, 0.128868]\n",
      "Genotipo 2 = [1, 1, 1, 0, 0, 0, 1, 0, 1, 1] Fenotipo 2 = [0.785883, -0.299244]\n",
      "Genotipo 3 = [1, 0, 0, 1, 1, 0, 1, 0, 1, 1] Fenotipo 3 = [0.214026, -0.311262]\n",
      "Genotipo 4 = [0, 0, 0, 1, 1, 1, 0, 1, 1, 1] Fenotipo 4 = [-0.783799, 0.475144]\n",
      "Genotipo 5 = [1, 1, 0, 1, 0, 0, 1, 0, 0, 1] Fenotipo 5 = [0.651676, -0.441044]\n",
      "Genotipo 6 = [1, 0, 0, 1, 0, 1, 1, 1, 0, 1] Fenotipo 6 = [0.183736, 0.901847]\n",
      "Genotipo 7 = [1, 1, 0, 0, 0, 1, 1, 1, 0, 1] Fenotipo 7 = [0.557723, 0.892128]\n",
      "Genotipo 8 = [1, 1, 0, 0, 0, 0, 0, 0, 0, 1] Fenotipo 8 = [0.579231, -0.918717]\n",
      "Genotipo 9 = [1, 0, 0, 0, 1, 1, 1, 0, 0, 0] Fenotipo 9 = [0.099818, 0.555876]\n"
     ]
    }
   ],
   "source": [
    "POPULATION_SIZE = 10\n",
    "GEN_SIZE_2 = 5\n",
    "eps_2 = (domain_2[1] - domain_2[0]) / (2**GEN_SIZE_2 - 1)\n",
    "N_POINTS_2 = 2**GEN_SIZE_2\n",
    "\n",
    "args2 = IndividualArguments(domain_2, eps_2, n_var_2, GEN_SIZE_2, f2)\n",
    "\n",
    "population_2 = [Individual.newRandom(args2) for _ in range(POPULATION_SIZE)]\n",
    "print(\"Representación binaria\")\n",
    "for i, ind in enumerate(population_2):\n",
    "    print(f\"Genotipo {i} = {ind.getGenotype(Representation.BIN)} Fenotipo {i} = {ind.phenotype}\")"
   ]
  },
  {
   "cell_type": "markdown",
   "metadata": {},
   "source": [
    "Realizar lo mismo del ítem anterior para la representación en código de Gray"
   ]
  },
  {
   "cell_type": "code",
   "execution_count": 10,
   "metadata": {},
   "outputs": [
    {
     "name": "stdout",
     "output_type": "stream",
     "text": [
      "Representación en código Gray\n",
      "Genotipo 0 = [0, 1, 0, 0, 1, 1, 0, 0, 1, 0] Fenotipo 0 = [-0.11803, 0.835948]\n",
      "Genotipo 1 = [1, 0, 1, 1, 0, 1, 1, 0, 0, 1] Fenotipo 1 = [0.741866, 0.128868]\n",
      "Genotipo 2 = [1, 0, 0, 1, 0, 0, 1, 1, 1, 0] Fenotipo 2 = [0.785883, -0.299244]\n",
      "Genotipo 3 = [1, 1, 0, 1, 0, 0, 1, 1, 1, 0] Fenotipo 3 = [0.214026, -0.311262]\n",
      "Genotipo 4 = [0, 0, 0, 1, 0, 1, 1, 1, 0, 0] Fenotipo 4 = [-0.783799, 0.475144]\n",
      "Genotipo 5 = [1, 0, 1, 1, 1, 0, 1, 1, 0, 1] Fenotipo 5 = [0.651676, -0.441044]\n",
      "Genotipo 6 = [1, 1, 0, 1, 1, 1, 0, 0, 1, 1] Fenotipo 6 = [0.183736, 0.901847]\n",
      "Genotipo 7 = [1, 0, 1, 0, 0, 1, 0, 0, 1, 1] Fenotipo 7 = [0.557723, 0.892128]\n",
      "Genotipo 8 = [1, 0, 1, 0, 0, 0, 0, 0, 0, 1] Fenotipo 8 = [0.579231, -0.918717]\n",
      "Genotipo 9 = [1, 1, 0, 0, 1, 1, 0, 1, 0, 0] Fenotipo 9 = [0.099818, 0.555876]\n"
     ]
    }
   ],
   "source": [
    "print(\"Representación en código Gray\")\n",
    "for i, ind in enumerate(population_2):\n",
    "    print(f\"Genotipo {i} = {ind.getGenotype(Representation.GRAY)} Fenotipo {i} = {ind.phenotype}\")"
   ]
  },
  {
   "cell_type": "markdown",
   "metadata": {},
   "source": [
    "Realizar lo mismo del ítem anterior para la representación real"
   ]
  },
  {
   "cell_type": "code",
   "execution_count": 11,
   "metadata": {},
   "outputs": [
    {
     "name": "stdout",
     "output_type": "stream",
     "text": [
      "Representación real\n",
      "Individuo 0 = [-0.11803, 0.835948]\n",
      "Individuo 1 = [0.741866, 0.128868]\n",
      "Individuo 2 = [0.785883, -0.299244]\n",
      "Individuo 3 = [0.214026, -0.311262]\n",
      "Individuo 4 = [-0.783799, 0.475144]\n",
      "Individuo 5 = [0.651676, -0.441044]\n",
      "Individuo 6 = [0.183736, 0.901847]\n",
      "Individuo 7 = [0.557723, 0.892128]\n",
      "Individuo 8 = [0.579231, -0.918717]\n",
      "Individuo 9 = [0.099818, 0.555876]\n"
     ]
    }
   ],
   "source": [
    "print(\"Representación real\")\n",
    "for i, ind in enumerate(population_2):\n",
    "    print(f\"Individuo {i} = {ind.phenotype}\")"
   ]
  },
  {
   "cell_type": "markdown",
   "metadata": {},
   "source": [
    "Considerando las representaciones anteriores (cadena de 10 bits y representación real) ¿cual sería el tamaño del espacio intrínseco?\n"
   ]
  },
  {
   "cell_type": "code",
   "execution_count": 12,
   "metadata": {},
   "outputs": [
    {
     "name": "stdout",
     "output_type": "stream",
     "text": [
      "El espacio intrinseco tendría 32 x 32 = 1024 elementos con una precisión de 0.06451612903225806\n"
     ]
    }
   ],
   "source": [
    "print(f\"El espacio intrinseco tendría {N_POINTS_2} x {N_POINTS_2} = {2**(2*GEN_SIZE_2)} elementos con una precisión de {eps_2}\")"
   ]
  },
  {
   "cell_type": "markdown",
   "metadata": {},
   "source": [
    "### c) Representación del problema (3):\n",
    "\n",
    "Implemente un programa en python que represente el cromosoma como una cadena binaria donde $x_1, x_2, x_3, x_4$ estén representados por 6 bits cada uno y luego muestre/imprima el Fenotipo y su representación binaria.\n"
   ]
  },
  {
   "cell_type": "code",
   "execution_count": 13,
   "metadata": {},
   "outputs": [
    {
     "name": "stdout",
     "output_type": "stream",
     "text": [
      "Representación binaria\n",
      "Genotipo 0 = [1, 1, 1, 1, 0, 1, 0, 0, 1, 1, 1, 0, 0, 0, 1, 0, 0, 0, 0, 1, 0, 0, 0, 0] Fenotipo 0 = [58.531792, 22.624336, 17.989995, 24.521933]\n",
      "Genotipo 1 = [0, 0, 0, 0, 1, 1, 1, 0, 0, 0, 0, 1, 1, 0, 1, 1, 1, 1, 1, 1, 1, 0, 0, 0] Fenotipo 1 = [14.018699, 36.841745, 47.453978, 54.911692]\n",
      "Genotipo 2 = [0, 1, 0, 1, 1, 0, 0, 0, 1, 1, 0, 1, 1, 1, 0, 0, 0, 0, 1, 1, 1, 0, 1, 0] Fenotipo 2 = [28.620085, 22.197517, 48.443524, 55.827353]\n",
      "Genotipo 3 = [1, 0, 1, 0, 0, 0, 0, 0, 0, 1, 0, 0, 1, 1, 1, 1, 0, 0, 1, 0, 1, 0, 1, 0] Fenotipo 3 = [42.481945, 15.252702, 57.88132, 44.224549]\n",
      "Genotipo 4 = [0, 1, 0, 0, 1, 0, 1, 1, 0, 1, 1, 1, 0, 1, 1, 1, 0, 1, 1, 0, 0, 0, 1, 1] Fenotipo 4 = [25.419657, 54.056878, 34.239004, 39.001091]\n",
      "Genotipo 5 = [1, 0, 0, 0, 1, 0, 1, 0, 1, 0, 1, 1, 0, 0, 1, 1, 1, 0, 0, 1, 1, 1, 1, 0] Fenotipo 5 = [37.965212, 44.805708, 22.500942, 34.520341]\n",
      "Genotipo 6 = [1, 0, 1, 1, 0, 0, 1, 0, 0, 1, 0, 0, 0, 1, 0, 1, 1, 1, 0, 1, 1, 0, 1, 1] Fenotipo 6 = [45.745537, 39.595346, 29.462667, 32.881191]\n",
      "Genotipo 7 = [0, 0, 1, 0, 0, 0, 0, 1, 0, 0, 0, 0, 0, 0, 1, 0, 1, 1, 0, 0, 1, 1, 1, 0] Fenotipo 7 = [17.88347, 24.468322, 20.268404, 22.832478]\n",
      "Genotipo 8 = [0, 0, 1, 1, 1, 0, 1, 1, 1, 1, 0, 1, 0, 1, 1, 0, 0, 1, 1, 0, 0, 0, 1, 1] Fenotipo 8 = [22.501575, 58.34047, 30.770315, 38.632341]\n",
      "Genotipo 9 = [0, 1, 0, 0, 1, 1, 0, 1, 0, 0, 1, 0, 1, 0, 1, 1, 0, 1, 1, 1, 0, 0, 1, 0] Fenotipo 9 = [26.69494, 25.585734, 46.269316, 50.059239]\n"
     ]
    }
   ],
   "source": [
    "POPULATION_SIZE = 10\n",
    "GEN_SIZE_3 = 6\n",
    "eps_3 = (60 - 12) / (2**GEN_SIZE_3 - 1)\n",
    "N_POINTS_3 = 2**GEN_SIZE_3\n",
    "\n",
    "args3 = IndividualArguments(domain_3, eps_3, n_var_3, GEN_SIZE_3, f3)\n",
    "\n",
    "population_3 = [Individual.newRandom(args3) for _ in range(POPULATION_SIZE)]\n",
    "print(\"Representación binaria\")\n",
    "for i, ind in enumerate(population_3):\n",
    "    print(f\"Genotipo {i} = {ind.getGenotype(Representation.BIN)} Fenotipo {i} = {ind.phenotype}\")"
   ]
  },
  {
   "cell_type": "markdown",
   "metadata": {},
   "source": [
    "Realizar lo mismo del ítem anterior para la representación en código de Gray"
   ]
  },
  {
   "cell_type": "code",
   "execution_count": 14,
   "metadata": {},
   "outputs": [
    {
     "name": "stdout",
     "output_type": "stream",
     "text": [
      "Genotipo 0 = [1, 0, 0, 0, 1, 1, 0, 0, 1, 0, 0, 1, 0, 0, 1, 1, 0, 0, 0, 1, 1, 0, 0, 0] Fenotipo 0 = [58.531792, 22.624336, 17.989995, 24.521933]\n",
      "Genotipo 1 = [0, 0, 0, 0, 1, 0, 1, 1, 0, 0, 0, 1, 1, 1, 1, 0, 0, 0, 1, 0, 0, 1, 0, 0] Fenotipo 1 = [14.018699, 36.841745, 47.453978, 54.911692]\n",
      "Genotipo 2 = [0, 1, 1, 1, 0, 1, 0, 0, 1, 0, 1, 1, 1, 0, 1, 0, 0, 0, 1, 0, 0, 1, 1, 1] Fenotipo 2 = [28.620085, 22.197517, 48.443524, 55.827353]\n",
      "Genotipo 3 = [1, 1, 1, 1, 0, 0, 0, 0, 0, 1, 1, 0, 1, 0, 0, 0, 1, 0, 1, 1, 1, 1, 1, 1] Fenotipo 3 = [42.481945, 15.252702, 57.88132, 44.224549]\n",
      "Genotipo 4 = [0, 1, 1, 0, 1, 1, 1, 0, 1, 1, 0, 0, 0, 1, 0, 0, 1, 1, 1, 1, 0, 0, 1, 0] Fenotipo 4 = [25.419657, 54.056878, 34.239004, 39.001091]\n",
      "Genotipo 5 = [1, 1, 0, 0, 1, 1, 1, 1, 1, 1, 1, 0, 0, 0, 1, 0, 0, 1, 0, 1, 0, 0, 0, 1] Fenotipo 5 = [37.965212, 44.805708, 22.500942, 34.520341]\n",
      "Genotipo 6 = [1, 1, 1, 0, 1, 0, 1, 1, 0, 1, 1, 0, 0, 1, 1, 1, 0, 0, 0, 1, 0, 1, 1, 0] Fenotipo 6 = [45.745537, 39.595346, 29.462667, 32.881191]\n",
      "Genotipo 7 = [0, 0, 1, 1, 0, 0, 0, 1, 1, 0, 0, 0, 0, 0, 1, 1, 1, 0, 0, 0, 1, 0, 0, 1] Fenotipo 7 = [17.88347, 24.468322, 20.268404, 22.832478]\n",
      "Genotipo 8 = [0, 0, 1, 0, 0, 1, 1, 0, 0, 0, 1, 1, 0, 1, 0, 1, 0, 1, 1, 1, 0, 0, 1, 0] Fenotipo 8 = [22.501575, 58.34047, 30.770315, 38.632341]\n",
      "Genotipo 9 = [0, 1, 1, 0, 1, 0, 0, 1, 1, 0, 1, 1, 1, 1, 1, 0, 1, 1, 1, 0, 1, 0, 1, 1] Fenotipo 9 = [26.69494, 25.585734, 46.269316, 50.059239]\n"
     ]
    }
   ],
   "source": [
    "for i, ind in enumerate(population_3):\n",
    "    print(f\"Genotipo {i} = {ind.getGenotype(Representation.GRAY)} Fenotipo {i} = {ind.phenotype}\")"
   ]
  },
  {
   "cell_type": "markdown",
   "metadata": {},
   "source": [
    "Realizar lo mismo del ítem anterior para la representación real."
   ]
  },
  {
   "cell_type": "code",
   "execution_count": 15,
   "metadata": {},
   "outputs": [
    {
     "name": "stdout",
     "output_type": "stream",
     "text": [
      "Individuo 0 = [58.531792, 22.624336, 17.989995, 24.521933]\n",
      "Individuo 1 = [14.018699, 36.841745, 47.453978, 54.911692]\n",
      "Individuo 2 = [28.620085, 22.197517, 48.443524, 55.827353]\n",
      "Individuo 3 = [42.481945, 15.252702, 57.88132, 44.224549]\n",
      "Individuo 4 = [25.419657, 54.056878, 34.239004, 39.001091]\n",
      "Individuo 5 = [37.965212, 44.805708, 22.500942, 34.520341]\n",
      "Individuo 6 = [45.745537, 39.595346, 29.462667, 32.881191]\n",
      "Individuo 7 = [17.88347, 24.468322, 20.268404, 22.832478]\n",
      "Individuo 8 = [22.501575, 58.34047, 30.770315, 38.632341]\n",
      "Individuo 9 = [26.69494, 25.585734, 46.269316, 50.059239]\n"
     ]
    }
   ],
   "source": [
    "for i, ind in enumerate(population_3):\n",
    "    print(f\"Individuo {i} = {ind.getGenotype(Representation.DECIMAL)}\")"
   ]
  },
  {
   "cell_type": "markdown",
   "metadata": {},
   "source": [
    "Considerando las representaciones anteriores (cadena de bits, representación real) ¿cual seria el tamaño del espacio intrínseco"
   ]
  },
  {
   "cell_type": "code",
   "execution_count": 16,
   "metadata": {},
   "outputs": [
    {
     "name": "stdout",
     "output_type": "stream",
     "text": [
      "El espacio intrinseco tendría 64x64x64x64=16777216 elementos con una precisión de 0.7619047619047619\n"
     ]
    }
   ],
   "source": [
    "print(f\"El espacio intrinseco tendría {N_POINTS_3}x{N_POINTS_3}x{N_POINTS_3}x{N_POINTS_3}={2**(4*GEN_SIZE_3)} elementos con una precisión de {eps_3}\")"
   ]
  },
  {
   "cell_type": "markdown",
   "metadata": {},
   "source": [
    "## 2. Gestión de la población: de la teoría se sabe que los métodos de selección son independientes del método de representación del algoritmo evolutivo, implemente los siguientes métodos de selección en python:"
   ]
  },
  {
   "cell_type": "code",
   "execution_count": 17,
   "metadata": {},
   "outputs": [],
   "source": [
    "class Selection(ABC):\n",
    "    @abstractmethod\n",
    "    def __init__(self, num_individuals: int):\n",
    "        self.num_individuals = num_individuals\n",
    "\n",
    "    @abstractmethod\n",
    "    def get_individuals(self, population: list[Individual], fitness: list[float]):\n",
    "        pass\n",
    "\n",
    "    @staticmethod\n",
    "    def intensity(prev_fitness: list[float], curr_fitness: list[float]):\n",
    "        prev_fitness = np.array(prev_fitness)\n",
    "        curr_fitness = np.array(curr_fitness)\n",
    "        mean_prev = np.mean(prev_fitness)   # f\n",
    "        mean_curr = np.mean(curr_fitness)   # g\n",
    "        std_prev = np.std(prev_fitness)     # f \n",
    "        return (mean_curr - mean_prev) / std_prev if std_prev != 0.0 else 0.0\n"
   ]
  },
  {
   "cell_type": "markdown",
   "metadata": {},
   "source": [
    "De una población de 10 individuos se seleccionarán 5 individuos del problema 2"
   ]
  },
  {
   "cell_type": "code",
   "execution_count": 18,
   "metadata": {},
   "outputs": [
    {
     "name": "stdout",
     "output_type": "stream",
     "text": [
      "Individuo 0 = [0.820705, -0.696231]\n",
      "Individuo 1 = [0.647273, -0.153918]\n",
      "Individuo 2 = [-0.739084, 0.876611]\n",
      "Individuo 3 = [0.695396, -0.939379]\n",
      "Individuo 4 = [-0.703664, -0.519942]\n",
      "Individuo 5 = [-0.583078, -0.16362]\n",
      "Individuo 6 = [0.775006, 0.263415]\n",
      "Individuo 7 = [-0.580528, 0.895629]\n",
      "Individuo 8 = [0.545687, 0.169671]\n",
      "Individuo 9 = [-0.646129, 0.206387]\n"
     ]
    }
   ],
   "source": [
    "POPULATION_SIZE = 10\n",
    "SELECTED_SIZE = 5\n",
    "args2 = IndividualArguments(domain_2, eps_2, n_var_2, GEN_SIZE_2, Representation.GRAY)\n",
    "initial_population = [Individual.newRandom(args2) for _ in range(POPULATION_SIZE)]\n",
    "fitness_population = [f2(ind.phenotype) for ind in initial_population]\n",
    "for i, ind in enumerate(initial_population):\n",
    "    print(f\"Individuo {i} = {ind.getGenotype(Representation.DECIMAL)}\")"
   ]
  },
  {
   "cell_type": "markdown",
   "metadata": {},
   "source": [
    "### Método de selección proporcional"
   ]
  },
  {
   "cell_type": "code",
   "execution_count": 19,
   "metadata": {},
   "outputs": [],
   "source": [
    "class ProportionalSelection(Selection):\n",
    "    def __init__(self, num_individuals: int, delta: float = 0.0):\n",
    "        super().__init__(num_individuals)\n",
    "        # fi + 10, fi + 100\n",
    "        self.delta = delta\n",
    "\n",
    "    def get_individuals(self, population: list[Individual], fitness: list[float]):\n",
    "        f_max = max(fitness)\n",
    "        # individuos con menor fitness (f_max - f) tienen mayor probabilidad de ser seleccionados  \n",
    "        # presión de selección\n",
    "        fitness = f_max - np.array(fitness) + 1e-4 + self.delta\n",
    "        distribution = fitness / fitness.sum()\n",
    "        return random.choices(population, weights=distribution, k=self.num_individuals)\n"
   ]
  },
  {
   "cell_type": "code",
   "execution_count": 20,
   "metadata": {},
   "outputs": [
    {
     "name": "stdout",
     "output_type": "stream",
     "text": [
      "Individuo 0 = [-0.703664, -0.519942]\n",
      "Individuo 1 = [0.775006, 0.263415]\n",
      "Individuo 2 = [-0.646129, 0.206387]\n",
      "Individuo 3 = [0.820705, -0.696231]\n",
      "Individuo 4 = [-0.580528, 0.895629]\n"
     ]
    }
   ],
   "source": [
    "selected = ProportionalSelection(num_individuals=SELECTED_SIZE, delta=10).get_individuals(initial_population, fitness_population)\n",
    "for i, ind in enumerate(selected):\n",
    "    print(f\"Individuo {i} = {ind.phenotype}\")\n"
   ]
  },
  {
   "cell_type": "markdown",
   "metadata": {},
   "source": [
    "### Método de selección basada en ranking lineal"
   ]
  },
  {
   "cell_type": "code",
   "execution_count": 21,
   "metadata": {},
   "outputs": [],
   "source": [
    "class LinearRankingSelection(Selection):\n",
    "    def __init__(self, num_individuals: int, s: float):\n",
    "        super().__init__(num_individuals)\n",
    "        self.s = s\n",
    "\n",
    "    def get_individuals(self, population: list[Individual], fitness: list[float]):\n",
    "        mu = len(population)\n",
    "        pop_fit = zip(population, fitness)\n",
    "        sorted_pop_fit = sorted(pop_fit, key=lambda val: val[1], reverse=True)\n",
    "        pop_fit = list(zip(*sorted_pop_fit))\n",
    "        distribution = [(2 - self.s) / mu + 2 * i * (self.s - 1) / (mu * (mu - 1)) for i in range(mu)]\n",
    "\n",
    "        return random.choices(pop_fit[0], weights=distribution, k=self.num_individuals)\n"
   ]
  },
  {
   "cell_type": "code",
   "execution_count": 22,
   "metadata": {},
   "outputs": [
    {
     "name": "stdout",
     "output_type": "stream",
     "text": [
      "Individuo 0 = [-0.646129, 0.206387]\n",
      "Individuo 1 = [0.775006, 0.263415]\n",
      "Individuo 2 = [0.820705, -0.696231]\n",
      "Individuo 3 = [-0.703664, -0.519942]\n",
      "Individuo 4 = [-0.646129, 0.206387]\n"
     ]
    }
   ],
   "source": [
    "selected = LinearRankingSelection(num_individuals=SELECTED_SIZE, s=1.5).get_individuals(initial_population, fitness_population)\n",
    "for i, ind in enumerate(selected):\n",
    "    print(f\"Individuo {i} = {ind.phenotype}\")\n"
   ]
  },
  {
   "cell_type": "markdown",
   "metadata": {},
   "source": [
    "### Método de torneo"
   ]
  },
  {
   "cell_type": "code",
   "execution_count": 23,
   "metadata": {},
   "outputs": [],
   "source": [
    "class TournamentSelection(Selection):\n",
    "    def __init__(self, num_individuals: int, tournament_size: int):\n",
    "        super().__init__(num_individuals)\n",
    "        self.tournament_size = tournament_size\n",
    "\n",
    "    def get_individuals(self, population: list[Individual], fitness: list[float]):\n",
    "        pop_fit_zipped = list(zip(population, fitness))\n",
    "        selected: list[Individual] = []\n",
    "        for _ in range(self.num_individuals):\n",
    "            candidates = random.choices(pop_fit_zipped, k=self.tournament_size)\n",
    "            selected.append(min(candidates, key=lambda pop_fit: pop_fit[1])[0])\n",
    "        return selected\n"
   ]
  },
  {
   "cell_type": "code",
   "execution_count": 24,
   "metadata": {},
   "outputs": [
    {
     "name": "stdout",
     "output_type": "stream",
     "text": [
      "Individuo 0 = [-0.583078, -0.16362]\n",
      "Individuo 1 = [0.545687, 0.169671]\n",
      "Individuo 2 = [0.647273, -0.153918]\n",
      "Individuo 3 = [0.545687, 0.169671]\n",
      "Individuo 4 = [-0.583078, -0.16362]\n"
     ]
    }
   ],
   "source": [
    "selected = TournamentSelection(num_individuals=SELECTED_SIZE, tournament_size=5).get_individuals(initial_population, fitness_population)\n",
    "for i, ind in enumerate(selected):\n",
    "    print(f\"Individuo {i} = {ind.phenotype}\")\n"
   ]
  },
  {
   "cell_type": "markdown",
   "metadata": {},
   "source": [
    "### Método de selección uniforme"
   ]
  },
  {
   "cell_type": "code",
   "execution_count": 62,
   "metadata": {},
   "outputs": [],
   "source": [
    "class UniformSelection(Selection):\n",
    "    def __init__(self, num_individuals: int):\n",
    "        super().__init__(num_individuals)\n",
    "\n",
    "    def get_individuals(self, population: list[Individual], fitness: list[float] = None):\n",
    "        # por defecto el metodo choice implementa una distribucion uniforme\n",
    "        return random.choices(population, k=self.num_individuals) \n"
   ]
  },
  {
   "cell_type": "code",
   "execution_count": 26,
   "metadata": {},
   "outputs": [
    {
     "name": "stdout",
     "output_type": "stream",
     "text": [
      "Individuo 0 = [0.775006, 0.263415]\n",
      "Individuo 1 = [0.775006, 0.263415]\n",
      "Individuo 2 = [0.775006, 0.263415]\n",
      "Individuo 3 = [-0.646129, 0.206387]\n",
      "Individuo 4 = [-0.583078, -0.16362]\n"
     ]
    }
   ],
   "source": [
    "selected = UniformSelection(num_individuals=SELECTED_SIZE).get_individuals(initial_population)\n",
    "for i, ind in enumerate(selected):\n",
    "    print(f\"Individuo {i} = {ind.phenotype}\")\n"
   ]
  },
  {
   "cell_type": "markdown",
   "metadata": {},
   "source": [
    "### Método de de la ruleta"
   ]
  },
  {
   "cell_type": "code",
   "execution_count": 27,
   "metadata": {},
   "outputs": [],
   "source": [
    "class RouletteSelection(Selection):\n",
    "    def __init__(self, num_individuals: int):\n",
    "        super().__init__(num_individuals)\n",
    "\n",
    "    def get_individuals(self, population: list[Individual], fitness: list[float]):\n",
    "        # individuos con menor fitness tienen mayor probabilidad de ser seleccionados\n",
    "        # presion de seleccion\n",
    "        f_max = max(fitness)\n",
    "        fitness = f_max - np.array(fitness) + 1e-4\n",
    "        distribution = np.array(fitness) / sum(fitness)\n",
    "        # el metodo de la ruleta es similar a seleccionar elementos de una lista dada una distribucion de probabilidades\n",
    "        return random.choices(population, weights=distribution, k=self.num_individuals)\n"
   ]
  },
  {
   "cell_type": "code",
   "execution_count": 28,
   "metadata": {},
   "outputs": [
    {
     "name": "stdout",
     "output_type": "stream",
     "text": [
      "Individuo 0 = [-0.646129, 0.206387]\n",
      "Individuo 1 = [-0.583078, -0.16362]\n",
      "Individuo 2 = [0.545687, 0.169671]\n",
      "Individuo 3 = [-0.646129, 0.206387]\n",
      "Individuo 4 = [0.545687, 0.169671]\n"
     ]
    }
   ],
   "source": [
    "selected = RouletteSelection(num_individuals=SELECTED_SIZE).get_individuals(initial_population, fitness_population)\n",
    "for i, ind in enumerate(selected):\n",
    "    print(f\"Individuo {i} = {ind.phenotype}\")\n"
   ]
  },
  {
   "cell_type": "markdown",
   "metadata": {},
   "source": [
    "### Operadores de variación"
   ]
  },
  {
   "cell_type": "code",
   "execution_count": 29,
   "metadata": {},
   "outputs": [],
   "source": [
    "class Crossover:\n",
    "    def __init__(self, probability: float):\n",
    "        self.probability = probability\n",
    "\n",
    "    def make(self, parent1: Individual, parent2: Individual):\n",
    "        # dos hijos por pareja\n",
    "        if random.random() < self.probability:\n",
    "            c1 = copy.deepcopy(parent1.getGenotype())\n",
    "            c2 = copy.deepcopy(parent2.getGenotype())\n",
    "            point = random.randint(1, len(c1) - 2)\n",
    "\n",
    "            c1[point:], c2[point:] = c2[point:], c1[point:]\n",
    "            return Individual.newLike(c1, parent1), Individual.newLike(c2, parent2)\n",
    "        return None\n",
    "\n",
    "\n",
    "class Mutation:\n",
    "    def __init__(self, probability: float):\n",
    "        self.probability = probability\n",
    "\n",
    "    def make(self, ind: Individual):\n",
    "        mut = copy.deepcopy(ind.getGenotype())\n",
    "        if random.random() < self.probability:\n",
    "            # punto aleatorio de la cadea\n",
    "            point = random.randint(0, len(mut) - 1)\n",
    "\n",
    "            if len(mut) > ind.n_var:\n",
    "                mut[point] = (mut[point] + 1) % 2\n",
    "            else:\n",
    "                mut[point] = random.uniform(ind.domain[0], ind.domain[1])\n",
    "            return Individual.newLike(mut, ind)\n",
    "        return None\n"
   ]
  },
  {
   "cell_type": "markdown",
   "metadata": {},
   "source": [
    "### Esquema general de un AE genérico "
   ]
  },
  {
   "cell_type": "code",
   "execution_count": 30,
   "metadata": {},
   "outputs": [],
   "source": [
    "def genenetic_algorithm(max_generation: int,\n",
    "                        fitness: Callable[[list[float]], float],\n",
    "                        population: list[Individual],\n",
    "                        selection: Selection,\n",
    "                        crossover: Crossover,\n",
    "                        mutation: Mutation):\n",
    "    best: list[Individual] = []\n",
    "    generation_number = 0\n",
    "    while generation_number < max_generation:\n",
    "        generation_number += 1\n",
    "        # evaluacion de la aptitud de la población inicial (n individuos)\n",
    "        population_fitness = [fitness(ind.phenotype) for ind in population]\n",
    "        # seleccion de los padres (para la reproducción)\n",
    "        parents = selection.get_individuals(population, population_fitness)\n",
    "        # operadores de variación\n",
    "        offspring: list[Individual] = []\n",
    "        # crossover\n",
    "        for p1, p2 in zip(parents[0::2], parents[1::2]):\n",
    "            if (childs := crossover.make(p1, p2)) != None:\n",
    "                offspring += childs\n",
    "        # mutation\n",
    "        for ind in parents:\n",
    "            if (mutant := mutation.make(ind)) != None:\n",
    "                offspring.append(mutant)\n",
    "        # evaluacion de la aptitud de los λ descendientes\n",
    "        offspring_fitness = [fitness(ind.phenotype) for ind in offspring]\n",
    "\n",
    "        prev_fitness = copy.deepcopy(population_fitness) \n",
    "        # λ individuos aptos + n padres\n",
    "        population += offspring\n",
    "        population_fitness += offspring_fitness\n",
    "        # seleccionamos un individuo para la grafica\n",
    "        best.append(population[random.randint(0, len(population) - 1)])\n",
    "        # selección del ambiente n\n",
    "        population = selection.get_individuals(population, population_fitness)\n",
    "        \n",
    "        curr_fitness = [fitness(ind.phenotype) for ind in population]\n",
    "        S = selection.intensity(prev_fitness, curr_fitness)      \n",
    "        \n",
    "        # impresión de la generación\n",
    "        if generation_number % int(max_generation / 10) == 0:\n",
    "            print(f\"Generación: {generation_number}, número de descendientes: {len(offspring)}, intensidad: {S}\")\n",
    "\n",
    "    plt.plot([fitness(x.phenotype) for x in best], \"r-\")\n",
    "    plt.title(f\"Generation number {generation_number} with {selection.__class__.__name__}\")\n",
    "    plt.ylabel(\"Fitness\")\n",
    "    plt.xlabel(\"Generation\")\n",
    "    plt.show()\n",
    "    return best\n"
   ]
  },
  {
   "cell_type": "markdown",
   "metadata": {},
   "source": [
    "## 3. Evaluación de la intensidad de selección: para los problemas planteados en la pregunta (1) evaluar la presión de selección considerando los siguientes casos.\n",
    "**Importante**: El número de descendientes está dado de manera probabiliística por los operadores de variación, por lo que es complicado establecer un número fijo de descendientes, sin embargo, tendrá el casi el mismo número según la cantidad de padres que se apareen, pues si son 10 padres, cada 2 parejas pueden tener 2 hijos, habrá alrededor de 8, 9 o 10 descendientes.\n"
   ]
  },
  {
   "cell_type": "markdown",
   "metadata": {},
   "source": [
    "#### a) Para el primer caso (ecuación 1) considerar la representación binaria, una población inicial 15 individuos del cual debe seleccionar 10 padres y crear 10 descendientes, una taza de cruce de 0.8, una tasa de mutación de 0.01, donde el cruce y la mutación son seleccionadas de forma aleatoria (Usando los mismos criterios del ejemplo mostrado en Colab-note) realizar lo siguiente:\n",
    "\n",
    "• Usando el método de torneo para la selección de las nuevas generaciones (constantes de 15 individuos)\n"
   ]
  },
  {
   "cell_type": "code",
   "execution_count": 63,
   "metadata": {},
   "outputs": [
    {
     "name": "stdout",
     "output_type": "stream",
     "text": [
      "Generación: 1, número de descendientes: 4, intensidad: -0.8334988923215547\n",
      "Generación: 2, número de descendientes: 6, intensidad: -0.862089355016265\n",
      "Generación: 3, número de descendientes: 10, intensidad: -0.4948468726599886\n",
      "Generación: 4, número de descendientes: 6, intensidad: -1.25\n",
      "Generación: 5, número de descendientes: 10, intensidad: -0.6546536707080964\n",
      "Generación: 6, número de descendientes: 8, intensidad: 0.0\n",
      "Generación: 7, número de descendientes: 8, intensidad: 0.0\n",
      "Generación: 8, número de descendientes: 10, intensidad: 0.0\n",
      "Generación: 9, número de descendientes: 10, intensidad: 0.0\n",
      "Generación: 10, número de descendientes: 8, intensidad: 0.0\n"
     ]
    },
    {
     "data": {
      "image/png": "[encoded data removed]",
      "text/plain": [
       "<Figure size 432x288 with 1 Axes>"
      ]
     },
     "metadata": {
      "needs_background": "light"
     },
     "output_type": "display_data"
    }
   ],
   "source": [
    "# GA CANONICAL HYPERPARAMETERS\n",
    "MAX_GENERATION = 10\n",
    "POPULATION_SIZE = 15\n",
    "SELECTED_SIZE = 10\n",
    "# NOTA: El número de descendientes está dado de manera estocástica según los operadores de variación, así que es complicado establecer un número fijo de descendientes\n",
    "# sin embargo rondará los 10 individuos.\n",
    "OFFSPRING_SIZE = 10 \n",
    "CROSSOVER_PROBABILITY = 0.8\n",
    "MUTATION_PROBABILITY = 0.01\n",
    "\n",
    "args = IndividualArguments(domain_1, eps_1, n_var_1, GEN_SIZE_1, Representation.GRAY)\n",
    "initial_population = [Individual.newRandom(args) for _ in range(POPULATION_SIZE)]\n",
    "\n",
    "# PIPELINE GA TOURNAMENT SELECTION\n",
    "best = genenetic_algorithm(max_generation=MAX_GENERATION,\n",
    "                           fitness=f1,\n",
    "                           population=initial_population,\n",
    "                           selection=TournamentSelection(num_individuals=SELECTED_SIZE, tournament_size=3),\n",
    "                           crossover=Crossover(probability=CROSSOVER_PROBABILITY),\n",
    "                           mutation=Mutation(probability=MUTATION_PROBABILITY))\n"
   ]
  },
  {
   "cell_type": "markdown",
   "metadata": {},
   "source": [
    "#### Evalúe la intensidad de selección para cada uno de los métodos de selección en la pregunta (2)."
   ]
  },
  {
   "cell_type": "code",
   "execution_count": 64,
   "metadata": {},
   "outputs": [
    {
     "name": "stdout",
     "output_type": "stream",
     "text": [
      "Optimal value with Tournament Selection\n",
      " x* = [-2.768328445747801], f(x*) = -4.618098142039013\n"
     ]
    }
   ],
   "source": [
    "solution = min(best, key=lambda x: f1(x.phenotype))\n",
    "print(f\"Optimal value with Tournament Selection\\n x* = {solution.phenotype}, f(x*) = {f1(solution.phenotype)}\")"
   ]
  },
  {
   "cell_type": "code",
   "execution_count": 65,
   "metadata": {},
   "outputs": [
    {
     "name": "stdout",
     "output_type": "stream",
     "text": [
      "Generación: 1, número de descendientes: 6, intensidad: -0.7536458538528641\n",
      "Generación: 2, número de descendientes: 8, intensidad: -0.4299798609122943\n",
      "Generación: 3, número de descendientes: 8, intensidad: -0.23625926326217447\n",
      "Generación: 4, número de descendientes: 6, intensidad: 0.2103508700833272\n",
      "Generación: 5, número de descendientes: 8, intensidad: 0.008315772784974768\n",
      "Generación: 6, número de descendientes: 2, intensidad: -0.08526237305278297\n",
      "Generación: 7, número de descendientes: 8, intensidad: -0.23432474863123884\n",
      "Generación: 8, número de descendientes: 10, intensidad: 0.4419629044123442\n",
      "Generación: 9, número de descendientes: 8, intensidad: -0.041620509225928026\n",
      "Generación: 10, número de descendientes: 8, intensidad: 0.24999999999999814\n"
     ]
    },
    {
     "data": {
      "image/png": "[encoded data removed]",
      "text/plain": [
       "<Figure size 432x288 with 1 Axes>"
      ]
     },
     "metadata": {
      "needs_background": "light"
     },
     "output_type": "display_data"
    }
   ],
   "source": [
    "# PIPELINE GA PROPORTIONAL SELECTION\n",
    "best = genenetic_algorithm(max_generation=MAX_GENERATION,\n",
    "                           fitness=f1,\n",
    "                           population=initial_population,\n",
    "                           selection=ProportionalSelection(num_individuals=SELECTED_SIZE, delta=10),\n",
    "                           crossover=Crossover(probability=CROSSOVER_PROBABILITY),\n",
    "                           mutation=Mutation(probability=MUTATION_PROBABILITY))\n"
   ]
  },
  {
   "cell_type": "code",
   "execution_count": 66,
   "metadata": {},
   "outputs": [
    {
     "name": "stdout",
     "output_type": "stream",
     "text": [
      "Optimal value with Proportional Selection\n",
      " x* = [-2.929618768328446], f(x*) = -5.008401406075471\n"
     ]
    }
   ],
   "source": [
    "solution = min(best, key=lambda x: f1(x.phenotype))\n",
    "print(f\"Optimal value with Proportional Selection\\n x* = {solution.phenotype}, f(x*) = {f1(solution.phenotype)}\")"
   ]
  },
  {
   "cell_type": "code",
   "execution_count": 67,
   "metadata": {},
   "outputs": [
    {
     "name": "stdout",
     "output_type": "stream",
     "text": [
      "Generación: 1, número de descendientes: 8, intensidad: -0.8171755122215169\n",
      "Generación: 2, número de descendientes: 8, intensidad: -0.9430661729732551\n",
      "Generación: 3, número de descendientes: 10, intensidad: -0.4495759354400905\n",
      "Generación: 4, número de descendientes: 10, intensidad: -1.1440152972100193\n",
      "Generación: 5, número de descendientes: 8, intensidad: -0.8211531716880219\n",
      "Generación: 6, número de descendientes: 10, intensidad: -0.2861371120649683\n",
      "Generación: 7, número de descendientes: 10, intensidad: -0.33333333333333653\n",
      "Generación: 8, número de descendientes: 6, intensidad: 0.0\n",
      "Generación: 9, número de descendientes: 10, intensidad: 0.0\n",
      "Generación: 10, número de descendientes: 8, intensidad: 0.0\n"
     ]
    },
    {
     "data": {
      "image/png": "[encoded data removed]",
      "text/plain": [
       "<Figure size 432x288 with 1 Axes>"
      ]
     },
     "metadata": {
      "needs_background": "light"
     },
     "output_type": "display_data"
    }
   ],
   "source": [
    "# PIPELINE GA LINEAR RANKING SELECTION\n",
    "best = genenetic_algorithm(max_generation=MAX_GENERATION,\n",
    "                           fitness=f1,\n",
    "                           population=initial_population,\n",
    "                           selection=LinearRankingSelection(num_individuals=SELECTED_SIZE, s=2),\n",
    "                           crossover=Crossover(probability=CROSSOVER_PROBABILITY),\n",
    "                           mutation=Mutation(probability=MUTATION_PROBABILITY))\n"
   ]
  },
  {
   "cell_type": "code",
   "execution_count": 68,
   "metadata": {},
   "outputs": [
    {
     "name": "stdout",
     "output_type": "stream",
     "text": [
      "Optimal value with Linear Ranking Selection\n",
      " x* = [-2.929618768328446], f(x*) = -5.008401406075471\n"
     ]
    }
   ],
   "source": [
    "solution = min(best, key=lambda x: f1(x.phenotype))\n",
    "print(f\"Optimal value with Linear Ranking Selection\\n x* = {solution.phenotype}, f(x*) = {f1(solution.phenotype)}\")"
   ]
  },
  {
   "cell_type": "code",
   "execution_count": 69,
   "metadata": {},
   "outputs": [
    {
     "name": "stdout",
     "output_type": "stream",
     "text": [
      "Generación: 1, número de descendientes: 8, intensidad: -0.04177427113814402\n",
      "Generación: 2, número de descendientes: 6, intensidad: 0.7251357235701197\n",
      "Generación: 3, número de descendientes: 11, intensidad: 0.05987936756855863\n",
      "Generación: 4, número de descendientes: 10, intensidad: -0.6722219591306918\n",
      "Generación: 5, número de descendientes: 8, intensidad: -0.4698877294058413\n",
      "Generación: 6, número de descendientes: 8, intensidad: -0.4240228194324576\n",
      "Generación: 7, número de descendientes: 8, intensidad: -0.22260238115421846\n",
      "Generación: 8, número de descendientes: 6, intensidad: 0.43981685963921824\n",
      "Generación: 9, número de descendientes: 6, intensidad: -0.7989609375333508\n",
      "Generación: 10, número de descendientes: 10, intensidad: 0.33072502075843957\n"
     ]
    },
    {
     "data": {
      "image/png": "[encoded data removed]",
      "text/plain": [
       "<Figure size 432x288 with 1 Axes>"
      ]
     },
     "metadata": {
      "needs_background": "light"
     },
     "output_type": "display_data"
    }
   ],
   "source": [
    "# PIPELINE GA UNIFORM SELECTION\n",
    "best = genenetic_algorithm(max_generation=MAX_GENERATION,\n",
    "                           fitness=f1,\n",
    "                           population=initial_population,\n",
    "                           selection=UniformSelection(num_individuals=SELECTED_SIZE),\n",
    "                           crossover=Crossover(probability=CROSSOVER_PROBABILITY),\n",
    "                           mutation=Mutation(probability=MUTATION_PROBABILITY))\n"
   ]
  },
  {
   "cell_type": "code",
   "execution_count": 70,
   "metadata": {},
   "outputs": [
    {
     "name": "stdout",
     "output_type": "stream",
     "text": [
      "Optimal value with Uniform Selection\n",
      " x* = [-2.6412512218963835], f(x*) = -3.992274492679609\n"
     ]
    }
   ],
   "source": [
    "solution = min(best, key=lambda x: f1(x.phenotype))\n",
    "print(f\"Optimal value with Uniform Selection\\n x* = {solution.phenotype}, f(x*) = {f1(solution.phenotype)}\")"
   ]
  },
  {
   "cell_type": "code",
   "execution_count": 71,
   "metadata": {},
   "outputs": [
    {
     "name": "stdout",
     "output_type": "stream",
     "text": [
      "Generación: 1, número de descendientes: 8, intensidad: -0.49509497486023807\n",
      "Generación: 2, número de descendientes: 10, intensidad: -0.6095278013579036\n",
      "Generación: 3, número de descendientes: 8, intensidad: -0.6049194317549328\n",
      "Generación: 4, número de descendientes: 9, intensidad: -0.32809576090206993\n",
      "Generación: 5, número de descendientes: 10, intensidad: -0.334051884815982\n",
      "Generación: 6, número de descendientes: 10, intensidad: -0.2642156689911902\n",
      "Generación: 7, número de descendientes: 8, intensidad: -0.33333333333326115\n",
      "Generación: 8, número de descendientes: 10, intensidad: 0.0\n",
      "Generación: 9, número de descendientes: 8, intensidad: 0.0\n",
      "Generación: 10, número de descendientes: 10, intensidad: 0.0\n"
     ]
    },
    {
     "data": {
      "image/png": "[encoded data removed]",
      "text/plain": [
       "<Figure size 432x288 with 1 Axes>"
      ]
     },
     "metadata": {
      "needs_background": "light"
     },
     "output_type": "display_data"
    }
   ],
   "source": [
    "# PIPELINE GA ROULETTE SELECTION\n",
    "best = genenetic_algorithm(max_generation=MAX_GENERATION,\n",
    "                           fitness=f1,\n",
    "                           population=initial_population,\n",
    "                           selection=RouletteSelection(num_individuals=SELECTED_SIZE),\n",
    "                           crossover=Crossover(probability=CROSSOVER_PROBABILITY),\n",
    "                           mutation=Mutation(probability=MUTATION_PROBABILITY))\n"
   ]
  },
  {
   "cell_type": "code",
   "execution_count": 72,
   "metadata": {},
   "outputs": [
    {
     "name": "stdout",
     "output_type": "stream",
     "text": [
      "Optimal value with Roulette Selection\n",
      " x* = [-2.929618768328446], f(x*) = -5.008401406075471\n"
     ]
    }
   ],
   "source": [
    "solution = min(best, key=lambda x: f1(x.phenotype))\n",
    "print(f\"Optimal value with Roulette Selection\\n x* = {solution.phenotype}, f(x*) = {f1(solution.phenotype)}\")"
   ]
  },
  {
   "cell_type": "markdown",
   "metadata": {},
   "source": [
    "#### b) Para el segundo caso (ecuación 2) considerar la representación Gray, una población inicial 20 individuos del cual debe seleccionar 15 padres y crear 15 descendientes, una taza de cruce de 0.8, una tasa de mutación de 0.01, donde el cruce y la mutación son seleccionadas de forma aleatoria (Usando los mismos criterios del ejemplo mostrado en Colab-note) realizar lo siguiente:\n",
    "\n",
    "• Usando el método de torneo para la selección de las nuevas generaciones (constantes de 20 individuos)"
   ]
  },
  {
   "cell_type": "code",
   "execution_count": 41,
   "metadata": {},
   "outputs": [
    {
     "name": "stdout",
     "output_type": "stream",
     "text": [
      "Generación: 1, número de descendientes: 14, intensidad: -1.2627540606213101\n",
      "Generación: 2, número de descendientes: 12, intensidad: -1.2563030392034846\n",
      "Generación: 3, número de descendientes: 8, intensidad: -0.6647333631237905\n",
      "Generación: 4, número de descendientes: 11, intensidad: 0.0\n",
      "Generación: 5, número de descendientes: 10, intensidad: 0.0\n",
      "Generación: 6, número de descendientes: 12, intensidad: 0.0\n",
      "Generación: 7, número de descendientes: 15, intensidad: 0.0\n",
      "Generación: 8, número de descendientes: 11, intensidad: 0.0\n",
      "Generación: 9, número de descendientes: 12, intensidad: 0.0\n",
      "Generación: 10, número de descendientes: 12, intensidad: 0.0\n"
     ]
    },
    {
     "data": {
      "image/png": "[encoded data removed]",
      "text/plain": [
       "<Figure size 432x288 with 1 Axes>"
      ]
     },
     "metadata": {
      "needs_background": "light"
     },
     "output_type": "display_data"
    }
   ],
   "source": [
    "# GA CANONICAL HYPERPARAMETERS\n",
    "MAX_GENERATION = 10\n",
    "POPULATION_SIZE = 20\n",
    "SELECTED_SIZE = 15\n",
    "OFFSPRING_SIZE = 15\n",
    "CROSSOVER_PROBABILITY = 0.8\n",
    "MUTATION_PROBABILITY = 0.01\n",
    "\n",
    "args2 = IndividualArguments(domain_2, eps_2, n_var_2, GEN_SIZE_2, Representation.GRAY)\n",
    "initial_population = [Individual.newRandom(args2) for _ in range(POPULATION_SIZE)]\n",
    "\n",
    "# PIPELINE GA\n",
    "best = genenetic_algorithm(max_generation=MAX_GENERATION,\n",
    "                           fitness=f2,\n",
    "                           population=initial_population,\n",
    "                           selection=TournamentSelection(num_individuals=SELECTED_SIZE, tournament_size=5),\n",
    "                           crossover=Crossover(probability=CROSSOVER_PROBABILITY),\n",
    "                           mutation=Mutation(probability=MUTATION_PROBABILITY))\n",
    "\n"
   ]
  },
  {
   "cell_type": "code",
   "execution_count": 42,
   "metadata": {},
   "outputs": [
    {
     "name": "stdout",
     "output_type": "stream",
     "text": [
      "Optimal value\n",
      " x* = [-0.032258064516129004, -0.29032258064516125], f(x*) = 0.13077216071515316\n"
     ]
    }
   ],
   "source": [
    "solution = min(best, key=lambda x: f2(x.phenotype))\n",
    "print(f\"Optimal value\\n x* = {solution.phenotype}, f(x*) = {f2(solution.phenotype)}\")"
   ]
  },
  {
   "cell_type": "markdown",
   "metadata": {},
   "source": [
    "#### Evalúe la intensidad de selección para cada uno de los métodos de selección en la pregunta (2).\n"
   ]
  },
  {
   "cell_type": "code",
   "execution_count": 43,
   "metadata": {},
   "outputs": [
    {
     "name": "stdout",
     "output_type": "stream",
     "text": [
      "Generación: 1, número de descendientes: 10, intensidad: 0.0015817783940394376\n",
      "Generación: 2, número de descendientes: 14, intensidad: -0.10939965189753828\n",
      "Generación: 3, número de descendientes: 12, intensidad: -0.022260237544607146\n",
      "Generación: 4, número de descendientes: 10, intensidad: 0.052405861663467224\n",
      "Generación: 5, número de descendientes: 10, intensidad: -0.09843016215070347\n",
      "Generación: 6, número de descendientes: 12, intensidad: -0.35152697769279134\n",
      "Generación: 7, número de descendientes: 10, intensidad: 0.03054769794152247\n",
      "Generación: 8, número de descendientes: 12, intensidad: 0.10439843008352001\n",
      "Generación: 9, número de descendientes: 13, intensidad: 0.03403075448686616\n",
      "Generación: 10, número de descendientes: 10, intensidad: 0.08790823565440532\n"
     ]
    },
    {
     "data": {
      "image/png": "[encoded data removed]",
      "text/plain": [
       "<Figure size 432x288 with 1 Axes>"
      ]
     },
     "metadata": {
      "needs_background": "light"
     },
     "output_type": "display_data"
    }
   ],
   "source": [
    "# PIPELINE GA PROPORTIONAL SELECTION\n",
    "best = genenetic_algorithm(max_generation=MAX_GENERATION,\n",
    "                           fitness=f2,\n",
    "                           population=initial_population,\n",
    "                           selection=ProportionalSelection(num_individuals=SELECTED_SIZE, delta=10),\n",
    "                           crossover=Crossover(probability=CROSSOVER_PROBABILITY),\n",
    "                           mutation=Mutation(probability=MUTATION_PROBABILITY))\n"
   ]
  },
  {
   "cell_type": "code",
   "execution_count": 44,
   "metadata": {},
   "outputs": [
    {
     "name": "stdout",
     "output_type": "stream",
     "text": [
      "Optimal value with Proportional Selection\n",
      " x* = [-0.032258064516129004, 0.35483870967741926], f(x*) = 0.20543916297980327\n"
     ]
    }
   ],
   "source": [
    "solution = min(best, key=lambda x: f2(x.phenotype))\n",
    "print(f\"Optimal value with Proportional Selection\\n x* = {solution.phenotype}, f(x*) = {f2(solution.phenotype)}\")"
   ]
  },
  {
   "cell_type": "code",
   "execution_count": 45,
   "metadata": {},
   "outputs": [
    {
     "name": "stdout",
     "output_type": "stream",
     "text": [
      "Generación: 1, número de descendientes: 12, intensidad: -0.9335488124789252\n",
      "Generación: 2, número de descendientes: 12, intensidad: -0.6933668074636355\n",
      "Generación: 3, número de descendientes: 12, intensidad: -0.8677564240864941\n",
      "Generación: 4, número de descendientes: 14, intensidad: -0.6224030537349386\n",
      "Generación: 5, número de descendientes: 14, intensidad: -0.42897865998233725\n",
      "Generación: 6, número de descendientes: 12, intensidad: -0.6666666666666672\n",
      "Generación: 7, número de descendientes: 14, intensidad: -1.0690449676497014\n",
      "Generación: 8, número de descendientes: 12, intensidad: 0.0\n",
      "Generación: 9, número de descendientes: 9, intensidad: 0.0\n",
      "Generación: 10, número de descendientes: 10, intensidad: 0.0\n"
     ]
    },
    {
     "data": {
      "image/png": "[encoded data removed]",
      "text/plain": [
       "<Figure size 432x288 with 1 Axes>"
      ]
     },
     "metadata": {
      "needs_background": "light"
     },
     "output_type": "display_data"
    }
   ],
   "source": [
    "# PIPELINE GA LINEAR RANKING SELECTION\n",
    "best = genenetic_algorithm(max_generation=MAX_GENERATION,\n",
    "                           fitness=f2,\n",
    "                           population=initial_population,\n",
    "                           selection=LinearRankingSelection(num_individuals=SELECTED_SIZE, s=2),\n",
    "                           crossover=Crossover(probability=CROSSOVER_PROBABILITY),\n",
    "                           mutation=Mutation(probability=MUTATION_PROBABILITY))\n"
   ]
  },
  {
   "cell_type": "code",
   "execution_count": 46,
   "metadata": {},
   "outputs": [
    {
     "name": "stdout",
     "output_type": "stream",
     "text": [
      "Optimal value with Linear Ranking Selection\n",
      " x* = [0.29032258064516125, 0.032258064516129004], f(x*) = 0.15930427014174514\n"
     ]
    }
   ],
   "source": [
    "solution = min(best, key=lambda x: f2(x.phenotype))\n",
    "print(f\"Optimal value with Linear Ranking Selection\\n x* = {solution.phenotype}, f(x*) = {f2(solution.phenotype)}\")"
   ]
  },
  {
   "cell_type": "code",
   "execution_count": 47,
   "metadata": {},
   "outputs": [
    {
     "name": "stdout",
     "output_type": "stream",
     "text": [
      "Generación: 1, número de descendientes: 12, intensidad: -0.2442139451458722\n",
      "Generación: 2, número de descendientes: 12, intensidad: -0.05359419843243513\n",
      "Generación: 3, número de descendientes: 12, intensidad: 0.3676372926677628\n",
      "Generación: 4, número de descendientes: 12, intensidad: -0.167919793988968\n",
      "Generación: 5, número de descendientes: 12, intensidad: -0.15062362609267713\n",
      "Generación: 6, número de descendientes: 14, intensidad: -0.21741141552461354\n",
      "Generación: 7, número de descendientes: 14, intensidad: -0.02678102203075937\n",
      "Generación: 8, número de descendientes: 10, intensidad: 0.008182568107800586\n",
      "Generación: 9, número de descendientes: 9, intensidad: -0.27058625857944035\n",
      "Generación: 10, número de descendientes: 12, intensidad: -0.1961161351381819\n"
     ]
    },
    {
     "data": {
      "image/png": "[encoded data removed]",
      "text/plain": [
       "<Figure size 432x288 with 1 Axes>"
      ]
     },
     "metadata": {
      "needs_background": "light"
     },
     "output_type": "display_data"
    }
   ],
   "source": [
    "# PIPELINE GA UNIFORM SELECTION\n",
    "best = genenetic_algorithm(max_generation=MAX_GENERATION,\n",
    "                           fitness=f1,\n",
    "                           population=initial_population,\n",
    "                           selection=UniformSelection(num_individuals=SELECTED_SIZE),\n",
    "                           crossover=Crossover(probability=CROSSOVER_PROBABILITY),\n",
    "                           mutation=Mutation(probability=MUTATION_PROBABILITY))\n"
   ]
  },
  {
   "cell_type": "code",
   "execution_count": 48,
   "metadata": {},
   "outputs": [
    {
     "name": "stdout",
     "output_type": "stream",
     "text": [
      "Optimal value with Uniform Selection\n",
      " x* = [0.35483870967741926, 0.16129032258064502], f(x*) = 0.2499124646829377\n"
     ]
    }
   ],
   "source": [
    "solution = min(best, key=lambda x: f2(x.phenotype))\n",
    "print(f\"Optimal value with Uniform Selection\\n x* = {solution.phenotype}, f(x*) = {f2(solution.phenotype)}\")\n"
   ]
  },
  {
   "cell_type": "code",
   "execution_count": 49,
   "metadata": {},
   "outputs": [
    {
     "name": "stdout",
     "output_type": "stream",
     "text": [
      "Generación: 1, número de descendientes: 14, intensidad: -0.6372241333552771\n",
      "Generación: 2, número de descendientes: 10, intensidad: -0.7845402017537675\n",
      "Generación: 3, número de descendientes: 13, intensidad: -0.4826054103515602\n",
      "Generación: 4, número de descendientes: 9, intensidad: -0.12359960828198009\n",
      "Generación: 5, número de descendientes: 12, intensidad: -0.8182585447203494\n",
      "Generación: 6, número de descendientes: 14, intensidad: -0.49999999999999983\n",
      "Generación: 7, número de descendientes: 14, intensidad: 0.0\n",
      "Generación: 8, número de descendientes: 11, intensidad: -1823050733205674.0\n",
      "Generación: 9, número de descendientes: 12, intensidad: 0.0\n",
      "Generación: 10, número de descendientes: 10, intensidad: 0.0\n"
     ]
    },
    {
     "data": {
      "image/png": "[encoded data removed]",
      "text/plain": [
       "<Figure size 432x288 with 1 Axes>"
      ]
     },
     "metadata": {
      "needs_background": "light"
     },
     "output_type": "display_data"
    }
   ],
   "source": [
    "# PIPELINE GA ROULETTE SELECTION\n",
    "best = genenetic_algorithm(max_generation=MAX_GENERATION,\n",
    "                           fitness=f2,\n",
    "                           population=initial_population,\n",
    "                           selection=RouletteSelection(num_individuals=SELECTED_SIZE),\n",
    "                           crossover=Crossover(probability=CROSSOVER_PROBABILITY),\n",
    "                           mutation=Mutation(probability=MUTATION_PROBABILITY))\n"
   ]
  },
  {
   "cell_type": "code",
   "execution_count": 50,
   "metadata": {},
   "outputs": [
    {
     "name": "stdout",
     "output_type": "stream",
     "text": [
      "Optimal value with Roulette Selection\n",
      " x* = [-0.032258064516129004, -0.22580645161290325], f(x*) = 0.08017233823853531\n"
     ]
    }
   ],
   "source": [
    "solution = min(best, key=lambda x: f2(x.phenotype))\n",
    "print(f\"Optimal value with Roulette Selection\\n x* = {solution.phenotype}, f(x*) = {f2(solution.phenotype)}\")\n"
   ]
  },
  {
   "cell_type": "markdown",
   "metadata": {},
   "source": [
    "#### c) Para el tercer caso (ecuación 3) considerar la representación real, una población inicial 20 individuos del cual debe seleccionar 15 padres y crear 15 descendientes, una taza de cruce de 0.8, una tasa de mutación de 0.01, donde el cruce y la mutación son seleccionadas de forma aleatoria (Usando los mismos criterios del ejemplo mostrado en Colab-note) realizar lo siguiente:\n",
    "\n",
    "• Usando el método de torneo para la selección de las nuevas generaciones (constantes de 20 individuos)"
   ]
  },
  {
   "cell_type": "code",
   "execution_count": 51,
   "metadata": {},
   "outputs": [
    {
     "name": "stdout",
     "output_type": "stream",
     "text": [
      "Generación: 1, número de descendientes: 15, intensidad: -0.5943826809177005\n",
      "Generación: 2, número de descendientes: 12, intensidad: -1.0316431147252905\n",
      "Generación: 3, número de descendientes: 11, intensidad: -0.3473138753699337\n",
      "Generación: 4, número de descendientes: 12, intensidad: 0.0\n",
      "Generación: 5, número de descendientes: 10, intensidad: 0.0\n",
      "Generación: 6, número de descendientes: 14, intensidad: 0.0\n",
      "Generación: 7, número de descendientes: 12, intensidad: 0.0\n",
      "Generación: 8, número de descendientes: 12, intensidad: 0.0\n",
      "Generación: 9, número de descendientes: 14, intensidad: 0.0\n",
      "Generación: 10, número de descendientes: 8, intensidad: 0.0\n"
     ]
    },
    {
     "data": {
      "image/png": "[encoded data removed]",
      "text/plain": [
       "<Figure size 432x288 with 1 Axes>"
      ]
     },
     "metadata": {
      "needs_background": "light"
     },
     "output_type": "display_data"
    }
   ],
   "source": [
    "# GA CANONICAL HYPERPARAMETERS\n",
    "MAX_GENERATION = 10\n",
    "POPULATION_SIZE = 20\n",
    "SELECTED_SIZE = 15\n",
    "OFFSPRING_SIZE = 15\n",
    "CROSSOVER_PROBABILITY = 0.8\n",
    "MUTATION_PROBABILITY = 0.01\n",
    "\n",
    "args3 = IndividualArguments(domain_3, eps_3, n_var_3, GEN_SIZE_3, Representation.DECIMAL)\n",
    "initial_population = [Individual.newRandom(args3) for _ in range(POPULATION_SIZE)]\n",
    "\n",
    "# PIPELINE GA\n",
    "best = genenetic_algorithm(max_generation=MAX_GENERATION,\n",
    "                           fitness=f3,\n",
    "                           population=initial_population,\n",
    "                           selection=TournamentSelection(num_individuals=SELECTED_SIZE, tournament_size=5),\n",
    "                           crossover=Crossover(probability=CROSSOVER_PROBABILITY),\n",
    "                           mutation=Mutation(probability=MUTATION_PROBABILITY))\n"
   ]
  },
  {
   "cell_type": "code",
   "execution_count": 52,
   "metadata": {},
   "outputs": [
    {
     "name": "stdout",
     "output_type": "stream",
     "text": [
      "Optimal value\n",
      " x* = [28.411853, 16.468902, 55.565829, 53.038493], f(x*) = 0.00020994561301624094\n"
     ]
    }
   ],
   "source": [
    "solution = min(best, key=lambda x: f3(x.phenotype))\n",
    "print(f\"Optimal value\\n x* = {solution.phenotype}, f(x*) = {f3(solution.phenotype)}\")"
   ]
  },
  {
   "cell_type": "markdown",
   "metadata": {},
   "source": [
    "#### Evalúe la intensidad de selección para cada uno de los métodos de selección en la pregunta (2).\n"
   ]
  },
  {
   "cell_type": "code",
   "execution_count": 53,
   "metadata": {},
   "outputs": [
    {
     "name": "stdout",
     "output_type": "stream",
     "text": [
      "Generación: 1, número de descendientes: 12, intensidad: 0.07329569479690562\n",
      "Generación: 2, número de descendientes: 12, intensidad: -0.002846635607259363\n",
      "Generación: 3, número de descendientes: 14, intensidad: -0.15802504784754542\n",
      "Generación: 4, número de descendientes: 8, intensidad: -0.2770598913486657\n",
      "Generación: 5, número de descendientes: 14, intensidad: -0.12773715060274737\n",
      "Generación: 6, número de descendientes: 8, intensidad: -0.24562484923208414\n",
      "Generación: 7, número de descendientes: 14, intensidad: -0.38481725557682395\n",
      "Generación: 8, número de descendientes: 12, intensidad: -0.17885772039046208\n",
      "Generación: 9, número de descendientes: 14, intensidad: 0.03767744574431897\n",
      "Generación: 10, número de descendientes: 10, intensidad: 0.015195366433051838\n"
     ]
    },
    {
     "data": {
      "image/png": "[encoded data removed]",
      "text/plain": [
       "<Figure size 432x288 with 1 Axes>"
      ]
     },
     "metadata": {
      "needs_background": "light"
     },
     "output_type": "display_data"
    }
   ],
   "source": [
    "# PIPELINE GA PROPORTIONAL SELECTION\n",
    "best = genenetic_algorithm(max_generation=MAX_GENERATION,\n",
    "                           fitness=f3,\n",
    "                           population=initial_population,\n",
    "                           selection=ProportionalSelection(num_individuals=SELECTED_SIZE, delta=10),\n",
    "                           crossover=Crossover(probability=CROSSOVER_PROBABILITY),\n",
    "                           mutation=Mutation(probability=MUTATION_PROBABILITY))\n"
   ]
  },
  {
   "cell_type": "code",
   "execution_count": 54,
   "metadata": {},
   "outputs": [
    {
     "name": "stdout",
     "output_type": "stream",
     "text": [
      "Optimal value with Proportional Selection\n",
      " x* = [28.411853, 16.468902, 49.085934, 47.369187], f(x*) = 0.003244355173789757\n"
     ]
    }
   ],
   "source": [
    "solution = min(best, key=lambda x: f3(x.phenotype))\n",
    "print(f\"Optimal value with Proportional Selection\\n x* = {solution.phenotype}, f(x*) = {f3(solution.phenotype)}\")"
   ]
  },
  {
   "cell_type": "code",
   "execution_count": 55,
   "metadata": {},
   "outputs": [
    {
     "name": "stdout",
     "output_type": "stream",
     "text": [
      "Generación: 1, número de descendientes: 12, intensidad: -0.4025892749240362\n",
      "Generación: 2, número de descendientes: 12, intensidad: -0.5172936259314035\n",
      "Generación: 3, número de descendientes: 12, intensidad: -0.9835933293731841\n",
      "Generación: 4, número de descendientes: 10, intensidad: -0.37602932053867766\n",
      "Generación: 5, número de descendientes: 6, intensidad: 0.0\n",
      "Generación: 6, número de descendientes: 12, intensidad: 0.0\n",
      "Generación: 7, número de descendientes: 12, intensidad: 0.0\n",
      "Generación: 8, número de descendientes: 14, intensidad: 0.0\n",
      "Generación: 9, número de descendientes: 12, intensidad: 0.0\n",
      "Generación: 10, número de descendientes: 12, intensidad: 0.0\n"
     ]
    },
    {
     "data": {
      "image/png": "[encoded data removed]",
      "text/plain": [
       "<Figure size 432x288 with 1 Axes>"
      ]
     },
     "metadata": {
      "needs_background": "light"
     },
     "output_type": "display_data"
    }
   ],
   "source": [
    "# PIPELINE GA LINEAR RANKING SELECTION\n",
    "best = genenetic_algorithm(max_generation=MAX_GENERATION,\n",
    "                           fitness=f3,\n",
    "                           population=initial_population,\n",
    "                           selection=LinearRankingSelection(num_individuals=SELECTED_SIZE, s=2),\n",
    "                           crossover=Crossover(probability=CROSSOVER_PROBABILITY),\n",
    "                           mutation=Mutation(probability=MUTATION_PROBABILITY))\n"
   ]
  },
  {
   "cell_type": "code",
   "execution_count": 56,
   "metadata": {},
   "outputs": [
    {
     "name": "stdout",
     "output_type": "stream",
     "text": [
      "Optimal value with Linear Ranking Selection\n",
      " x* = [22.933407, 16.468902, 55.565829, 53.038493], f(x*) = 0.0002600062687030141\n"
     ]
    }
   ],
   "source": [
    "solution = min(best, key=lambda x: f3(x.phenotype))\n",
    "print(f\"Optimal value with Linear Ranking Selection\\n x* = {solution.phenotype}, f(x*) = {f3(solution.phenotype)}\")"
   ]
  },
  {
   "cell_type": "code",
   "execution_count": 57,
   "metadata": {},
   "outputs": [
    {
     "name": "stdout",
     "output_type": "stream",
     "text": [
      "Generación: 1, número de descendientes: 14, intensidad: 0.01670428134436957\n",
      "Generación: 2, número de descendientes: 10, intensidad: -0.3249826945388999\n",
      "Generación: 3, número de descendientes: 10, intensidad: -0.33615395808091264\n",
      "Generación: 4, número de descendientes: 12, intensidad: 0.8535870903690458\n",
      "Generación: 5, número de descendientes: 12, intensidad: -0.013005901165758215\n",
      "Generación: 6, número de descendientes: 10, intensidad: 0.18286368425851582\n",
      "Generación: 7, número de descendientes: 12, intensidad: -0.47121469748628736\n",
      "Generación: 8, número de descendientes: 10, intensidad: 0.2774834230837222\n",
      "Generación: 9, número de descendientes: 12, intensidad: -0.06729080078468402\n",
      "Generación: 10, número de descendientes: 12, intensidad: -0.22869229857936244\n"
     ]
    },
    {
     "data": {
      "image/png": "[encoded data removed]",
      "text/plain": [
       "<Figure size 432x288 with 1 Axes>"
      ]
     },
     "metadata": {
      "needs_background": "light"
     },
     "output_type": "display_data"
    }
   ],
   "source": [
    "# PIPELINE GA UNIFORM SELECTION\n",
    "best = genenetic_algorithm(max_generation=MAX_GENERATION,\n",
    "                           fitness=f3,\n",
    "                           population=initial_population,\n",
    "                           selection=UniformSelection(num_individuals=SELECTED_SIZE),\n",
    "                           crossover=Crossover(probability=CROSSOVER_PROBABILITY),\n",
    "                           mutation=Mutation(probability=MUTATION_PROBABILITY))\n"
   ]
  },
  {
   "cell_type": "code",
   "execution_count": 58,
   "metadata": {},
   "outputs": [
    {
     "name": "stdout",
     "output_type": "stream",
     "text": [
      "Optimal value with Uniform Selection\n",
      " x* = [28.085732, 16.468902, 50.665826, 40.596886143213766], f(x*) = 0.0064957768210947165\n"
     ]
    }
   ],
   "source": [
    "solution = min(best, key=lambda x: f3(x.phenotype))\n",
    "print(f\"Optimal value with Uniform Selection\\n x* = {solution.phenotype}, f(x*) = {f3(solution.phenotype)}\")\n"
   ]
  },
  {
   "cell_type": "code",
   "execution_count": 59,
   "metadata": {},
   "outputs": [
    {
     "name": "stdout",
     "output_type": "stream",
     "text": [
      "Generación: 1, número de descendientes: 12, intensidad: -0.300216602711761\n",
      "Generación: 2, número de descendientes: 12, intensidad: -0.12522869000165823\n",
      "Generación: 3, número de descendientes: 12, intensidad: -0.18253400028407407\n",
      "Generación: 4, número de descendientes: 12, intensidad: -0.29903546682331406\n",
      "Generación: 5, número de descendientes: 11, intensidad: -0.1327854561216968\n",
      "Generación: 6, número de descendientes: 14, intensidad: -0.39370953627448935\n",
      "Generación: 7, número de descendientes: 10, intensidad: -0.273286961706035\n",
      "Generación: 8, número de descendientes: 10, intensidad: -0.634721594401119\n",
      "Generación: 9, número de descendientes: 12, intensidad: -0.3830698849162518\n",
      "Generación: 10, número de descendientes: 10, intensidad: -0.6030226891555273\n"
     ]
    },
    {
     "data": {
      "image/png": "[encoded data removed]",
      "text/plain": [
       "<Figure size 432x288 with 1 Axes>"
      ]
     },
     "metadata": {
      "needs_background": "light"
     },
     "output_type": "display_data"
    }
   ],
   "source": [
    "# PIPELINE GA ROULETTE SELECTION\n",
    "best = genenetic_algorithm(max_generation=MAX_GENERATION,\n",
    "                           fitness=f3,\n",
    "                           population=initial_population,\n",
    "                           selection=RouletteSelection(num_individuals=SELECTED_SIZE),\n",
    "                           crossover=Crossover(probability=CROSSOVER_PROBABILITY),\n",
    "                           mutation=Mutation(probability=MUTATION_PROBABILITY))\n"
   ]
  },
  {
   "cell_type": "code",
   "execution_count": 60,
   "metadata": {},
   "outputs": [
    {
     "name": "stdout",
     "output_type": "stream",
     "text": [
      "Optimal value with Roulette Selection\n",
      " x* = [24.876751, 17.274575, 55.565829, 53.038493], f(x*) = 2.3581483532719106e-06\n"
     ]
    }
   ],
   "source": [
    "solution = min(best, key=lambda x: f3(x.phenotype))\n",
    "print(f\"Optimal value with Roulette Selection\\n x* = {solution.phenotype}, f(x*) = {f3(solution.phenotype)}\")\n"
   ]
  }
 ],
 "metadata": {
  "interpreter": {
   "hash": "590f4a299ae404e723bbc5f32e9a7b98b836c3c65ce9112bc934ac92a06ceee3"
  },
  "kernelspec": {
   "display_name": "Python 3.10.4 64-bit",
   "language": "python",
   "name": "python3"
  },
  "language_info": {
   "codemirror_mode": {
    "name": "ipython",
    "version": 3
   },
   "file_extension": ".py",
   "mimetype": "text/x-python",
   "name": "python",
   "nbconvert_exporter": "python",
   "pygments_lexer": "ipython3",
   "version": "3.10.4"
  },
  "orig_nbformat": 4
 },
 "nbformat": 4,
 "nbformat_minor": 2
}

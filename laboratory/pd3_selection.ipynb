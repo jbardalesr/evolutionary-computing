{
 "cells": [
  {
   "cell_type": "code",
   "execution_count": 113,
   "metadata": {},
   "outputs": [],
   "source": [
    "from __future__ import annotations\n",
    "import math\n",
    "import numpy as np\n",
    "from enum import Enum\n",
    "from bin_repr2 import dec2bin, bin2gray, my_map, inverse_map, bin2dec, gray2bin\n",
    "import copy\n",
    "import random \n",
    "import matplotlib.pyplot as plt\n",
    "from typing import Callable,  NamedTuple\n",
    "\n",
    "class Representation(Enum):\n",
    "    BIN = 0\n",
    "    GRAY = 1\n",
    "    DECIMAL = 2"
   ]
  },
  {
   "cell_type": "markdown",
   "metadata": {},
   "source": [
    "# Problemas de optimización\n",
    "Este laboratorio se mostrará varios métodos de selección como la selección proporcional, ranking lineal, torneo, uniforme y selección ruleta, luego se medirá la intensidad de selección en un problema de minimización.\n",
    "## 1. Dado los siguientes problemas de minimización de una función $\\min_\\mathbf{x}f(\\mathbf{x})$\n"
   ]
  },
  {
   "cell_type": "code",
   "execution_count": 114,
   "metadata": {},
   "outputs": [],
   "source": [
    "f1 = lambda x: x[0]**4 + 5*x[0]**3 + 4*x[0]**2 - 4*x[0] + 1\n",
    "f2 = lambda x: 0.2 + x[0]**2 + x[1]**2 - 0.1*math.cos(6*math.pi*x[0]) - 0.1*math.sin(6*math.pi*x[1])\n",
    "f3 = lambda x: math.pow(1/6.931 - x[0]*x[1]/(x[2]*x[3]), 2)\n"
   ]
  },
  {
   "cell_type": "markdown",
   "metadata": {},
   "source": [
    "Dominio"
   ]
  },
  {
   "cell_type": "code",
   "execution_count": 115,
   "metadata": {},
   "outputs": [],
   "source": [
    "domain_1, n_var_1 = [-4.0, 1], 1\n",
    "domain_2, n_var_2 = [-1, 1.0], 2\n",
    "domain_3, n_var_3 = [12, 60.], 4\n"
   ]
  },
  {
   "cell_type": "markdown",
   "metadata": {},
   "source": [
    "Parámetros del individuo tipados"
   ]
  },
  {
   "cell_type": "code",
   "execution_count": 116,
   "metadata": {},
   "outputs": [],
   "source": [
    "class IndividualArguments(NamedTuple):\n",
    "    domain: tuple[int, int]\n",
    "    eps: float\n",
    "    n_var: int\n",
    "    gen_size: int\n",
    "    f: Callable[[float], float]\n",
    "    default_repr: Representation = Representation.DECIMAL"
   ]
  },
  {
   "cell_type": "markdown",
   "metadata": {},
   "source": [
    "Clase individuo "
   ]
  },
  {
   "cell_type": "code",
   "execution_count": 117,
   "metadata": {},
   "outputs": [],
   "source": [
    "class Individual():\n",
    "    def __init__(self, phenotype: list[float], args: IndividualArguments):\n",
    "        self.domain = args.domain\n",
    "        self.eps = args.eps\n",
    "        self.n_var = args.n_var\n",
    "        self.gen_size = args.gen_size\n",
    "        self.f = args.f\n",
    "        self.default_repr = args.default_repr\n",
    "        self.phenotype = phenotype\n",
    "\n",
    "    def getFitness(self):\n",
    "        return self.f(self.phenotype)\n",
    "\n",
    "    def getGenotype(self, my_repr: Representation = None):\n",
    "        my_repr = self.default_repr if my_repr == None else my_repr\n",
    "        list_repr: list[int] = []\n",
    "        if my_repr == Representation.BIN:\n",
    "            for gen in self.phenotype:\n",
    "                list_repr.extend(dec2bin(num=my_map(gen, self.domain[0], self.domain[1], self.eps), gen_size=self.gen_size))\n",
    "        elif my_repr == Representation.GRAY:\n",
    "            for gen in self.phenotype:\n",
    "                list_repr.extend(bin2gray(dec2bin(num=my_map(gen, self.domain[0], self.domain[1], self.eps), gen_size=self.gen_size)))\n",
    "        else:\n",
    "            list_repr = copy.deepcopy(self.phenotype)\n",
    "        return list_repr\n",
    "\n",
    "    @classmethod\n",
    "    def new(cls, genotype, args: IndividualArguments):\n",
    "        phenotype: list[int] = []\n",
    "        if args.default_repr == Representation.BIN:\n",
    "            for k in range(args.n_var):\n",
    "                gen = genotype[args.gen_size * k:args.gen_size * (k + 1)]\n",
    "                phenotype.append(inverse_map(bin2dec(gen), args.domain[0], args.eps))\n",
    "        elif args.default_repr == Representation.GRAY:\n",
    "            for k in range(args.n_var):\n",
    "                gen = genotype[args.gen_size * k:args.gen_size * (k + 1)]\n",
    "                phenotype.append(inverse_map(bin2dec(gray2bin(gen)), args.domain[0], args.eps))\n",
    "        else:\n",
    "            phenotype = copy.deepcopy(genotype)\n",
    "        \n",
    "        return cls(phenotype, args)\n",
    "\n",
    "    @staticmethod\n",
    "    def newLike(genotype: list[int], parent: Individual):\n",
    "        args = IndividualArguments(parent.domain, parent.eps, parent.n_var, parent.gen_size, f1, parent.default_repr)\n",
    "        return Individual.new(genotype, args)\n",
    "\n",
    "    @classmethod\n",
    "    def newRandom(cls, args: IndividualArguments):\n",
    "        phenotype = [random.uniform(args.domain[0], args.domain[1]) for _ in range(args.n_var)]\n",
    "        return cls(phenotype, args)\n"
   ]
  },
  {
   "cell_type": "markdown",
   "metadata": {},
   "source": [
    "### a) Representación del problema (1)\n",
    "Implemente un programa en python que represente el cromosoma como una cadena binaria de 10 dígitos (10 bits) y muestre/imprima el Fenotipo y su representación binaria para una población de 10 individuos."
   ]
  },
  {
   "cell_type": "code",
   "execution_count": 118,
   "metadata": {},
   "outputs": [
    {
     "name": "stdout",
     "output_type": "stream",
     "text": [
      "Representación binaria\n",
      "Individuo 0 = [0.8588906873482731] \n",
      " [1, 1, 1, 1, 1, 0, 0, 0, 1, 0]\n",
      "Individuo 1 = [-0.8599677878969438] \n",
      " [1, 0, 1, 0, 0, 0, 0, 0, 1, 0]\n",
      "Individuo 2 = [-3.8586229656684137] \n",
      " [0, 0, 0, 0, 0, 1, 1, 1, 0, 1]\n",
      "Individuo 3 = [-2.174190897100287] \n",
      " [0, 1, 0, 1, 1, 1, 0, 1, 1, 0]\n",
      "Individuo 4 = [-2.2747350880142156] \n",
      " [0, 1, 0, 1, 1, 0, 0, 0, 0, 1]\n",
      "Individuo 5 = [-2.5958364537422343] \n",
      " [0, 1, 0, 0, 0, 1, 1, 1, 1, 1]\n",
      "Individuo 6 = [-0.3103995907488497] \n",
      " [1, 0, 1, 1, 1, 1, 0, 0, 1, 1]\n",
      "Individuo 7 = [-1.4045714641276152] \n",
      " [1, 0, 0, 0, 0, 1, 0, 0, 1, 1]\n",
      "Individuo 8 = [-0.12190165913031059] \n",
      " [1, 1, 0, 0, 0, 1, 1, 0, 0, 1]\n",
      "Individuo 9 = [0.21394830624671446] \n",
      " [1, 1, 0, 1, 0, 1, 1, 1, 1, 0]\n"
     ]
    }
   ],
   "source": [
    "POPULATION_SIZE = 10\n",
    "GEN_SIZE_1 = 10\n",
    "eps_1 = (domain_1[1] - domain_1[0]) / (2**GEN_SIZE_1 - 1)\n",
    "N_POINTS_1 = 2**GEN_SIZE_1\n",
    "\n",
    "args1 = IndividualArguments(domain_1, eps_1, n_var_1, GEN_SIZE_1, f1)\n",
    "\n",
    "population_1 = [Individual.newRandom(args1) for _ in range(POPULATION_SIZE)]\n",
    "print(\"Representación binaria\")\n",
    "for i, ind in enumerate(population_1):\n",
    "    print(f\"Individuo {i} = {ind.phenotype} \\n {ind.getGenotype(Representation.BIN)}\")\n"
   ]
  },
  {
   "cell_type": "markdown",
   "metadata": {},
   "source": [
    "Realizar lo mismo del ítem anterior para la representación en código de Gray."
   ]
  },
  {
   "cell_type": "code",
   "execution_count": 119,
   "metadata": {},
   "outputs": [
    {
     "name": "stdout",
     "output_type": "stream",
     "text": [
      "Representación en código Gray\n",
      "Individuo 0 = [0.8588906873482731] \n",
      " [1, 0, 0, 0, 0, 1, 0, 0, 1, 1]\n",
      "Individuo 1 = [-0.8599677878969438] \n",
      " [1, 1, 1, 1, 0, 0, 0, 0, 1, 1]\n",
      "Individuo 2 = [-3.8586229656684137] \n",
      " [0, 0, 0, 0, 0, 1, 0, 0, 1, 1]\n",
      "Individuo 3 = [-2.174190897100287] \n",
      " [0, 1, 1, 1, 0, 0, 1, 1, 0, 1]\n",
      "Individuo 4 = [-2.2747350880142156] \n",
      " [0, 1, 1, 1, 0, 1, 0, 0, 0, 1]\n",
      "Individuo 5 = [-2.5958364537422343] \n",
      " [0, 1, 1, 0, 0, 1, 0, 0, 0, 0]\n",
      "Individuo 6 = [-0.3103995907488497] \n",
      " [1, 1, 1, 0, 0, 0, 1, 0, 1, 0]\n",
      "Individuo 7 = [-1.4045714641276152] \n",
      " [1, 1, 0, 0, 0, 1, 1, 0, 1, 0]\n",
      "Individuo 8 = [-0.12190165913031059] \n",
      " [1, 0, 1, 0, 0, 1, 0, 1, 0, 1]\n",
      "Individuo 9 = [0.21394830624671446] \n",
      " [1, 0, 1, 1, 1, 1, 0, 0, 0, 1]\n"
     ]
    }
   ],
   "source": [
    "print(\"Representación en código Gray\")\n",
    "for i, ind in enumerate(population_1):\n",
    "    print(f\"Individuo {i} = {ind.phenotype} \\n {ind.getGenotype(Representation.GRAY)}\")"
   ]
  },
  {
   "cell_type": "markdown",
   "metadata": {},
   "source": [
    "Considerando las representaciones anteriores (cadena de 10 bits) ¿cual sería el tamaño del espacio intrínseco?\n"
   ]
  },
  {
   "cell_type": "code",
   "execution_count": 120,
   "metadata": {},
   "outputs": [
    {
     "name": "stdout",
     "output_type": "stream",
     "text": [
      "El espacio intrinseco tendrería 1024 elementos con una precisión de 0.004887585532746823\n"
     ]
    }
   ],
   "source": [
    "print(f\"El espacio intrinseco tendrería {N_POINTS_1} elementos con una precisión de {eps_1}\")"
   ]
  },
  {
   "cell_type": "markdown",
   "metadata": {},
   "source": [
    "### b) Representación del problema (2):\n",
    "\n",
    "Implemente un programa en python que represente el cromosoma como una cadena binaria donde $x, y$ estén representados por 5 bits cada uno y luego muestre/imprima el Fenotipo y su\n",
    "representación binaria."
   ]
  },
  {
   "cell_type": "code",
   "execution_count": 121,
   "metadata": {},
   "outputs": [
    {
     "name": "stdout",
     "output_type": "stream",
     "text": [
      "Representación binaria\n",
      "Individuo 0 = [1, 1, 1, 0, 0, 1, 1, 0, 1, 1]\n",
      "Individuo 1 = [1, 1, 0, 0, 1, 1, 0, 0, 1, 0]\n",
      "Individuo 2 = [0, 1, 1, 0, 0, 0, 0, 0, 1, 0]\n",
      "Individuo 3 = [0, 1, 0, 1, 0, 1, 0, 0, 1, 0]\n",
      "Individuo 4 = [0, 0, 1, 0, 1, 1, 0, 1, 1, 0]\n",
      "Individuo 5 = [0, 1, 0, 0, 0, 1, 0, 1, 1, 1]\n",
      "Individuo 6 = [0, 1, 1, 0, 0, 1, 0, 0, 1, 0]\n",
      "Individuo 7 = [1, 1, 0, 1, 1, 0, 0, 1, 0, 0]\n",
      "Individuo 8 = [1, 1, 1, 1, 1, 0, 1, 0, 1, 0]\n",
      "Individuo 9 = [0, 1, 1, 1, 1, 1, 0, 1, 0, 0]\n"
     ]
    }
   ],
   "source": [
    "POPULATION_SIZE = 10\n",
    "GEN_SIZE_2 = 5\n",
    "eps_2 = (domain_2[1] - domain_2[0]) / (2**GEN_SIZE_2 - 1)\n",
    "N_POINTS_2 = 2**GEN_SIZE_2\n",
    "\n",
    "args2 = IndividualArguments(domain_2, eps_2, n_var_2, GEN_SIZE_2, f2)\n",
    "\n",
    "population_2 = [Individual.newRandom(args2) for _ in range(POPULATION_SIZE)]\n",
    "print(\"Representación binaria\")\n",
    "for i, ind in enumerate(population_2):\n",
    "    print(f\"Individuo {i} = {ind.getGenotype(Representation.BIN)}\")\n"
   ]
  },
  {
   "cell_type": "markdown",
   "metadata": {},
   "source": [
    "Realizar lo mismo del ítem anterior para la representación en código de Gray"
   ]
  },
  {
   "cell_type": "code",
   "execution_count": 122,
   "metadata": {},
   "outputs": [
    {
     "name": "stdout",
     "output_type": "stream",
     "text": [
      "Representación en código Gray\n",
      "Individuo 0 = [1, 0, 0, 1, 0, 1, 0, 1, 1, 0]\n",
      "Individuo 1 = [1, 0, 1, 0, 1, 1, 1, 0, 1, 1]\n",
      "Individuo 2 = [0, 1, 0, 1, 0, 0, 0, 0, 1, 1]\n",
      "Individuo 3 = [0, 1, 1, 1, 1, 1, 1, 0, 1, 1]\n",
      "Individuo 4 = [0, 0, 1, 1, 1, 1, 1, 1, 0, 1]\n",
      "Individuo 5 = [0, 1, 1, 0, 0, 1, 1, 1, 0, 0]\n",
      "Individuo 6 = [0, 1, 0, 1, 0, 1, 1, 0, 1, 1]\n",
      "Individuo 7 = [1, 0, 1, 1, 0, 0, 0, 1, 1, 0]\n",
      "Individuo 8 = [1, 0, 0, 0, 0, 0, 1, 1, 1, 1]\n",
      "Individuo 9 = [0, 1, 0, 0, 0, 1, 1, 1, 1, 0]\n"
     ]
    }
   ],
   "source": [
    "print(\"Representación en código Gray\")\n",
    "for i, ind in enumerate(population_2):\n",
    "    print(f\"Individuo {i} = {ind.getGenotype(Representation.GRAY)}\")"
   ]
  },
  {
   "cell_type": "code",
   "execution_count": 123,
   "metadata": {},
   "outputs": [
    {
     "name": "stdout",
     "output_type": "stream",
     "text": [
      "Representación decimal\n",
      "Individuo 0 = [0.7816251518230031, 0.7519807743735263]\n",
      "Individuo 1 = [0.6149830167136825, 0.1416244943454703]\n",
      "Individuo 2 = [-0.20062263990458606, -0.8744485518656668]\n",
      "Individuo 3 = [-0.3698111910399102, 0.18991423939444863]\n",
      "Individuo 4 = [-0.6726332214872952, 0.40727043230399573]\n",
      "Individuo 5 = [-0.4602038958173258, 0.48950265056749975]\n",
      "Individuo 6 = [-0.24973782685826773, 0.1774465924014017]\n",
      "Individuo 7 = [0.712062164760985, -0.7203163940939881]\n",
      "Individuo 8 = [0.9763300937246535, -0.3760914978351373]\n",
      "Individuo 9 = [-0.01686337217065459, 0.30383025980688605]\n"
     ]
    }
   ],
   "source": [
    "print(\"Representación decimal\")\n",
    "for i, ind in enumerate(population_2):\n",
    "    print(f\"Individuo {i} = {ind.phenotype}\")"
   ]
  },
  {
   "cell_type": "markdown",
   "metadata": {},
   "source": [
    "Considerando las representaciones anteriores (cadena de 10 bits y representación real) ¿cual sería el tamaño del espacio intrínseco?\n"
   ]
  },
  {
   "cell_type": "code",
   "execution_count": 124,
   "metadata": {},
   "outputs": [
    {
     "name": "stdout",
     "output_type": "stream",
     "text": [
      "El espacio intrinseco tendrería 32 elementos con una precisión de 0.06451612903225806\n"
     ]
    }
   ],
   "source": [
    "print(f\"El espacio intrinseco tendrería {N_POINTS_2} elementos con una precisión de {eps_2}\")"
   ]
  },
  {
   "cell_type": "markdown",
   "metadata": {},
   "source": [
    "### Representación del problema (3):\n",
    "\n",
    "Implemente un programa en python que represente el cromosoma como una cadena binaria donde $x_1, x_2, x_3, x_4$ estén representados por 6 bits cada uno y luego muestre/imprima el Fenotipo y su representación binaria.\n"
   ]
  },
  {
   "cell_type": "code",
   "execution_count": 125,
   "metadata": {},
   "outputs": [
    {
     "name": "stdout",
     "output_type": "stream",
     "text": [
      "Representación binaria\n",
      "Individuo 0 = [1, 1, 0, 0, 0, 0, 1, 0, 0, 0, 1, 0, 1, 1, 1, 0, 0, 1, 0, 1, 0, 0, 1, 0]\n",
      "Individuo 1 = [0, 1, 0, 1, 0, 0, 1, 1, 1, 1, 0, 1, 1, 1, 1, 0, 1, 1, 1, 0, 1, 0, 1, 1]\n",
      "Individuo 2 = [1, 0, 1, 0, 0, 0, 0, 1, 0, 0, 1, 1, 0, 1, 1, 0, 0, 0, 1, 0, 0, 1, 0, 1]\n",
      "Individuo 3 = [1, 1, 0, 0, 0, 1, 1, 1, 0, 0, 1, 0, 0, 1, 1, 1, 0, 1, 1, 1, 1, 0, 1, 1]\n",
      "Individuo 4 = [0, 0, 1, 0, 0, 1, 1, 0, 1, 1, 0, 0, 0, 1, 1, 1, 0, 1, 1, 0, 0, 0, 1, 1]\n",
      "Individuo 5 = [0, 0, 1, 1, 1, 1, 0, 0, 0, 1, 0, 0, 0, 1, 0, 1, 0, 1, 1, 0, 1, 0, 0, 1]\n",
      "Individuo 6 = [0, 0, 1, 1, 0, 0, 0, 1, 0, 0, 0, 0, 1, 0, 1, 1, 1, 1, 0, 1, 0, 0, 0, 0]\n",
      "Individuo 7 = [0, 0, 0, 0, 1, 1, 1, 0, 1, 1, 0, 1, 0, 0, 0, 0, 1, 1, 0, 1, 1, 1, 0, 1]\n",
      "Individuo 8 = [0, 1, 0, 0, 1, 1, 1, 1, 1, 0, 0, 0, 0, 0, 1, 1, 1, 0, 1, 0, 0, 1, 0, 1]\n",
      "Individuo 9 = [1, 1, 0, 0, 0, 0, 1, 1, 1, 1, 0, 0, 1, 0, 1, 0, 0, 1, 0, 1, 1, 0, 0, 0]\n"
     ]
    }
   ],
   "source": [
    "POPULATION_SIZE = 10\n",
    "GEN_SIZE_3 = 6\n",
    "eps_3 = (60 - 12) / (2**GEN_SIZE_3 - 1)\n",
    "N_POINTS_3 = 2**GEN_SIZE_3\n",
    "\n",
    "args3 = IndividualArguments(domain_3, eps_3, n_var_3, GEN_SIZE_3, f3)\n",
    "\n",
    "population_3 = [Individual.newRandom(args3) for _ in range(POPULATION_SIZE)]\n",
    "print(\"Representación binaria\")\n",
    "for i, ind in enumerate(population_3):\n",
    "    print(f\"Individuo {i} = {ind.getGenotype(Representation.BIN)}\")\n"
   ]
  },
  {
   "cell_type": "markdown",
   "metadata": {},
   "source": [
    "Realizar lo mismo del ítem anterior para la representación en código de Gray"
   ]
  },
  {
   "cell_type": "code",
   "execution_count": 126,
   "metadata": {},
   "outputs": [
    {
     "name": "stdout",
     "output_type": "stream",
     "text": [
      "Individuo 0 = [1, 0, 1, 0, 0, 0, 1, 1, 0, 0, 1, 1, 1, 0, 0, 1, 0, 1, 0, 1, 1, 0, 1, 1]\n",
      "Individuo 1 = [0, 1, 1, 1, 1, 0, 1, 0, 0, 0, 1, 1, 1, 0, 0, 1, 1, 0, 1, 1, 1, 1, 1, 0]\n",
      "Individuo 2 = [1, 1, 1, 1, 0, 0, 0, 1, 1, 0, 1, 0, 0, 1, 0, 1, 0, 0, 1, 1, 0, 1, 1, 1]\n",
      "Individuo 3 = [1, 0, 1, 0, 0, 1, 1, 0, 1, 0, 1, 1, 0, 1, 0, 0, 1, 1, 1, 0, 0, 1, 1, 0]\n",
      "Individuo 4 = [0, 0, 1, 1, 0, 1, 1, 1, 1, 0, 1, 0, 0, 1, 0, 0, 1, 1, 1, 1, 0, 0, 1, 0]\n",
      "Individuo 5 = [0, 0, 1, 0, 0, 0, 0, 0, 0, 1, 1, 0, 0, 1, 1, 1, 1, 1, 1, 1, 1, 1, 0, 1]\n",
      "Individuo 6 = [0, 0, 1, 0, 1, 0, 0, 1, 1, 0, 0, 0, 1, 1, 1, 0, 0, 0, 0, 1, 1, 0, 0, 0]\n",
      "Individuo 7 = [0, 0, 0, 0, 1, 0, 1, 1, 1, 0, 1, 1, 0, 0, 0, 0, 1, 0, 0, 1, 0, 0, 1, 1]\n",
      "Individuo 8 = [0, 1, 1, 0, 1, 0, 1, 0, 0, 1, 0, 0, 0, 0, 1, 0, 0, 1, 1, 1, 0, 1, 1, 1]\n",
      "Individuo 9 = [1, 0, 1, 0, 0, 0, 1, 0, 0, 0, 1, 0, 1, 1, 1, 1, 0, 1, 0, 1, 0, 1, 0, 0]\n"
     ]
    }
   ],
   "source": [
    "for i, ind in enumerate(population_3):\n",
    "    print(f\"Individuo {i} = {ind.getGenotype(Representation.GRAY)}\")"
   ]
  },
  {
   "cell_type": "markdown",
   "metadata": {},
   "source": [
    "Realizar lo mismo del ítem anterior para la representación real."
   ]
  },
  {
   "cell_type": "code",
   "execution_count": 127,
   "metadata": {},
   "outputs": [
    {
     "name": "stdout",
     "output_type": "stream",
     "text": [
      "Individuo 0 = [48.91514133371831, 37.55973843383693, 55.47724538419335, 25.522559293899917]\n",
      "Individuo 1 = [26.963844030209913, 58.42057922002171, 56.951070799148155, 45.10603751670941]\n",
      "Individuo 2 = [42.46773003803397, 26.742677102387603, 30.655470500413337, 40.05393583225302]\n",
      "Individuo 3 = [49.315195026457936, 50.42299885800347, 34.22879072982096, 57.24492086524768]\n",
      "Individuo 4 = [19.06705123331038, 45.62844344966982, 34.13104463984025, 38.673570957116766]\n",
      "Individuo 5 = [23.472023202493244, 15.226325449673023, 27.918501543355916, 43.42687256524313]\n",
      "Individuo 6 = [21.3344012786403, 24.001782021016457, 48.00716856375202, 24.122486665334492]\n",
      "Individuo 7 = [13.985888367733644, 45.99194022062149, 14.570401236015476, 34.43046205335584]\n",
      "Individuo 8 = [26.284913028554314, 54.81680644911972, 22.936463681064104, 39.98574240728113]\n",
      "Individuo 9 = [48.26378466438614, 57.65182195284906, 43.46814525259156, 30.360947100671872]\n"
     ]
    }
   ],
   "source": [
    "for i, ind in enumerate(population_3):\n",
    "    print(f\"Individuo {i} = {ind.getGenotype(Representation.DECIMAL)}\")"
   ]
  },
  {
   "cell_type": "markdown",
   "metadata": {},
   "source": [
    "Considerando las representaciones anteriores (cadena de bits, representación real) ¿cual seria el tamaño del espacio intrínseco"
   ]
  },
  {
   "cell_type": "code",
   "execution_count": 128,
   "metadata": {},
   "outputs": [
    {
     "name": "stdout",
     "output_type": "stream",
     "text": [
      "El espacio intrinseco tendrería 64 elementos con una precisión de 0.7619047619047619\n"
     ]
    }
   ],
   "source": [
    "print(f\"El espacio intrinseco tendrería {N_POINTS_3} elementos con una precisión de {eps_3}\")"
   ]
  },
  {
   "cell_type": "markdown",
   "metadata": {},
   "source": [
    "## 2. Gestión de la población: de la teoría se sabe que los métodos de selección son independientes del método de representación del algoritmo evolutivo, implemente los siguientes métodos de selección en python:"
   ]
  },
  {
   "cell_type": "markdown",
   "metadata": {},
   "source": [
    "### Método de selección proporcional\n"
   ]
  },
  {
   "cell_type": "code",
   "execution_count": 129,
   "metadata": {},
   "outputs": [],
   "source": [
    "def selection_proportional(population: list[Individual]) -> list[Individual]:\n",
    "    sorted_population = sorted(population, key=lambda ind: ind.getFitness(), reverse=True)\n",
    "    fitness_sum = sum([ind.getFitness() for ind in population])\n",
    "    selected: list[Individual] = []\n",
    "\n",
    "    for _ in range(len(sorted_population)):\n",
    "        # giramos la ruleta tantas veces como individuos existan\n",
    "        shave = random.random() * fitness_sum\n",
    "        roulette_sum = 0\n",
    "        # recorremos los individuos en orden decreciente\n",
    "        for ind in sorted_population:\n",
    "            # como se recorre en orden decreciente tenemos que sumar el valor del fitness para saber donde cae\n",
    "            roulette_sum += ind.getFitness()\n",
    "            # en el primero que sea mayor es cuando cae la ruleta asi que lo seleccionamos\n",
    "            if roulette_sum > shave:\n",
    "                selected.append(ind)\n",
    "                break\n",
    "    return selected"
   ]
  },
  {
   "cell_type": "code",
   "execution_count": 130,
   "metadata": {},
   "outputs": [
    {
     "name": "stdout",
     "output_type": "stream",
     "text": [
      "[-0.20062263990458606, -0.8744485518656668]\n",
      "[0.712062164760985, -0.7203163940939881]\n",
      "[0.7816251518230031, 0.7519807743735263]\n",
      "[0.7816251518230031, 0.7519807743735263]\n",
      "[-0.6726332214872952, 0.40727043230399573]\n",
      "[0.9763300937246535, -0.3760914978351373]\n",
      "[-0.20062263990458606, -0.8744485518656668]\n",
      "[-0.20062263990458606, -0.8744485518656668]\n",
      "[0.712062164760985, -0.7203163940939881]\n",
      "[0.9763300937246535, -0.3760914978351373]\n"
     ]
    }
   ],
   "source": [
    "selection = selection_proportional(population_2)\n",
    "for i, ind in enumerate(selection):\n",
    "    print(f\"{ind.getGenotype(Representation.DECIMAL)}\")"
   ]
  },
  {
   "cell_type": "markdown",
   "metadata": {},
   "source": [
    "### Método de selección basada en ranking lineal\n"
   ]
  },
  {
   "cell_type": "code",
   "execution_count": 131,
   "metadata": {},
   "outputs": [],
   "source": [
    "def selection_rank(population: list[Individual]):\n",
    "    sorted_population = sorted(population, key=lambda ind: ind.getFitness(), reverse=True)\n",
    "    rank_distance = 1 / len(population)\n",
    "    ranks = [1 - i * rank_distance for i in range(len(population))]\n",
    "    ranks_sum = sum(ranks)\n",
    "\n",
    "    selected: list[Individual] = []\n",
    "    \n",
    "    for _ in range(len(sorted_population)):\n",
    "        shave = random.random() * ranks_sum\n",
    "        rank_sum = 0\n",
    "        for i in range(len(sorted_population)):\n",
    "            rank_sum += ranks[i]\n",
    "            if rank_sum > shave:\n",
    "                selected.append(sorted_population[i])\n",
    "                break\n",
    "    return selected\n"
   ]
  },
  {
   "cell_type": "code",
   "execution_count": 132,
   "metadata": {},
   "outputs": [
    {
     "name": "stdout",
     "output_type": "stream",
     "text": [
      "[0.9763300937246535, -0.3760914978351373]\n",
      "[0.7816251518230031, 0.7519807743735263]\n",
      "[0.9763300937246535, -0.3760914978351373]\n",
      "[-0.4602038958173258, 0.48950265056749975]\n",
      "[-0.6726332214872952, 0.40727043230399573]\n",
      "[-0.6726332214872952, 0.40727043230399573]\n",
      "[-0.4602038958173258, 0.48950265056749975]\n",
      "[-0.4602038958173258, 0.48950265056749975]\n",
      "[-0.01686337217065459, 0.30383025980688605]\n",
      "[0.712062164760985, -0.7203163940939881]\n"
     ]
    }
   ],
   "source": [
    "selection = selection_rank(population_2)\n",
    "for i, ind in enumerate(selection):\n",
    "    print(f\"{ind.getGenotype(Representation.DECIMAL)}\")"
   ]
  },
  {
   "cell_type": "markdown",
   "metadata": {},
   "source": [
    "### Método de torneo"
   ]
  },
  {
   "cell_type": "code",
   "execution_count": 133,
   "metadata": {},
   "outputs": [],
   "source": [
    "def tournament_selection(population: list[Individual]):\n",
    "    # tournament selection\n",
    "    tournament_size = 3\n",
    "    new_offspring: list[Individual] = []\n",
    "    for _ in range(len(population)):\n",
    "        # select max of each 5 until has len(population) individuals\n",
    "        candidates = [random.choice(population) for _ in range(tournament_size)]\n",
    "        new_offspring.append(min(candidates, key=lambda ind: ind.getFitness()))\n",
    "    return new_offspring\n"
   ]
  },
  {
   "cell_type": "code",
   "execution_count": 134,
   "metadata": {},
   "outputs": [
    {
     "name": "stdout",
     "output_type": "stream",
     "text": [
      "[-0.4602038958173258, 0.48950265056749975]\n",
      "[-0.01686337217065459, 0.30383025980688605]\n",
      "[-0.3698111910399102, 0.18991423939444863]\n",
      "[0.6149830167136825, 0.1416244943454703]\n",
      "[-0.6726332214872952, 0.40727043230399573]\n",
      "[-0.24973782685826773, 0.1774465924014017]\n",
      "[-0.6726332214872952, 0.40727043230399573]\n",
      "[0.6149830167136825, 0.1416244943454703]\n",
      "[-0.24973782685826773, 0.1774465924014017]\n",
      "[0.6149830167136825, 0.1416244943454703]\n"
     ]
    }
   ],
   "source": [
    "selection = tournament_selection(population_2)\n",
    "for i, ind in enumerate(selection):\n",
    "    print(f\"{ind.getGenotype(Representation.DECIMAL)}\")"
   ]
  },
  {
   "cell_type": "markdown",
   "metadata": {},
   "source": [
    "## 3. Evaluación de la intensidad de selección: para los problemas planteados en la pregunta (1) evaluar la presión de selección considerando los siguientes casos."
   ]
  },
  {
   "cell_type": "code",
   "execution_count": 135,
   "metadata": {},
   "outputs": [],
   "source": [
    "def crossover_one_point(p1: Individual, p2: Individual, cross_ratio):\n",
    "    # one-point random-crossover\n",
    "    if random.random() < cross_ratio:\n",
    "        c1 = copy.deepcopy(p1.getGenotype())\n",
    "        c2 = copy.deepcopy(p2.getGenotype())\n",
    "       \n",
    "        point = random.randint(1, len(c1) - 2)\n",
    "       \n",
    "        c1[point:], c2[point:] = c2[point:], c1[point:]\n",
    "        return Individual.newLike(c1, p1), Individual.newLike(c2, p2)\n",
    "    else:\n",
    "        return p1, p2\n"
   ]
  },
  {
   "cell_type": "code",
   "execution_count": 136,
   "metadata": {},
   "outputs": [],
   "source": [
    "def mutation(ind: Individual, mut_ratio):\n",
    "    mut = copy.deepcopy(ind.getGenotype())\n",
    "    if random.random() < mut_ratio:\n",
    "        # punto aleatorio de la cadea\n",
    "        point = random.randint(0, len(mut) - 1)\n",
    "\n",
    "        if len(mut) > ind.n_var:\n",
    "            mut[point] = (mut[point] + 1) % 2\n",
    "        else:\n",
    "            mut[point] = random.uniform(ind.domain[0], ind.domain[1])\n",
    "    return Individual.newLike(mut, ind)\n"
   ]
  },
  {
   "cell_type": "code",
   "execution_count": 137,
   "metadata": {},
   "outputs": [],
   "source": [
    "def get_best(population: list[Individual]):\n",
    "    best = population[0]\n",
    "    for ind in population:\n",
    "        if ind.getFitness() < best.getFitness():\n",
    "            best = ind\n",
    "    return best\n"
   ]
  },
  {
   "cell_type": "markdown",
   "metadata": {},
   "source": [
    "a) Para el primer caso (ecuación 1) considerar la representación binaria, una población inicial 15 individuos del cual debe seleccionar 10 padres y crear 10 descendientes, una taza de cruce de 0.8, una tasa de mutación de 0.01, donde el cruce y la mutación son seleccionadas de forma aleatoria (Usando los mismos criterios del ejemplo mostrado en Colab-note) realizar lo siguiente:\n",
    "\n",
    "• Usando el método de torneo para la selección de las nuevas generaciones (constantes de 15 individuos), evalúe la intensidad de selección para cada uno de los métodos de selección en la pregunta (2).\n"
   ]
  },
  {
   "cell_type": "code",
   "execution_count": 145,
   "metadata": {},
   "outputs": [
    {
     "name": "stdout",
     "output_type": "stream",
     "text": [
      "Generation: 100\n"
     ]
    },
    {
     "data": {
      "text/plain": [
       "Text(0.5, 1.0, 'Generation number 100')"
      ]
     },
     "execution_count": 145,
     "metadata": {},
     "output_type": "execute_result"
    },
    {
     "data": {
      "image/png": "[encoded data removed]",
      "text/plain": [
       "<Figure size 432x288 with 1 Axes>"
      ]
     },
     "metadata": {
      "needs_background": "light"
     },
     "output_type": "display_data"
    }
   ],
   "source": [
    "# GA CANONICAL FLOW\n",
    "POPULATION_SIZE = 15\n",
    "CROSSOVER_RATIO = 0.8\n",
    "MUTATION_RATIO = 0.01\n",
    "generation_number = 0\n",
    "\n",
    "args = IndividualArguments(domain_1, eps_1, n_var_1, GEN_SIZE_1, f1, Representation.BIN)\n",
    "population = [Individual.newRandom(args) for _ in range(POPULATION_SIZE)]\n",
    "MAX_GENERATION = 100\n",
    "best: list[Individual] = []\n",
    "\n",
    "# SE DETIENE DESPUES DE 500 GENERACIONES\n",
    "while generation_number < MAX_GENERATION:\n",
    "    generation_number += 1\n",
    "    # SELECCION DE PADRES\n",
    "    parents = tournament_selection(population)\n",
    "    crossed_offspring: list[Individual] = []\n",
    "    # CRUZAMIENTO\n",
    "    for p1, p2 in zip(parents[::2], parents[1::2]):\n",
    "        kid1, kid2 = crossover_one_point(p1, p2, CROSSOVER_RATIO)\n",
    "        crossed_offspring.append(kid1)\n",
    "        crossed_offspring.append(kid2)\n",
    "    # MUTACION\n",
    "    mutated_offspring: list[Individual] = []\n",
    "    for mutant in crossed_offspring:\n",
    "        mutated_offspring.append(mutation(mutant, MUTATION_RATIO))\n",
    "\n",
    "    population = mutated_offspring.copy()\n",
    "\n",
    "    best.append(get_best(population))\n",
    "    if generation_number%100 == 0:\n",
    "        print(\"Generation:\", generation_number)\n",
    "\n",
    "plt.plot([f1(x.phenotype) for x in best], \"r-\")\n",
    "plt.title(f\"Generation number {generation_number}\")\n"
   ]
  },
  {
   "cell_type": "code",
   "execution_count": 147,
   "metadata": {},
   "outputs": [
    {
     "name": "stdout",
     "output_type": "stream",
     "text": [
      "Optimal value\n",
      " x* = [-2.95405669599218], f(x*) = -5.019177450965042\n"
     ]
    }
   ],
   "source": [
    "solution = get_best(best)\n",
    "print(f\"Optimal value\\n x* = {solution.phenotype}, f(x*) = {f1(solution.phenotype)}\")"
   ]
  },
  {
   "cell_type": "markdown",
   "metadata": {},
   "source": [
    "b) Para el segundo caso (ecuación 2) considerar la representación Gray, una población inicial 20 individuos del cual debe seleccionar 15 padres y crear 15 descendientes, una taza de cruce de 0.8, una tasa de mutación de 0.01, donde el cruce y la mutación son seleccionadas de forma aleatoria (Usando los mismos criterios del ejemplo mostrado en Colab-note) realizar lo siguiente:\n",
    "\n",
    "• Usando el método de torneo para la selección de las nuevas generaciones (constantes de 20 individuos), evalúe la intensidad de selección para cada uno de los métodos de selección en la pregunta (2).\n"
   ]
  },
  {
   "cell_type": "code",
   "execution_count": 149,
   "metadata": {},
   "outputs": [
    {
     "name": "stdout",
     "output_type": "stream",
     "text": [
      "Generation: 100\n",
      "Generation: 200\n",
      "Generation: 300\n",
      "Generation: 400\n",
      "Generation: 500\n",
      "Generation: 600\n",
      "Generation: 700\n",
      "Generation: 800\n",
      "Generation: 900\n",
      "Generation: 1000\n"
     ]
    },
    {
     "data": {
      "text/plain": [
       "Text(0.5, 1.0, 'Generation number 1000')"
      ]
     },
     "execution_count": 149,
     "metadata": {},
     "output_type": "execute_result"
    },
    {
     "data": {
      "image/png": "[encoded data removed]",
      "text/plain": [
       "<Figure size 432x288 with 1 Axes>"
      ]
     },
     "metadata": {
      "needs_background": "light"
     },
     "output_type": "display_data"
    }
   ],
   "source": [
    "# GA CANONICAL FLOW\n",
    "POPULATION_SIZE = 20\n",
    "CROSSOVER_RATIO = 0.8\n",
    "MUTATION_RATIO = 0.01\n",
    "generation_number = 0\n",
    "\n",
    "args = IndividualArguments(domain_2, eps_2, n_var_2, GEN_SIZE_2, f2, Representation.GRAY)\n",
    "population = [Individual.newRandom(args) for _ in range(POPULATION_SIZE)]\n",
    "MAX_GENERATION = 1000\n",
    "best: list[Individual] = []\n",
    "\n",
    "# SE DETIENE DESPUES DE 500 GENERACIONES\n",
    "while generation_number < MAX_GENERATION:\n",
    "    generation_number += 1\n",
    "    # SELECCION DE PADRES\n",
    "    parents = tournament_selection(population)\n",
    "    crossed_offspring: list[Individual] = []\n",
    "    # CRUZAMIENTO\n",
    "    for p1, p2 in zip(parents[::2], parents[1::2]):\n",
    "        kid1, kid2 = crossover_one_point(p1, p2, CROSSOVER_RATIO)\n",
    "        crossed_offspring.append(kid1)\n",
    "        crossed_offspring.append(kid2)\n",
    "    # MUTACION\n",
    "    mutated_offspring: list[Individual] = []\n",
    "    for mutant in crossed_offspring:\n",
    "        mutated_offspring.append(mutation(mutant, MUTATION_RATIO))\n",
    "\n",
    "    population = mutated_offspring.copy()\n",
    "\n",
    "    best.append(get_best(population))\n",
    "    if generation_number%100 == 0:\n",
    "        print(\"Generation:\", generation_number)\n",
    "\n",
    "plt.plot([f1(x.phenotype) for x in best], \"r-\")\n",
    "plt.title(f\"Generation number {generation_number}\")\n"
   ]
  },
  {
   "cell_type": "code",
   "execution_count": 150,
   "metadata": {},
   "outputs": [
    {
     "name": "stdout",
     "output_type": "stream",
     "text": [
      "Optimal value\n",
      " x* = [0.29032258064516125, -1.0], f(x*) = 0.3053152012785849\n"
     ]
    }
   ],
   "source": [
    "solution = get_best(best)\n",
    "print(f\"Optimal value\\n x* = {solution.phenotype}, f(x*) = {f1(solution.phenotype)}\")"
   ]
  },
  {
   "cell_type": "markdown",
   "metadata": {},
   "source": [
    "c) Para el tercer caso (ecuación 3) considerar la representación real, una población inicial 20 individuos del cual debe seleccionar 15 padres y crear 15 descendientes, una taza de cruce de 0.8, una tasa de mutación de 0.01, donde el cruce y la mutación son seleccionadas de forma aleatoria (Usando los mismos criterios del ejemplo mostrado en Colab-note) realizar lo siguiente:\n",
    "\n",
    "• Usando el método de torneo para la selección de las nuevas generaciones (constantes de 20 individuos), evalúe la intensidad de selección para cada uno de los métodos de selección en la pregunta (2).\n"
   ]
  },
  {
   "cell_type": "code",
   "execution_count": 157,
   "metadata": {},
   "outputs": [
    {
     "name": "stdout",
     "output_type": "stream",
     "text": [
      "Generation: 100\n",
      "Generation: 200\n",
      "Generation: 300\n",
      "Generation: 400\n",
      "Generation: 500\n",
      "Generation: 600\n",
      "Generation: 700\n",
      "Generation: 800\n",
      "Generation: 900\n",
      "Generation: 1000\n"
     ]
    },
    {
     "data": {
      "text/plain": [
       "Text(0.5, 1.0, 'Generation number 1000')"
      ]
     },
     "execution_count": 157,
     "metadata": {},
     "output_type": "execute_result"
    },
    {
     "data": {
      "image/png": "[encoded data removed]",
      "text/plain": [
       "<Figure size 432x288 with 1 Axes>"
      ]
     },
     "metadata": {
      "needs_background": "light"
     },
     "output_type": "display_data"
    }
   ],
   "source": [
    "# GA CANONICAL FLOW\n",
    "POPULATION_SIZE = 20\n",
    "CROSSOVER_RATIO = 0.8\n",
    "MUTATION_RATIO = 0.01\n",
    "generation_number = 0\n",
    "\n",
    "args = IndividualArguments(domain_3, eps_3, n_var_3, GEN_SIZE_3, f3, Representation.DECIMAL)\n",
    "population = [Individual.newRandom(args) for _ in range(POPULATION_SIZE)]\n",
    "MAX_GENERATION = 1000\n",
    "best: list[Individual] = []\n",
    "\n",
    "# SE DETIENE DESPUES DE 500 GENERACIONES\n",
    "while generation_number < MAX_GENERATION:\n",
    "    generation_number += 1\n",
    "    # SELECCION DE PADRES\n",
    "    parents = tournament_selection(population)\n",
    "    crossed_offspring: list[Individual] = []\n",
    "    # CRUZAMIENTO\n",
    "    for p1, p2 in zip(parents[::2], parents[1::2]):\n",
    "        kid1, kid2 = crossover_one_point(p1, p2, CROSSOVER_RATIO)\n",
    "        crossed_offspring.append(kid1)\n",
    "        crossed_offspring.append(kid2)\n",
    "    # MUTACION\n",
    "    mutated_offspring: list[Individual] = []\n",
    "    for mutant in crossed_offspring:\n",
    "        mutated_offspring.append(mutation(mutant, MUTATION_RATIO))\n",
    "\n",
    "    population = mutated_offspring.copy()\n",
    "\n",
    "    best.append(get_best(population))\n",
    "    if generation_number%100 == 0:\n",
    "        print(\"Generation:\", generation_number)\n",
    "\n",
    "plt.plot([f1(x.phenotype) for x in best], \"r-\")\n",
    "plt.title(f\"Generation number {generation_number}\")\n"
   ]
  },
  {
   "cell_type": "code",
   "execution_count": 158,
   "metadata": {},
   "outputs": [
    {
     "name": "stdout",
     "output_type": "stream",
     "text": [
      "Optimal value\n",
      " x* = [12.262250106460652, 18.306635719558265, 19.705496288514517, 34.488869569279736], f(x*) = 32381.29695259282\n"
     ]
    }
   ],
   "source": [
    "solution = get_best(best)\n",
    "print(f\"Optimal value\\n x* = {solution.phenotype}, f(x*) = {f1(solution.phenotype)}\")"
   ]
  }
 ],
 "metadata": {
  "interpreter": {
   "hash": "590f4a299ae404e723bbc5f32e9a7b98b836c3c65ce9112bc934ac92a06ceee3"
  },
  "kernelspec": {
   "display_name": "Python 3.10.4 64-bit",
   "language": "python",
   "name": "python3"
  },
  "language_info": {
   "codemirror_mode": {
    "name": "ipython",
    "version": 3
   },
   "file_extension": ".py",
   "mimetype": "text/x-python",
   "name": "python",
   "nbconvert_exporter": "python",
   "pygments_lexer": "ipython3",
   "version": "3.10.4"
  },
  "orig_nbformat": 4
 },
 "nbformat": 4,
 "nbformat_minor": 2
}

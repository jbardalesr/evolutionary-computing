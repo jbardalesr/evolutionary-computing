{
 "cells": [
  {
   "cell_type": "markdown",
   "metadata": {},
   "source": [
    "### Curso: CC521 A Programación Evolutiva 2022-1\n",
    "Alumno: Jordi Joel Bardales Rojas"
   ]
  },
  {
   "cell_type": "markdown",
   "metadata": {},
   "source": [
    "# Práctica dirigida: Representación y Selección \n"
   ]
  },
  {
   "cell_type": "code",
   "execution_count": 7,
   "metadata": {},
   "outputs": [],
   "source": [
    "from __future__ import annotations\n",
    "import math\n",
    "import numpy as np\n",
    "from enum import Enum\n",
    "from bin_repr import dec2bin, bin2gray, my_map, inverse_map, bin2dec, gray2bin\n",
    "import copy\n",
    "import random \n",
    "import matplotlib.pyplot as plt\n",
    "from typing import Callable,  NamedTuple\n",
    "from itertools import combinations\n",
    "from abc import ABC, abstractmethod\n",
    "\n",
    "class Representation(Enum):\n",
    "    BIN = 0\n",
    "    GRAY = 1\n",
    "    DECIMAL = 2"
   ]
  },
  {
   "cell_type": "markdown",
   "metadata": {},
   "source": [
    "# Problemas de optimización\n",
    "Este laboratorio se mostrará varios métodos de selección como la selección proporcional, ranking lineal, torneo, uniforme y selección ruleta, luego se medirá la intensidad de selección en un problema de minimización.\n"
   ]
  },
  {
   "cell_type": "markdown",
   "metadata": {},
   "source": [
    "## 1. Dado los siguientes problemas de minimización de una función $\\min_\\mathbf{x}f(\\mathbf{x})$\n"
   ]
  },
  {
   "cell_type": "code",
   "execution_count": 8,
   "metadata": {},
   "outputs": [],
   "source": [
    "f1 = lambda x: x[0]**4 + 5*x[0]**3 + 4*x[0]**2 - 4*x[0] + 1\n",
    "f2 = lambda x: 0.2 + x[0]**2 + x[1]**2 - 0.1*math.cos(6*math.pi*x[0]) - 0.1*math.sin(6*math.pi*x[1])\n",
    "f3 = lambda x: math.pow(1/6.931 - x[0]*x[1]/(x[2]*x[3]), 2)\n"
   ]
  },
  {
   "cell_type": "markdown",
   "metadata": {},
   "source": [
    "Dominio"
   ]
  },
  {
   "cell_type": "code",
   "execution_count": 9,
   "metadata": {},
   "outputs": [],
   "source": [
    "domain_1, n_var_1 = [-4.0, 1], 1\n",
    "domain_2, n_var_2 = [-1, 1.0], 2\n",
    "domain_3, n_var_3 = [12, 60.], 4\n"
   ]
  },
  {
   "cell_type": "markdown",
   "metadata": {},
   "source": [
    "Parámetros del individuo tipados"
   ]
  },
  {
   "cell_type": "code",
   "execution_count": 10,
   "metadata": {},
   "outputs": [],
   "source": [
    "class IndividualArguments(NamedTuple):\n",
    "    domain: tuple[int, int]\n",
    "    eps: float\n",
    "    n_var: int\n",
    "    gen_size: int\n",
    "    default_repr: Representation = Representation.DECIMAL"
   ]
  },
  {
   "cell_type": "markdown",
   "metadata": {},
   "source": [
    "Clase individuo "
   ]
  },
  {
   "cell_type": "code",
   "execution_count": 11,
   "metadata": {},
   "outputs": [],
   "source": [
    "class Individual():\n",
    "    def __init__(self, phenotype: list[float], args: IndividualArguments):\n",
    "        self.domain = args.domain\n",
    "        self.eps = args.eps\n",
    "        self.n_var = args.n_var\n",
    "        self.gen_size = args.gen_size\n",
    "        self.default_repr = args.default_repr\n",
    "        self.phenotype = phenotype\n",
    "\n",
    "    def getGenotype(self, my_repr: Representation = None):\n",
    "        my_repr = self.default_repr if my_repr == None else my_repr\n",
    "        list_repr: list[int] = []\n",
    "        if my_repr == Representation.BIN:\n",
    "            for gen in self.phenotype:\n",
    "                list_repr.extend(dec2bin(num=my_map(gen, self.domain[0], self.domain[1], self.eps), bits=self.gen_size))\n",
    "        elif my_repr == Representation.GRAY:\n",
    "            for gen in self.phenotype:\n",
    "                list_repr.extend(bin2gray(dec2bin(num=my_map(gen, self.domain[0], self.domain[1], self.eps), bits=self.gen_size)))\n",
    "        else:\n",
    "            list_repr = copy.deepcopy(self.phenotype)\n",
    "        return list_repr\n",
    "\n",
    "    @classmethod\n",
    "    def new(cls, genotype, args: IndividualArguments):\n",
    "        phenotype: list[int] = []\n",
    "        if args.default_repr == Representation.BIN:\n",
    "            for k in range(args.n_var):\n",
    "                gen = genotype[args.gen_size * k:args.gen_size * (k + 1)]\n",
    "                phenotype.append(inverse_map(bin2dec(gen), args.domain[0], args.eps))\n",
    "        elif args.default_repr == Representation.GRAY:\n",
    "            for k in range(args.n_var):\n",
    "                gen = genotype[args.gen_size * k:args.gen_size * (k + 1)]\n",
    "                phenotype.append(inverse_map(bin2dec(gray2bin(gen)), args.domain[0], args.eps))\n",
    "        else:\n",
    "            phenotype = copy.deepcopy(genotype)\n",
    "        \n",
    "        return cls(phenotype, args)\n",
    "\n",
    "    @staticmethod\n",
    "    def newLike(genotype: list[int], parent: Individual):\n",
    "        args = IndividualArguments(parent.domain, parent.eps, parent.n_var, parent.gen_size, parent.default_repr)\n",
    "        return Individual.new(genotype, args)\n",
    "\n",
    "    @classmethod\n",
    "    def newRandom(cls, args: IndividualArguments):\n",
    "        phenotype = [round(random.uniform(args.domain[0], args.domain[1]), 6) for _ in range(args.n_var)]\n",
    "        return cls(phenotype, args)\n"
   ]
  },
  {
   "cell_type": "markdown",
   "metadata": {},
   "source": [
    "### a) Representación del problema (1)\n",
    "Implemente un programa en python que represente el cromosoma como una cadena binaria de 10 dígitos (10 bits) y muestre/imprima el Fenotipo y su representación binaria para una población de 10 individuos."
   ]
  },
  {
   "cell_type": "code",
   "execution_count": 12,
   "metadata": {},
   "outputs": [
    {
     "name": "stdout",
     "output_type": "stream",
     "text": [
      "Representación binaria\n",
      "Genotipo 0 = [1, 0, 1, 0, 1, 1, 0, 1, 0, 0] Fenotipo 0 = [-0.619152]\n",
      "Genotipo 1 = [1, 1, 1, 0, 1, 0, 0, 0, 0, 1] Fenotipo 1 = [0.541534]\n",
      "Genotipo 2 = [0, 0, 1, 1, 1, 1, 0, 0, 1, 1] Fenotipo 2 = [-2.814198]\n",
      "Genotipo 3 = [1, 0, 0, 0, 0, 0, 0, 1, 1, 1] Fenotipo 3 = [-1.462353]\n",
      "Genotipo 4 = [0, 0, 1, 1, 0, 1, 1, 0, 0, 0] Fenotipo 4 = [-2.945017]\n",
      "Genotipo 5 = [1, 0, 1, 0, 0, 0, 1, 1, 1, 1] Fenotipo 5 = [-0.800241]\n",
      "Genotipo 6 = [1, 0, 1, 1, 0, 1, 1, 1, 0, 1] Fenotipo 6 = [-0.414969]\n",
      "Genotipo 7 = [1, 0, 0, 1, 0, 1, 1, 0, 0, 1] Fenotipo 7 = [-1.064885]\n",
      "Genotipo 8 = [1, 0, 1, 1, 0, 0, 0, 0, 1, 0] Fenotipo 8 = [-0.550906]\n",
      "Genotipo 9 = [0, 1, 1, 1, 1, 0, 0, 0, 1, 0] Fenotipo 9 = [-1.64276]\n"
     ]
    }
   ],
   "source": [
    "POPULATION_SIZE = 10\n",
    "GEN_SIZE_1 = 10\n",
    "eps_1 = (domain_1[1] - domain_1[0]) / (2**GEN_SIZE_1 - 1)\n",
    "N_POINTS_1 = 2**GEN_SIZE_1\n",
    "\n",
    "args1 = IndividualArguments(domain_1, eps_1, n_var_1, GEN_SIZE_1, f1)\n",
    "\n",
    "population_1 = [Individual.newRandom(args1) for _ in range(POPULATION_SIZE)]\n",
    "print(\"Representación binaria\")\n",
    "for i, ind in enumerate(population_1):\n",
    "    print(f\"Genotipo {i} = {ind.getGenotype(Representation.BIN)} Fenotipo {i} = {ind.phenotype}\")\n"
   ]
  },
  {
   "cell_type": "markdown",
   "metadata": {},
   "source": [
    "Realizar lo mismo del ítem anterior para la representación en código de Gray."
   ]
  },
  {
   "cell_type": "code",
   "execution_count": 13,
   "metadata": {},
   "outputs": [
    {
     "name": "stdout",
     "output_type": "stream",
     "text": [
      "Representación en código Gray\n",
      "Genotipo 0 = [1, 1, 1, 1, 1, 0, 1, 1, 1, 0] Fenotipo 0 = [-0.619152]\n",
      "Genotipo 1 = [1, 0, 0, 1, 1, 1, 0, 0, 0, 1] Fenotipo 1 = [0.541534]\n",
      "Genotipo 2 = [0, 0, 1, 0, 0, 0, 1, 0, 1, 0] Fenotipo 2 = [-2.814198]\n",
      "Genotipo 3 = [1, 1, 0, 0, 0, 0, 0, 1, 0, 0] Fenotipo 3 = [-1.462353]\n",
      "Genotipo 4 = [0, 0, 1, 0, 1, 1, 0, 1, 0, 0] Fenotipo 4 = [-2.945017]\n",
      "Genotipo 5 = [1, 1, 1, 1, 0, 0, 1, 0, 0, 0] Fenotipo 5 = [-0.800241]\n",
      "Genotipo 6 = [1, 1, 1, 0, 1, 1, 0, 0, 1, 1] Fenotipo 6 = [-0.414969]\n",
      "Genotipo 7 = [1, 1, 0, 1, 1, 1, 0, 1, 0, 1] Fenotipo 7 = [-1.064885]\n",
      "Genotipo 8 = [1, 1, 1, 0, 1, 0, 0, 0, 1, 1] Fenotipo 8 = [-0.550906]\n",
      "Genotipo 9 = [0, 1, 0, 0, 0, 1, 0, 0, 1, 1] Fenotipo 9 = [-1.64276]\n"
     ]
    }
   ],
   "source": [
    "print(\"Representación en código Gray\")\n",
    "for i, ind in enumerate(population_1):\n",
    "    print(f\"Genotipo {i} = {ind.getGenotype(Representation.GRAY)} Fenotipo {i} = {ind.phenotype}\")"
   ]
  },
  {
   "cell_type": "markdown",
   "metadata": {},
   "source": [
    "Considerando las representaciones anteriores (cadena de 10 bits) ¿cual sería el tamaño del espacio intrínseco?\n"
   ]
  },
  {
   "cell_type": "code",
   "execution_count": 14,
   "metadata": {},
   "outputs": [
    {
     "name": "stdout",
     "output_type": "stream",
     "text": [
      "El espacio intrinseco tendría 1024 elementos con una precisión de 0.004887585532746823\n"
     ]
    }
   ],
   "source": [
    "print(f\"El espacio intrinseco tendría {N_POINTS_1} elementos con una precisión de {eps_1}\")"
   ]
  },
  {
   "cell_type": "markdown",
   "metadata": {},
   "source": [
    "### b) Representación del problema (2):\n",
    "\n",
    "Implemente un programa en python que represente el cromosoma como una cadena binaria donde $x, y$ estén representados por 5 bits cada uno y luego muestre/imprima el Fenotipo y su\n",
    "representación binaria."
   ]
  },
  {
   "cell_type": "code",
   "execution_count": 15,
   "metadata": {},
   "outputs": [
    {
     "name": "stdout",
     "output_type": "stream",
     "text": [
      "Representación binaria\n",
      "Genotipo 0 = [0, 0, 1, 1, 1, 0, 0, 1, 0, 0] Fenotipo 0 = [-0.547581, -0.717762]\n",
      "Genotipo 1 = [0, 0, 1, 1, 0, 1, 0, 1, 0, 0] Fenotipo 1 = [-0.600533, 0.300297]\n",
      "Genotipo 2 = [1, 1, 0, 0, 0, 1, 1, 1, 0, 1] Fenotipo 2 = [0.53053, 0.875988]\n",
      "Genotipo 3 = [0, 1, 0, 1, 1, 0, 0, 0, 0, 0] Fenotipo 3 = [-0.294898, -0.98418]\n",
      "Genotipo 4 = [1, 1, 0, 0, 1, 1, 0, 1, 0, 1] Fenotipo 4 = [0.59171, 0.324772]\n",
      "Genotipo 5 = [0, 0, 0, 1, 0, 1, 0, 0, 0, 0] Fenotipo 5 = [-0.902145, 0.033326]\n",
      "Genotipo 6 = [1, 0, 1, 1, 1, 1, 1, 1, 1, 0] Fenotipo 6 = [0.470669, 0.961173]\n",
      "Genotipo 7 = [0, 1, 0, 0, 1, 1, 0, 1, 0, 1] Fenotipo 7 = [-0.436322, 0.369259]\n",
      "Genotipo 8 = [1, 0, 1, 0, 0, 0, 1, 1, 0, 0] Fenotipo 8 = [0.314398, -0.242109]\n",
      "Genotipo 9 = [1, 1, 0, 0, 1, 1, 0, 0, 1, 0] Fenotipo 9 = [0.59834, 0.167977]\n"
     ]
    }
   ],
   "source": [
    "POPULATION_SIZE = 10\n",
    "GEN_SIZE_2 = 5\n",
    "eps_2 = (domain_2[1] - domain_2[0]) / (2**GEN_SIZE_2 - 1)\n",
    "N_POINTS_2 = 2**GEN_SIZE_2\n",
    "\n",
    "args2 = IndividualArguments(domain_2, eps_2, n_var_2, GEN_SIZE_2, f2)\n",
    "\n",
    "population_2 = [Individual.newRandom(args2) for _ in range(POPULATION_SIZE)]\n",
    "print(\"Representación binaria\")\n",
    "for i, ind in enumerate(population_2):\n",
    "    print(f\"Genotipo {i} = {ind.getGenotype(Representation.BIN)} Fenotipo {i} = {ind.phenotype}\")"
   ]
  },
  {
   "cell_type": "markdown",
   "metadata": {},
   "source": [
    "Realizar lo mismo del ítem anterior para la representación en código de Gray"
   ]
  },
  {
   "cell_type": "code",
   "execution_count": 16,
   "metadata": {},
   "outputs": [
    {
     "name": "stdout",
     "output_type": "stream",
     "text": [
      "Representación en código Gray\n",
      "Genotipo 0 = [0, 0, 1, 0, 0, 0, 0, 1, 1, 0] Fenotipo 0 = [-0.547581, -0.717762]\n",
      "Genotipo 1 = [0, 0, 1, 0, 1, 1, 1, 1, 1, 0] Fenotipo 1 = [-0.600533, 0.300297]\n",
      "Genotipo 2 = [1, 0, 1, 0, 0, 1, 0, 0, 1, 1] Fenotipo 2 = [0.53053, 0.875988]\n",
      "Genotipo 3 = [0, 1, 1, 1, 0, 0, 0, 0, 0, 0] Fenotipo 3 = [-0.294898, -0.98418]\n",
      "Genotipo 4 = [1, 0, 1, 0, 1, 1, 1, 1, 1, 1] Fenotipo 4 = [0.59171, 0.324772]\n",
      "Genotipo 5 = [0, 0, 0, 1, 1, 1, 1, 0, 0, 0] Fenotipo 5 = [-0.902145, 0.033326]\n",
      "Genotipo 6 = [1, 1, 1, 0, 0, 1, 0, 0, 0, 1] Fenotipo 6 = [0.470669, 0.961173]\n",
      "Genotipo 7 = [0, 1, 1, 0, 1, 1, 1, 1, 1, 1] Fenotipo 7 = [-0.436322, 0.369259]\n",
      "Genotipo 8 = [1, 1, 1, 1, 0, 0, 1, 0, 1, 0] Fenotipo 8 = [0.314398, -0.242109]\n",
      "Genotipo 9 = [1, 0, 1, 0, 1, 1, 1, 0, 1, 1] Fenotipo 9 = [0.59834, 0.167977]\n"
     ]
    }
   ],
   "source": [
    "print(\"Representación en código Gray\")\n",
    "for i, ind in enumerate(population_2):\n",
    "    print(f\"Genotipo {i} = {ind.getGenotype(Representation.GRAY)} Fenotipo {i} = {ind.phenotype}\")"
   ]
  },
  {
   "cell_type": "markdown",
   "metadata": {},
   "source": [
    "Realizar lo mismo del ítem anterior para la representación real"
   ]
  },
  {
   "cell_type": "code",
   "execution_count": 17,
   "metadata": {},
   "outputs": [
    {
     "name": "stdout",
     "output_type": "stream",
     "text": [
      "Representación real\n",
      "Individuo 0 = [-0.547581, -0.717762]\n",
      "Individuo 1 = [-0.600533, 0.300297]\n",
      "Individuo 2 = [0.53053, 0.875988]\n",
      "Individuo 3 = [-0.294898, -0.98418]\n",
      "Individuo 4 = [0.59171, 0.324772]\n",
      "Individuo 5 = [-0.902145, 0.033326]\n",
      "Individuo 6 = [0.470669, 0.961173]\n",
      "Individuo 7 = [-0.436322, 0.369259]\n",
      "Individuo 8 = [0.314398, -0.242109]\n",
      "Individuo 9 = [0.59834, 0.167977]\n"
     ]
    }
   ],
   "source": [
    "print(\"Representación real\")\n",
    "for i, ind in enumerate(population_2):\n",
    "    print(f\"Individuo {i} = {ind.phenotype}\")"
   ]
  },
  {
   "cell_type": "markdown",
   "metadata": {},
   "source": [
    "Considerando las representaciones anteriores (cadena de 10 bits y representación real) ¿cual sería el tamaño del espacio intrínseco?\n"
   ]
  },
  {
   "cell_type": "code",
   "execution_count": 18,
   "metadata": {},
   "outputs": [
    {
     "name": "stdout",
     "output_type": "stream",
     "text": [
      "El espacio intrinseco tendría 32 x 32 = 1024 elementos con una precisión de 0.06451612903225806\n"
     ]
    }
   ],
   "source": [
    "print(f\"El espacio intrinseco tendría {N_POINTS_2} x {N_POINTS_2} = {2**(2*GEN_SIZE_2)} elementos con una precisión de {eps_2}\")"
   ]
  },
  {
   "cell_type": "markdown",
   "metadata": {},
   "source": [
    "### c) Representación del problema (3):\n",
    "\n",
    "Implemente un programa en python que represente el cromosoma como una cadena binaria donde $x_1, x_2, x_3, x_4$ estén representados por 6 bits cada uno y luego muestre/imprima el Fenotipo y su representación binaria.\n"
   ]
  },
  {
   "cell_type": "code",
   "execution_count": 19,
   "metadata": {},
   "outputs": [
    {
     "name": "stdout",
     "output_type": "stream",
     "text": [
      "Representación binaria\n",
      "Genotipo 0 = [1, 0, 0, 1, 1, 1, 1, 1, 0, 0, 0, 0, 0, 0, 0, 1, 1, 0, 0, 1, 0, 1, 0, 0] Fenotipo 0 = [41.90164, 48.939336, 16.823597, 27.424614]\n",
      "Genotipo 1 = [1, 1, 0, 1, 0, 1, 0, 1, 0, 0, 1, 0, 0, 0, 0, 1, 0, 0, 0, 1, 0, 1, 0, 1] Fenotipo 1 = [52.149393, 25.724696, 15.366023, 28.287665]\n",
      "Genotipo 2 = [0, 1, 0, 1, 0, 0, 0, 1, 0, 0, 0, 0, 0, 1, 1, 1, 0, 0, 1, 1, 1, 1, 0, 0] Fenotipo 2 = [27.342968, 23.988219, 33.232471, 57.914686]\n",
      "Genotipo 3 = [1, 0, 1, 1, 1, 1, 1, 1, 1, 1, 0, 0, 0, 1, 0, 0, 1, 0, 0, 1, 1, 1, 0, 0] Fenotipo 3 = [47.627457, 57.97664, 25.498737, 33.528311]\n",
      "Genotipo 4 = [0, 0, 0, 1, 0, 0, 0, 1, 0, 0, 1, 1, 1, 0, 1, 0, 0, 0, 0, 1, 1, 0, 1, 0] Fenotipo 4 = [15.137861, 26.733956, 42.552342, 31.589036]\n",
      "Genotipo 5 = [1, 1, 0, 1, 0, 1, 1, 1, 0, 1, 1, 1, 0, 1, 1, 0, 0, 0, 0, 1, 0, 1, 0, 1] Fenotipo 5 = [52.080107, 54.071829, 30.151897, 27.836972]\n",
      "Genotipo 6 = [1, 0, 0, 0, 1, 1, 1, 0, 1, 0, 1, 1, 0, 0, 0, 1, 1, 1, 1, 0, 1, 1, 0, 0] Fenotipo 6 = [38.598396, 45.099394, 17.046294, 45.171669]\n",
      "Genotipo 7 = [0, 1, 0, 1, 0, 1, 0, 0, 1, 1, 0, 1, 0, 0, 0, 1, 0, 0, 1, 0, 0, 0, 0, 0] Fenotipo 7 = [27.86808, 22.144553, 15.068573, 36.037892]\n",
      "Genotipo 8 = [0, 0, 0, 1, 1, 1, 1, 1, 0, 1, 0, 0, 0, 0, 1, 0, 0, 0, 0, 1, 0, 0, 0, 1] Fenotipo 8 = [17.369058, 51.655992, 17.750533, 25.295349]\n",
      "Genotipo 9 = [1, 1, 1, 1, 0, 0, 1, 1, 1, 0, 0, 1, 0, 1, 1, 1, 1, 0, 1, 0, 0, 1, 1, 0] Fenotipo 9 = [57.479033, 55.105534, 34.856656, 40.987235]\n"
     ]
    }
   ],
   "source": [
    "POPULATION_SIZE = 10\n",
    "GEN_SIZE_3 = 6\n",
    "eps_3 = (60 - 12) / (2**GEN_SIZE_3 - 1)\n",
    "N_POINTS_3 = 2**GEN_SIZE_3\n",
    "\n",
    "args3 = IndividualArguments(domain_3, eps_3, n_var_3, GEN_SIZE_3, f3)\n",
    "\n",
    "population_3 = [Individual.newRandom(args3) for _ in range(POPULATION_SIZE)]\n",
    "print(\"Representación binaria\")\n",
    "for i, ind in enumerate(population_3):\n",
    "    print(f\"Genotipo {i} = {ind.getGenotype(Representation.BIN)} Fenotipo {i} = {ind.phenotype}\")"
   ]
  },
  {
   "cell_type": "markdown",
   "metadata": {},
   "source": [
    "Realizar lo mismo del ítem anterior para la representación en código de Gray"
   ]
  },
  {
   "cell_type": "code",
   "execution_count": 20,
   "metadata": {},
   "outputs": [
    {
     "name": "stdout",
     "output_type": "stream",
     "text": [
      "Genotipo 0 = [1, 1, 0, 1, 0, 0, 1, 0, 1, 0, 0, 0, 0, 0, 0, 1, 0, 1, 0, 1, 1, 1, 1, 0] Fenotipo 0 = [41.90164, 48.939336, 16.823597, 27.424614]\n",
      "Genotipo 1 = [1, 0, 1, 1, 1, 1, 0, 1, 1, 0, 1, 1, 0, 0, 0, 1, 1, 0, 0, 1, 1, 1, 1, 1] Fenotipo 1 = [52.149393, 25.724696, 15.366023, 28.287665]\n",
      "Genotipo 2 = [0, 1, 1, 1, 1, 0, 0, 1, 1, 0, 0, 0, 0, 1, 0, 0, 1, 0, 1, 0, 0, 0, 1, 0] Fenotipo 2 = [27.342968, 23.988219, 33.232471, 57.914686]\n",
      "Genotipo 3 = [1, 1, 1, 0, 0, 0, 1, 0, 0, 0, 1, 0, 0, 1, 1, 0, 1, 1, 0, 1, 0, 0, 1, 0] Fenotipo 3 = [47.627457, 57.97664, 25.498737, 33.528311]\n",
      "Genotipo 4 = [0, 0, 0, 1, 1, 0, 0, 1, 1, 0, 1, 0, 1, 1, 1, 1, 0, 0, 0, 1, 0, 1, 1, 1] Fenotipo 4 = [15.137861, 26.733956, 42.552342, 31.589036]\n",
      "Genotipo 5 = [1, 0, 1, 1, 1, 1, 1, 0, 1, 1, 0, 0, 0, 1, 0, 1, 0, 0, 0, 1, 1, 1, 1, 1] Fenotipo 5 = [52.080107, 54.071829, 30.151897, 27.836972]\n",
      "Genotipo 6 = [1, 1, 0, 0, 1, 0, 1, 1, 1, 1, 1, 0, 0, 0, 0, 1, 0, 0, 1, 1, 1, 0, 1, 0] Fenotipo 6 = [38.598396, 45.099394, 17.046294, 45.171669]\n",
      "Genotipo 7 = [0, 1, 1, 1, 1, 1, 0, 0, 1, 0, 1, 1, 0, 0, 0, 1, 1, 0, 1, 1, 0, 0, 0, 0] Fenotipo 7 = [27.86808, 22.144553, 15.068573, 36.037892]\n",
      "Genotipo 8 = [0, 0, 0, 1, 0, 0, 1, 0, 1, 1, 1, 0, 0, 0, 1, 1, 0, 0, 0, 1, 1, 0, 0, 1] Fenotipo 8 = [17.369058, 51.655992, 17.750533, 25.295349]\n",
      "Genotipo 9 = [1, 0, 0, 0, 1, 0, 1, 0, 0, 1, 0, 1, 0, 1, 0, 0, 0, 1, 1, 1, 0, 1, 0, 1] Fenotipo 9 = [57.479033, 55.105534, 34.856656, 40.987235]\n"
     ]
    }
   ],
   "source": [
    "for i, ind in enumerate(population_3):\n",
    "    print(f\"Genotipo {i} = {ind.getGenotype(Representation.GRAY)} Fenotipo {i} = {ind.phenotype}\")"
   ]
  },
  {
   "cell_type": "markdown",
   "metadata": {},
   "source": [
    "Realizar lo mismo del ítem anterior para la representación real."
   ]
  },
  {
   "cell_type": "code",
   "execution_count": 21,
   "metadata": {},
   "outputs": [
    {
     "name": "stdout",
     "output_type": "stream",
     "text": [
      "Individuo 0 = [41.90164, 48.939336, 16.823597, 27.424614]\n",
      "Individuo 1 = [52.149393, 25.724696, 15.366023, 28.287665]\n",
      "Individuo 2 = [27.342968, 23.988219, 33.232471, 57.914686]\n",
      "Individuo 3 = [47.627457, 57.97664, 25.498737, 33.528311]\n",
      "Individuo 4 = [15.137861, 26.733956, 42.552342, 31.589036]\n",
      "Individuo 5 = [52.080107, 54.071829, 30.151897, 27.836972]\n",
      "Individuo 6 = [38.598396, 45.099394, 17.046294, 45.171669]\n",
      "Individuo 7 = [27.86808, 22.144553, 15.068573, 36.037892]\n",
      "Individuo 8 = [17.369058, 51.655992, 17.750533, 25.295349]\n",
      "Individuo 9 = [57.479033, 55.105534, 34.856656, 40.987235]\n"
     ]
    }
   ],
   "source": [
    "for i, ind in enumerate(population_3):\n",
    "    print(f\"Individuo {i} = {ind.getGenotype(Representation.DECIMAL)}\")"
   ]
  },
  {
   "cell_type": "markdown",
   "metadata": {},
   "source": [
    "Considerando las representaciones anteriores (cadena de bits, representación real) ¿cual seria el tamaño del espacio intrínseco"
   ]
  },
  {
   "cell_type": "code",
   "execution_count": 22,
   "metadata": {},
   "outputs": [
    {
     "name": "stdout",
     "output_type": "stream",
     "text": [
      "El espacio intrinseco tendría 64x64x64x64=16777216 elementos con una precisión de 0.7619047619047619\n"
     ]
    }
   ],
   "source": [
    "print(f\"El espacio intrinseco tendría {N_POINTS_3}x{N_POINTS_3}x{N_POINTS_3}x{N_POINTS_3}={2**(4*GEN_SIZE_3)} elementos con una precisión de {eps_3}\")"
   ]
  },
  {
   "cell_type": "markdown",
   "metadata": {},
   "source": [
    "## 2. Gestión de la población: de la teoría se sabe que los métodos de selección son independientes del método de representación del algoritmo evolutivo, implemente los siguientes métodos de selección en python:"
   ]
  },
  {
   "cell_type": "code",
   "execution_count": 23,
   "metadata": {},
   "outputs": [],
   "source": [
    "class Selection(ABC):\n",
    "    @abstractmethod\n",
    "    def __init__(self, num_individuals: int):\n",
    "        self.num_individuals = num_individuals\n",
    "\n",
    "    @abstractmethod\n",
    "    def get_individuals(self, population: list[Individual], fitness: list[float]):\n",
    "        pass\n",
    "\n",
    "    @staticmethod\n",
    "    def intensity(prev_fitness: list[float], curr_fitness: list[float]):\n",
    "        prev_fitness = np.array(prev_fitness)\n",
    "        curr_fitness = np.array(curr_fitness)\n",
    "        mean_prev = np.mean(prev_fitness)   # f\n",
    "        mean_curr = np.mean(curr_fitness)   # g\n",
    "        std_prev = np.std(prev_fitness)     # f \n",
    "        return (mean_curr - mean_prev) / std_prev if std_prev != 0.0 else 0.0\n"
   ]
  },
  {
   "cell_type": "markdown",
   "metadata": {},
   "source": [
    "De una población de 10 individuos se seleccionarán 5 individuos del problema 2"
   ]
  },
  {
   "cell_type": "code",
   "execution_count": 24,
   "metadata": {},
   "outputs": [
    {
     "name": "stdout",
     "output_type": "stream",
     "text": [
      "Individuo 0 = [0.857138, -0.359706]\n",
      "Individuo 1 = [0.178646, 0.06181]\n",
      "Individuo 2 = [-0.384864, 0.649945]\n",
      "Individuo 3 = [0.786944, 0.373043]\n",
      "Individuo 4 = [0.616604, 0.651851]\n",
      "Individuo 5 = [0.310472, -0.144576]\n",
      "Individuo 6 = [-0.371696, 0.717584]\n",
      "Individuo 7 = [-0.100419, 0.358636]\n",
      "Individuo 8 = [0.671727, -0.208157]\n",
      "Individuo 9 = [-0.580971, -0.410107]\n"
     ]
    }
   ],
   "source": [
    "POPULATION_SIZE = 10\n",
    "SELECTED_SIZE = 5\n",
    "args2 = IndividualArguments(domain_2, eps_2, n_var_2, GEN_SIZE_2, Representation.GRAY)\n",
    "initial_population = [Individual.newRandom(args2) for _ in range(POPULATION_SIZE)]\n",
    "fitness_population = [f2(ind.phenotype) for ind in initial_population]\n",
    "for i, ind in enumerate(initial_population):\n",
    "    print(f\"Individuo {i} = {ind.getGenotype(Representation.DECIMAL)}\")"
   ]
  },
  {
   "cell_type": "markdown",
   "metadata": {},
   "source": [
    "### Método de selección proporcional"
   ]
  },
  {
   "cell_type": "code",
   "execution_count": 25,
   "metadata": {},
   "outputs": [],
   "source": [
    "class ProportionalSelection(Selection):\n",
    "    def __init__(self, num_individuals: int, delta: float = 0.0):\n",
    "        super().__init__(num_individuals)\n",
    "        # fi + 10, fi + 100\n",
    "        self.delta = delta\n",
    "\n",
    "    def get_individuals(self, population: list[Individual], fitness: list[float]):\n",
    "        f_max = max(fitness)\n",
    "        # individuos con menor fitness (f_max - f) tienen mayor probabilidad de ser seleccionados  \n",
    "        # presión de selección\n",
    "        fitness = f_max - np.array(fitness) + 1e-4 + self.delta\n",
    "        distribution = fitness / fitness.sum()\n",
    "        return random.choices(population, weights=distribution, k=self.num_individuals)\n"
   ]
  },
  {
   "cell_type": "code",
   "execution_count": 26,
   "metadata": {},
   "outputs": [
    {
     "name": "stdout",
     "output_type": "stream",
     "text": [
      "Individuo 0 = [-0.371696, 0.717584]\n",
      "Individuo 1 = [-0.384864, 0.649945]\n",
      "Individuo 2 = [-0.580971, -0.410107]\n",
      "Individuo 3 = [0.178646, 0.06181]\n",
      "Individuo 4 = [-0.371696, 0.717584]\n"
     ]
    }
   ],
   "source": [
    "selected = ProportionalSelection(num_individuals=SELECTED_SIZE, delta=10).get_individuals(initial_population, fitness_population)\n",
    "for i, ind in enumerate(selected):\n",
    "    print(f\"Individuo {i} = {ind.phenotype}\")\n"
   ]
  },
  {
   "cell_type": "markdown",
   "metadata": {},
   "source": [
    "### Método de selección basada en ranking lineal"
   ]
  },
  {
   "cell_type": "code",
   "execution_count": 27,
   "metadata": {},
   "outputs": [],
   "source": [
    "class LinearRankingSelection(Selection):\n",
    "    def __init__(self, num_individuals: int, s: float):\n",
    "        super().__init__(num_individuals)\n",
    "        self.s = s\n",
    "\n",
    "    def get_individuals(self, population: list[Individual], fitness: list[float]):\n",
    "        mu = len(population)\n",
    "        pop_fit = zip(population, fitness)\n",
    "        sorted_pop_fit = sorted(pop_fit, key=lambda val: val[1], reverse=True)\n",
    "        pop_fit = list(zip(*sorted_pop_fit))\n",
    "        distribution = [(2 - self.s) / mu + 2 * i * (self.s - 1) / (mu * (mu - 1)) for i in range(mu)]\n",
    "\n",
    "        return random.choices(pop_fit[0], weights=distribution, k=self.num_individuals)\n"
   ]
  },
  {
   "cell_type": "code",
   "execution_count": 28,
   "metadata": {},
   "outputs": [
    {
     "name": "stdout",
     "output_type": "stream",
     "text": [
      "Individuo 0 = [-0.384864, 0.649945]\n",
      "Individuo 1 = [0.310472, -0.144576]\n",
      "Individuo 2 = [0.671727, -0.208157]\n",
      "Individuo 3 = [0.178646, 0.06181]\n",
      "Individuo 4 = [0.310472, -0.144576]\n"
     ]
    }
   ],
   "source": [
    "selected = LinearRankingSelection(num_individuals=SELECTED_SIZE, s=1.5).get_individuals(initial_population, fitness_population)\n",
    "for i, ind in enumerate(selected):\n",
    "    print(f\"Individuo {i} = {ind.phenotype}\")\n"
   ]
  },
  {
   "cell_type": "markdown",
   "metadata": {},
   "source": [
    "### Método de torneo"
   ]
  },
  {
   "cell_type": "code",
   "execution_count": 29,
   "metadata": {},
   "outputs": [],
   "source": [
    "class TournamentSelection(Selection):\n",
    "    def __init__(self, num_individuals: int, tournament_size: int):\n",
    "        super().__init__(num_individuals)\n",
    "        self.tournament_size = tournament_size\n",
    "\n",
    "    def get_individuals(self, population: list[Individual], fitness: list[float]):\n",
    "        pop_fit_zipped = list(zip(population, fitness))\n",
    "        selected: list[Individual] = []\n",
    "        for _ in range(self.num_individuals):\n",
    "            candidates = random.choices(pop_fit_zipped, k=self.tournament_size)\n",
    "            selected.append(min(candidates, key=lambda pop_fit: pop_fit[1])[0])\n",
    "        return selected\n"
   ]
  },
  {
   "cell_type": "code",
   "execution_count": 30,
   "metadata": {},
   "outputs": [
    {
     "name": "stdout",
     "output_type": "stream",
     "text": [
      "Individuo 0 = [0.178646, 0.06181]\n",
      "Individuo 1 = [0.178646, 0.06181]\n",
      "Individuo 2 = [0.178646, 0.06181]\n",
      "Individuo 3 = [0.310472, -0.144576]\n",
      "Individuo 4 = [0.178646, 0.06181]\n"
     ]
    }
   ],
   "source": [
    "selected = TournamentSelection(num_individuals=SELECTED_SIZE, tournament_size=5).get_individuals(initial_population, fitness_population)\n",
    "for i, ind in enumerate(selected):\n",
    "    print(f\"Individuo {i} = {ind.phenotype}\")\n"
   ]
  },
  {
   "cell_type": "markdown",
   "metadata": {},
   "source": [
    "### Método de selección uniforme"
   ]
  },
  {
   "cell_type": "code",
   "execution_count": 31,
   "metadata": {},
   "outputs": [],
   "source": [
    "class UniformSelection(Selection):\n",
    "    def __init__(self, num_individuals: int):\n",
    "        super().__init__(num_individuals)\n",
    "\n",
    "    def get_individuals(self, population: list[Individual], fitness: list[float] = None):\n",
    "        # por defecto el metodo choice implementa una distribucion uniforme\n",
    "        return random.choices(population, k=self.num_individuals) \n"
   ]
  },
  {
   "cell_type": "code",
   "execution_count": 32,
   "metadata": {},
   "outputs": [
    {
     "name": "stdout",
     "output_type": "stream",
     "text": [
      "Individuo 0 = [0.786944, 0.373043]\n",
      "Individuo 1 = [-0.100419, 0.358636]\n",
      "Individuo 2 = [-0.384864, 0.649945]\n",
      "Individuo 3 = [0.786944, 0.373043]\n",
      "Individuo 4 = [-0.580971, -0.410107]\n"
     ]
    }
   ],
   "source": [
    "selected = UniformSelection(num_individuals=SELECTED_SIZE).get_individuals(initial_population)\n",
    "for i, ind in enumerate(selected):\n",
    "    print(f\"Individuo {i} = {ind.phenotype}\")\n"
   ]
  },
  {
   "cell_type": "markdown",
   "metadata": {},
   "source": [
    "### Método de de la ruleta"
   ]
  },
  {
   "cell_type": "code",
   "execution_count": 33,
   "metadata": {},
   "outputs": [],
   "source": [
    "class RouletteSelection(Selection):\n",
    "    def __init__(self, num_individuals: int):\n",
    "        super().__init__(num_individuals)\n",
    "\n",
    "    def get_individuals(self, population: list[Individual], fitness: list[float]):\n",
    "        # individuos con menor fitness tienen mayor probabilidad de ser seleccionados\n",
    "        # presion de seleccion\n",
    "        f_max = max(fitness)\n",
    "        fitness = f_max - np.array(fitness) + 1e-4\n",
    "        distribution = np.array(fitness) / sum(fitness)\n",
    "        # el metodo de la ruleta es similar a seleccionar elementos de una lista dada una distribucion de probabilidades\n",
    "        return random.choices(population, weights=distribution, k=self.num_individuals)\n"
   ]
  },
  {
   "cell_type": "code",
   "execution_count": 34,
   "metadata": {},
   "outputs": [
    {
     "name": "stdout",
     "output_type": "stream",
     "text": [
      "Individuo 0 = [0.310472, -0.144576]\n",
      "Individuo 1 = [0.178646, 0.06181]\n",
      "Individuo 2 = [-0.384864, 0.649945]\n",
      "Individuo 3 = [0.178646, 0.06181]\n",
      "Individuo 4 = [0.178646, 0.06181]\n"
     ]
    }
   ],
   "source": [
    "selected = RouletteSelection(num_individuals=SELECTED_SIZE).get_individuals(initial_population, fitness_population)\n",
    "for i, ind in enumerate(selected):\n",
    "    print(f\"Individuo {i} = {ind.phenotype}\")\n"
   ]
  },
  {
   "cell_type": "markdown",
   "metadata": {},
   "source": [
    "### Operadores de variación"
   ]
  },
  {
   "cell_type": "code",
   "execution_count": 35,
   "metadata": {},
   "outputs": [],
   "source": [
    "class Crossover:\n",
    "    def __init__(self, probability: float):\n",
    "        self.probability = probability\n",
    "\n",
    "    def make(self, parent1: Individual, parent2: Individual):\n",
    "        # dos hijos por pareja\n",
    "        if random.random() < self.probability:\n",
    "            c1 = copy.deepcopy(parent1.getGenotype())\n",
    "            c2 = copy.deepcopy(parent2.getGenotype())\n",
    "            point = random.randint(1, len(c1) - 2)\n",
    "\n",
    "            c1[point:], c2[point:] = c2[point:], c1[point:]\n",
    "            return Individual.newLike(c1, parent1), Individual.newLike(c2, parent2)\n",
    "        return None\n",
    "\n",
    "\n",
    "class Mutation:\n",
    "    def __init__(self, probability: float):\n",
    "        self.probability = probability\n",
    "\n",
    "    def make(self, ind: Individual):\n",
    "        mut = copy.deepcopy(ind.getGenotype())\n",
    "        if random.random() < self.probability:\n",
    "            # punto aleatorio de la cadea\n",
    "            point = random.randint(0, len(mut) - 1)\n",
    "\n",
    "            if len(mut) > ind.n_var:\n",
    "                mut[point] = (mut[point] + 1) % 2\n",
    "            else:\n",
    "                mut[point] = random.uniform(ind.domain[0], ind.domain[1])\n",
    "            return Individual.newLike(mut, ind)\n",
    "        return None\n"
   ]
  },
  {
   "cell_type": "markdown",
   "metadata": {},
   "source": [
    "### Esquema general de un AE genérico "
   ]
  },
  {
   "cell_type": "code",
   "execution_count": 36,
   "metadata": {},
   "outputs": [],
   "source": [
    "def genenetic_algorithm(max_generation: int,\n",
    "                        fitness: Callable[[list[float]], float],\n",
    "                        population: list[Individual],\n",
    "                        selection: Selection,\n",
    "                        crossover: Crossover,\n",
    "                        mutation: Mutation):\n",
    "    best: list[Individual] = []\n",
    "    generation_number = 0\n",
    "    while generation_number < max_generation:\n",
    "        generation_number += 1\n",
    "        # evaluacion de la aptitud de la población inicial (n individuos)\n",
    "        population_fitness = [fitness(ind.phenotype) for ind in population]\n",
    "        # seleccion de los padres (para la reproducción)\n",
    "        parents = selection.get_individuals(population, population_fitness)\n",
    "        # operadores de variación\n",
    "        offspring: list[Individual] = []\n",
    "        # crossover\n",
    "        for p1, p2 in zip(parents[0::2], parents[1::2]):\n",
    "            if (childs := crossover.make(p1, p2)) != None:\n",
    "                offspring += childs\n",
    "        # mutation\n",
    "        for ind in parents:\n",
    "            if (mutant := mutation.make(ind)) != None:\n",
    "                offspring.append(mutant)\n",
    "        # evaluacion de la aptitud de los λ descendientes\n",
    "        offspring_fitness = [fitness(ind.phenotype) for ind in offspring]\n",
    "\n",
    "        prev_fitness = copy.deepcopy(population_fitness) \n",
    "        # λ individuos aptos + n padres\n",
    "        population += offspring\n",
    "        population_fitness += offspring_fitness\n",
    "        # seleccionamos un individuo para la grafica\n",
    "        best.append(population[random.randint(0, len(population) - 1)])\n",
    "        # selección del ambiente n\n",
    "        population = selection.get_individuals(population, population_fitness)\n",
    "        \n",
    "        curr_fitness = [fitness(ind.phenotype) for ind in population]\n",
    "        S = selection.intensity(prev_fitness, curr_fitness)      \n",
    "        \n",
    "        # impresión de la generación\n",
    "        if generation_number % int(max_generation / 10) == 0:\n",
    "            print(f\"Generación: {generation_number}, número de descendientes: {len(offspring)}, intensidad: {S}\")\n",
    "\n",
    "    plt.plot([fitness(x.phenotype) for x in best], \"r-\")\n",
    "    plt.title(f\"Generation number {generation_number} with {selection.__class__.__name__}\")\n",
    "    plt.ylabel(\"Fitness\")\n",
    "    plt.xlabel(\"Generation\")\n",
    "    plt.show()\n",
    "    return best\n"
   ]
  },
  {
   "cell_type": "markdown",
   "metadata": {},
   "source": [
    "## 3. Evaluación de la intensidad de selección: para los problemas planteados en la pregunta (1) evaluar la presión de selección considerando los siguientes casos.\n",
    "**Importante**: El número de descendientes está dado de manera probabiliística por los operadores de variación, por lo que es complicado establecer un número fijo de descendientes, sin embargo, tendrá el casi el mismo número según la cantidad de padres que se apareen, pues si son 10 padres, cada 2 parejas pueden tener 2 hijos, habrá alrededor de 8, 9 o 10 descendientes.\n"
   ]
  },
  {
   "cell_type": "markdown",
   "metadata": {},
   "source": [
    "#### a) Para el primer caso (ecuación 1) considerar la representación binaria, una población inicial 15 individuos del cual debe seleccionar 10 padres y crear 10 descendientes, una taza de cruce de 0.8, una tasa de mutación de 0.01, donde el cruce y la mutación son seleccionadas de forma aleatoria (Usando los mismos criterios del ejemplo mostrado en Colab-note) realizar lo siguiente:\n",
    "\n",
    "• Usando el método de torneo para la selección de las nuevas generaciones (constantes de 15 individuos)\n"
   ]
  },
  {
   "cell_type": "code",
   "execution_count": 37,
   "metadata": {},
   "outputs": [
    {
     "name": "stdout",
     "output_type": "stream",
     "text": [
      "Generación: 1, número de descendientes: 10, intensidad: -1.2267268242309175\n",
      "Generación: 2, número de descendientes: 6, intensidad: -1.1275462597302588\n",
      "Generación: 3, número de descendientes: 8, intensidad: 0.0\n",
      "Generación: 4, número de descendientes: 10, intensidad: 0.0\n",
      "Generación: 5, número de descendientes: 8, intensidad: 0.0\n",
      "Generación: 6, número de descendientes: 10, intensidad: 0.0\n",
      "Generación: 7, número de descendientes: 10, intensidad: 0.0\n",
      "Generación: 8, número de descendientes: 6, intensidad: 0.0\n",
      "Generación: 9, número de descendientes: 8, intensidad: 0.0\n",
      "Generación: 10, número de descendientes: 8, intensidad: 0.0\n"
     ]
    },
    {
     "data": {
      "image/png": "[encoded data removed]",
      "text/plain": [
       "<Figure size 432x288 with 1 Axes>"
      ]
     },
     "metadata": {
      "needs_background": "light"
     },
     "output_type": "display_data"
    }
   ],
   "source": [
    "# GA CANONICAL HYPERPARAMETERS\n",
    "MAX_GENERATION = 10\n",
    "POPULATION_SIZE = 15\n",
    "SELECTED_SIZE = 10\n",
    "# NOTA: El número de descendientes está dado de manera estocástica según los operadores de variación, así que es complicado establecer un número fijo de descendientes\n",
    "# sin embargo rondará los 10 individuos.\n",
    "OFFSPRING_SIZE = 10 \n",
    "CROSSOVER_PROBABILITY = 0.8\n",
    "MUTATION_PROBABILITY = 0.01\n",
    "\n",
    "args = IndividualArguments(domain_1, eps_1, n_var_1, GEN_SIZE_1, Representation.GRAY)\n",
    "initial_population = [Individual.newRandom(args) for _ in range(POPULATION_SIZE)]\n",
    "\n",
    "# PIPELINE GA TOURNAMENT SELECTION\n",
    "best = genenetic_algorithm(max_generation=MAX_GENERATION,\n",
    "                           fitness=f1,\n",
    "                           population=initial_population,\n",
    "                           selection=TournamentSelection(num_individuals=SELECTED_SIZE, tournament_size=3),\n",
    "                           crossover=Crossover(probability=CROSSOVER_PROBABILITY),\n",
    "                           mutation=Mutation(probability=MUTATION_PROBABILITY))\n"
   ]
  },
  {
   "cell_type": "markdown",
   "metadata": {},
   "source": [
    "#### Evalúe la intensidad de selección para cada uno de los métodos de selección en la pregunta (2)."
   ]
  },
  {
   "cell_type": "code",
   "execution_count": 38,
   "metadata": {},
   "outputs": [
    {
     "name": "stdout",
     "output_type": "stream",
     "text": [
      "Optimal value with Tournament Selection\n",
      " x* = [-2.9589442815249267], f(x*) = -5.0196248576606095\n"
     ]
    }
   ],
   "source": [
    "solution = min(best, key=lambda x: f1(x.phenotype))\n",
    "print(f\"Optimal value with Tournament Selection\\n x* = {solution.phenotype}, f(x*) = {f1(solution.phenotype)}\")"
   ]
  },
  {
   "cell_type": "code",
   "execution_count": 39,
   "metadata": {},
   "outputs": [
    {
     "name": "stdout",
     "output_type": "stream",
     "text": [
      "Generación: 1, número de descendientes: 8, intensidad: -0.522865974841334\n",
      "Generación: 2, número de descendientes: 11, intensidad: -0.11178028201606968\n",
      "Generación: 3, número de descendientes: 8, intensidad: -0.5295315848747928\n",
      "Generación: 4, número de descendientes: 10, intensidad: -0.43432761531039804\n",
      "Generación: 5, número de descendientes: 8, intensidad: -0.3427444398943285\n",
      "Generación: 6, número de descendientes: 8, intensidad: 0.5528785452787626\n",
      "Generación: 7, número de descendientes: 10, intensidad: 0.0\n",
      "Generación: 8, número de descendientes: 7, intensidad: -1.88663373473793\n",
      "Generación: 9, número de descendientes: 9, intensidad: 0.333333333333345\n",
      "Generación: 10, número de descendientes: 9, intensidad: 1466595434065546.5\n"
     ]
    },
    {
     "data": {
      "image/png": "[encoded data removed]",
      "text/plain": [
       "<Figure size 432x288 with 1 Axes>"
      ]
     },
     "metadata": {
      "needs_background": "light"
     },
     "output_type": "display_data"
    }
   ],
   "source": [
    "# PIPELINE GA PROPORTIONAL SELECTION\n",
    "best = genenetic_algorithm(max_generation=MAX_GENERATION,\n",
    "                           fitness=f1,\n",
    "                           population=initial_population,\n",
    "                           selection=ProportionalSelection(num_individuals=SELECTED_SIZE, delta=10),\n",
    "                           crossover=Crossover(probability=CROSSOVER_PROBABILITY),\n",
    "                           mutation=Mutation(probability=MUTATION_PROBABILITY))\n"
   ]
  },
  {
   "cell_type": "code",
   "execution_count": 40,
   "metadata": {},
   "outputs": [
    {
     "name": "stdout",
     "output_type": "stream",
     "text": [
      "Optimal value with Proportional Selection\n",
      " x* = [-2.866080156402737], f(x*) = -4.917261898830159\n"
     ]
    }
   ],
   "source": [
    "solution = min(best, key=lambda x: f1(x.phenotype))\n",
    "print(f\"Optimal value with Proportional Selection\\n x* = {solution.phenotype}, f(x*) = {f1(solution.phenotype)}\")"
   ]
  },
  {
   "cell_type": "code",
   "execution_count": 41,
   "metadata": {},
   "outputs": [
    {
     "name": "stdout",
     "output_type": "stream",
     "text": [
      "Generación: 1, número de descendientes: 10, intensidad: -0.49475143606453986\n",
      "Generación: 2, número de descendientes: 8, intensidad: -0.9387029493675791\n",
      "Generación: 3, número de descendientes: 10, intensidad: -1.0316134861147301\n",
      "Generación: 4, número de descendientes: 8, intensidad: -0.33601684801430926\n",
      "Generación: 5, número de descendientes: 10, intensidad: 0.0\n",
      "Generación: 6, número de descendientes: 8, intensidad: 0.0\n",
      "Generación: 7, número de descendientes: 10, intensidad: 0.0\n",
      "Generación: 8, número de descendientes: 6, intensidad: 0.0\n",
      "Generación: 9, número de descendientes: 10, intensidad: 0.0\n",
      "Generación: 10, número de descendientes: 8, intensidad: 0.0\n"
     ]
    },
    {
     "data": {
      "image/png": "[encoded data removed]",
      "text/plain": [
       "<Figure size 432x288 with 1 Axes>"
      ]
     },
     "metadata": {
      "needs_background": "light"
     },
     "output_type": "display_data"
    }
   ],
   "source": [
    "# PIPELINE GA LINEAR RANKING SELECTION\n",
    "best = genenetic_algorithm(max_generation=MAX_GENERATION,\n",
    "                           fitness=f1,\n",
    "                           population=initial_population,\n",
    "                           selection=LinearRankingSelection(num_individuals=SELECTED_SIZE, s=2),\n",
    "                           crossover=Crossover(probability=CROSSOVER_PROBABILITY),\n",
    "                           mutation=Mutation(probability=MUTATION_PROBABILITY))\n"
   ]
  },
  {
   "cell_type": "code",
   "execution_count": 42,
   "metadata": {},
   "outputs": [
    {
     "name": "stdout",
     "output_type": "stream",
     "text": [
      "Optimal value with Linear Ranking Selection\n",
      " x* = [-2.9589442815249267], f(x*) = -5.0196248576606095\n"
     ]
    }
   ],
   "source": [
    "solution = min(best, key=lambda x: f1(x.phenotype))\n",
    "print(f\"Optimal value with Linear Ranking Selection\\n x* = {solution.phenotype}, f(x*) = {f1(solution.phenotype)}\")"
   ]
  },
  {
   "cell_type": "code",
   "execution_count": 43,
   "metadata": {},
   "outputs": [
    {
     "name": "stdout",
     "output_type": "stream",
     "text": [
      "Generación: 1, número de descendientes: 6, intensidad: -0.16578046193387533\n",
      "Generación: 2, número de descendientes: 10, intensidad: 0.597371365766196\n",
      "Generación: 3, número de descendientes: 10, intensidad: -0.5186498456692287\n",
      "Generación: 4, número de descendientes: 10, intensidad: -0.014501805145633605\n",
      "Generación: 5, número de descendientes: 7, intensidad: -0.2085378867462274\n",
      "Generación: 6, número de descendientes: 10, intensidad: 0.39005592771531383\n",
      "Generación: 7, número de descendientes: 7, intensidad: 0.2664564679707188\n",
      "Generación: 8, número de descendientes: 10, intensidad: 0.23855459010342558\n",
      "Generación: 9, número de descendientes: 6, intensidad: -0.022838939226462036\n",
      "Generación: 10, número de descendientes: 10, intensidad: -0.3654262312637006\n"
     ]
    },
    {
     "data": {
      "image/png": "[encoded data removed]",
      "text/plain": [
       "<Figure size 432x288 with 1 Axes>"
      ]
     },
     "metadata": {
      "needs_background": "light"
     },
     "output_type": "display_data"
    }
   ],
   "source": [
    "# PIPELINE GA UNIFORM SELECTION\n",
    "best = genenetic_algorithm(max_generation=MAX_GENERATION,\n",
    "                           fitness=f1,\n",
    "                           population=initial_population,\n",
    "                           selection=UniformSelection(num_individuals=SELECTED_SIZE),\n",
    "                           crossover=Crossover(probability=CROSSOVER_PROBABILITY),\n",
    "                           mutation=Mutation(probability=MUTATION_PROBABILITY))\n"
   ]
  },
  {
   "cell_type": "code",
   "execution_count": 44,
   "metadata": {},
   "outputs": [
    {
     "name": "stdout",
     "output_type": "stream",
     "text": [
      "Optimal value with Uniform Selection\n",
      " x* = [-3.188660801564027], f(x*) = -4.300359776707989\n"
     ]
    }
   ],
   "source": [
    "solution = min(best, key=lambda x: f1(x.phenotype))\n",
    "print(f\"Optimal value with Uniform Selection\\n x* = {solution.phenotype}, f(x*) = {f1(solution.phenotype)}\")"
   ]
  },
  {
   "cell_type": "code",
   "execution_count": 45,
   "metadata": {},
   "outputs": [
    {
     "name": "stdout",
     "output_type": "stream",
     "text": [
      "Generación: 1, número de descendientes: 8, intensidad: -0.42578795309733075\n",
      "Generación: 2, número de descendientes: 10, intensidad: -0.3680943247031271\n",
      "Generación: 3, número de descendientes: 11, intensidad: -0.7723687193139862\n",
      "Generación: 4, número de descendientes: 8, intensidad: -0.33763555889950697\n",
      "Generación: 5, número de descendientes: 6, intensidad: -0.816496580927726\n",
      "Generación: 6, número de descendientes: 10, intensidad: 0.0\n",
      "Generación: 7, número de descendientes: 8, intensidad: 0.0\n",
      "Generación: 8, número de descendientes: 10, intensidad: 0.0\n",
      "Generación: 9, número de descendientes: 10, intensidad: 0.0\n",
      "Generación: 10, número de descendientes: 6, intensidad: 0.0\n"
     ]
    },
    {
     "data": {
      "image/png": "[encoded data removed]",
      "text/plain": [
       "<Figure size 432x288 with 1 Axes>"
      ]
     },
     "metadata": {
      "needs_background": "light"
     },
     "output_type": "display_data"
    }
   ],
   "source": [
    "# PIPELINE GA ROULETTE SELECTION\n",
    "best = genenetic_algorithm(max_generation=MAX_GENERATION,\n",
    "                           fitness=f1,\n",
    "                           population=initial_population,\n",
    "                           selection=RouletteSelection(num_individuals=SELECTED_SIZE),\n",
    "                           crossover=Crossover(probability=CROSSOVER_PROBABILITY),\n",
    "                           mutation=Mutation(probability=MUTATION_PROBABILITY))\n"
   ]
  },
  {
   "cell_type": "code",
   "execution_count": 46,
   "metadata": {},
   "outputs": [
    {
     "name": "stdout",
     "output_type": "stream",
     "text": [
      "Optimal value with Roulette Selection\n",
      " x* = [-2.9589442815249267], f(x*) = -5.0196248576606095\n"
     ]
    }
   ],
   "source": [
    "solution = min(best, key=lambda x: f1(x.phenotype))\n",
    "print(f\"Optimal value with Roulette Selection\\n x* = {solution.phenotype}, f(x*) = {f1(solution.phenotype)}\")"
   ]
  },
  {
   "cell_type": "markdown",
   "metadata": {},
   "source": [
    "#### b) Para el segundo caso (ecuación 2) considerar la representación Gray, una población inicial 20 individuos del cual debe seleccionar 15 padres y crear 15 descendientes, una taza de cruce de 0.8, una tasa de mutación de 0.01, donde el cruce y la mutación son seleccionadas de forma aleatoria (Usando los mismos criterios del ejemplo mostrado en Colab-note) realizar lo siguiente:\n",
    "\n",
    "• Usando el método de torneo para la selección de las nuevas generaciones (constantes de 20 individuos)"
   ]
  },
  {
   "cell_type": "code",
   "execution_count": 47,
   "metadata": {},
   "outputs": [
    {
     "name": "stdout",
     "output_type": "stream",
     "text": [
      "Generación: 1, número de descendientes: 12, intensidad: -1.3552915380719688\n",
      "Generación: 2, número de descendientes: 14, intensidad: -1.1075005549777217\n",
      "Generación: 3, número de descendientes: 15, intensidad: -1.0611067254904418\n",
      "Generación: 4, número de descendientes: 14, intensidad: 0.0\n",
      "Generación: 5, número de descendientes: 12, intensidad: 0.0\n",
      "Generación: 6, número de descendientes: 8, intensidad: 0.0\n",
      "Generación: 7, número de descendientes: 12, intensidad: 0.0\n",
      "Generación: 8, número de descendientes: 10, intensidad: 0.0\n",
      "Generación: 9, número de descendientes: 8, intensidad: 0.0\n",
      "Generación: 10, número de descendientes: 10, intensidad: 0.0\n"
     ]
    },
    {
     "data": {
      "image/png": "[encoded data removed]",
      "text/plain": [
       "<Figure size 432x288 with 1 Axes>"
      ]
     },
     "metadata": {
      "needs_background": "light"
     },
     "output_type": "display_data"
    }
   ],
   "source": [
    "# GA CANONICAL HYPERPARAMETERS\n",
    "MAX_GENERATION = 10\n",
    "POPULATION_SIZE = 20\n",
    "SELECTED_SIZE = 15\n",
    "OFFSPRING_SIZE = 15\n",
    "CROSSOVER_PROBABILITY = 0.8\n",
    "MUTATION_PROBABILITY = 0.01\n",
    "\n",
    "args2 = IndividualArguments(domain_2, eps_2, n_var_2, GEN_SIZE_2, Representation.GRAY)\n",
    "initial_population = [Individual.newRandom(args2) for _ in range(POPULATION_SIZE)]\n",
    "\n",
    "# PIPELINE GA\n",
    "best = genenetic_algorithm(max_generation=MAX_GENERATION,\n",
    "                           fitness=f2,\n",
    "                           population=initial_population,\n",
    "                           selection=TournamentSelection(num_individuals=SELECTED_SIZE, tournament_size=5),\n",
    "                           crossover=Crossover(probability=CROSSOVER_PROBABILITY),\n",
    "                           mutation=Mutation(probability=MUTATION_PROBABILITY))\n",
    "\n"
   ]
  },
  {
   "cell_type": "code",
   "execution_count": 48,
   "metadata": {},
   "outputs": [
    {
     "name": "stdout",
     "output_type": "stream",
     "text": [
      "Optimal value\n",
      " x* = [0.29032258064516125, 0.032258064516129004], f(x*) = 0.15930427014174514\n"
     ]
    }
   ],
   "source": [
    "solution = min(best, key=lambda x: f2(x.phenotype))\n",
    "print(f\"Optimal value\\n x* = {solution.phenotype}, f(x*) = {f2(solution.phenotype)}\")"
   ]
  },
  {
   "cell_type": "markdown",
   "metadata": {},
   "source": [
    "#### Evalúe la intensidad de selección para cada uno de los métodos de selección en la pregunta (2).\n"
   ]
  },
  {
   "cell_type": "code",
   "execution_count": 49,
   "metadata": {},
   "outputs": [
    {
     "name": "stdout",
     "output_type": "stream",
     "text": [
      "Generación: 1, número de descendientes: 12, intensidad: 0.07796255143036658\n",
      "Generación: 2, número de descendientes: 10, intensidad: 0.10701022220679403\n",
      "Generación: 3, número de descendientes: 10, intensidad: 0.4496367104156026\n",
      "Generación: 4, número de descendientes: 14, intensidad: 0.22344375048432055\n",
      "Generación: 5, número de descendientes: 11, intensidad: 0.16043134824140123\n",
      "Generación: 6, número de descendientes: 10, intensidad: -0.5178523046165584\n",
      "Generación: 7, número de descendientes: 12, intensidad: -0.38486313915104103\n",
      "Generación: 8, número de descendientes: 8, intensidad: -0.19106490581111793\n",
      "Generación: 9, número de descendientes: 10, intensidad: -0.12969675850061602\n",
      "Generación: 10, número de descendientes: 14, intensidad: 0.023318497421189105\n"
     ]
    },
    {
     "data": {
      "image/png": "[encoded data removed]",
      "text/plain": [
       "<Figure size 432x288 with 1 Axes>"
      ]
     },
     "metadata": {
      "needs_background": "light"
     },
     "output_type": "display_data"
    }
   ],
   "source": [
    "# PIPELINE GA PROPORTIONAL SELECTION\n",
    "best = genenetic_algorithm(max_generation=MAX_GENERATION,\n",
    "                           fitness=f2,\n",
    "                           population=initial_population,\n",
    "                           selection=ProportionalSelection(num_individuals=SELECTED_SIZE, delta=10),\n",
    "                           crossover=Crossover(probability=CROSSOVER_PROBABILITY),\n",
    "                           mutation=Mutation(probability=MUTATION_PROBABILITY))\n"
   ]
  },
  {
   "cell_type": "code",
   "execution_count": 50,
   "metadata": {},
   "outputs": [
    {
     "name": "stdout",
     "output_type": "stream",
     "text": [
      "Optimal value with Proportional Selection\n",
      " x* = [0.35483870967741926, 0.4193548387096775], f(x*) = 0.310001558755627\n"
     ]
    }
   ],
   "source": [
    "solution = min(best, key=lambda x: f2(x.phenotype))\n",
    "print(f\"Optimal value with Proportional Selection\\n x* = {solution.phenotype}, f(x*) = {f2(solution.phenotype)}\")"
   ]
  },
  {
   "cell_type": "code",
   "execution_count": 51,
   "metadata": {},
   "outputs": [
    {
     "name": "stdout",
     "output_type": "stream",
     "text": [
      "Generación: 1, número de descendientes: 8, intensidad: -0.6076559054007099\n",
      "Generación: 2, número de descendientes: 10, intensidad: -0.7634629545988288\n",
      "Generación: 3, número de descendientes: 12, intensidad: -0.7100609358046167\n",
      "Generación: 4, número de descendientes: 12, intensidad: -0.565102744839984\n",
      "Generación: 5, número de descendientes: 14, intensidad: -0.7758133345466373\n",
      "Generación: 6, número de descendientes: 12, intensidad: -0.2672612419124242\n",
      "Generación: 7, número de descendientes: 10, intensidad: 0.0\n",
      "Generación: 8, número de descendientes: 14, intensidad: 0.0\n",
      "Generación: 9, número de descendientes: 9, intensidad: 0.0\n",
      "Generación: 10, número de descendientes: 10, intensidad: 0.0\n"
     ]
    },
    {
     "data": {
      "image/png": "[encoded data removed]",
      "text/plain": [
       "<Figure size 432x288 with 1 Axes>"
      ]
     },
     "metadata": {
      "needs_background": "light"
     },
     "output_type": "display_data"
    }
   ],
   "source": [
    "# PIPELINE GA LINEAR RANKING SELECTION\n",
    "best = genenetic_algorithm(max_generation=MAX_GENERATION,\n",
    "                           fitness=f2,\n",
    "                           population=initial_population,\n",
    "                           selection=LinearRankingSelection(num_individuals=SELECTED_SIZE, s=2),\n",
    "                           crossover=Crossover(probability=CROSSOVER_PROBABILITY),\n",
    "                           mutation=Mutation(probability=MUTATION_PROBABILITY))\n"
   ]
  },
  {
   "cell_type": "code",
   "execution_count": 52,
   "metadata": {},
   "outputs": [
    {
     "name": "stdout",
     "output_type": "stream",
     "text": [
      "Optimal value with Linear Ranking Selection\n",
      " x* = [-0.29032258064516125, 0.032258064516129004], f(x*) = 0.15930427014174514\n"
     ]
    }
   ],
   "source": [
    "solution = min(best, key=lambda x: f2(x.phenotype))\n",
    "print(f\"Optimal value with Linear Ranking Selection\\n x* = {solution.phenotype}, f(x*) = {f2(solution.phenotype)}\")"
   ]
  },
  {
   "cell_type": "code",
   "execution_count": 53,
   "metadata": {},
   "outputs": [
    {
     "name": "stdout",
     "output_type": "stream",
     "text": [
      "Generación: 1, número de descendientes: 10, intensidad: 0.027535459169862053\n",
      "Generación: 2, número de descendientes: 12, intensidad: 0.08269783230640865\n",
      "Generación: 3, número de descendientes: 12, intensidad: -0.4880645586807972\n",
      "Generación: 4, número de descendientes: 12, intensidad: 0.31283425688532673\n",
      "Generación: 5, número de descendientes: 10, intensidad: -0.16497251646776853\n",
      "Generación: 6, número de descendientes: 10, intensidad: -0.3663369395406257\n",
      "Generación: 7, número de descendientes: 8, intensidad: 0.33146804042814687\n",
      "Generación: 8, número de descendientes: 11, intensidad: -0.036985469081771055\n",
      "Generación: 9, número de descendientes: 8, intensidad: -0.031801068225868596\n",
      "Generación: 10, número de descendientes: 10, intensidad: 0.0667135150972686\n"
     ]
    },
    {
     "data": {
      "image/png": "[encoded data removed]",
      "text/plain": [
       "<Figure size 432x288 with 1 Axes>"
      ]
     },
     "metadata": {
      "needs_background": "light"
     },
     "output_type": "display_data"
    }
   ],
   "source": [
    "# PIPELINE GA UNIFORM SELECTION\n",
    "best = genenetic_algorithm(max_generation=MAX_GENERATION,\n",
    "                           fitness=f1,\n",
    "                           population=initial_population,\n",
    "                           selection=UniformSelection(num_individuals=SELECTED_SIZE),\n",
    "                           crossover=Crossover(probability=CROSSOVER_PROBABILITY),\n",
    "                           mutation=Mutation(probability=MUTATION_PROBABILITY))\n"
   ]
  },
  {
   "cell_type": "code",
   "execution_count": 54,
   "metadata": {},
   "outputs": [
    {
     "name": "stdout",
     "output_type": "stream",
     "text": [
      "Optimal value with Uniform Selection\n",
      " x* = [0.35483870967741926, 0.09677419354838701], f(x*) = 0.14657226137383284\n"
     ]
    }
   ],
   "source": [
    "solution = min(best, key=lambda x: f2(x.phenotype))\n",
    "print(f\"Optimal value with Uniform Selection\\n x* = {solution.phenotype}, f(x*) = {f2(solution.phenotype)}\")\n"
   ]
  },
  {
   "cell_type": "code",
   "execution_count": 55,
   "metadata": {},
   "outputs": [
    {
     "name": "stdout",
     "output_type": "stream",
     "text": [
      "Generación: 1, número de descendientes: 13, intensidad: -0.5337109223801707\n",
      "Generación: 2, número de descendientes: 10, intensidad: -0.7936822968472798\n",
      "Generación: 3, número de descendientes: 14, intensidad: -0.7605472512171513\n",
      "Generación: 4, número de descendientes: 4, intensidad: -0.48123537073556416\n",
      "Generación: 5, número de descendientes: 12, intensidad: -0.6030226891555274\n",
      "Generación: 6, número de descendientes: 14, intensidad: 0.0\n",
      "Generación: 7, número de descendientes: 10, intensidad: 0.0\n",
      "Generación: 8, número de descendientes: 15, intensidad: 0.0\n",
      "Generación: 9, número de descendientes: 10, intensidad: 0.0\n",
      "Generación: 10, número de descendientes: 8, intensidad: 0.0\n"
     ]
    },
    {
     "data": {
      "image/png": "[encoded data removed]",
      "text/plain": [
       "<Figure size 432x288 with 1 Axes>"
      ]
     },
     "metadata": {
      "needs_background": "light"
     },
     "output_type": "display_data"
    }
   ],
   "source": [
    "# PIPELINE GA ROULETTE SELECTION\n",
    "best = genenetic_algorithm(max_generation=MAX_GENERATION,\n",
    "                           fitness=f2,\n",
    "                           population=initial_population,\n",
    "                           selection=RouletteSelection(num_individuals=SELECTED_SIZE),\n",
    "                           crossover=Crossover(probability=CROSSOVER_PROBABILITY),\n",
    "                           mutation=Mutation(probability=MUTATION_PROBABILITY))\n"
   ]
  },
  {
   "cell_type": "code",
   "execution_count": 56,
   "metadata": {},
   "outputs": [
    {
     "name": "stdout",
     "output_type": "stream",
     "text": [
      "Optimal value with Roulette Selection\n",
      " x* = [0.29032258064516125, 0.032258064516129004], f(x*) = 0.15930427014174514\n"
     ]
    }
   ],
   "source": [
    "solution = min(best, key=lambda x: f2(x.phenotype))\n",
    "print(f\"Optimal value with Roulette Selection\\n x* = {solution.phenotype}, f(x*) = {f2(solution.phenotype)}\")\n"
   ]
  },
  {
   "cell_type": "markdown",
   "metadata": {},
   "source": [
    "#### c) Para el tercer caso (ecuación 3) considerar la representación real, una población inicial 20 individuos del cual debe seleccionar 15 padres y crear 15 descendientes, una taza de cruce de 0.8, una tasa de mutación de 0.01, donde el cruce y la mutación son seleccionadas de forma aleatoria (Usando los mismos criterios del ejemplo mostrado en Colab-note) realizar lo siguiente:\n",
    "\n",
    "• Usando el método de torneo para la selección de las nuevas generaciones (constantes de 20 individuos)"
   ]
  },
  {
   "cell_type": "code",
   "execution_count": 57,
   "metadata": {},
   "outputs": [
    {
     "name": "stdout",
     "output_type": "stream",
     "text": [
      "Generación: 1, número de descendientes: 10, intensidad: -0.6393365959883308\n",
      "Generación: 2, número de descendientes: 12, intensidad: -0.6279310533586019\n",
      "Generación: 3, número de descendientes: 12, intensidad: -0.6629476237336092\n",
      "Generación: 4, número de descendientes: 13, intensidad: 0.0\n",
      "Generación: 5, número de descendientes: 12, intensidad: 0.0\n",
      "Generación: 6, número de descendientes: 12, intensidad: 0.0\n",
      "Generación: 7, número de descendientes: 12, intensidad: 0.0\n",
      "Generación: 8, número de descendientes: 10, intensidad: 0.0\n",
      "Generación: 9, número de descendientes: 14, intensidad: 0.0\n",
      "Generación: 10, número de descendientes: 12, intensidad: 0.0\n"
     ]
    },
    {
     "data": {
      "image/png": "[encoded data removed]",
      "text/plain": [
       "<Figure size 432x288 with 1 Axes>"
      ]
     },
     "metadata": {
      "needs_background": "light"
     },
     "output_type": "display_data"
    }
   ],
   "source": [
    "# GA CANONICAL HYPERPARAMETERS\n",
    "MAX_GENERATION = 10\n",
    "POPULATION_SIZE = 20\n",
    "SELECTED_SIZE = 15\n",
    "OFFSPRING_SIZE = 15\n",
    "CROSSOVER_PROBABILITY = 0.8\n",
    "MUTATION_PROBABILITY = 0.01\n",
    "\n",
    "args3 = IndividualArguments(domain_3, eps_3, n_var_3, GEN_SIZE_3, Representation.DECIMAL)\n",
    "initial_population = [Individual.newRandom(args3) for _ in range(POPULATION_SIZE)]\n",
    "\n",
    "# PIPELINE GA\n",
    "best = genenetic_algorithm(max_generation=MAX_GENERATION,\n",
    "                           fitness=f3,\n",
    "                           population=initial_population,\n",
    "                           selection=TournamentSelection(num_individuals=SELECTED_SIZE, tournament_size=5),\n",
    "                           crossover=Crossover(probability=CROSSOVER_PROBABILITY),\n",
    "                           mutation=Mutation(probability=MUTATION_PROBABILITY))\n"
   ]
  },
  {
   "cell_type": "code",
   "execution_count": 58,
   "metadata": {},
   "outputs": [
    {
     "name": "stdout",
     "output_type": "stream",
     "text": [
      "Optimal value\n",
      " x* = [13.900859, 22.0885, 43.312923, 55.214106], f(x*) = 0.00025238491374062226\n"
     ]
    }
   ],
   "source": [
    "solution = min(best, key=lambda x: f3(x.phenotype))\n",
    "print(f\"Optimal value\\n x* = {solution.phenotype}, f(x*) = {f3(solution.phenotype)}\")"
   ]
  },
  {
   "cell_type": "markdown",
   "metadata": {},
   "source": [
    "#### Evalúe la intensidad de selección para cada uno de los métodos de selección en la pregunta (2).\n"
   ]
  },
  {
   "cell_type": "code",
   "execution_count": 59,
   "metadata": {},
   "outputs": [
    {
     "name": "stdout",
     "output_type": "stream",
     "text": [
      "Generación: 1, número de descendientes: 14, intensidad: -0.19777782029976654\n",
      "Generación: 2, número de descendientes: 12, intensidad: -0.2676221610508679\n",
      "Generación: 3, número de descendientes: 13, intensidad: 1.022641052819197\n",
      "Generación: 4, número de descendientes: 12, intensidad: -0.3506509275319442\n",
      "Generación: 5, número de descendientes: 12, intensidad: -0.4829642455425128\n",
      "Generación: 6, número de descendientes: 14, intensidad: -0.20953260742803856\n",
      "Generación: 7, número de descendientes: 12, intensidad: 0.1390202914354438\n",
      "Generación: 8, número de descendientes: 12, intensidad: 0.45902634453317886\n",
      "Generación: 9, número de descendientes: 12, intensidad: 0.42563411459226486\n",
      "Generación: 10, número de descendientes: 14, intensidad: -0.19840899288448224\n"
     ]
    },
    {
     "data": {
      "image/png": "[encoded data removed]",
      "text/plain": [
       "<Figure size 432x288 with 1 Axes>"
      ]
     },
     "metadata": {
      "needs_background": "light"
     },
     "output_type": "display_data"
    }
   ],
   "source": [
    "# PIPELINE GA PROPORTIONAL SELECTION\n",
    "best = genenetic_algorithm(max_generation=MAX_GENERATION,\n",
    "                           fitness=f3,\n",
    "                           population=initial_population,\n",
    "                           selection=ProportionalSelection(num_individuals=SELECTED_SIZE, delta=10),\n",
    "                           crossover=Crossover(probability=CROSSOVER_PROBABILITY),\n",
    "                           mutation=Mutation(probability=MUTATION_PROBABILITY))\n"
   ]
  },
  {
   "cell_type": "code",
   "execution_count": 60,
   "metadata": {},
   "outputs": [
    {
     "name": "stdout",
     "output_type": "stream",
     "text": [
      "Optimal value with Proportional Selection\n",
      " x* = [21.630205, 20.830334, 43.312923, 55.214106], f(x*) = 0.0019469567968476865\n"
     ]
    }
   ],
   "source": [
    "solution = min(best, key=lambda x: f3(x.phenotype))\n",
    "print(f\"Optimal value with Proportional Selection\\n x* = {solution.phenotype}, f(x*) = {f3(solution.phenotype)}\")"
   ]
  },
  {
   "cell_type": "code",
   "execution_count": 61,
   "metadata": {},
   "outputs": [
    {
     "name": "stdout",
     "output_type": "stream",
     "text": [
      "Generación: 1, número de descendientes: 12, intensidad: -0.3070843914404433\n",
      "Generación: 2, número de descendientes: 15, intensidad: -0.47457359970849383\n",
      "Generación: 3, número de descendientes: 8, intensidad: -0.4085628803337299\n",
      "Generación: 4, número de descendientes: 12, intensidad: -0.5231042276798622\n",
      "Generación: 5, número de descendientes: 8, intensidad: -0.8217501168453327\n",
      "Generación: 6, número de descendientes: 8, intensidad: -0.5982128450646755\n",
      "Generación: 7, número de descendientes: 14, intensidad: -0.3922322702763676\n",
      "Generación: 8, número de descendientes: 12, intensidad: -0.7537783614444088\n",
      "Generación: 9, número de descendientes: 11, intensidad: -0.544331053951817\n",
      "Generación: 10, número de descendientes: 10, intensidad: -0.3922322702763681\n"
     ]
    },
    {
     "data": {
      "image/png": "[encoded data removed]",
      "text/plain": [
       "<Figure size 432x288 with 1 Axes>"
      ]
     },
     "metadata": {
      "needs_background": "light"
     },
     "output_type": "display_data"
    }
   ],
   "source": [
    "# PIPELINE GA LINEAR RANKING SELECTION\n",
    "best = genenetic_algorithm(max_generation=MAX_GENERATION,\n",
    "                           fitness=f3,\n",
    "                           population=initial_population,\n",
    "                           selection=LinearRankingSelection(num_individuals=SELECTED_SIZE, s=2),\n",
    "                           crossover=Crossover(probability=CROSSOVER_PROBABILITY),\n",
    "                           mutation=Mutation(probability=MUTATION_PROBABILITY))\n"
   ]
  },
  {
   "cell_type": "code",
   "execution_count": 62,
   "metadata": {},
   "outputs": [
    {
     "name": "stdout",
     "output_type": "stream",
     "text": [
      "Optimal value with Linear Ranking Selection\n",
      " x* = [13.900859, 20.786648, 57.824426, 36.576454], f(x*) = 5.867060879690829e-05\n"
     ]
    }
   ],
   "source": [
    "solution = min(best, key=lambda x: f3(x.phenotype))\n",
    "print(f\"Optimal value with Linear Ranking Selection\\n x* = {solution.phenotype}, f(x*) = {f3(solution.phenotype)}\")"
   ]
  },
  {
   "cell_type": "code",
   "execution_count": 63,
   "metadata": {},
   "outputs": [
    {
     "name": "stdout",
     "output_type": "stream",
     "text": [
      "Generación: 1, número de descendientes: 11, intensidad: -0.2410310261758229\n",
      "Generación: 2, número de descendientes: 14, intensidad: 0.002475723665167356\n",
      "Generación: 3, número de descendientes: 12, intensidad: -0.2836393444007385\n",
      "Generación: 4, número de descendientes: 10, intensidad: -0.11659362590643951\n",
      "Generación: 5, número de descendientes: 10, intensidad: 3.577743939341757\n",
      "Generación: 6, número de descendientes: 14, intensidad: 0.611383286681751\n",
      "Generación: 7, número de descendientes: 14, intensidad: -0.09486692325425305\n",
      "Generación: 8, número de descendientes: 10, intensidad: 0.5967620020575783\n",
      "Generación: 9, número de descendientes: 8, intensidad: -0.3713034829224692\n",
      "Generación: 10, número de descendientes: 12, intensidad: -0.17493498855242592\n"
     ]
    },
    {
     "data": {
      "image/png": "[encoded data removed]",
      "text/plain": [
       "<Figure size 432x288 with 1 Axes>"
      ]
     },
     "metadata": {
      "needs_background": "light"
     },
     "output_type": "display_data"
    }
   ],
   "source": [
    "# PIPELINE GA UNIFORM SELECTION\n",
    "best = genenetic_algorithm(max_generation=MAX_GENERATION,\n",
    "                           fitness=f3,\n",
    "                           population=initial_population,\n",
    "                           selection=UniformSelection(num_individuals=SELECTED_SIZE),\n",
    "                           crossover=Crossover(probability=CROSSOVER_PROBABILITY),\n",
    "                           mutation=Mutation(probability=MUTATION_PROBABILITY))\n"
   ]
  },
  {
   "cell_type": "code",
   "execution_count": 64,
   "metadata": {},
   "outputs": [
    {
     "name": "stdout",
     "output_type": "stream",
     "text": [
      "Optimal value with Uniform Selection\n",
      " x* = [13.554475, 20.786648, 43.312923, 55.214106], f(x*) = 0.0007003743119184571\n"
     ]
    }
   ],
   "source": [
    "solution = min(best, key=lambda x: f3(x.phenotype))\n",
    "print(f\"Optimal value with Uniform Selection\\n x* = {solution.phenotype}, f(x*) = {f3(solution.phenotype)}\")\n"
   ]
  },
  {
   "cell_type": "code",
   "execution_count": 65,
   "metadata": {},
   "outputs": [
    {
     "name": "stdout",
     "output_type": "stream",
     "text": [
      "Generación: 1, número de descendientes: 12, intensidad: -0.09068971605858679\n",
      "Generación: 2, número de descendientes: 6, intensidad: -0.40119810539697587\n",
      "Generación: 3, número de descendientes: 12, intensidad: -0.28157508711046036\n",
      "Generación: 4, número de descendientes: 10, intensidad: -0.3658017725965782\n",
      "Generación: 5, número de descendientes: 14, intensidad: -0.5950760309535136\n",
      "Generación: 6, número de descendientes: 10, intensidad: -0.5064363344340472\n",
      "Generación: 7, número de descendientes: 12, intensidad: -1.1788012017472733\n",
      "Generación: 8, número de descendientes: 12, intensidad: -0.4821449736967073\n",
      "Generación: 9, número de descendientes: 14, intensidad: -0.9319297129556314\n",
      "Generación: 10, número de descendientes: 12, intensidad: 0.0\n"
     ]
    },
    {
     "data": {
      "image/png": "[encoded data removed]",
      "text/plain": [
       "<Figure size 432x288 with 1 Axes>"
      ]
     },
     "metadata": {
      "needs_background": "light"
     },
     "output_type": "display_data"
    }
   ],
   "source": [
    "# PIPELINE GA ROULETTE SELECTION\n",
    "best = genenetic_algorithm(max_generation=MAX_GENERATION,\n",
    "                           fitness=f3,\n",
    "                           population=initial_population,\n",
    "                           selection=RouletteSelection(num_individuals=SELECTED_SIZE),\n",
    "                           crossover=Crossover(probability=CROSSOVER_PROBABILITY),\n",
    "                           mutation=Mutation(probability=MUTATION_PROBABILITY))\n"
   ]
  },
  {
   "cell_type": "code",
   "execution_count": 66,
   "metadata": {},
   "outputs": [
    {
     "name": "stdout",
     "output_type": "stream",
     "text": [
      "Optimal value with Roulette Selection\n",
      " x* = [21.781961, 20.830334, 38.819399, 58.185849], f(x*) = 0.0032031299825059315\n"
     ]
    }
   ],
   "source": [
    "solution = min(best, key=lambda x: f3(x.phenotype))\n",
    "print(f\"Optimal value with Roulette Selection\\n x* = {solution.phenotype}, f(x*) = {f3(solution.phenotype)}\")\n"
   ]
  }
 ],
 "metadata": {
  "interpreter": {
   "hash": "590f4a299ae404e723bbc5f32e9a7b98b836c3c65ce9112bc934ac92a06ceee3"
  },
  "kernelspec": {
   "display_name": "Python 3.10.4 64-bit",
   "language": "python",
   "name": "python3"
  },
  "language_info": {
   "codemirror_mode": {
    "name": "ipython",
    "version": 3
   },
   "file_extension": ".py",
   "mimetype": "text/x-python",
   "name": "python",
   "nbconvert_exporter": "python",
   "pygments_lexer": "ipython3",
   "version": "3.10.4"
  },
  "orig_nbformat": 4
 },
 "nbformat": 4,
 "nbformat_minor": 2
}

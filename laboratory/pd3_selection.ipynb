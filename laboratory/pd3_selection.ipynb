{
 "cells": [
  {
   "cell_type": "markdown",
   "metadata": {},
   "source": [
    "# Curso: CC521 A Programación Evolutiva 2022-1\n",
    "Alumno: Jordi Joel Bardales Rojas"
   ]
  },
  {
   "cell_type": "markdown",
   "metadata": {},
   "source": [
    "# Práctica dirigida: Representación y Selección \n"
   ]
  },
  {
   "cell_type": "code",
   "execution_count": 78,
   "metadata": {},
   "outputs": [],
   "source": [
    "from __future__ import annotations\n",
    "import math\n",
    "import numpy as np\n",
    "from enum import Enum\n",
    "from bin_repr import dec2bin, bin2gray, my_map, inverse_map, bin2dec, gray2bin\n",
    "import copy\n",
    "import random \n",
    "import matplotlib.pyplot as plt\n",
    "from typing import Callable,  NamedTuple\n",
    "from itertools import combinations\n",
    "from abc import ABC, abstractmethod\n",
    "\n",
    "class Representation(Enum):\n",
    "    BIN = 0\n",
    "    GRAY = 1\n",
    "    DECIMAL = 2"
   ]
  },
  {
   "cell_type": "markdown",
   "metadata": {},
   "source": [
    "# Problemas de optimización\n",
    "Este laboratorio se mostrará varios métodos de selección como la selección proporcional, ranking lineal, torneo, uniforme y selección ruleta, luego se medirá la intensidad de selección en un problema de minimización.\n"
   ]
  },
  {
   "cell_type": "markdown",
   "metadata": {},
   "source": [
    "## 1. Dado los siguientes problemas de minimización de una función $\\min_\\mathbf{x}f(\\mathbf{x})$\n"
   ]
  },
  {
   "cell_type": "code",
   "execution_count": 79,
   "metadata": {},
   "outputs": [],
   "source": [
    "f1 = lambda x: x[0]**4 + 5*x[0]**3 + 4*x[0]**2 - 4*x[0] + 1\n",
    "f2 = lambda x: 0.2 + x[0]**2 + x[1]**2 - 0.1*math.cos(6*math.pi*x[0]) - 0.1*math.sin(6*math.pi*x[1])\n",
    "f3 = lambda x: math.pow(1/6.931 - x[0]*x[1]/(x[2]*x[3]), 2)\n"
   ]
  },
  {
   "cell_type": "markdown",
   "metadata": {},
   "source": [
    "Dominio"
   ]
  },
  {
   "cell_type": "code",
   "execution_count": 80,
   "metadata": {},
   "outputs": [],
   "source": [
    "domain_1, n_var_1 = [-4.0, 1], 1\n",
    "domain_2, n_var_2 = [-1, 1.0], 2\n",
    "domain_3, n_var_3 = [12, 60.], 4\n"
   ]
  },
  {
   "cell_type": "markdown",
   "metadata": {},
   "source": [
    "Parámetros del individuo tipados"
   ]
  },
  {
   "cell_type": "code",
   "execution_count": 81,
   "metadata": {},
   "outputs": [],
   "source": [
    "class IndividualArguments(NamedTuple):\n",
    "    domain: tuple[int, int]\n",
    "    eps: float\n",
    "    n_var: int\n",
    "    gen_size: int\n",
    "    default_repr: Representation = Representation.DECIMAL\n"
   ]
  },
  {
   "cell_type": "markdown",
   "metadata": {},
   "source": [
    "Clase individuo "
   ]
  },
  {
   "cell_type": "code",
   "execution_count": 82,
   "metadata": {},
   "outputs": [],
   "source": [
    "class Individual():\n",
    "    def __init__(self, phenotype: list[float], args: IndividualArguments):\n",
    "        self.domain = args.domain\n",
    "        self.eps = args.eps\n",
    "        self.n_var = args.n_var\n",
    "        self.gen_size = args.gen_size\n",
    "        self.default_repr = args.default_repr\n",
    "        self.phenotype = phenotype\n",
    "\n",
    "    def getGenotype(self, my_repr: Representation = None):\n",
    "        my_repr = self.default_repr if my_repr == None else my_repr\n",
    "        list_repr: list[int] = []\n",
    "        if my_repr == Representation.BIN:\n",
    "            for gen in self.phenotype:\n",
    "                list_repr.extend(dec2bin(num=my_map(gen, self.domain[0], self.domain[1], self.eps),\n",
    "                                         bits=self.gen_size))\n",
    "        elif my_repr == Representation.GRAY:\n",
    "            for gen in self.phenotype:\n",
    "                list_repr.extend(bin2gray(dec2bin(num=my_map(gen, self.domain[0], self.domain[1], self.eps),\n",
    "                                                  bits=self.gen_size)))\n",
    "        else:\n",
    "            list_repr = copy.deepcopy(self.phenotype)\n",
    "        return list_repr\n",
    "\n",
    "    @classmethod\n",
    "    def new(cls, genotype, args: IndividualArguments):\n",
    "        phenotype: list[int] = []\n",
    "        if args.default_repr == Representation.BIN:\n",
    "            for k in range(args.n_var):\n",
    "                gen = genotype[args.gen_size * k:args.gen_size * (k + 1)]\n",
    "                phenotype.append(inverse_map(bin2dec(gen), args.domain[0], args.eps))\n",
    "        elif args.default_repr == Representation.GRAY:\n",
    "            for k in range(args.n_var):\n",
    "                gen = genotype[args.gen_size * k:args.gen_size * (k + 1)]\n",
    "                phenotype.append(inverse_map(bin2dec(gray2bin(gen)), args.domain[0], args.eps))\n",
    "        else:\n",
    "            phenotype = copy.deepcopy(genotype)\n",
    "\n",
    "        return cls(phenotype, args)\n",
    "\n",
    "    @staticmethod\n",
    "    def newLike(genotype: list[int], parent: Individual):\n",
    "        args = IndividualArguments(parent.domain, parent.eps, parent.n_var, parent.gen_size, parent.default_repr)\n",
    "        return Individual.new(genotype, args)\n",
    "\n",
    "    @classmethod\n",
    "    def newRandom(cls, args: IndividualArguments):\n",
    "        phenotype = [round(random.uniform(args.domain[0], args.domain[1]), 6) for _ in range(args.n_var)]\n",
    "        return cls(phenotype, args)\n"
   ]
  },
  {
   "cell_type": "markdown",
   "metadata": {},
   "source": [
    "### a) Representación del problema (1)\n",
    "Implemente un programa en python que represente el cromosoma como una cadena binaria de 10 dígitos (10 bits) y muestre/imprima el Fenotipo y su representación binaria para una población de 10 individuos."
   ]
  },
  {
   "cell_type": "code",
   "execution_count": 83,
   "metadata": {},
   "outputs": [
    {
     "name": "stdout",
     "output_type": "stream",
     "text": [
      "Representación binaria\n",
      "Genotipo 0 = [1, 0, 0, 1, 0, 1, 0, 1, 0, 1] Fenotipo 0 = [-1.080576]\n",
      "Genotipo 1 = [0, 1, 0, 0, 1, 1, 1, 1, 1, 1] Fenotipo 1 = [-2.44229]\n",
      "Genotipo 2 = [1, 0, 0, 0, 0, 0, 0, 1, 1, 0] Fenotipo 2 = [-1.469932]\n",
      "Genotipo 3 = [0, 0, 1, 0, 1, 1, 1, 0, 0, 1] Fenotipo 3 = [-3.098116]\n",
      "Genotipo 4 = [0, 0, 0, 0, 1, 1, 0, 0, 0, 1] Fenotipo 4 = [-3.761818]\n",
      "Genotipo 5 = [1, 1, 0, 1, 0, 1, 0, 1, 0, 0] Fenotipo 5 = [0.165734]\n",
      "Genotipo 6 = [1, 0, 1, 0, 1, 0, 1, 0, 1, 0] Fenotipo 6 = [-0.668703]\n",
      "Genotipo 7 = [0, 0, 1, 0, 1, 1, 1, 1, 1, 1] Fenotipo 7 = [-3.068424]\n",
      "Genotipo 8 = [0, 1, 1, 0, 1, 0, 1, 1, 1, 0] Fenotipo 8 = [-1.896865]\n",
      "Genotipo 9 = [1, 1, 0, 1, 1, 0, 0, 1, 1, 0] Fenotipo 9 = [0.252068]\n"
     ]
    }
   ],
   "source": [
    "POPULATION_SIZE = 10\n",
    "GEN_SIZE_1 = 10\n",
    "eps_1 = (domain_1[1] - domain_1[0]) / (2**GEN_SIZE_1 - 1)\n",
    "N_POINTS_1 = 2**GEN_SIZE_1\n",
    "\n",
    "args1 = IndividualArguments(domain_1, eps_1, n_var_1, GEN_SIZE_1, f1)\n",
    "\n",
    "population_1 = [Individual.newRandom(args1) for _ in range(POPULATION_SIZE)]\n",
    "print(\"Representación binaria\")\n",
    "for i, ind in enumerate(population_1):\n",
    "    print(f\"Genotipo {i} = {ind.getGenotype(Representation.BIN)} Fenotipo {i} = {ind.phenotype}\")\n"
   ]
  },
  {
   "cell_type": "markdown",
   "metadata": {},
   "source": [
    "Realizar lo mismo del ítem anterior para la representación en código de Gray."
   ]
  },
  {
   "cell_type": "code",
   "execution_count": 84,
   "metadata": {},
   "outputs": [
    {
     "name": "stdout",
     "output_type": "stream",
     "text": [
      "Representación en código Gray\n",
      "Genotipo 0 = [1, 1, 0, 1, 1, 1, 1, 1, 1, 1] Fenotipo 0 = [-1.080576]\n",
      "Genotipo 1 = [0, 1, 1, 0, 1, 0, 0, 0, 0, 0] Fenotipo 1 = [-2.44229]\n",
      "Genotipo 2 = [1, 1, 0, 0, 0, 0, 0, 1, 0, 1] Fenotipo 2 = [-1.469932]\n",
      "Genotipo 3 = [0, 0, 1, 1, 1, 0, 0, 1, 0, 1] Fenotipo 3 = [-3.098116]\n",
      "Genotipo 4 = [0, 0, 0, 0, 1, 0, 1, 0, 0, 1] Fenotipo 4 = [-3.761818]\n",
      "Genotipo 5 = [1, 0, 1, 1, 1, 1, 1, 1, 1, 0] Fenotipo 5 = [0.165734]\n",
      "Genotipo 6 = [1, 1, 1, 1, 1, 1, 1, 1, 1, 1] Fenotipo 6 = [-0.668703]\n",
      "Genotipo 7 = [0, 0, 1, 1, 1, 0, 0, 0, 0, 0] Fenotipo 7 = [-3.068424]\n",
      "Genotipo 8 = [0, 1, 0, 1, 1, 1, 1, 0, 0, 1] Fenotipo 8 = [-1.896865]\n",
      "Genotipo 9 = [1, 0, 1, 1, 0, 1, 0, 1, 0, 1] Fenotipo 9 = [0.252068]\n"
     ]
    }
   ],
   "source": [
    "print(\"Representación en código Gray\")\n",
    "for i, ind in enumerate(population_1):\n",
    "    print(f\"Genotipo {i} = {ind.getGenotype(Representation.GRAY)} Fenotipo {i} = {ind.phenotype}\")"
   ]
  },
  {
   "cell_type": "markdown",
   "metadata": {},
   "source": [
    "Considerando las representaciones anteriores (cadena de 10 bits) ¿cual sería el tamaño del espacio intrínseco?\n"
   ]
  },
  {
   "cell_type": "code",
   "execution_count": 85,
   "metadata": {},
   "outputs": [
    {
     "name": "stdout",
     "output_type": "stream",
     "text": [
      "El espacio intrinseco tendría 1024 elementos con una precisión de 0.004887585532746823\n"
     ]
    }
   ],
   "source": [
    "print(f\"El espacio intrinseco tendría {N_POINTS_1} elementos con una precisión de {eps_1}\")"
   ]
  },
  {
   "cell_type": "markdown",
   "metadata": {},
   "source": [
    "### b) Representación del problema (2):\n",
    "\n",
    "Implemente un programa en python que represente el cromosoma como una cadena binaria donde $x, y$ estén representados por 5 bits cada uno y luego muestre/imprima el Fenotipo y su\n",
    "representación binaria."
   ]
  },
  {
   "cell_type": "code",
   "execution_count": 86,
   "metadata": {},
   "outputs": [
    {
     "name": "stdout",
     "output_type": "stream",
     "text": [
      "Representación binaria\n",
      "Genotipo 0 = [1, 0, 1, 1, 0, 0, 1, 1, 0, 0] Fenotipo 0 = [0.428385, -0.211371]\n",
      "Genotipo 1 = [1, 1, 1, 0, 1, 0, 1, 1, 0, 0] Fenotipo 1 = [0.847774, -0.215594]\n",
      "Genotipo 2 = [1, 1, 1, 1, 1, 0, 1, 1, 0, 1] Fenotipo 2 = [0.98064, -0.178234]\n",
      "Genotipo 3 = [1, 0, 1, 1, 0, 0, 0, 1, 1, 1] Fenotipo 3 = [0.414868, -0.516437]\n",
      "Genotipo 4 = [0, 1, 0, 1, 1, 1, 1, 1, 1, 1] Fenotipo 4 = [-0.320682, 0.995783]\n",
      "Genotipo 5 = [1, 1, 0, 0, 0, 0, 1, 0, 1, 1] Fenotipo 5 = [0.570493, -0.294189]\n",
      "Genotipo 6 = [0, 0, 1, 0, 0, 0, 0, 0, 1, 1] Fenotipo 6 = [-0.756471, -0.800671]\n",
      "Genotipo 7 = [1, 1, 0, 1, 1, 0, 0, 0, 0, 0] Fenotipo 7 = [0.730703, -0.979476]\n",
      "Genotipo 8 = [0, 1, 1, 1, 0, 1, 0, 1, 1, 1] Fenotipo 8 = [-0.112721, 0.473505]\n",
      "Genotipo 9 = [1, 0, 0, 1, 1, 1, 0, 1, 1, 1] Fenotipo 9 = [0.23646, 0.459591]\n"
     ]
    }
   ],
   "source": [
    "POPULATION_SIZE = 10\n",
    "GEN_SIZE_2 = 5\n",
    "eps_2 = (domain_2[1] - domain_2[0]) / (2**GEN_SIZE_2 - 1)\n",
    "N_POINTS_2 = 2**GEN_SIZE_2\n",
    "\n",
    "args2 = IndividualArguments(domain_2, eps_2, n_var_2, GEN_SIZE_2, f2)\n",
    "\n",
    "population_2 = [Individual.newRandom(args2) for _ in range(POPULATION_SIZE)]\n",
    "print(\"Representación binaria\")\n",
    "for i, ind in enumerate(population_2):\n",
    "    print(f\"Genotipo {i} = {ind.getGenotype(Representation.BIN)} Fenotipo {i} = {ind.phenotype}\")"
   ]
  },
  {
   "cell_type": "markdown",
   "metadata": {},
   "source": [
    "Realizar lo mismo del ítem anterior para la representación en código de Gray"
   ]
  },
  {
   "cell_type": "code",
   "execution_count": 87,
   "metadata": {},
   "outputs": [
    {
     "name": "stdout",
     "output_type": "stream",
     "text": [
      "Representación en código Gray\n",
      "Genotipo 0 = [1, 1, 1, 0, 1, 0, 1, 0, 1, 0] Fenotipo 0 = [0.428385, -0.211371]\n",
      "Genotipo 1 = [1, 0, 0, 1, 1, 0, 1, 0, 1, 0] Fenotipo 1 = [0.847774, -0.215594]\n",
      "Genotipo 2 = [1, 0, 0, 0, 0, 0, 1, 0, 1, 1] Fenotipo 2 = [0.98064, -0.178234]\n",
      "Genotipo 3 = [1, 1, 1, 0, 1, 0, 0, 1, 0, 0] Fenotipo 3 = [0.414868, -0.516437]\n",
      "Genotipo 4 = [0, 1, 1, 1, 0, 1, 0, 0, 0, 0] Fenotipo 4 = [-0.320682, 0.995783]\n",
      "Genotipo 5 = [1, 0, 1, 0, 0, 0, 1, 1, 1, 0] Fenotipo 5 = [0.570493, -0.294189]\n",
      "Genotipo 6 = [0, 0, 1, 1, 0, 0, 0, 0, 1, 0] Fenotipo 6 = [-0.756471, -0.800671]\n",
      "Genotipo 7 = [1, 0, 1, 1, 0, 0, 0, 0, 0, 0] Fenotipo 7 = [0.730703, -0.979476]\n",
      "Genotipo 8 = [0, 1, 0, 0, 1, 1, 1, 1, 0, 0] Fenotipo 8 = [-0.112721, 0.473505]\n",
      "Genotipo 9 = [1, 1, 0, 1, 0, 1, 1, 1, 0, 0] Fenotipo 9 = [0.23646, 0.459591]\n"
     ]
    }
   ],
   "source": [
    "print(\"Representación en código Gray\")\n",
    "for i, ind in enumerate(population_2):\n",
    "    print(f\"Genotipo {i} = {ind.getGenotype(Representation.GRAY)} Fenotipo {i} = {ind.phenotype}\")"
   ]
  },
  {
   "cell_type": "markdown",
   "metadata": {},
   "source": [
    "Realizar lo mismo del ítem anterior para la representación real"
   ]
  },
  {
   "cell_type": "code",
   "execution_count": 88,
   "metadata": {},
   "outputs": [
    {
     "name": "stdout",
     "output_type": "stream",
     "text": [
      "Representación real\n",
      "Individuo 0 = [0.428385, -0.211371]\n",
      "Individuo 1 = [0.847774, -0.215594]\n",
      "Individuo 2 = [0.98064, -0.178234]\n",
      "Individuo 3 = [0.414868, -0.516437]\n",
      "Individuo 4 = [-0.320682, 0.995783]\n",
      "Individuo 5 = [0.570493, -0.294189]\n",
      "Individuo 6 = [-0.756471, -0.800671]\n",
      "Individuo 7 = [0.730703, -0.979476]\n",
      "Individuo 8 = [-0.112721, 0.473505]\n",
      "Individuo 9 = [0.23646, 0.459591]\n"
     ]
    }
   ],
   "source": [
    "print(\"Representación real\")\n",
    "for i, ind in enumerate(population_2):\n",
    "    print(f\"Individuo {i} = {ind.phenotype}\")"
   ]
  },
  {
   "cell_type": "markdown",
   "metadata": {},
   "source": [
    "Considerando las representaciones anteriores (cadena de 10 bits y representación real) ¿cual sería el tamaño del espacio intrínseco?\n"
   ]
  },
  {
   "cell_type": "code",
   "execution_count": 89,
   "metadata": {},
   "outputs": [
    {
     "name": "stdout",
     "output_type": "stream",
     "text": [
      "El espacio intrinseco tendría 32 x 32 = 1024 elementos con una precisión de 0.06451612903225806\n"
     ]
    }
   ],
   "source": [
    "print(f\"El espacio intrinseco tendría {N_POINTS_2} x {N_POINTS_2} = {2**(2*GEN_SIZE_2)} elementos con una precisión de {eps_2}\")"
   ]
  },
  {
   "cell_type": "markdown",
   "metadata": {},
   "source": [
    "### c) Representación del problema (3):\n",
    "\n",
    "Implemente un programa en python que represente el cromosoma como una cadena binaria donde $x_1, x_2, x_3, x_4$ estén representados por 6 bits cada uno y luego muestre/imprima el Fenotipo y su representación binaria.\n"
   ]
  },
  {
   "cell_type": "code",
   "execution_count": 90,
   "metadata": {},
   "outputs": [
    {
     "name": "stdout",
     "output_type": "stream",
     "text": [
      "Representación binaria\n",
      "Genotipo 0 = [1, 1, 0, 1, 0, 1, 0, 1, 1, 1, 1, 1, 0, 1, 0, 1, 1, 1, 1, 0, 0, 1, 1, 1] Fenotipo 0 = [52.604429, 35.609582, 29.657452, 41.944754]\n",
      "Genotipo 1 = [1, 0, 1, 0, 1, 1, 1, 1, 0, 0, 1, 1, 0, 1, 1, 0, 1, 1, 1, 0, 0, 1, 0, 0] Fenotipo 1 = [44.965925, 50.627427, 32.613418, 39.11783]\n",
      "Genotipo 2 = [0, 1, 0, 1, 1, 1, 0, 0, 1, 1, 0, 1, 0, 0, 1, 0, 1, 0, 0, 0, 1, 0, 1, 0] Fenotipo 2 = [29.237273, 22.056264, 19.443962, 19.555951]\n",
      "Genotipo 3 = [1, 1, 1, 1, 0, 1, 1, 0, 1, 0, 0, 1, 0, 1, 1, 1, 0, 1, 0, 1, 1, 0, 1, 0] Fenotipo 3 = [58.309484, 43.354037, 34.26657, 31.720863]\n",
      "Genotipo 4 = [1, 1, 0, 0, 0, 1, 0, 1, 1, 0, 1, 1, 1, 1, 1, 0, 0, 1, 1, 0, 0, 1, 1, 1] Fenotipo 4 = [49.219981, 32.378944, 55.08441, 41.485381]\n",
      "Genotipo 5 = [0, 0, 0, 0, 1, 0, 1, 0, 1, 1, 0, 1, 1, 1, 1, 1, 1, 0, 0, 1, 1, 1, 0, 0] Fenotipo 5 = [13.788812, 46.448342, 59.615413, 33.481322]\n",
      "Genotipo 6 = [0, 1, 1, 1, 0, 1, 0, 1, 0, 1, 1, 1, 0, 0, 1, 0, 0, 1, 0, 1, 1, 0, 0, 1] Fenotipo 6 = [34.107324, 29.505308, 18.907035, 30.737697]\n",
      "Genotipo 7 = [0, 1, 0, 0, 1, 0, 0, 0, 1, 0, 0, 1, 1, 1, 0, 0, 0, 1, 1, 0, 1, 1, 0, 0] Fenotipo 7 = [25.972368, 18.748608, 49.632096, 45.6293]\n",
      "Genotipo 8 = [1, 1, 1, 1, 1, 1, 0, 1, 1, 1, 0, 1, 0, 0, 1, 0, 0, 0, 1, 1, 0, 1, 1, 1] Fenotipo 8 = [59.880755, 34.037059, 17.765377, 53.903455]\n",
      "Genotipo 9 = [0, 1, 0, 1, 1, 1, 0, 0, 0, 1, 0, 0, 0, 1, 1, 0, 1, 0, 1, 1, 0, 1, 0, 0] Fenotipo 9 = [29.80593, 15.015497, 32.024022, 51.351795]\n"
     ]
    }
   ],
   "source": [
    "POPULATION_SIZE = 10\n",
    "GEN_SIZE_3 = 6\n",
    "eps_3 = (60 - 12) / (2**GEN_SIZE_3 - 1)\n",
    "N_POINTS_3 = 2**GEN_SIZE_3\n",
    "\n",
    "args3 = IndividualArguments(domain_3, eps_3, n_var_3, GEN_SIZE_3, f3)\n",
    "\n",
    "population_3 = [Individual.newRandom(args3) for _ in range(POPULATION_SIZE)]\n",
    "print(\"Representación binaria\")\n",
    "for i, ind in enumerate(population_3):\n",
    "    print(f\"Genotipo {i} = {ind.getGenotype(Representation.BIN)} Fenotipo {i} = {ind.phenotype}\")"
   ]
  },
  {
   "cell_type": "markdown",
   "metadata": {},
   "source": [
    "Realizar lo mismo del ítem anterior para la representación en código de Gray"
   ]
  },
  {
   "cell_type": "code",
   "execution_count": 91,
   "metadata": {},
   "outputs": [
    {
     "name": "stdout",
     "output_type": "stream",
     "text": [
      "Genotipo 0 = [1, 0, 1, 1, 1, 1, 0, 1, 0, 0, 0, 0, 0, 1, 1, 1, 0, 0, 1, 1, 0, 1, 0, 0] Fenotipo 0 = [52.604429, 35.609582, 29.657452, 41.944754]\n",
      "Genotipo 1 = [1, 1, 1, 1, 1, 0, 1, 0, 1, 0, 1, 0, 0, 1, 0, 1, 1, 0, 1, 1, 0, 1, 1, 0] Fenotipo 1 = [44.965925, 50.627427, 32.613418, 39.11783]\n",
      "Genotipo 2 = [0, 1, 1, 1, 0, 0, 0, 0, 1, 0, 1, 1, 0, 0, 1, 1, 1, 1, 0, 0, 1, 1, 1, 1] Fenotipo 2 = [29.237273, 22.056264, 19.443962, 19.555951]\n",
      "Genotipo 3 = [1, 0, 0, 0, 1, 1, 1, 1, 1, 1, 0, 1, 0, 1, 0, 0, 1, 1, 0, 1, 0, 1, 1, 1] Fenotipo 3 = [58.309484, 43.354037, 34.26657, 31.720863]\n",
      "Genotipo 4 = [1, 0, 1, 0, 0, 1, 0, 1, 0, 1, 1, 0, 1, 0, 0, 1, 0, 1, 1, 1, 0, 1, 0, 0] Fenotipo 4 = [49.219981, 32.378944, 55.08441, 41.485381]\n",
      "Genotipo 5 = [0, 0, 0, 0, 1, 1, 1, 1, 1, 0, 1, 1, 1, 0, 0, 0, 0, 1, 0, 1, 0, 0, 1, 0] Fenotipo 5 = [13.788812, 46.448342, 59.615413, 33.481322]\n",
      "Genotipo 6 = [0, 1, 0, 0, 1, 1, 0, 1, 1, 1, 0, 0, 0, 0, 1, 1, 0, 1, 0, 1, 0, 1, 0, 1] Fenotipo 6 = [34.107324, 29.505308, 18.907035, 30.737697]\n",
      "Genotipo 7 = [0, 1, 1, 0, 1, 1, 0, 0, 1, 1, 0, 1, 1, 0, 1, 0, 0, 1, 1, 1, 1, 0, 1, 0] Fenotipo 7 = [25.972368, 18.748608, 49.632096, 45.6293]\n",
      "Genotipo 8 = [1, 0, 0, 0, 0, 0, 0, 1, 0, 0, 1, 1, 0, 0, 1, 1, 0, 0, 1, 0, 1, 1, 0, 0] Fenotipo 8 = [59.880755, 34.037059, 17.765377, 53.903455]\n",
      "Genotipo 9 = [0, 1, 1, 1, 0, 0, 0, 0, 0, 1, 1, 0, 0, 1, 0, 1, 1, 1, 1, 0, 1, 1, 1, 0] Fenotipo 9 = [29.80593, 15.015497, 32.024022, 51.351795]\n"
     ]
    }
   ],
   "source": [
    "for i, ind in enumerate(population_3):\n",
    "    print(f\"Genotipo {i} = {ind.getGenotype(Representation.GRAY)} Fenotipo {i} = {ind.phenotype}\")"
   ]
  },
  {
   "cell_type": "markdown",
   "metadata": {},
   "source": [
    "Realizar lo mismo del ítem anterior para la representación real."
   ]
  },
  {
   "cell_type": "code",
   "execution_count": 92,
   "metadata": {},
   "outputs": [
    {
     "name": "stdout",
     "output_type": "stream",
     "text": [
      "Individuo 0 = [52.604429, 35.609582, 29.657452, 41.944754]\n",
      "Individuo 1 = [44.965925, 50.627427, 32.613418, 39.11783]\n",
      "Individuo 2 = [29.237273, 22.056264, 19.443962, 19.555951]\n",
      "Individuo 3 = [58.309484, 43.354037, 34.26657, 31.720863]\n",
      "Individuo 4 = [49.219981, 32.378944, 55.08441, 41.485381]\n",
      "Individuo 5 = [13.788812, 46.448342, 59.615413, 33.481322]\n",
      "Individuo 6 = [34.107324, 29.505308, 18.907035, 30.737697]\n",
      "Individuo 7 = [25.972368, 18.748608, 49.632096, 45.6293]\n",
      "Individuo 8 = [59.880755, 34.037059, 17.765377, 53.903455]\n",
      "Individuo 9 = [29.80593, 15.015497, 32.024022, 51.351795]\n"
     ]
    }
   ],
   "source": [
    "for i, ind in enumerate(population_3):\n",
    "    print(f\"Individuo {i} = {ind.getGenotype(Representation.DECIMAL)}\")"
   ]
  },
  {
   "cell_type": "markdown",
   "metadata": {},
   "source": [
    "Considerando las representaciones anteriores (cadena de bits, representación real) ¿cual seria el tamaño del espacio intrínseco"
   ]
  },
  {
   "cell_type": "code",
   "execution_count": 93,
   "metadata": {},
   "outputs": [
    {
     "name": "stdout",
     "output_type": "stream",
     "text": [
      "El espacio intrinseco tendría 64x64x64x64=16777216 elementos con una precisión de 0.7619047619047619\n"
     ]
    }
   ],
   "source": [
    "print(f\"El espacio intrinseco tendría {N_POINTS_3}x{N_POINTS_3}x{N_POINTS_3}x{N_POINTS_3}={2**(4*GEN_SIZE_3)} elementos con una precisión de {eps_3}\")"
   ]
  },
  {
   "cell_type": "markdown",
   "metadata": {},
   "source": [
    "## 2. Gestión de la población: de la teoría se sabe que los métodos de selección son independientes del método de representación del algoritmo evolutivo, implemente los siguientes métodos de selección en python:"
   ]
  },
  {
   "cell_type": "markdown",
   "metadata": {},
   "source": [
    "## Selection"
   ]
  },
  {
   "cell_type": "code",
   "execution_count": 94,
   "metadata": {},
   "outputs": [],
   "source": [
    "class Selection(ABC):\n",
    "    def __init__(self, num_individuals: int):\n",
    "        self.num_individuals = num_individuals\n",
    "\n",
    "    @abstractmethod\n",
    "    def get_individuals(self, population: list[Individual], fitness: list[float]):\n",
    "        pass\n",
    "\n",
    "    @staticmethod\n",
    "    def intensity(prev_fitness: list[float], curr_fitness: list[float]):\n",
    "        prev_fitness = np.array(prev_fitness)\n",
    "        curr_fitness = np.array(curr_fitness)\n",
    "        mean_prev = np.mean(prev_fitness)   # f\n",
    "        mean_curr = np.mean(curr_fitness)   # g\n",
    "        std_prev = np.std(prev_fitness)     # f \n",
    "        return (mean_curr - mean_prev) / std_prev if std_prev != 0.0 else 0.0\n"
   ]
  },
  {
   "cell_type": "markdown",
   "metadata": {},
   "source": [
    "De una población de 10 individuos se seleccionarán 5 individuos del problema 2"
   ]
  },
  {
   "cell_type": "code",
   "execution_count": 95,
   "metadata": {},
   "outputs": [
    {
     "name": "stdout",
     "output_type": "stream",
     "text": [
      "Individuo 0 = [0.434562, -0.337903]\n",
      "Individuo 1 = [0.139212, 0.326147]\n",
      "Individuo 2 = [-0.705207, -0.998465]\n",
      "Individuo 3 = [-0.44191, -0.60265]\n",
      "Individuo 4 = [-0.267497, 0.550662]\n",
      "Individuo 5 = [0.699554, 0.708479]\n",
      "Individuo 6 = [0.674981, -0.367307]\n",
      "Individuo 7 = [-0.174184, 0.595343]\n",
      "Individuo 8 = [0.995341, 0.464491]\n",
      "Individuo 9 = [0.761697, 0.013065]\n"
     ]
    }
   ],
   "source": [
    "POPULATION_SIZE = 10\n",
    "SELECTED_SIZE = 5\n",
    "args2 = IndividualArguments(domain_2, eps_2, n_var_2, GEN_SIZE_2, Representation.GRAY)\n",
    "initial_population = [Individual.newRandom(args2) for _ in range(POPULATION_SIZE)]\n",
    "fitness_population = [f2(ind.phenotype) for ind in initial_population]\n",
    "for i, ind in enumerate(initial_population):\n",
    "    print(f\"Individuo {i} = {ind.getGenotype(Representation.DECIMAL)}\")"
   ]
  },
  {
   "cell_type": "markdown",
   "metadata": {},
   "source": [
    "### Método de selección proporcional"
   ]
  },
  {
   "cell_type": "code",
   "execution_count": 96,
   "metadata": {},
   "outputs": [],
   "source": [
    "class ProportionalSelection(Selection):\n",
    "    def __init__(self, num_individuals: int, delta: float = 0.0):\n",
    "        super().__init__(num_individuals)\n",
    "        # fi + 10, fi + 100\n",
    "        self.delta = delta\n",
    "\n",
    "    def get_individuals(self, population: list[Individual], fitness: list[float]):\n",
    "        f_max = max(fitness)\n",
    "        # individuos con menor fitness (f_max - f) tienen mayor probabilidad de ser seleccionados  \n",
    "        # presión de selección\n",
    "        fitness = f_max - np.array(fitness) + 1e-4 + self.delta\n",
    "        distribution = fitness / fitness.sum()\n",
    "        return random.choices(population, weights=distribution, k=self.num_individuals)\n"
   ]
  },
  {
   "cell_type": "code",
   "execution_count": 97,
   "metadata": {},
   "outputs": [
    {
     "name": "stdout",
     "output_type": "stream",
     "text": [
      "Individuo 0 = [-0.44191, -0.60265]\n",
      "Individuo 1 = [0.699554, 0.708479]\n",
      "Individuo 2 = [-0.267497, 0.550662]\n",
      "Individuo 3 = [0.995341, 0.464491]\n",
      "Individuo 4 = [0.761697, 0.013065]\n"
     ]
    }
   ],
   "source": [
    "selected = ProportionalSelection(num_individuals=SELECTED_SIZE, delta=10).get_individuals(initial_population, fitness_population)\n",
    "for i, ind in enumerate(selected):\n",
    "    print(f\"Individuo {i} = {ind.phenotype}\")\n"
   ]
  },
  {
   "cell_type": "markdown",
   "metadata": {},
   "source": [
    "### Método de selección basada en ranking lineal"
   ]
  },
  {
   "cell_type": "code",
   "execution_count": 98,
   "metadata": {},
   "outputs": [],
   "source": [
    "class LinearRankingSelection(Selection):\n",
    "    def __init__(self, num_individuals: int, s: float):\n",
    "        super().__init__(num_individuals)\n",
    "        self.s = s\n",
    "\n",
    "    def get_individuals(self, population: list[Individual], fitness: list[float]):\n",
    "        mu = len(population)\n",
    "        pop_fit = zip(population, fitness)\n",
    "        sorted_pop_fit = sorted(pop_fit, key=lambda val: val[1], reverse=True)\n",
    "        pop_fit = list(zip(*sorted_pop_fit))\n",
    "        distribution = [(2 - self.s) / mu + 2 * i * (self.s - 1) / (mu * (mu - 1)) for i in range(mu)]\n",
    "\n",
    "        return random.choices(pop_fit[0], weights=distribution, k=self.num_individuals)\n"
   ]
  },
  {
   "cell_type": "code",
   "execution_count": 99,
   "metadata": {},
   "outputs": [
    {
     "name": "stdout",
     "output_type": "stream",
     "text": [
      "Individuo 0 = [-0.267497, 0.550662]\n",
      "Individuo 1 = [-0.267497, 0.550662]\n",
      "Individuo 2 = [0.699554, 0.708479]\n",
      "Individuo 3 = [-0.174184, 0.595343]\n",
      "Individuo 4 = [-0.267497, 0.550662]\n"
     ]
    }
   ],
   "source": [
    "selected = LinearRankingSelection(num_individuals=SELECTED_SIZE, s=1.5).get_individuals(initial_population, fitness_population)\n",
    "for i, ind in enumerate(selected):\n",
    "    print(f\"Individuo {i} = {ind.phenotype}\")\n"
   ]
  },
  {
   "cell_type": "markdown",
   "metadata": {},
   "source": [
    "### Método de torneo"
   ]
  },
  {
   "cell_type": "code",
   "execution_count": 100,
   "metadata": {},
   "outputs": [],
   "source": [
    "class TournamentSelection(Selection):\n",
    "    def __init__(self, num_individuals: int, tournament_size: int):\n",
    "        super().__init__(num_individuals)\n",
    "        self.tournament_size = tournament_size\n",
    "\n",
    "    def get_individuals(self, population: list[Individual], fitness: list[float]):\n",
    "        pop_fit_zipped = list(zip(population, fitness))\n",
    "        selected: list[Individual] = []\n",
    "        for _ in range(self.num_individuals):\n",
    "            candidates = random.choices(pop_fit_zipped, k=self.tournament_size)\n",
    "            selected.append(min(candidates, key=lambda pop_fit: pop_fit[1])[0])\n",
    "        return selected\n"
   ]
  },
  {
   "cell_type": "code",
   "execution_count": 101,
   "metadata": {},
   "outputs": [
    {
     "name": "stdout",
     "output_type": "stream",
     "text": [
      "Individuo 0 = [0.139212, 0.326147]\n",
      "Individuo 1 = [-0.44191, -0.60265]\n",
      "Individuo 2 = [0.139212, 0.326147]\n",
      "Individuo 3 = [0.434562, -0.337903]\n",
      "Individuo 4 = [0.674981, -0.367307]\n"
     ]
    }
   ],
   "source": [
    "selected = TournamentSelection(num_individuals=SELECTED_SIZE, tournament_size=5).get_individuals(initial_population, fitness_population)\n",
    "for i, ind in enumerate(selected):\n",
    "    print(f\"Individuo {i} = {ind.phenotype}\")\n"
   ]
  },
  {
   "cell_type": "markdown",
   "metadata": {},
   "source": [
    "### Método de selección uniforme"
   ]
  },
  {
   "cell_type": "code",
   "execution_count": 102,
   "metadata": {},
   "outputs": [],
   "source": [
    "class UniformSelection(Selection):\n",
    "    def __init__(self, num_individuals: int):\n",
    "        super().__init__(num_individuals)\n",
    "\n",
    "    def get_individuals(self, population: list[Individual], fitness: list[float] = None):\n",
    "        # por defecto el metodo choice implementa una distribucion uniforme\n",
    "        return random.choices(population, k=self.num_individuals) \n"
   ]
  },
  {
   "cell_type": "code",
   "execution_count": 103,
   "metadata": {},
   "outputs": [
    {
     "name": "stdout",
     "output_type": "stream",
     "text": [
      "Individuo 0 = [0.995341, 0.464491]\n",
      "Individuo 1 = [0.995341, 0.464491]\n",
      "Individuo 2 = [0.674981, -0.367307]\n",
      "Individuo 3 = [0.699554, 0.708479]\n",
      "Individuo 4 = [-0.705207, -0.998465]\n"
     ]
    }
   ],
   "source": [
    "selected = UniformSelection(num_individuals=SELECTED_SIZE).get_individuals(initial_population)\n",
    "for i, ind in enumerate(selected):\n",
    "    print(f\"Individuo {i} = {ind.phenotype}\")\n"
   ]
  },
  {
   "cell_type": "markdown",
   "metadata": {},
   "source": [
    "### Método de de la ruleta"
   ]
  },
  {
   "cell_type": "code",
   "execution_count": 104,
   "metadata": {},
   "outputs": [],
   "source": [
    "class RouletteSelection(Selection):\n",
    "    def __init__(self, num_individuals: int):\n",
    "        super().__init__(num_individuals)\n",
    "\n",
    "    def get_individuals(self, population: list[Individual], fitness: list[float]):\n",
    "        # individuos con menor fitness tienen mayor probabilidad de ser seleccionados\n",
    "        # presion de seleccion\n",
    "        f_max = max(fitness)\n",
    "        fitness = f_max - np.array(fitness) + 1e-4\n",
    "        distribution = np.array(fitness) / sum(fitness)\n",
    "        # el metodo de la ruleta es similar a seleccionar elementos de una lista dada una distribucion de probabilidades\n",
    "        return random.choices(population, weights=distribution, k=self.num_individuals)\n"
   ]
  },
  {
   "cell_type": "code",
   "execution_count": 105,
   "metadata": {},
   "outputs": [
    {
     "name": "stdout",
     "output_type": "stream",
     "text": [
      "Individuo 0 = [-0.267497, 0.550662]\n",
      "Individuo 1 = [0.139212, 0.326147]\n",
      "Individuo 2 = [0.434562, -0.337903]\n",
      "Individuo 3 = [0.761697, 0.013065]\n",
      "Individuo 4 = [0.139212, 0.326147]\n"
     ]
    }
   ],
   "source": [
    "selected = RouletteSelection(num_individuals=SELECTED_SIZE).get_individuals(initial_population, fitness_population)\n",
    "for i, ind in enumerate(selected):\n",
    "    print(f\"Individuo {i} = {ind.phenotype}\")\n"
   ]
  },
  {
   "cell_type": "markdown",
   "metadata": {},
   "source": [
    "## Crossover"
   ]
  },
  {
   "cell_type": "code",
   "execution_count": 106,
   "metadata": {},
   "outputs": [],
   "source": [
    "class Crossover(ABC):\n",
    "    def __init__(self, probability: float):\n",
    "        self.probability = probability\n",
    "    \n",
    "    @abstractmethod\n",
    "    def make(self, p1: Individual, p2: Individual):\n",
    "        pass\n",
    "        "
   ]
  },
  {
   "cell_type": "markdown",
   "metadata": {},
   "source": [
    "### One-Point Crossover"
   ]
  },
  {
   "cell_type": "code",
   "execution_count": 107,
   "metadata": {},
   "outputs": [],
   "source": [
    "class OnePointCrossover(Crossover):\n",
    "    def __init__(self, probability: float):\n",
    "        super().__init__(probability)\n",
    "\n",
    "    def make(self, p1: Individual, p2: Individual):\n",
    "        # dos hijos por pareja\n",
    "        if random.random() < self.probability:\n",
    "            c1 = copy.deepcopy(p1.getGenotype())\n",
    "            c2 = copy.deepcopy(p2.getGenotype())\n",
    "            point = random.randint(1, len(c1) - 2)\n",
    "\n",
    "            c1[point:], c2[point:] = c2[point:], c1[point:]\n",
    "            return Individual.newLike(c1, p1), Individual.newLike(c2, p2)\n",
    "        return None"
   ]
  },
  {
   "cell_type": "markdown",
   "metadata": {},
   "source": [
    "### N-Point Crossover"
   ]
  },
  {
   "cell_type": "code",
   "execution_count": 108,
   "metadata": {},
   "outputs": [],
   "source": [
    "class NPointCrossover(Crossover):\n",
    "    def __init__(self, probability: float, n: int):\n",
    "        super().__init__(probability)\n",
    "        self.n = n\n",
    "\n",
    "    def make(self, p1: Individual, p2: Individual):\n",
    "        # dos hijos por pareja\n",
    "        if random.random() < self.probability:\n",
    "            ps = random.sample(range(1, p1.gen_size * p1.n_var - 1), self.n)\n",
    "            ps.append(0)\n",
    "            ps.append(p1.gen_size * p1.n_var)\n",
    "            ps = sorted(ps)\n",
    "            c1 = copy.deepcopy(p1.getGenotype())\n",
    "            c2 = copy.deepcopy(p2.getGenotype())\n",
    "            for i in range(0, self.n + 1):\n",
    "                if i % 2 == 0:\n",
    "                    continue\n",
    "                c1[ps[i]:ps[i + 1]], c2[ps[i]:ps[i + 1]] = c2[ps[i]:ps[i + 1]], c1[ps[i]:ps[i + 1]]\n",
    "\n",
    "            return Individual.newLike(c1, p1), Individual.newLike(c2, p2)\n",
    "        return None\n"
   ]
  },
  {
   "cell_type": "markdown",
   "metadata": {},
   "source": [
    "### Shuffle Crossover"
   ]
  },
  {
   "cell_type": "code",
   "execution_count": 109,
   "metadata": {},
   "outputs": [],
   "source": [
    "class ShuffleCrossover(Crossover):\n",
    "    def __init__(self, probability: float):\n",
    "        super().__init__(probability)\n",
    "\n",
    "    def make(self, p1: Individual, p2: Individual):\n",
    "        # dos hijos por pareja\n",
    "        if random.random() < self.probability:\n",
    "            index = list(range(0, p1.gen_size * p1.n_var))\n",
    "            random.shuffle(index)\n",
    "\n",
    "            p1_gen = np.array(p1.getGenotype())\n",
    "            p2_gen = np.array(p2.getGenotype())\n",
    "\n",
    "            c1 = np.copy(p1_gen[index])\n",
    "            c2 = np.copy(p1_gen[index])\n",
    "            temp = np.copy(p2_gen[index])\n",
    "\n",
    "            point = random.randint(1, len(c1) - 2)\n",
    "            # slice swap list isn't equals that slice in numpy\n",
    "            c1[point:], c2[:point] = temp[point:], temp[:point]\n",
    "\n",
    "            c1_unshuffle = np.zeros_like(c1, dtype=int)\n",
    "            c2_unshuffle = np.zeros_like(c2, dtype=int)\n",
    "\n",
    "            c1_unshuffle[index] = c1[index]\n",
    "            c2_unshuffle[index] = c2[index]\n",
    "            return Individual.newLike(c1_unshuffle, p1), Individual.newLike(c2_unshuffle, p2)\n",
    "        return None\n"
   ]
  },
  {
   "cell_type": "markdown",
   "metadata": {},
   "source": [
    "### Uniform Crossover"
   ]
  },
  {
   "cell_type": "code",
   "execution_count": 110,
   "metadata": {},
   "outputs": [],
   "source": [
    "class UniformCrossover(Crossover):\n",
    "    def __init__(self, probability: float, swap_probability: float):\n",
    "        super().__init__(probability)\n",
    "        self.swap_probability = swap_probability\n",
    "\n",
    "    def make(self, p1: Individual, p2: Individual):\n",
    "        # dos hijos por pareja\n",
    "        if random.random() < self.probability:\n",
    "            # swap a random position i\n",
    "            c1 = copy.deepcopy(p1.getGenotype())\n",
    "            c2 = copy.deepcopy(p2.getGenotype())\n",
    "\n",
    "            for i in range(p1.gen_size * p1.n_var):\n",
    "                if random.random() < self.swap_probability:\n",
    "                    c1[i], c2[i] = c2[i], c1[i]\n",
    "            return Individual.newLike(c1, p1), Individual.newLike(c2, p2)\n",
    "        return None\n"
   ]
  },
  {
   "cell_type": "markdown",
   "metadata": {},
   "source": [
    "## Mutation"
   ]
  },
  {
   "cell_type": "code",
   "execution_count": 111,
   "metadata": {},
   "outputs": [],
   "source": [
    "class Mutation(ABC):\n",
    "    def __init__(self, probability: float):\n",
    "        self.probability = probability\n",
    "    \n",
    "    @abstractmethod\n",
    "    def make(self, p1: Individual, p2: Individual):\n",
    "        pass\n",
    "        "
   ]
  },
  {
   "cell_type": "code",
   "execution_count": 112,
   "metadata": {},
   "outputs": [],
   "source": [
    "class OneFlipMutation(Mutation):\n",
    "    def __init__(self, probability: float):\n",
    "        super().__init__(probability)\n",
    "\n",
    "    def make(self, ind: Individual):\n",
    "        mut = copy.deepcopy(ind.getGenotype())\n",
    "        if random.random() < self.probability:\n",
    "            # punto aleatorio de la cadena\n",
    "            point = random.randint(0, len(mut) - 1)\n",
    "\n",
    "            if len(mut) > ind.n_var:\n",
    "                mut[point] = (mut[point] + 1) % 2\n",
    "            else:\n",
    "                mut[point] = random.uniform(ind.domain[0], ind.domain[1])\n",
    "            return Individual.newLike(mut, ind)\n",
    "        return None"
   ]
  },
  {
   "cell_type": "code",
   "execution_count": 113,
   "metadata": {},
   "outputs": [],
   "source": [
    "class UniformMutation(Mutation):\n",
    "    def __init__(self, probability: float):\n",
    "        super().__init__(probability)\n",
    "\n",
    "    def make(self, ind: Individual):\n",
    "        mut = copy.deepcopy(ind.getGenotype())\n",
    "        if random.random() < self.probability:\n",
    "            # punto aleatorio de la cadena\n",
    "            p = 0.5\n",
    "            for i in range(len(mut)):\n",
    "                if random.random() < p:\n",
    "                    mut[i] = (mut[i] + 1) % 2\n",
    "            return Individual.newLike(mut, ind)\n",
    "        return None\n"
   ]
  },
  {
   "cell_type": "code",
   "execution_count": 114,
   "metadata": {},
   "outputs": [],
   "source": [
    "class SwapMutation(Mutation):\n",
    "    def __init__(self, probability: float):\n",
    "        super().__init__(probability)\n",
    "\n",
    "    def make(self, ind: Individual):\n",
    "        mut = copy.deepcopy(ind.getGenotype())\n",
    "        if ind.default_repr != Representation.DECIMAL:\n",
    "            if random.random() < self.probability:\n",
    "                i, j = random.sample(range(len(mut)), k=2)\n",
    "                mut[i], mut[j] = mut[j], mut[i]\n",
    "                return Individual.newLike(mut, ind)\n",
    "        return None\n"
   ]
  },
  {
   "cell_type": "code",
   "execution_count": 115,
   "metadata": {},
   "outputs": [],
   "source": [
    "class ReversingMutation(Mutation):\n",
    "    def __init__(self, probability: float):\n",
    "        super().__init__(probability)\n",
    "\n",
    "    def make(self, ind: Individual):\n",
    "        mut = copy.deepcopy(ind.getGenotype())\n",
    "        if ind.default_repr != Representation.DECIMAL:\n",
    "            if random.random() < self.probability:\n",
    "                point = random.randint(0, len(mut) - 2)\n",
    "                mut[point] = (mut[point + 1] + 1) % 2\n",
    "                return Individual.newLike(mut, ind)\n",
    "        return None\n"
   ]
  },
  {
   "cell_type": "markdown",
   "metadata": {},
   "source": [
    "### Esquema general de un AE genérico "
   ]
  },
  {
   "cell_type": "code",
   "execution_count": 116,
   "metadata": {},
   "outputs": [],
   "source": [
    "def genenetic_algorithm(max_generation: int,\n",
    "                        fitness: Callable[[list[float]], float],\n",
    "                        population: list[Individual],\n",
    "                        selection: Selection,\n",
    "                        crossover: Crossover,\n",
    "                        mutation: Mutation):\n",
    "    best: list[Individual] = []\n",
    "    generation_number = 0\n",
    "    while generation_number < max_generation:\n",
    "        generation_number += 1\n",
    "        # evaluacion de la aptitud de la población inicial (n individuos)\n",
    "        population_fitness = [fitness(ind.phenotype) for ind in population]\n",
    "        # seleccion de los padres (para la reproducción)\n",
    "        parents = selection.get_individuals(population, population_fitness)\n",
    "        # operadores de variación\n",
    "        offspring: list[Individual] = []\n",
    "        # crossover\n",
    "        for p1, p2 in zip(parents[0::2], parents[1::2]):\n",
    "            if (childs := crossover.make(p1, p2)) != None:\n",
    "                offspring += childs\n",
    "        # mutation\n",
    "        for ind in parents:\n",
    "            if (mutant := mutation.make(ind)) != None:\n",
    "                offspring.append(mutant)\n",
    "        # evaluacion de la aptitud de los λ descendientes\n",
    "        offspring_fitness = [fitness(ind.phenotype) for ind in offspring]\n",
    "\n",
    "        prev_fitness = copy.deepcopy(population_fitness)\n",
    "        # λ individuos aptos + n padres\n",
    "        population += offspring\n",
    "        population_fitness += offspring_fitness\n",
    "        # seleccionamos un individuo para la grafica\n",
    "        best.append(population[random.randint(0, len(population) - 1)])\n",
    "        # selección del ambiente n\n",
    "        population = selection.get_individuals(population, population_fitness)\n",
    "\n",
    "        curr_fitness = [fitness(ind.phenotype) for ind in population]\n",
    "        S = selection.intensity(prev_fitness, curr_fitness)\n",
    "\n",
    "        # impresión de la generación\n",
    "        if generation_number % int(max_generation / 10) == 0:\n",
    "            print(f\"Generación: {generation_number}, número de descendientes: {len(offspring)}, intensidad: {S}\")\n",
    "\n",
    "    plt.plot([fitness(x.phenotype) for x in best], \"r-\")\n",
    "    plt.title(f\"{selection.__class__.__name__}, {crossover.__class__.__name__} & {mutation.__class__.__name__}\\nGeneration number {generation_number}\")\n",
    "    plt.ylabel(\"Fitness\")\n",
    "    plt.xlabel(\"Generation\")\n",
    "    plt.show()\n",
    "    return best\n"
   ]
  },
  {
   "cell_type": "markdown",
   "metadata": {},
   "source": [
    "## 3. Evaluación de la intensidad de selección: para los problemas planteados en la pregunta (1) evaluar la presión de selección considerando los siguientes casos.\n",
    "**Importante**: El número de descendientes está dado de manera probabiliística por los operadores de variación, por lo que es complicado establecer un número fijo de descendientes, sin embargo, tendrá el casi el mismo número según la cantidad de padres que se apareen, pues si son 10 padres, cada 2 parejas pueden tener 2 hijos, habrá alrededor de 8, 9 o 10 descendientes.\n"
   ]
  },
  {
   "cell_type": "markdown",
   "metadata": {},
   "source": [
    "#### a) Para el primer caso (ecuación 1) considerar la representación binaria, una población inicial 15 individuos del cual debe seleccionar 10 padres y crear 10 descendientes, una taza de cruce de 0.8, una tasa de mutación de 0.01, donde el cruce y la mutación son seleccionadas de forma aleatoria (Usando los mismos criterios del ejemplo mostrado en Colab-note) realizar lo siguiente:\n",
    "\n",
    "• Usando el método de torneo para la selección de las nuevas generaciones (constantes de 15 individuos)\n"
   ]
  },
  {
   "cell_type": "code",
   "execution_count": 154,
   "metadata": {},
   "outputs": [
    {
     "name": "stdout",
     "output_type": "stream",
     "text": [
      "Generación: 1, número de descendientes: 9, intensidad: -1.240839709438796\n",
      "Generación: 2, número de descendientes: 11, intensidad: -0.8260873771388361\n",
      "Generación: 3, número de descendientes: 10, intensidad: -1.2240877998426478\n",
      "Generación: 4, número de descendientes: 8, intensidad: -0.24999999999656905\n",
      "Generación: 5, número de descendientes: 9, intensidad: -0.4364357804759778\n",
      "Generación: 6, número de descendientes: 8, intensidad: -0.5999999999963403\n",
      "Generación: 7, número de descendientes: 8, intensidad: 0.7500000000011436\n",
      "Generación: 8, número de descendientes: 3, intensidad: -1.0\n",
      "Generación: 9, número de descendientes: 9, intensidad: 0.0\n",
      "Generación: 10, número de descendientes: 8, intensidad: -0.49999999999885636\n"
     ]
    },
    {
     "data": {
      "image/png": "[encoded data removed]",
      "text/plain": [
       "<Figure size 432x288 with 1 Axes>"
      ]
     },
     "metadata": {
      "needs_background": "light"
     },
     "output_type": "display_data"
    }
   ],
   "source": [
    "# GA CANONICAL HYPERPARAMETERS\n",
    "MAX_GENERATION = 10\n",
    "POPULATION_SIZE = 15\n",
    "SELECTED_SIZE = 10\n",
    "# NOTA: El número de descendientes está dado de manera estocástica según los operadores de variación, así que es complicado establecer un número fijo de descendientes\n",
    "# sin embargo rondará los 10 individuos.\n",
    "OFFSPRING_SIZE = 10\n",
    "CROSSOVER_PROBABILITY = 0.8\n",
    "MUTATION_PROBABILITY = 0.01\n",
    "\n",
    "args = IndividualArguments(domain_1, eps_1, n_var_1, GEN_SIZE_1, Representation.GRAY)\n",
    "initial_population = [Individual.newRandom(args) for _ in range(POPULATION_SIZE)]\n",
    "\n",
    "# PIPELINE GA TOURNAMENT SELECTION\n",
    "best = genenetic_algorithm(max_generation=MAX_GENERATION,\n",
    "                           fitness=f1,\n",
    "                           population=initial_population,\n",
    "                           selection=TournamentSelection(num_individuals=SELECTED_SIZE, tournament_size=3),\n",
    "                           crossover=NPointCrossover(probability=CROSSOVER_PROBABILITY, n=2),\n",
    "                           mutation=UniformMutation(probability=0.1))\n"
   ]
  },
  {
   "cell_type": "code",
   "execution_count": 118,
   "metadata": {},
   "outputs": [
    {
     "name": "stdout",
     "output_type": "stream",
     "text": [
      "[1, 1, 1, 1, 1, 0, 1, 1, 0, 0]\n",
      "[1, 0, 0, 0, 1, 1, 0, 1, 1, 0]\n"
     ]
    }
   ],
   "source": [
    "ind = initial_population[0]\n",
    "print(ind.getGenotype())\n",
    "child = UniformMutation(1).make(ind)\n",
    "print(child.getGenotype())\n"
   ]
  },
  {
   "cell_type": "code",
   "execution_count": 153,
   "metadata": {},
   "outputs": [
    {
     "name": "stdout",
     "output_type": "stream",
     "text": [
      "Generación: 1, número de descendientes: 6, intensidad: -0.8557545396522357\n",
      "Generación: 2, número de descendientes: 2, intensidad: -0.5815000933726889\n",
      "Generación: 3, número de descendientes: 8, intensidad: -0.5656240284956449\n",
      "Generación: 4, número de descendientes: 8, intensidad: 0.8728715609413645\n",
      "Generación: 5, número de descendientes: 10, intensidad: -0.43643578047068227\n",
      "Generación: 6, número de descendientes: 10, intensidad: -0.19999999999641865\n",
      "Generación: 7, número de descendientes: 10, intensidad: -0.6123724357000588\n",
      "Generación: 8, número de descendientes: 9, intensidad: 0.0\n",
      "Generación: 9, número de descendientes: 8, intensidad: 0.33333333333731263\n",
      "Generación: 10, número de descendientes: 10, intensidad: 0.24999999999925387\n"
     ]
    },
    {
     "data": {
      "image/png": "[encoded data removed]",
      "text/plain": [
       "<Figure size 432x288 with 1 Axes>"
      ]
     },
     "metadata": {
      "needs_background": "light"
     },
     "output_type": "display_data"
    }
   ],
   "source": [
    "# GA CANONICAL HYPERPARAMETERS\n",
    "MAX_GENERATION = 10\n",
    "POPULATION_SIZE = 15\n",
    "SELECTED_SIZE = 10\n",
    "CROSSOVER_PROBABILITY = 0.8\n",
    "MUTATION_PROBABILITY = 0.01\n",
    "\n",
    "args = IndividualArguments(domain_1, eps_1, n_var_1, GEN_SIZE_1, Representation.GRAY)\n",
    "initial_population = [Individual.newRandom(args) for _ in range(POPULATION_SIZE)]\n",
    "\n",
    "# PIPELINE GA TOURNAMENT SELECTION\n",
    "best = genenetic_algorithm(max_generation=MAX_GENERATION,\n",
    "                           fitness=f1,\n",
    "                           population=initial_population,\n",
    "                           selection=TournamentSelection(num_individuals=SELECTED_SIZE, tournament_size=3),\n",
    "                           crossover=NPointCrossover(probability=CROSSOVER_PROBABILITY, n=2),\n",
    "                           mutation=UniformMutation(probability=MUTATION_PROBABILITY))\n"
   ]
  },
  {
   "cell_type": "markdown",
   "metadata": {},
   "source": [
    "#### Evalúe la intensidad de selección para cada uno de los métodos de selección en la pregunta (2)."
   ]
  },
  {
   "cell_type": "code",
   "execution_count": 120,
   "metadata": {},
   "outputs": [
    {
     "name": "stdout",
     "output_type": "stream",
     "text": [
      "Optimal value with Tournament Selection\n",
      " x* = [-2.763440860215054], f(x*) = -4.598609968309567\n"
     ]
    }
   ],
   "source": [
    "solution = min(best, key=lambda x: f1(x.phenotype))\n",
    "print(f\"Optimal value with Tournament Selection\\n x* = {solution.phenotype}, f(x*) = {f1(solution.phenotype)}\")"
   ]
  },
  {
   "cell_type": "code",
   "execution_count": 121,
   "metadata": {},
   "outputs": [
    {
     "name": "stdout",
     "output_type": "stream",
     "text": [
      "Generación: 1, número de descendientes: 7, intensidad: -0.3119030405678449\n",
      "Generación: 2, número de descendientes: 8, intensidad: -0.5266478335745322\n",
      "Generación: 3, número de descendientes: 6, intensidad: -0.006375849437818848\n",
      "Generación: 4, número de descendientes: 6, intensidad: 0.3707657237696385\n",
      "Generación: 5, número de descendientes: 11, intensidad: -0.18362389239305008\n",
      "Generación: 6, número de descendientes: 10, intensidad: 0.24804528444936677\n",
      "Generación: 7, número de descendientes: 8, intensidad: 0.029116085419903622\n",
      "Generación: 8, número de descendientes: 8, intensidad: -0.43352161242548515\n",
      "Generación: 9, número de descendientes: 10, intensidad: 0.1744926061437137\n",
      "Generación: 10, número de descendientes: 6, intensidad: -0.4442348829473905\n"
     ]
    },
    {
     "data": {
      "image/png": "[encoded data removed]",
      "text/plain": [
       "<Figure size 432x288 with 1 Axes>"
      ]
     },
     "metadata": {
      "needs_background": "light"
     },
     "output_type": "display_data"
    }
   ],
   "source": [
    "# PIPELINE GA PROPORTIONAL SELECTION\n",
    "best = genenetic_algorithm(max_generation=MAX_GENERATION,\n",
    "                           fitness=f1,\n",
    "                           population=initial_population,\n",
    "                           selection=ProportionalSelection(num_individuals=SELECTED_SIZE, delta=10),\n",
    "                           crossover=UniformCrossover(probability=CROSSOVER_PROBABILITY, swap_probability=0.5),\n",
    "                           mutation=UniformMutation(probability=MUTATION_PROBABILITY))\n"
   ]
  },
  {
   "cell_type": "code",
   "execution_count": 122,
   "metadata": {},
   "outputs": [
    {
     "name": "stdout",
     "output_type": "stream",
     "text": [
      "Optimal value with Proportional Selection\n",
      " x* = [-3.364533], f(x*) = -2.5512277471424607\n"
     ]
    }
   ],
   "source": [
    "solution = min(best, key=lambda x: f1(x.phenotype))\n",
    "print(f\"Optimal value with Proportional Selection\\n x* = {solution.phenotype}, f(x*) = {f1(solution.phenotype)}\")"
   ]
  },
  {
   "cell_type": "code",
   "execution_count": 123,
   "metadata": {},
   "outputs": [
    {
     "name": "stdout",
     "output_type": "stream",
     "text": [
      "Generación: 1, número de descendientes: 11, intensidad: -0.7236747258885698\n",
      "Generación: 2, número de descendientes: 7, intensidad: -0.8284415178376212\n",
      "Generación: 3, número de descendientes: 8, intensidad: -0.7523017026439565\n",
      "Generación: 4, número de descendientes: 12, intensidad: -0.8313784820650527\n",
      "Generación: 5, número de descendientes: 8, intensidad: -0.8728715609439797\n",
      "Generación: 6, número de descendientes: 8, intensidad: -0.6546536707079975\n",
      "Generación: 7, número de descendientes: 8, intensidad: 0.0\n",
      "Generación: 8, número de descendientes: 8, intensidad: 0.0\n",
      "Generación: 9, número de descendientes: 8, intensidad: 0.0\n",
      "Generación: 10, número de descendientes: 8, intensidad: 0.0\n"
     ]
    },
    {
     "data": {
      "image/png": "[encoded data removed]",
      "text/plain": [
       "<Figure size 432x288 with 1 Axes>"
      ]
     },
     "metadata": {
      "needs_background": "light"
     },
     "output_type": "display_data"
    }
   ],
   "source": [
    "# PIPELINE GA LINEAR RANKING SELECTION\n",
    "best = genenetic_algorithm(max_generation=MAX_GENERATION,\n",
    "                           fitness=f1,\n",
    "                           population=initial_population,\n",
    "                           selection=LinearRankingSelection(num_individuals=SELECTED_SIZE, s=2),\n",
    "                           crossover=OnePointCrossover(probability=0.8),\n",
    "                           mutation=OneFlipMutation(probability=0.1))\n"
   ]
  },
  {
   "cell_type": "code",
   "execution_count": 124,
   "metadata": {},
   "outputs": [
    {
     "name": "stdout",
     "output_type": "stream",
     "text": [
      "Generación: 1, número de descendientes: 8, intensidad: -0.8842977085342608\n",
      "Generación: 2, número de descendientes: 6, intensidad: -0.5440121501285502\n",
      "Generación: 3, número de descendientes: 10, intensidad: -0.1462807117834234\n",
      "Generación: 4, número de descendientes: 12, intensidad: -0.6734327556655961\n",
      "Generación: 5, número de descendientes: 10, intensidad: -0.7637433597544336\n",
      "Generación: 6, número de descendientes: 12, intensidad: -0.8128411269205221\n",
      "Generación: 7, número de descendientes: 9, intensidad: 0.0\n",
      "Generación: 8, número de descendientes: 8, intensidad: 0.0\n",
      "Generación: 9, número de descendientes: 8, intensidad: 0.0\n",
      "Generación: 10, número de descendientes: 10, intensidad: 0.0\n"
     ]
    },
    {
     "data": {
      "image/png": "[encoded data removed]",
      "text/plain": [
       "<Figure size 432x288 with 1 Axes>"
      ]
     },
     "metadata": {
      "needs_background": "light"
     },
     "output_type": "display_data"
    }
   ],
   "source": [
    "# PIPELINE GA LINEAR RANKING SELECTION\n",
    "best = genenetic_algorithm(max_generation=MAX_GENERATION,\n",
    "                           fitness=f1,\n",
    "                           population=initial_population,\n",
    "                           selection=LinearRankingSelection(num_individuals=SELECTED_SIZE, s=2),\n",
    "                           crossover=OnePointCrossover(probability=0.8),\n",
    "                           mutation=UniformMutation(probability=0.1))\n"
   ]
  },
  {
   "cell_type": "code",
   "execution_count": 125,
   "metadata": {},
   "outputs": [
    {
     "name": "stdout",
     "output_type": "stream",
     "text": [
      "Optimal value with Linear Ranking Selection\n",
      " x* = [-3.2375366568914954], f(x*) = -3.9319532709866074\n"
     ]
    }
   ],
   "source": [
    "solution = min(best, key=lambda x: f1(x.phenotype))\n",
    "print(f\"Optimal value with Linear Ranking Selection\\n x* = {solution.phenotype}, f(x*) = {f1(solution.phenotype)}\")"
   ]
  },
  {
   "cell_type": "code",
   "execution_count": 126,
   "metadata": {},
   "outputs": [
    {
     "name": "stdout",
     "output_type": "stream",
     "text": [
      "Generación: 1, número de descendientes: 6, intensidad: -0.2154483925305154\n",
      "Generación: 2, número de descendientes: 6, intensidad: 0.7470258419279766\n",
      "Generación: 3, número de descendientes: 7, intensidad: -0.12247357506985292\n",
      "Generación: 4, número de descendientes: 8, intensidad: -0.1797372462672305\n",
      "Generación: 5, número de descendientes: 10, intensidad: -1.1163982271025903\n",
      "Generación: 6, número de descendientes: 8, intensidad: 0.48549901431244635\n",
      "Generación: 7, número de descendientes: 10, intensidad: -0.34539148339282455\n",
      "Generación: 8, número de descendientes: 6, intensidad: -0.6755812367317127\n",
      "Generación: 9, número de descendientes: 11, intensidad: 0.35036410318241856\n",
      "Generación: 10, número de descendientes: 8, intensidad: 0.16379591125450613\n"
     ]
    },
    {
     "data": {
      "image/png": "[encoded data removed]",
      "text/plain": [
       "<Figure size 432x288 with 1 Axes>"
      ]
     },
     "metadata": {
      "needs_background": "light"
     },
     "output_type": "display_data"
    }
   ],
   "source": [
    "# PIPELINE GA UNIFORM SELECTION\n",
    "best = genenetic_algorithm(max_generation=MAX_GENERATION,\n",
    "                           fitness=f1,\n",
    "                           population=initial_population,\n",
    "                           selection=UniformSelection(num_individuals=SELECTED_SIZE),\n",
    "                           crossover=OnePointCrossover(probability=CROSSOVER_PROBABILITY),\n",
    "                           mutation=OneFlipMutation(probability=MUTATION_PROBABILITY))\n"
   ]
  },
  {
   "cell_type": "code",
   "execution_count": 127,
   "metadata": {},
   "outputs": [
    {
     "name": "stdout",
     "output_type": "stream",
     "text": [
      "Optimal value with Uniform Selection\n",
      " x* = [-3.27663734115347], f(x*) = -3.574445309587613\n"
     ]
    }
   ],
   "source": [
    "solution = min(best, key=lambda x: f1(x.phenotype))\n",
    "print(f\"Optimal value with Uniform Selection\\n x* = {solution.phenotype}, f(x*) = {f1(solution.phenotype)}\")"
   ]
  },
  {
   "cell_type": "code",
   "execution_count": 128,
   "metadata": {},
   "outputs": [
    {
     "name": "stdout",
     "output_type": "stream",
     "text": [
      "Generación: 1, número de descendientes: 8, intensidad: -0.30044063972595764\n",
      "Generación: 2, número de descendientes: 6, intensidad: -0.4551830907567232\n",
      "Generación: 3, número de descendientes: 10, intensidad: -0.6345638766972721\n",
      "Generación: 4, número de descendientes: 10, intensidad: -1.0100184523169493\n",
      "Generación: 5, número de descendientes: 8, intensidad: -1.1519841616760516\n",
      "Generación: 6, número de descendientes: 10, intensidad: 0.0\n",
      "Generación: 7, número de descendientes: 8, intensidad: 0.0\n",
      "Generación: 8, número de descendientes: 11, intensidad: -1013467901034186.0\n",
      "Generación: 9, número de descendientes: 10, intensidad: 0.0\n",
      "Generación: 10, número de descendientes: 6, intensidad: 0.0\n"
     ]
    },
    {
     "data": {
      "image/png": "[encoded data removed]",
      "text/plain": [
       "<Figure size 432x288 with 1 Axes>"
      ]
     },
     "metadata": {
      "needs_background": "light"
     },
     "output_type": "display_data"
    }
   ],
   "source": [
    "# PIPELINE GA ROULETTE SELECTION\n",
    "best = genenetic_algorithm(max_generation=MAX_GENERATION,\n",
    "                           fitness=f1,\n",
    "                           population=initial_population,\n",
    "                           selection=RouletteSelection(num_individuals=SELECTED_SIZE),\n",
    "                           crossover=OnePointCrossover(probability=CROSSOVER_PROBABILITY),\n",
    "                           mutation=OneFlipMutation(probability=MUTATION_PROBABILITY))\n"
   ]
  },
  {
   "cell_type": "code",
   "execution_count": 129,
   "metadata": {},
   "outputs": [
    {
     "name": "stdout",
     "output_type": "stream",
     "text": [
      "Optimal value with Roulette Selection\n",
      " x* = [-3.340175953079179], f(x*) = -2.8665218103234746\n"
     ]
    }
   ],
   "source": [
    "solution = min(best, key=lambda x: f1(x.phenotype))\n",
    "print(f\"Optimal value with Roulette Selection\\n x* = {solution.phenotype}, f(x*) = {f1(solution.phenotype)}\")"
   ]
  },
  {
   "cell_type": "markdown",
   "metadata": {},
   "source": [
    "#### b) Para el segundo caso (ecuación 2) considerar la representación Gray, una población inicial 20 individuos del cual debe seleccionar 15 padres y crear 15 descendientes, una taza de cruce de 0.8, una tasa de mutación de 0.01, donde el cruce y la mutación son seleccionadas de forma aleatoria (Usando los mismos criterios del ejemplo mostrado en Colab-note) realizar lo siguiente:\n",
    "\n",
    "• Usando el método de torneo para la selección de las nuevas generaciones (constantes de 20 individuos)"
   ]
  },
  {
   "cell_type": "code",
   "execution_count": 130,
   "metadata": {},
   "outputs": [
    {
     "name": "stdout",
     "output_type": "stream",
     "text": [
      "Generación: 1, número de descendientes: 14, intensidad: -0.9767061129046261\n",
      "Generación: 2, número de descendientes: 6, intensidad: -1.4675638265534314\n",
      "Generación: 3, número de descendientes: 12, intensidad: -0.3600939614666372\n",
      "Generación: 4, número de descendientes: 14, intensidad: 0.0\n",
      "Generación: 5, número de descendientes: 10, intensidad: 0.0\n",
      "Generación: 6, número de descendientes: 8, intensidad: 0.0\n",
      "Generación: 7, número de descendientes: 9, intensidad: -945661028286702.0\n",
      "Generación: 8, número de descendientes: 12, intensidad: -1.658312395177701\n",
      "Generación: 9, número de descendientes: 14, intensidad: 0.0\n",
      "Generación: 10, número de descendientes: 14, intensidad: 0.0\n"
     ]
    },
    {
     "data": {
      "image/png": "[encoded data removed]",
      "text/plain": [
       "<Figure size 432x288 with 1 Axes>"
      ]
     },
     "metadata": {
      "needs_background": "light"
     },
     "output_type": "display_data"
    }
   ],
   "source": [
    "# GA CANONICAL HYPERPARAMETERS\n",
    "MAX_GENERATION = 10\n",
    "POPULATION_SIZE = 20\n",
    "SELECTED_SIZE = 15\n",
    "OFFSPRING_SIZE = 15\n",
    "CROSSOVER_PROBABILITY = 0.8\n",
    "MUTATION_PROBABILITY = 0.01\n",
    "\n",
    "args2 = IndividualArguments(domain_2, eps_2, n_var_2, GEN_SIZE_2, Representation.GRAY)\n",
    "initial_population = [Individual.newRandom(args2) for _ in range(POPULATION_SIZE)]\n",
    "\n",
    "# PIPELINE GA\n",
    "best = genenetic_algorithm(max_generation=MAX_GENERATION,\n",
    "                           fitness=f2,\n",
    "                           population=initial_population,\n",
    "                           selection=TournamentSelection(num_individuals=SELECTED_SIZE, tournament_size=5),\n",
    "                           crossover=OnePointCrossover(probability=CROSSOVER_PROBABILITY),\n",
    "                           mutation=OneFlipMutation(probability=MUTATION_PROBABILITY))\n",
    "\n"
   ]
  },
  {
   "cell_type": "code",
   "execution_count": 131,
   "metadata": {},
   "outputs": [
    {
     "name": "stdout",
     "output_type": "stream",
     "text": [
      "Optimal value\n",
      " x* = [0.09677419354838701, 0.032258064516129004], f(x*) = 0.1783442589796601\n"
     ]
    }
   ],
   "source": [
    "solution = min(best, key=lambda x: f2(x.phenotype))\n",
    "print(f\"Optimal value\\n x* = {solution.phenotype}, f(x*) = {f2(solution.phenotype)}\")"
   ]
  },
  {
   "cell_type": "markdown",
   "metadata": {},
   "source": [
    "#### Evalúe la intensidad de selección para cada uno de los métodos de selección en la pregunta (2).\n"
   ]
  },
  {
   "cell_type": "code",
   "execution_count": 132,
   "metadata": {},
   "outputs": [
    {
     "name": "stdout",
     "output_type": "stream",
     "text": [
      "Generación: 1, número de descendientes: 13, intensidad: -0.37791509378520055\n",
      "Generación: 2, número de descendientes: 8, intensidad: -0.14773013099522392\n",
      "Generación: 3, número de descendientes: 10, intensidad: -0.1919133201709431\n",
      "Generación: 4, número de descendientes: 10, intensidad: 0.18298182321200698\n",
      "Generación: 5, número de descendientes: 14, intensidad: -0.11481764660574176\n",
      "Generación: 6, número de descendientes: 12, intensidad: 0.18100869106424253\n",
      "Generación: 7, número de descendientes: 12, intensidad: 0.34063549171520496\n",
      "Generación: 8, número de descendientes: 10, intensidad: -0.04985981086062538\n",
      "Generación: 9, número de descendientes: 11, intensidad: 0.2439526268278636\n",
      "Generación: 10, número de descendientes: 13, intensidad: -0.14199785293372602\n"
     ]
    },
    {
     "data": {
      "image/png": "[encoded data removed]",
      "text/plain": [
       "<Figure size 432x288 with 1 Axes>"
      ]
     },
     "metadata": {
      "needs_background": "light"
     },
     "output_type": "display_data"
    }
   ],
   "source": [
    "# PIPELINE GA PROPORTIONAL SELECTION\n",
    "best = genenetic_algorithm(max_generation=MAX_GENERATION,\n",
    "                           fitness=f2,\n",
    "                           population=initial_population,\n",
    "                           selection=ProportionalSelection(num_individuals=SELECTED_SIZE, delta=10),\n",
    "                           crossover=OnePointCrossover(probability=CROSSOVER_PROBABILITY),\n",
    "                           mutation=OneFlipMutation(probability=MUTATION_PROBABILITY))\n"
   ]
  },
  {
   "cell_type": "code",
   "execution_count": 133,
   "metadata": {},
   "outputs": [
    {
     "name": "stdout",
     "output_type": "stream",
     "text": [
      "Optimal value with Proportional Selection\n",
      " x* = [0.09677419354838701, 0.4193548387096775], f(x*) = 0.3104173277949269\n"
     ]
    }
   ],
   "source": [
    "solution = min(best, key=lambda x: f2(x.phenotype))\n",
    "print(f\"Optimal value with Proportional Selection\\n x* = {solution.phenotype}, f(x*) = {f2(solution.phenotype)}\")"
   ]
  },
  {
   "cell_type": "code",
   "execution_count": 134,
   "metadata": {},
   "outputs": [
    {
     "name": "stdout",
     "output_type": "stream",
     "text": [
      "Generación: 1, número de descendientes: 12, intensidad: -0.5993952656645826\n",
      "Generación: 2, número de descendientes: 12, intensidad: -0.853824724680428\n",
      "Generación: 3, número de descendientes: 12, intensidad: -0.8457054346214877\n",
      "Generación: 4, número de descendientes: 12, intensidad: -0.9805806756909174\n",
      "Generación: 5, número de descendientes: 14, intensidad: 0.28874978427377995\n",
      "Generación: 6, número de descendientes: 12, intensidad: -1.2870241728509826\n",
      "Generación: 7, número de descendientes: 10, intensidad: -0.7844645405527371\n",
      "Generación: 8, número de descendientes: 12, intensidad: -1.2247448713915892\n",
      "Generación: 9, número de descendientes: 9, intensidad: 0.0\n",
      "Generación: 10, número de descendientes: 8, intensidad: 0.0\n"
     ]
    },
    {
     "data": {
      "image/png": "[encoded data removed]",
      "text/plain": [
       "<Figure size 432x288 with 1 Axes>"
      ]
     },
     "metadata": {
      "needs_background": "light"
     },
     "output_type": "display_data"
    }
   ],
   "source": [
    "# PIPELINE GA LINEAR RANKING SELECTION\n",
    "best = genenetic_algorithm(max_generation=MAX_GENERATION,\n",
    "                           fitness=f2,\n",
    "                           population=initial_population,\n",
    "                           selection=LinearRankingSelection(num_individuals=SELECTED_SIZE, s=2),\n",
    "                           crossover=OnePointCrossover(probability=CROSSOVER_PROBABILITY),\n",
    "                           mutation=OneFlipMutation(probability=MUTATION_PROBABILITY))\n"
   ]
  },
  {
   "cell_type": "code",
   "execution_count": 135,
   "metadata": {},
   "outputs": [
    {
     "name": "stdout",
     "output_type": "stream",
     "text": [
      "Optimal value with Linear Ranking Selection\n",
      " x* = [0.032258064516129004, 0.22580645161290325], f(x*) = 0.25973324615268367\n"
     ]
    }
   ],
   "source": [
    "solution = min(best, key=lambda x: f2(x.phenotype))\n",
    "print(f\"Optimal value with Linear Ranking Selection\\n x* = {solution.phenotype}, f(x*) = {f2(solution.phenotype)}\")"
   ]
  },
  {
   "cell_type": "code",
   "execution_count": 136,
   "metadata": {},
   "outputs": [
    {
     "name": "stdout",
     "output_type": "stream",
     "text": [
      "Generación: 1, número de descendientes: 12, intensidad: -0.17548908361573845\n",
      "Generación: 2, número de descendientes: 4, intensidad: 0.032155709653942974\n",
      "Generación: 3, número de descendientes: 16, intensidad: 0.1853351831639229\n",
      "Generación: 4, número de descendientes: 12, intensidad: -0.17577293823251217\n",
      "Generación: 5, número de descendientes: 10, intensidad: -0.24023623135142885\n",
      "Generación: 6, número de descendientes: 10, intensidad: -0.04767497471645476\n",
      "Generación: 7, número de descendientes: 8, intensidad: -0.3034428076017947\n",
      "Generación: 8, número de descendientes: 12, intensidad: -0.37421574919773376\n",
      "Generación: 9, número de descendientes: 12, intensidad: -0.2336447731399509\n",
      "Generación: 10, número de descendientes: 8, intensidad: 0.46710669637194396\n"
     ]
    },
    {
     "data": {
      "image/png": "[encoded data removed]",
      "text/plain": [
       "<Figure size 432x288 with 1 Axes>"
      ]
     },
     "metadata": {
      "needs_background": "light"
     },
     "output_type": "display_data"
    }
   ],
   "source": [
    "# PIPELINE GA UNIFORM SELECTION\n",
    "best = genenetic_algorithm(max_generation=MAX_GENERATION,\n",
    "                           fitness=f1,\n",
    "                           population=initial_population,\n",
    "                           selection=UniformSelection(num_individuals=SELECTED_SIZE),\n",
    "                           crossover=OnePointCrossover(probability=CROSSOVER_PROBABILITY),\n",
    "                           mutation=OneFlipMutation(probability=MUTATION_PROBABILITY))\n"
   ]
  },
  {
   "cell_type": "code",
   "execution_count": 137,
   "metadata": {},
   "outputs": [
    {
     "name": "stdout",
     "output_type": "stream",
     "text": [
      "Optimal value with Uniform Selection\n",
      " x* = [-0.032258064516129004, -0.16129032258064524], f(x*) = 0.15509563896251077\n"
     ]
    }
   ],
   "source": [
    "solution = min(best, key=lambda x: f2(x.phenotype))\n",
    "print(f\"Optimal value with Uniform Selection\\n x* = {solution.phenotype}, f(x*) = {f2(solution.phenotype)}\")\n"
   ]
  },
  {
   "cell_type": "code",
   "execution_count": 138,
   "metadata": {},
   "outputs": [
    {
     "name": "stdout",
     "output_type": "stream",
     "text": [
      "Generación: 1, número de descendientes: 14, intensidad: -0.7430295689021635\n",
      "Generación: 2, número de descendientes: 10, intensidad: -1.4343493249586725\n",
      "Generación: 3, número de descendientes: 12, intensidad: -0.6171163355936545\n",
      "Generación: 4, número de descendientes: 10, intensidad: -0.3106677462160186\n",
      "Generación: 5, número de descendientes: 10, intensidad: -0.6704095294207625\n",
      "Generación: 6, número de descendientes: 10, intensidad: -0.4754792371142607\n",
      "Generación: 7, número de descendientes: 12, intensidad: 0.0\n",
      "Generación: 8, número de descendientes: 12, intensidad: 0.0\n",
      "Generación: 9, número de descendientes: 10, intensidad: 0.0\n",
      "Generación: 10, número de descendientes: 12, intensidad: 0.0\n"
     ]
    },
    {
     "data": {
      "image/png": "[encoded data removed]",
      "text/plain": [
       "<Figure size 432x288 with 1 Axes>"
      ]
     },
     "metadata": {
      "needs_background": "light"
     },
     "output_type": "display_data"
    }
   ],
   "source": [
    "# PIPELINE GA ROULETTE SELECTION\n",
    "best = genenetic_algorithm(max_generation=MAX_GENERATION,\n",
    "                           fitness=f2,\n",
    "                           population=initial_population,\n",
    "                           selection=RouletteSelection(num_individuals=SELECTED_SIZE),\n",
    "                           crossover=OnePointCrossover(probability=CROSSOVER_PROBABILITY),\n",
    "                           mutation=OneFlipMutation(probability=MUTATION_PROBABILITY))\n"
   ]
  },
  {
   "cell_type": "code",
   "execution_count": 139,
   "metadata": {},
   "outputs": [
    {
     "name": "stdout",
     "output_type": "stream",
     "text": [
      "Optimal value with Roulette Selection\n",
      " x* = [-0.032258064516129004, -0.22580645161290325], f(x*) = 0.08017233823853531\n"
     ]
    }
   ],
   "source": [
    "solution = min(best, key=lambda x: f2(x.phenotype))\n",
    "print(f\"Optimal value with Roulette Selection\\n x* = {solution.phenotype}, f(x*) = {f2(solution.phenotype)}\")\n"
   ]
  },
  {
   "cell_type": "markdown",
   "metadata": {},
   "source": [
    "#### c) Para el tercer caso (ecuación 3) considerar la representación real, una población inicial 20 individuos del cual debe seleccionar 15 padres y crear 15 descendientes, una taza de cruce de 0.8, una tasa de mutación de 0.01, donde el cruce y la mutación son seleccionadas de forma aleatoria (Usando los mismos criterios del ejemplo mostrado en Colab-note) realizar lo siguiente:\n",
    "\n",
    "• Usando el método de torneo para la selección de las nuevas generaciones (constantes de 20 individuos)"
   ]
  },
  {
   "cell_type": "code",
   "execution_count": 140,
   "metadata": {},
   "outputs": [
    {
     "name": "stdout",
     "output_type": "stream",
     "text": [
      "Generación: 1, número de descendientes: 12, intensidad: -0.4976842612497559\n",
      "Generación: 2, número de descendientes: 10, intensidad: -0.886333937093266\n",
      "Generación: 3, número de descendientes: 14, intensidad: -0.32728412194299156\n",
      "Generación: 4, número de descendientes: 11, intensidad: -0.2672612419124245\n",
      "Generación: 5, número de descendientes: 14, intensidad: 0.0\n",
      "Generación: 6, número de descendientes: 14, intensidad: 0.0\n",
      "Generación: 7, número de descendientes: 12, intensidad: 0.0\n",
      "Generación: 8, número de descendientes: 8, intensidad: 0.0\n",
      "Generación: 9, número de descendientes: 12, intensidad: 0.0\n",
      "Generación: 10, número de descendientes: 12, intensidad: 0.0\n"
     ]
    },
    {
     "data": {
      "image/png": "[encoded data removed]",
      "text/plain": [
       "<Figure size 432x288 with 1 Axes>"
      ]
     },
     "metadata": {
      "needs_background": "light"
     },
     "output_type": "display_data"
    }
   ],
   "source": [
    "# GA CANONICAL HYPERPARAMETERS\n",
    "MAX_GENERATION = 10\n",
    "POPULATION_SIZE = 20\n",
    "SELECTED_SIZE = 15\n",
    "OFFSPRING_SIZE = 15\n",
    "CROSSOVER_PROBABILITY = 0.8\n",
    "MUTATION_PROBABILITY = 0.01\n",
    "\n",
    "args3 = IndividualArguments(domain_3, eps_3, n_var_3, GEN_SIZE_3, Representation.DECIMAL)\n",
    "initial_population = [Individual.newRandom(args3) for _ in range(POPULATION_SIZE)]\n",
    "\n",
    "# PIPELINE GA\n",
    "best = genenetic_algorithm(max_generation=MAX_GENERATION,\n",
    "                           fitness=f3,\n",
    "                           population=initial_population,\n",
    "                           selection=TournamentSelection(num_individuals=SELECTED_SIZE, tournament_size=5),\n",
    "                           crossover=OnePointCrossover(probability=CROSSOVER_PROBABILITY),\n",
    "                           mutation=OneFlipMutation(probability=MUTATION_PROBABILITY))\n"
   ]
  },
  {
   "cell_type": "code",
   "execution_count": 141,
   "metadata": {},
   "outputs": [
    {
     "name": "stdout",
     "output_type": "stream",
     "text": [
      "Optimal value\n",
      " x* = [22.560095, 12.593771, 59.894077, 31.075143], f(x*) = 7.008524060836407e-05\n"
     ]
    }
   ],
   "source": [
    "solution = min(best, key=lambda x: f3(x.phenotype))\n",
    "print(f\"Optimal value\\n x* = {solution.phenotype}, f(x*) = {f3(solution.phenotype)}\")"
   ]
  },
  {
   "cell_type": "code",
   "execution_count": 142,
   "metadata": {},
   "outputs": [
    {
     "name": "stdout",
     "output_type": "stream",
     "text": [
      "Generación: 1, número de descendientes: 12, intensidad: -0.6650701535496155\n",
      "Generación: 2, número de descendientes: 8, intensidad: -0.9767031401052393\n",
      "Generación: 3, número de descendientes: 12, intensidad: -0.5188069997419351\n",
      "Generación: 4, número de descendientes: 8, intensidad: -0.26726124191242506\n",
      "Generación: 5, número de descendientes: 14, intensidad: 0.0\n",
      "Generación: 6, número de descendientes: 8, intensidad: 0.0\n",
      "Generación: 7, número de descendientes: 12, intensidad: 0.0\n",
      "Generación: 8, número de descendientes: 15, intensidad: 0.0\n",
      "Generación: 9, número de descendientes: 10, intensidad: 0.0\n",
      "Generación: 10, número de descendientes: 10, intensidad: 0.0\n"
     ]
    },
    {
     "data": {
      "image/png": "[encoded data removed]",
      "text/plain": [
       "<Figure size 432x288 with 1 Axes>"
      ]
     },
     "metadata": {
      "needs_background": "light"
     },
     "output_type": "display_data"
    }
   ],
   "source": [
    "# GA CANONICAL HYPERPARAMETERS\n",
    "MAX_GENERATION = 10\n",
    "POPULATION_SIZE = 20\n",
    "SELECTED_SIZE = 15\n",
    "OFFSPRING_SIZE = 15\n",
    "CROSSOVER_PROBABILITY = 0.8\n",
    "MUTATION_PROBABILITY = 0.01\n",
    "\n",
    "args3 = IndividualArguments(domain_3, eps_3, n_var_3, GEN_SIZE_3, Representation.DECIMAL)\n",
    "initial_population = [Individual.newRandom(args3) for _ in range(POPULATION_SIZE)]\n",
    "\n",
    "# PIPELINE GA\n",
    "best = genenetic_algorithm(max_generation=MAX_GENERATION,\n",
    "                           fitness=f3,\n",
    "                           population=initial_population,\n",
    "                           selection=TournamentSelection(num_individuals=SELECTED_SIZE, tournament_size=5),\n",
    "                           crossover=OnePointCrossover(probability=CROSSOVER_PROBABILITY),\n",
    "                           mutation=UniformMutation(probability=MUTATION_PROBABILITY))\n"
   ]
  },
  {
   "cell_type": "markdown",
   "metadata": {},
   "source": [
    "#### Evalúe la intensidad de selección para cada uno de los métodos de selección en la pregunta (2).\n"
   ]
  },
  {
   "cell_type": "code",
   "execution_count": 143,
   "metadata": {},
   "outputs": [
    {
     "name": "stdout",
     "output_type": "stream",
     "text": [
      "Generación: 1, número de descendientes: 12, intensidad: -0.035820798362927016\n",
      "Generación: 2, número de descendientes: 10, intensidad: -0.3087721212091363\n",
      "Generación: 3, número de descendientes: 12, intensidad: 0.2222902102468119\n",
      "Generación: 4, número de descendientes: 12, intensidad: -0.29095117206199356\n",
      "Generación: 5, número de descendientes: 10, intensidad: -0.039466637690672636\n",
      "Generación: 6, número de descendientes: 14, intensidad: -0.07637214357532746\n",
      "Generación: 7, número de descendientes: 10, intensidad: 0.221971149199328\n",
      "Generación: 8, número de descendientes: 12, intensidad: 0.19926825870158626\n",
      "Generación: 9, número de descendientes: 8, intensidad: -0.1527183280820415\n",
      "Generación: 10, número de descendientes: 12, intensidad: -0.23402388649187383\n"
     ]
    },
    {
     "data": {
      "image/png": "[encoded data removed]",
      "text/plain": [
       "<Figure size 432x288 with 1 Axes>"
      ]
     },
     "metadata": {
      "needs_background": "light"
     },
     "output_type": "display_data"
    }
   ],
   "source": [
    "# PIPELINE GA PROPORTIONAL SELECTION\n",
    "best = genenetic_algorithm(max_generation=MAX_GENERATION,\n",
    "                           fitness=f3,\n",
    "                           population=initial_population,\n",
    "                           selection=ProportionalSelection(num_individuals=SELECTED_SIZE, delta=10),\n",
    "                           crossover=OnePointCrossover(probability=CROSSOVER_PROBABILITY),\n",
    "                           mutation=OneFlipMutation(probability=MUTATION_PROBABILITY))\n"
   ]
  },
  {
   "cell_type": "code",
   "execution_count": 144,
   "metadata": {},
   "outputs": [
    {
     "name": "stdout",
     "output_type": "stream",
     "text": [
      "Optimal value with Proportional Selection\n",
      " x* = [24.035004, 15.003486, 52.122265, 42.862675], f(x*) = 0.00029350316906290313\n"
     ]
    }
   ],
   "source": [
    "solution = min(best, key=lambda x: f3(x.phenotype))\n",
    "print(f\"Optimal value with Proportional Selection\\n x* = {solution.phenotype}, f(x*) = {f3(solution.phenotype)}\")"
   ]
  },
  {
   "cell_type": "code",
   "execution_count": 145,
   "metadata": {},
   "outputs": [
    {
     "name": "stdout",
     "output_type": "stream",
     "text": [
      "Generación: 1, número de descendientes: 14, intensidad: -0.4985334976516592\n",
      "Generación: 2, número de descendientes: 14, intensidad: -0.5735083034670624\n",
      "Generación: 3, número de descendientes: 12, intensidad: -0.5393833939337067\n",
      "Generación: 4, número de descendientes: 12, intensidad: -0.5029526922981106\n",
      "Generación: 5, número de descendientes: 8, intensidad: -0.5341134702031808\n",
      "Generación: 6, número de descendientes: 12, intensidad: -0.5012738598125792\n",
      "Generación: 7, número de descendientes: 14, intensidad: 0.0\n",
      "Generación: 8, número de descendientes: 16, intensidad: 0.0\n",
      "Generación: 9, número de descendientes: 8, intensidad: 0.0\n",
      "Generación: 10, número de descendientes: 12, intensidad: 0.0\n"
     ]
    },
    {
     "data": {
      "image/png": "[encoded data removed]",
      "text/plain": [
       "<Figure size 432x288 with 1 Axes>"
      ]
     },
     "metadata": {
      "needs_background": "light"
     },
     "output_type": "display_data"
    }
   ],
   "source": [
    "# PIPELINE GA LINEAR RANKING SELECTION\n",
    "best = genenetic_algorithm(max_generation=MAX_GENERATION,\n",
    "                           fitness=f3,\n",
    "                           population=initial_population,\n",
    "                           selection=LinearRankingSelection(num_individuals=SELECTED_SIZE, s=2),\n",
    "                           crossover=OnePointCrossover(probability=CROSSOVER_PROBABILITY),\n",
    "                           mutation=OneFlipMutation(probability=MUTATION_PROBABILITY))\n"
   ]
  },
  {
   "cell_type": "code",
   "execution_count": 146,
   "metadata": {},
   "outputs": [
    {
     "name": "stdout",
     "output_type": "stream",
     "text": [
      "Optimal value with Linear Ranking Selection\n",
      " x* = [14.827491, 20.52109, 52.122265, 42.862675], f(x*) = 6.533410538516421e-05\n"
     ]
    }
   ],
   "source": [
    "solution = min(best, key=lambda x: f3(x.phenotype))\n",
    "print(f\"Optimal value with Linear Ranking Selection\\n x* = {solution.phenotype}, f(x*) = {f3(solution.phenotype)}\")"
   ]
  },
  {
   "cell_type": "code",
   "execution_count": 147,
   "metadata": {},
   "outputs": [
    {
     "name": "stdout",
     "output_type": "stream",
     "text": [
      "Generación: 1, número de descendientes: 6, intensidad: -0.2398323913764287\n",
      "Generación: 2, número de descendientes: 12, intensidad: -0.051081152770165776\n",
      "Generación: 3, número de descendientes: 12, intensidad: 0.0319171484567609\n",
      "Generación: 4, número de descendientes: 10, intensidad: 0.35460234767942433\n",
      "Generación: 5, número de descendientes: 11, intensidad: -0.3464001317896132\n",
      "Generación: 6, número de descendientes: 11, intensidad: 0.09771506753615013\n",
      "Generación: 7, número de descendientes: 12, intensidad: 0.05266620808586143\n",
      "Generación: 8, número de descendientes: 8, intensidad: 0.9525203964223729\n",
      "Generación: 9, número de descendientes: 14, intensidad: 0.16549698378849964\n",
      "Generación: 10, número de descendientes: 14, intensidad: 0.1113805268141335\n"
     ]
    },
    {
     "data": {
      "image/png": "[encoded data removed]",
      "text/plain": [
       "<Figure size 432x288 with 1 Axes>"
      ]
     },
     "metadata": {
      "needs_background": "light"
     },
     "output_type": "display_data"
    }
   ],
   "source": [
    "# PIPELINE GA UNIFORM SELECTION\n",
    "best = genenetic_algorithm(max_generation=MAX_GENERATION,\n",
    "                           fitness=f3,\n",
    "                           population=initial_population,\n",
    "                           selection=UniformSelection(num_individuals=SELECTED_SIZE),\n",
    "                           crossover=OnePointCrossover(probability=CROSSOVER_PROBABILITY),\n",
    "                           mutation=UniformMutation(probability=MUTATION_PROBABILITY))\n"
   ]
  },
  {
   "cell_type": "code",
   "execution_count": 148,
   "metadata": {},
   "outputs": [
    {
     "name": "stdout",
     "output_type": "stream",
     "text": [
      "Optimal value with Uniform Selection\n",
      " x* = [0.9664610000000025, 20.52109, 34.051591, 40.468502], f(x*) = 0.016870639045545262\n"
     ]
    }
   ],
   "source": [
    "solution = min(best, key=lambda x: f3(x.phenotype))\n",
    "print(f\"Optimal value with Uniform Selection\\n x* = {solution.phenotype}, f(x*) = {f3(solution.phenotype)}\")\n"
   ]
  },
  {
   "cell_type": "code",
   "execution_count": 149,
   "metadata": {},
   "outputs": [
    {
     "name": "stdout",
     "output_type": "stream",
     "text": [
      "Generación: 1, número de descendientes: 12, intensidad: -0.20505259876686063\n",
      "Generación: 2, número de descendientes: 12, intensidad: -0.5163463762322176\n",
      "Generación: 3, número de descendientes: 14, intensidad: -0.5422458438502659\n",
      "Generación: 4, número de descendientes: 10, intensidad: -0.4595442322130185\n",
      "Generación: 5, número de descendientes: 10, intensidad: -0.6150663786792436\n",
      "Generación: 6, número de descendientes: 12, intensidad: -0.7897033166226398\n",
      "Generación: 7, número de descendientes: 12, intensidad: -0.43656417766372385\n",
      "Generación: 8, número de descendientes: 10, intensidad: -0.3922322702763681\n",
      "Generación: 9, número de descendientes: 12, intensidad: 0.0\n",
      "Generación: 10, número de descendientes: 12, intensidad: 0.0\n"
     ]
    },
    {
     "data": {
      "image/png": "[encoded data removed]",
      "text/plain": [
       "<Figure size 432x288 with 1 Axes>"
      ]
     },
     "metadata": {
      "needs_background": "light"
     },
     "output_type": "display_data"
    }
   ],
   "source": [
    "# PIPELINE GA ROULETTE SELECTION\n",
    "best = genenetic_algorithm(max_generation=MAX_GENERATION,\n",
    "                           fitness=f3,\n",
    "                           population=initial_population,\n",
    "                           selection=RouletteSelection(num_individuals=SELECTED_SIZE),\n",
    "                           crossover=NPointCrossover(probability=CROSSOVER_PROBABILITY, n=2),\n",
    "                           mutation=OneFlipMutation(probability=MUTATION_PROBABILITY))\n"
   ]
  },
  {
   "cell_type": "code",
   "execution_count": 150,
   "metadata": {},
   "outputs": [
    {
     "name": "stdout",
     "output_type": "stream",
     "text": [
      "Generación: 1, número de descendientes: 14, intensidad: -0.37625458884885044\n",
      "Generación: 2, número de descendientes: 10, intensidad: -0.10012618686691359\n",
      "Generación: 3, número de descendientes: 12, intensidad: -0.525877214344509\n",
      "Generación: 4, número de descendientes: 10, intensidad: -0.34234317912009893\n",
      "Generación: 5, número de descendientes: 14, intensidad: -0.34857288191875513\n",
      "Generación: 6, número de descendientes: 11, intensidad: -0.6779267433929639\n",
      "Generación: 7, número de descendientes: 11, intensidad: -0.7312032099973023\n",
      "Generación: 8, número de descendientes: 8, intensidad: -0.5105635836772601\n",
      "Generación: 9, número de descendientes: 6, intensidad: -0.9633925012378662\n",
      "Generación: 10, número de descendientes: 14, intensidad: -0.5856895078333246\n"
     ]
    },
    {
     "data": {
      "image/png": "[encoded data removed]",
      "text/plain": [
       "<Figure size 432x288 with 1 Axes>"
      ]
     },
     "metadata": {
      "needs_background": "light"
     },
     "output_type": "display_data"
    }
   ],
   "source": [
    "# PIPELINE GA ROULETTE SELECTION\n",
    "best = genenetic_algorithm(max_generation=MAX_GENERATION,\n",
    "                           fitness=f3,\n",
    "                           population=initial_population,\n",
    "                           selection=RouletteSelection(num_individuals=SELECTED_SIZE),\n",
    "                           crossover=NPointCrossover(probability=CROSSOVER_PROBABILITY, n=2),\n",
    "                           mutation=UniformMutation(probability=MUTATION_PROBABILITY))\n"
   ]
  },
  {
   "cell_type": "code",
   "execution_count": 151,
   "metadata": {},
   "outputs": [
    {
     "name": "stdout",
     "output_type": "stream",
     "text": [
      "Generación: 1, número de descendientes: 11, intensidad: 0.028430727836563797\n",
      "Generación: 2, número de descendientes: 10, intensidad: -0.18129917662683778\n",
      "Generación: 3, número de descendientes: 14, intensidad: -0.6489241136323508\n",
      "Generación: 4, número de descendientes: 11, intensidad: -0.28868057176360473\n",
      "Generación: 5, número de descendientes: 14, intensidad: -0.8810022595836883\n",
      "Generación: 6, número de descendientes: 12, intensidad: -0.6744056234902288\n",
      "Generación: 7, número de descendientes: 8, intensidad: -0.516397727073273\n",
      "Generación: 8, número de descendientes: 10, intensidad: -0.5000000000000008\n",
      "Generación: 9, número de descendientes: 13, intensidad: 89049161748053.0\n",
      "Generación: 10, número de descendientes: 13, intensidad: -0.26726124191242556\n"
     ]
    },
    {
     "data": {
      "image/png": "[encoded data removed]",
      "text/plain": [
       "<Figure size 432x288 with 1 Axes>"
      ]
     },
     "metadata": {
      "needs_background": "light"
     },
     "output_type": "display_data"
    }
   ],
   "source": [
    "# PIPELINE GA ROULETTE SELECTION\n",
    "best = genenetic_algorithm(max_generation=MAX_GENERATION,\n",
    "                           fitness=f3,\n",
    "                           population=initial_population,\n",
    "                           selection=RouletteSelection(num_individuals=SELECTED_SIZE),\n",
    "                           crossover=NPointCrossover(probability=CROSSOVER_PROBABILITY, n=2),\n",
    "                           mutation=UniformMutation(probability=MUTATION_PROBABILITY))\n"
   ]
  },
  {
   "cell_type": "code",
   "execution_count": 152,
   "metadata": {},
   "outputs": [
    {
     "name": "stdout",
     "output_type": "stream",
     "text": [
      "Optimal value with Roulette Selection\n",
      " x* = [16.755647, 34.86496, 48.674694, 57.467663], f(x*) = 0.004168696927179114\n"
     ]
    }
   ],
   "source": [
    "solution = min(best, key=lambda x: f3(x.phenotype))\n",
    "print(f\"Optimal value with Roulette Selection\\n x* = {solution.phenotype}, f(x*) = {f3(solution.phenotype)}\")\n"
   ]
  }
 ],
 "metadata": {
  "interpreter": {
   "hash": "590f4a299ae404e723bbc5f32e9a7b98b836c3c65ce9112bc934ac92a06ceee3"
  },
  "kernelspec": {
   "display_name": "Python 3.10.4 64-bit",
   "language": "python",
   "name": "python3"
  },
  "language_info": {
   "codemirror_mode": {
    "name": "ipython",
    "version": 3
   },
   "file_extension": ".py",
   "mimetype": "text/x-python",
   "name": "python",
   "nbconvert_exporter": "python",
   "pygments_lexer": "ipython3",
   "version": "3.10.5"
  },
  "orig_nbformat": 4
 },
 "nbformat": 4,
 "nbformat_minor": 2
}

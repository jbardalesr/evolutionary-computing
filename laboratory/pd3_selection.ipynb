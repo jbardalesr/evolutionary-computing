{
 "cells": [
  {
   "cell_type": "markdown",
   "metadata": {},
   "source": [
    "### Curso: CC521 A Programación Evolutiva 2022-1\n",
    "Alumno: Jordi Joel Bardales Rojas"
   ]
  },
  {
   "cell_type": "markdown",
   "metadata": {},
   "source": [
    "## Práctica dirigida: Representación y Selección \n"
   ]
  },
  {
   "cell_type": "code",
   "execution_count": 267,
   "metadata": {},
   "outputs": [],
   "source": [
    "from __future__ import annotations\n",
    "import math\n",
    "import numpy as np\n",
    "from enum import Enum\n",
    "from bin_repr2 import dec2bin, bin2gray, my_map, inverse_map, bin2dec, gray2bin\n",
    "import copy\n",
    "import random \n",
    "import matplotlib.pyplot as plt\n",
    "from typing import Callable,  NamedTuple\n",
    "from itertools import combinations\n",
    "\n",
    "class Representation(Enum):\n",
    "    BIN = 0\n",
    "    GRAY = 1\n",
    "    DECIMAL = 2"
   ]
  },
  {
   "cell_type": "markdown",
   "metadata": {},
   "source": [
    "## Problemas de optimización\n",
    "Este laboratorio se mostrará varios métodos de selección como la selección proporcional, ranking lineal, torneo, uniforme y selección ruleta, luego se medirá la intensidad de selección en un problema de minimización.\n"
   ]
  },
  {
   "cell_type": "markdown",
   "metadata": {},
   "source": [
    "### 1. Dado los siguientes problemas de minimización de una función $\\min_\\mathbf{x}f(\\mathbf{x})$\n"
   ]
  },
  {
   "cell_type": "code",
   "execution_count": 227,
   "metadata": {},
   "outputs": [],
   "source": [
    "f1 = lambda x: x[0]**4 + 5*x[0]**3 + 4*x[0]**2 - 4*x[0] + 1\n",
    "f2 = lambda x: 0.2 + x[0]**2 + x[1]**2 - 0.1*math.cos(6*math.pi*x[0]) - 0.1*math.sin(6*math.pi*x[1])\n",
    "f3 = lambda x: math.pow(1/6.931 - x[0]*x[1]/(x[2]*x[3]), 2)\n"
   ]
  },
  {
   "cell_type": "markdown",
   "metadata": {},
   "source": [
    "Dominio"
   ]
  },
  {
   "cell_type": "code",
   "execution_count": 228,
   "metadata": {},
   "outputs": [],
   "source": [
    "domain_1, n_var_1 = [-4.0, 1], 1\n",
    "domain_2, n_var_2 = [-1, 1.0], 2\n",
    "domain_3, n_var_3 = [12, 60.], 4\n"
   ]
  },
  {
   "cell_type": "markdown",
   "metadata": {},
   "source": [
    "Parámetros del individuo tipados"
   ]
  },
  {
   "cell_type": "code",
   "execution_count": 229,
   "metadata": {},
   "outputs": [],
   "source": [
    "class IndividualArguments(NamedTuple):\n",
    "    domain: tuple[int, int]\n",
    "    eps: float\n",
    "    n_var: int\n",
    "    gen_size: int\n",
    "    default_repr: Representation = Representation.DECIMAL"
   ]
  },
  {
   "cell_type": "markdown",
   "metadata": {},
   "source": [
    "Clase individuo "
   ]
  },
  {
   "cell_type": "code",
   "execution_count": 230,
   "metadata": {},
   "outputs": [],
   "source": [
    "class Individual():\n",
    "    def __init__(self, phenotype: list[float], args: IndividualArguments):\n",
    "        self.domain = args.domain\n",
    "        self.eps = args.eps\n",
    "        self.n_var = args.n_var\n",
    "        self.gen_size = args.gen_size\n",
    "        self.default_repr = args.default_repr\n",
    "        self.phenotype = phenotype\n",
    "\n",
    "    def getGenotype(self, my_repr: Representation = None):\n",
    "        my_repr = self.default_repr if my_repr == None else my_repr\n",
    "        list_repr: list[int] = []\n",
    "        if my_repr == Representation.BIN:\n",
    "            for gen in self.phenotype:\n",
    "                list_repr.extend(dec2bin(num=my_map(gen, self.domain[0], self.domain[1], self.eps), gen_size=self.gen_size))\n",
    "        elif my_repr == Representation.GRAY:\n",
    "            for gen in self.phenotype:\n",
    "                list_repr.extend(bin2gray(dec2bin(num=my_map(gen, self.domain[0], self.domain[1], self.eps), gen_size=self.gen_size)))\n",
    "        else:\n",
    "            list_repr = copy.deepcopy(self.phenotype)\n",
    "        return list_repr\n",
    "\n",
    "    @classmethod\n",
    "    def new(cls, genotype, args: IndividualArguments):\n",
    "        phenotype: list[int] = []\n",
    "        if args.default_repr == Representation.BIN:\n",
    "            for k in range(args.n_var):\n",
    "                gen = genotype[args.gen_size * k:args.gen_size * (k + 1)]\n",
    "                phenotype.append(inverse_map(bin2dec(gen), args.domain[0], args.eps))\n",
    "        elif args.default_repr == Representation.GRAY:\n",
    "            for k in range(args.n_var):\n",
    "                gen = genotype[args.gen_size * k:args.gen_size * (k + 1)]\n",
    "                phenotype.append(inverse_map(bin2dec(gray2bin(gen)), args.domain[0], args.eps))\n",
    "        else:\n",
    "            phenotype = copy.deepcopy(genotype)\n",
    "        \n",
    "        return cls(phenotype, args)\n",
    "\n",
    "    @staticmethod\n",
    "    def newLike(genotype: list[int], parent: Individual):\n",
    "        args = IndividualArguments(parent.domain, parent.eps, parent.n_var, parent.gen_size, parent.default_repr)\n",
    "        return Individual.new(genotype, args)\n",
    "\n",
    "    @classmethod\n",
    "    def newRandom(cls, args: IndividualArguments):\n",
    "        phenotype = [round(random.uniform(args.domain[0], args.domain[1]), 6) for _ in range(args.n_var)]\n",
    "        return cls(phenotype, args)\n"
   ]
  },
  {
   "cell_type": "markdown",
   "metadata": {},
   "source": [
    "#### a) Representación del problema (1)\n",
    "Implemente un programa en python que represente el cromosoma como una cadena binaria de 10 dígitos (10 bits) y muestre/imprima el Fenotipo y su representación binaria para una población de 10 individuos."
   ]
  },
  {
   "cell_type": "code",
   "execution_count": 231,
   "metadata": {},
   "outputs": [
    {
     "name": "stdout",
     "output_type": "stream",
     "text": [
      "Representación binaria\n",
      "Genotipo 0 = [0, 0, 0, 1, 0, 1, 0, 0, 1, 0] Fenotipo 0 = [-3.6]\n",
      "Genotipo 1 = [0, 1, 0, 1, 0, 0, 0, 0, 0, 1] Fenotipo 1 = [-2.430479]\n",
      "Genotipo 2 = [1, 0, 0, 0, 0, 1, 0, 0, 1, 1] Fenotipo 2 = [-1.406961]\n",
      "Genotipo 3 = [1, 1, 1, 0, 1, 0, 1, 1, 1, 0] Fenotipo 3 = [0.602032]\n",
      "Genotipo 4 = [1, 0, 0, 0, 0, 1, 0, 0, 0, 0] Fenotipo 4 = [-1.417109]\n",
      "Genotipo 5 = [1, 0, 0, 1, 0, 0, 0, 0, 1, 1] Fenotipo 5 = [-1.171455]\n",
      "Genotipo 6 = [0, 1, 0, 0, 1, 1, 1, 1, 1, 0] Fenotipo 6 = [-2.443627]\n",
      "Genotipo 7 = [0, 0, 1, 1, 0, 1, 0, 1, 0, 1] Fenotipo 7 = [-2.957276]\n",
      "Genotipo 8 = [0, 0, 1, 1, 1, 0, 0, 1, 0, 1] Fenotipo 8 = [-2.882693]\n",
      "Genotipo 9 = [1, 0, 1, 0, 1, 1, 0, 1, 1, 1] Fenotipo 9 = [-0.603527]\n"
     ]
    }
   ],
   "source": [
    "POPULATION_SIZE = 10\n",
    "GEN_SIZE_1 = 10\n",
    "eps_1 = (domain_1[1] - domain_1[0]) / (2**GEN_SIZE_1 - 1)\n",
    "N_POINTS_1 = 2**GEN_SIZE_1\n",
    "\n",
    "args1 = IndividualArguments(domain_1, eps_1, n_var_1, GEN_SIZE_1, f1)\n",
    "\n",
    "population_1 = [Individual.newRandom(args1) for _ in range(POPULATION_SIZE)]\n",
    "print(\"Representación binaria\")\n",
    "for i, ind in enumerate(population_1):\n",
    "    print(f\"Genotipo {i} = {ind.getGenotype(Representation.BIN)} Fenotipo {i} = {ind.phenotype}\")\n"
   ]
  },
  {
   "cell_type": "markdown",
   "metadata": {},
   "source": [
    "Realizar lo mismo del ítem anterior para la representación en código de Gray."
   ]
  },
  {
   "cell_type": "code",
   "execution_count": 232,
   "metadata": {},
   "outputs": [
    {
     "name": "stdout",
     "output_type": "stream",
     "text": [
      "Representación en código Gray\n",
      "Genotipo 0 = [0, 0, 0, 1, 1, 1, 1, 0, 1, 1] Fenotipo 0 = [-3.6]\n",
      "Genotipo 1 = [0, 1, 1, 1, 1, 0, 0, 0, 0, 1] Fenotipo 1 = [-2.430479]\n",
      "Genotipo 2 = [1, 1, 0, 0, 0, 1, 1, 0, 1, 0] Fenotipo 2 = [-1.406961]\n",
      "Genotipo 3 = [1, 0, 0, 1, 1, 1, 1, 0, 0, 1] Fenotipo 3 = [0.602032]\n",
      "Genotipo 4 = [1, 1, 0, 0, 0, 1, 1, 0, 0, 0] Fenotipo 4 = [-1.417109]\n",
      "Genotipo 5 = [1, 1, 0, 1, 1, 0, 0, 0, 1, 0] Fenotipo 5 = [-1.171455]\n",
      "Genotipo 6 = [0, 1, 1, 0, 1, 0, 0, 0, 0, 1] Fenotipo 6 = [-2.443627]\n",
      "Genotipo 7 = [0, 0, 1, 0, 1, 1, 1, 1, 1, 1] Fenotipo 7 = [-2.957276]\n",
      "Genotipo 8 = [0, 0, 1, 0, 0, 1, 0, 1, 1, 1] Fenotipo 8 = [-2.882693]\n",
      "Genotipo 9 = [1, 1, 1, 1, 1, 0, 1, 1, 0, 0] Fenotipo 9 = [-0.603527]\n"
     ]
    }
   ],
   "source": [
    "print(\"Representación en código Gray\")\n",
    "for i, ind in enumerate(population_1):\n",
    "    print(f\"Genotipo {i} = {ind.getGenotype(Representation.GRAY)} Fenotipo {i} = {ind.phenotype}\")"
   ]
  },
  {
   "cell_type": "markdown",
   "metadata": {},
   "source": [
    "Considerando las representaciones anteriores (cadena de 10 bits) ¿cual sería el tamaño del espacio intrínseco?\n"
   ]
  },
  {
   "cell_type": "code",
   "execution_count": 233,
   "metadata": {},
   "outputs": [
    {
     "name": "stdout",
     "output_type": "stream",
     "text": [
      "El espacio intrinseco tendría 1024 elementos con una precisión de 0.004887585532746823\n"
     ]
    }
   ],
   "source": [
    "print(f\"El espacio intrinseco tendría {N_POINTS_1} elementos con una precisión de {eps_1}\")"
   ]
  },
  {
   "cell_type": "markdown",
   "metadata": {},
   "source": [
    "#### b) Representación del problema (2):\n",
    "\n",
    "Implemente un programa en python que represente el cromosoma como una cadena binaria donde $x, y$ estén representados por 5 bits cada uno y luego muestre/imprima el Fenotipo y su\n",
    "representación binaria."
   ]
  },
  {
   "cell_type": "code",
   "execution_count": 234,
   "metadata": {},
   "outputs": [
    {
     "name": "stdout",
     "output_type": "stream",
     "text": [
      "Representación binaria\n",
      "Genotipo 0 = [1, 1, 0, 0, 1, 1, 1, 1, 1, 0] Fenotipo 0 = [0.630699, 0.924766]\n",
      "Genotipo 1 = [0, 1, 0, 0, 1, 0, 0, 0, 0, 1] Fenotipo 1 = [-0.400944, -0.94276]\n",
      "Genotipo 2 = [1, 0, 0, 0, 0, 1, 1, 0, 0, 0] Fenotipo 2 = [0.049456, 0.57059]\n",
      "Genotipo 3 = [0, 1, 0, 1, 0, 0, 0, 0, 0, 1] Fenotipo 3 = [-0.379999, -0.934953]\n",
      "Genotipo 4 = [0, 1, 0, 1, 1, 0, 1, 0, 0, 0] Fenotipo 4 = [-0.263002, -0.504952]\n",
      "Genotipo 5 = [1, 1, 1, 1, 1, 1, 1, 1, 1, 0] Fenotipo 5 = [0.9999, 0.915929]\n",
      "Genotipo 6 = [0, 0, 1, 0, 0, 1, 0, 1, 0, 1] Fenotipo 6 = [-0.766735, 0.345476]\n",
      "Genotipo 7 = [0, 1, 1, 1, 1, 0, 1, 1, 1, 1] Fenotipo 7 = [-0.049892, -0.026182]\n",
      "Genotipo 8 = [0, 1, 0, 1, 0, 0, 1, 0, 1, 1] Fenotipo 8 = [-0.385704, -0.301442]\n",
      "Genotipo 9 = [0, 0, 1, 0, 0, 1, 0, 0, 1, 0] Fenotipo 9 = [-0.730943, 0.147073]\n"
     ]
    }
   ],
   "source": [
    "POPULATION_SIZE = 10\n",
    "GEN_SIZE_2 = 5\n",
    "eps_2 = (domain_2[1] - domain_2[0]) / (2**GEN_SIZE_2 - 1)\n",
    "N_POINTS_2 = 2**GEN_SIZE_2\n",
    "\n",
    "args2 = IndividualArguments(domain_2, eps_2, n_var_2, GEN_SIZE_2, f2)\n",
    "\n",
    "population_2 = [Individual.newRandom(args2) for _ in range(POPULATION_SIZE)]\n",
    "print(\"Representación binaria\")\n",
    "for i, ind in enumerate(population_2):\n",
    "    print(f\"Genotipo {i} = {ind.getGenotype(Representation.BIN)} Fenotipo {i} = {ind.phenotype}\")"
   ]
  },
  {
   "cell_type": "markdown",
   "metadata": {},
   "source": [
    "Realizar lo mismo del ítem anterior para la representación en código de Gray"
   ]
  },
  {
   "cell_type": "code",
   "execution_count": 235,
   "metadata": {},
   "outputs": [
    {
     "name": "stdout",
     "output_type": "stream",
     "text": [
      "Representación en código Gray\n",
      "Genotipo 0 = [1, 0, 1, 0, 1, 1, 0, 0, 0, 1] Fenotipo 0 = [0.630699, 0.924766]\n",
      "Genotipo 1 = [0, 1, 1, 0, 1, 0, 0, 0, 0, 1] Fenotipo 1 = [-0.400944, -0.94276]\n",
      "Genotipo 2 = [1, 1, 0, 0, 0, 1, 0, 1, 0, 0] Fenotipo 2 = [0.049456, 0.57059]\n",
      "Genotipo 3 = [0, 1, 1, 1, 1, 0, 0, 0, 0, 1] Fenotipo 3 = [-0.379999, -0.934953]\n",
      "Genotipo 4 = [0, 1, 1, 1, 0, 0, 1, 1, 0, 0] Fenotipo 4 = [-0.263002, -0.504952]\n",
      "Genotipo 5 = [1, 0, 0, 0, 0, 1, 0, 0, 0, 1] Fenotipo 5 = [0.9999, 0.915929]\n",
      "Genotipo 6 = [0, 0, 1, 1, 0, 1, 1, 1, 1, 1] Fenotipo 6 = [-0.766735, 0.345476]\n",
      "Genotipo 7 = [0, 1, 0, 0, 0, 0, 1, 0, 0, 0] Fenotipo 7 = [-0.049892, -0.026182]\n",
      "Genotipo 8 = [0, 1, 1, 1, 1, 0, 1, 1, 1, 0] Fenotipo 8 = [-0.385704, -0.301442]\n",
      "Genotipo 9 = [0, 0, 1, 1, 0, 1, 1, 0, 1, 1] Fenotipo 9 = [-0.730943, 0.147073]\n"
     ]
    }
   ],
   "source": [
    "print(\"Representación en código Gray\")\n",
    "for i, ind in enumerate(population_2):\n",
    "    print(f\"Genotipo {i} = {ind.getGenotype(Representation.GRAY)} Fenotipo {i} = {ind.phenotype}\")"
   ]
  },
  {
   "cell_type": "markdown",
   "metadata": {},
   "source": [
    "Realizar lo mismo del ítem anterior para la representación real"
   ]
  },
  {
   "cell_type": "code",
   "execution_count": 236,
   "metadata": {},
   "outputs": [
    {
     "name": "stdout",
     "output_type": "stream",
     "text": [
      "Representación real\n",
      "Individuo 0 = [0.630699, 0.924766]\n",
      "Individuo 1 = [-0.400944, -0.94276]\n",
      "Individuo 2 = [0.049456, 0.57059]\n",
      "Individuo 3 = [-0.379999, -0.934953]\n",
      "Individuo 4 = [-0.263002, -0.504952]\n",
      "Individuo 5 = [0.9999, 0.915929]\n",
      "Individuo 6 = [-0.766735, 0.345476]\n",
      "Individuo 7 = [-0.049892, -0.026182]\n",
      "Individuo 8 = [-0.385704, -0.301442]\n",
      "Individuo 9 = [-0.730943, 0.147073]\n"
     ]
    }
   ],
   "source": [
    "print(\"Representación real\")\n",
    "for i, ind in enumerate(population_2):\n",
    "    print(f\"Individuo {i} = {ind.phenotype}\")"
   ]
  },
  {
   "cell_type": "markdown",
   "metadata": {},
   "source": [
    "Considerando las representaciones anteriores (cadena de 10 bits y representación real) ¿cual sería el tamaño del espacio intrínseco?\n"
   ]
  },
  {
   "cell_type": "code",
   "execution_count": 237,
   "metadata": {},
   "outputs": [
    {
     "name": "stdout",
     "output_type": "stream",
     "text": [
      "El espacio intrinseco tendría 32 x 32 = 1024 elementos con una precisión de 0.06451612903225806\n"
     ]
    }
   ],
   "source": [
    "print(f\"El espacio intrinseco tendría {N_POINTS_2} x {N_POINTS_2} = {2**(2*GEN_SIZE_2)} elementos con una precisión de {eps_2}\")"
   ]
  },
  {
   "cell_type": "markdown",
   "metadata": {},
   "source": [
    "#### Representación del problema (3):\n",
    "\n",
    "Implemente un programa en python que represente el cromosoma como una cadena binaria donde $x_1, x_2, x_3, x_4$ estén representados por 6 bits cada uno y luego muestre/imprima el Fenotipo y su representación binaria.\n"
   ]
  },
  {
   "cell_type": "code",
   "execution_count": 238,
   "metadata": {},
   "outputs": [
    {
     "name": "stdout",
     "output_type": "stream",
     "text": [
      "Representación binaria\n",
      "Genotipo 0 = [0, 0, 1, 1, 1, 0, 0, 1, 0, 1, 0, 0, 0, 0, 0, 1, 1, 0, 1, 0, 1, 0, 0, 0] Fenotipo 0 = [22.672533, 27.281418, 16.351214, 42.126839]\n",
      "Genotipo 1 = [1, 0, 0, 0, 0, 0, 0, 0, 0, 1, 0, 1, 1, 1, 0, 1, 0, 1, 1, 1, 1, 0, 1, 1] Fenotipo 1 = [36.522041, 16.145153, 52.379248, 56.801461]\n",
      "Genotipo 2 = [0, 1, 1, 0, 0, 1, 0, 0, 1, 0, 1, 1, 0, 0, 0, 0, 1, 0, 0, 0, 0, 0, 0, 0] Fenotipo 2 = [31.268746, 20.538274, 13.522556, 12.15477]\n",
      "Genotipo 3 = [1, 0, 0, 0, 1, 1, 0, 1, 1, 0, 1, 0, 0, 1, 0, 0, 0, 0, 0, 1, 0, 1, 1, 0] Fenotipo 3 = [38.998614, 31.968147, 24.324468, 28.889808]\n",
      "Genotipo 4 = [1, 1, 0, 0, 0, 0, 0, 0, 0, 1, 0, 1, 1, 1, 0, 0, 1, 1, 1, 0, 0, 0, 1, 0] Fenotipo 4 = [48.744366, 15.994355, 50.782779, 38.195018]\n",
      "Genotipo 5 = [1, 0, 0, 0, 0, 0, 1, 1, 1, 1, 1, 0, 0, 1, 1, 0, 0, 1, 0, 1, 0, 0, 1, 1] Fenotipo 5 = [36.118919, 59.04689, 30.724225, 26.608464]\n",
      "Genotipo 6 = [1, 0, 1, 1, 0, 1, 1, 1, 0, 0, 0, 0, 1, 0, 0, 0, 0, 0, 0, 1, 1, 0, 1, 1] Fenotipo 6 = [46.272336, 48.23176, 36.401281, 32.524148]\n",
      "Genotipo 7 = [0, 1, 1, 0, 0, 1, 1, 1, 1, 0, 1, 1, 1, 1, 0, 1, 0, 0, 1, 0, 1, 1, 0, 1] Fenotipo 7 = [31.173072, 57.061081, 51.554867, 46.435652]\n",
      "Genotipo 8 = [1, 0, 1, 1, 1, 1, 1, 0, 1, 0, 0, 0, 1, 0, 1, 0, 1, 0, 0, 0, 1, 1, 1, 1] Fenotipo 8 = [48.09646, 42.529471, 43.914895, 23.450712]\n",
      "Genotipo 9 = [1, 0, 0, 0, 1, 0, 0, 1, 1, 1, 1, 0, 0, 0, 1, 0, 0, 1, 1, 1, 1, 0, 1, 1] Fenotipo 9 = [38.005097, 34.518264, 19.228332, 56.676076]\n"
     ]
    }
   ],
   "source": [
    "POPULATION_SIZE = 10\n",
    "GEN_SIZE_3 = 6\n",
    "eps_3 = (60 - 12) / (2**GEN_SIZE_3 - 1)\n",
    "N_POINTS_3 = 2**GEN_SIZE_3\n",
    "\n",
    "args3 = IndividualArguments(domain_3, eps_3, n_var_3, GEN_SIZE_3, f3)\n",
    "\n",
    "population_3 = [Individual.newRandom(args3) for _ in range(POPULATION_SIZE)]\n",
    "print(\"Representación binaria\")\n",
    "for i, ind in enumerate(population_3):\n",
    "    print(f\"Genotipo {i} = {ind.getGenotype(Representation.BIN)} Fenotipo {i} = {ind.phenotype}\")"
   ]
  },
  {
   "cell_type": "markdown",
   "metadata": {},
   "source": [
    "Realizar lo mismo del ítem anterior para la representación en código de Gray"
   ]
  },
  {
   "cell_type": "code",
   "execution_count": 239,
   "metadata": {},
   "outputs": [
    {
     "name": "stdout",
     "output_type": "stream",
     "text": [
      "Genotipo 0 = [0, 0, 1, 0, 0, 1, 0, 1, 1, 1, 1, 0, 0, 0, 0, 1, 0, 1, 1, 1, 1, 1, 0, 0] Fenotipo 0 = [22.672533, 27.281418, 16.351214, 42.126839]\n",
      "Genotipo 1 = [1, 1, 0, 0, 0, 0, 0, 0, 0, 1, 1, 1, 1, 0, 1, 1, 1, 1, 1, 0, 0, 1, 1, 0] Fenotipo 1 = [36.522041, 16.145153, 52.379248, 56.801461]\n",
      "Genotipo 2 = [0, 1, 0, 1, 0, 1, 0, 0, 1, 1, 1, 0, 0, 0, 0, 0, 1, 1, 0, 0, 0, 0, 0, 0] Fenotipo 2 = [31.268746, 20.538274, 13.522556, 12.15477]\n",
      "Genotipo 3 = [1, 1, 0, 0, 1, 0, 0, 1, 0, 1, 1, 1, 0, 1, 1, 0, 0, 0, 0, 1, 1, 1, 0, 1] Fenotipo 3 = [38.998614, 31.968147, 24.324468, 28.889808]\n",
      "Genotipo 4 = [1, 0, 1, 0, 0, 0, 0, 0, 0, 1, 1, 1, 1, 0, 1, 0, 1, 0, 1, 1, 0, 0, 1, 1] Fenotipo 4 = [48.744366, 15.994355, 50.782779, 38.195018]\n",
      "Genotipo 5 = [1, 1, 0, 0, 0, 0, 1, 0, 0, 0, 0, 1, 0, 1, 0, 1, 0, 1, 0, 1, 1, 0, 1, 0] Fenotipo 5 = [36.118919, 59.04689, 30.724225, 26.608464]\n",
      "Genotipo 6 = [1, 1, 1, 0, 1, 1, 1, 0, 1, 0, 0, 0, 1, 1, 0, 0, 0, 0, 0, 1, 0, 1, 1, 0] Fenotipo 6 = [46.272336, 48.23176, 36.401281, 32.524148]\n",
      "Genotipo 7 = [0, 1, 0, 1, 0, 1, 1, 0, 0, 1, 1, 0, 1, 0, 1, 1, 1, 0, 1, 1, 1, 0, 1, 1] Fenotipo 7 = [31.173072, 57.061081, 51.554867, 46.435652]\n",
      "Genotipo 8 = [1, 1, 1, 0, 0, 0, 1, 1, 1, 1, 0, 0, 1, 1, 1, 1, 1, 1, 0, 0, 1, 0, 0, 0] Fenotipo 8 = [48.09646, 42.529471, 43.914895, 23.450712]\n",
      "Genotipo 9 = [1, 1, 0, 0, 1, 1, 0, 1, 0, 0, 0, 1, 0, 0, 1, 1, 0, 1, 1, 0, 0, 1, 1, 0] Fenotipo 9 = [38.005097, 34.518264, 19.228332, 56.676076]\n"
     ]
    }
   ],
   "source": [
    "for i, ind in enumerate(population_3):\n",
    "    print(f\"Genotipo {i} = {ind.getGenotype(Representation.GRAY)} Fenotipo {i} = {ind.phenotype}\")"
   ]
  },
  {
   "cell_type": "markdown",
   "metadata": {},
   "source": [
    "Realizar lo mismo del ítem anterior para la representación real."
   ]
  },
  {
   "cell_type": "code",
   "execution_count": 240,
   "metadata": {},
   "outputs": [
    {
     "name": "stdout",
     "output_type": "stream",
     "text": [
      "Individuo 0 = [22.672533, 27.281418, 16.351214, 42.126839]\n",
      "Individuo 1 = [36.522041, 16.145153, 52.379248, 56.801461]\n",
      "Individuo 2 = [31.268746, 20.538274, 13.522556, 12.15477]\n",
      "Individuo 3 = [38.998614, 31.968147, 24.324468, 28.889808]\n",
      "Individuo 4 = [48.744366, 15.994355, 50.782779, 38.195018]\n",
      "Individuo 5 = [36.118919, 59.04689, 30.724225, 26.608464]\n",
      "Individuo 6 = [46.272336, 48.23176, 36.401281, 32.524148]\n",
      "Individuo 7 = [31.173072, 57.061081, 51.554867, 46.435652]\n",
      "Individuo 8 = [48.09646, 42.529471, 43.914895, 23.450712]\n",
      "Individuo 9 = [38.005097, 34.518264, 19.228332, 56.676076]\n"
     ]
    }
   ],
   "source": [
    "for i, ind in enumerate(population_3):\n",
    "    print(f\"Individuo {i} = {ind.getGenotype(Representation.DECIMAL)}\")"
   ]
  },
  {
   "cell_type": "markdown",
   "metadata": {},
   "source": [
    "Considerando las representaciones anteriores (cadena de bits, representación real) ¿cual seria el tamaño del espacio intrínseco"
   ]
  },
  {
   "cell_type": "code",
   "execution_count": 241,
   "metadata": {},
   "outputs": [
    {
     "name": "stdout",
     "output_type": "stream",
     "text": [
      "El espacio intrinseco tendría 64x64x64x64=16777216 elementos con una precisión de 0.7619047619047619\n"
     ]
    }
   ],
   "source": [
    "print(f\"El espacio intrinseco tendría {N_POINTS_3}x{N_POINTS_3}x{N_POINTS_3}x{N_POINTS_3}={2**(4*GEN_SIZE_3)} elementos con una precisión de {eps_3}\")"
   ]
  },
  {
   "cell_type": "markdown",
   "metadata": {},
   "source": [
    "### 2. Gestión de la población: de la teoría se sabe que los métodos de selección son independientes del método de representación del algoritmo evolutivo, implemente los siguientes métodos de selección en python:"
   ]
  },
  {
   "cell_type": "markdown",
   "metadata": {},
   "source": [
    "* Método de selección proporcional\n",
    "* Método de selección basada en ranking lineal\n",
    "* Método de torneo\n",
    "* Método de selección uniforme\n",
    "* Método de de la ruleta\n"
   ]
  },
  {
   "cell_type": "code",
   "execution_count": 242,
   "metadata": {},
   "outputs": [],
   "source": [
    "class Selection:\n",
    "    def __init__(self, nro_individuals: int):\n",
    "        self.nro_individuals = nro_individuals\n",
    "\n",
    "    def get_individuals(self, population: list[Individual], fitness: list[float]):\n",
    "        distribution = np.array(fitness) / sum(fitness)\n",
    "        return random.choices(population, distribution, k=self.nro_individuals)\n",
    "\n",
    "\n",
    "class ProportionalSelection(Selection):\n",
    "    def __init__(self, nro_individuals: int):\n",
    "        super().__init__(nro_individuals=nro_individuals)\n",
    "\n",
    "    def get_individuals(self, population: list[Individual], fitness: list[float]):\n",
    "        population = zip(population, fitness)\n",
    "\n",
    "        sorted_population = sorted(population, key=lambda ind: ind[1], reverse=True)\n",
    "        fitness_sum = sum([ind[1] for ind in population])\n",
    "        selected: list[Individual] = []\n",
    "\n",
    "        for _ in range(self.nro_individuals):\n",
    "            # giramos la ruleta tantas veces como individuos existan\n",
    "            shave = random.random() * fitness_sum\n",
    "            roulette_sum = 0\n",
    "            # recorremos los individuos en orden decreciente\n",
    "            for ind in sorted_population:\n",
    "                # como se recorre en orden decreciente tenemos que sumar el valor del fitness para saber donde cae\n",
    "                roulette_sum += ind[1]\n",
    "                # en el primero que sea mayor es cuando cae la ruleta asi que lo seleccionamos\n",
    "                if roulette_sum > shave:\n",
    "                    selected.append(ind[0])\n",
    "                    break\n",
    "        return selected\n",
    "\n",
    "\n",
    "class TournamentSelection(Selection):\n",
    "    def __init__(self, nro_individuals: int, tournament_size: int):\n",
    "        super().__init__(nro_individuals=nro_individuals)\n",
    "        self.tournament_size = tournament_size\n",
    "\n",
    "    def get_individuals(self, population: list[Individual], fitness: list[float]):\n",
    "        population = list(zip(population, fitness))\n",
    "        selected: list[Individual] = []\n",
    "        for _ in range(self.nro_individuals):\n",
    "            candidates = [random.choice(population) for _ in range(self.tournament_size)]\n",
    "            selected.append(min(candidates, key=lambda ind: ind[1])[0])\n",
    "        return selected\n"
   ]
  },
  {
   "cell_type": "markdown",
   "metadata": {},
   "source": [
    "#### Operadores de variación"
   ]
  },
  {
   "cell_type": "code",
   "execution_count": 313,
   "metadata": {},
   "outputs": [],
   "source": [
    "class Crossover:\n",
    "    def __init__(self, probability: float):\n",
    "        self.probability = probability\n",
    "\n",
    "    def make(self, parent1: Individual, parent2: Individual):\n",
    "        # one-point random-crossover\n",
    "        if random.random() < self.probability:\n",
    "            c1 = copy.deepcopy(parent1.getGenotype())\n",
    "            c2 = copy.deepcopy(parent2.getGenotype())\n",
    "            point = random.randint(1, len(c1) - 2)\n",
    "\n",
    "            c1[point:], c2[point:] = c2[point:], c1[point:]\n",
    "            return Individual.newLike(c1, parent1), Individual.newLike(c2, parent2)\n",
    "        return None\n",
    "\n",
    "\n",
    "class Mutation:\n",
    "    def __init__(self, probability: float):\n",
    "        self.probability = probability\n",
    "\n",
    "    def make(self, ind: Individual):\n",
    "        mut = copy.deepcopy(ind.getGenotype())\n",
    "        if random.random() < self.probability:\n",
    "            # punto aleatorio de la cadea\n",
    "            point = random.randint(0, len(mut) - 1)\n",
    "\n",
    "            if len(mut) > ind.n_var:\n",
    "                mut[point] = (mut[point] + 1) % 2\n",
    "            else:\n",
    "                mut[point] = random.uniform(ind.domain[0], ind.domain[1])\n",
    "            return Individual.newLike(mut, ind)\n",
    "        return None\n"
   ]
  },
  {
   "cell_type": "markdown",
   "metadata": {},
   "source": [
    "##### Esquema general de un AE genérico "
   ]
  },
  {
   "cell_type": "code",
   "execution_count": 377,
   "metadata": {},
   "outputs": [],
   "source": [
    "def genenetic_algorithm(max_generation: int,\n",
    "                        fitness: Callable[[list[float]], float],\n",
    "                        population: list[Individual],\n",
    "                        selection: Selection,\n",
    "                        crossover: Crossover,\n",
    "                        mutation: Mutation):\n",
    "    best: list[Individual] = []\n",
    "    generation_number = 0\n",
    "    while generation_number < max_generation:\n",
    "        generation_number += 1\n",
    "        # evaluacion de la aptitud de la población inicial (n individuos)\n",
    "        population_fitness = [fitness(ind.phenotype) for ind in population]\n",
    "        # seleccion de los padres (para la reproducción)\n",
    "        parents = selection.get_individuals(population, population_fitness)\n",
    "        # operadores de variación\n",
    "        offspring: list[Individual] = []\n",
    "        # crossover\n",
    "        for p1, p2 in combinations(parents, 2):\n",
    "            if not p1 == p2:\n",
    "                if (childs := crossover.make(p1, p2)) != None:\n",
    "                    offspring += childs\n",
    "        # mutation\n",
    "        for ind in parents:\n",
    "            if (mutant := mutation.make(ind)) != None:\n",
    "                offspring.append(mutant)\n",
    "        # evaluacion de la aptitud de los λ descendientes\n",
    "        offspring_fitness = [fitness(ind.phenotype) for ind in offspring]\n",
    "        # λ individuos aptos + n padres\n",
    "        population += offspring\n",
    "        population_fitness += offspring_fitness\n",
    "        # mejor individuo de cada generación\n",
    "        best.append(get_best(population, fitness))\n",
    "        # selección del ambiente n\n",
    "        population = selection.get_individuals(population, population_fitness)\n",
    "        population_fitness = []\n",
    "        # impresión de la generación\n",
    "        if generation_number % int(math.sqrt(max_generation)) == 0:\n",
    "            print(\"Generation:\", generation_number)\n",
    "\n",
    "    plt.plot([f1(x.phenotype) for x in best], \"r-\")\n",
    "    plt.title(f\"Generation number {generation_number}\")\n",
    "    plt.show()\n",
    "    return best\n"
   ]
  },
  {
   "cell_type": "markdown",
   "metadata": {},
   "source": [
    "### 3. Evaluación de la intensidad de selección: para los problemas planteados en la pregunta (1) evaluar la presión de selección considerando los siguientes casos."
   ]
  },
  {
   "cell_type": "code",
   "execution_count": 295,
   "metadata": {},
   "outputs": [],
   "source": [
    "def get_best(population: list[Individual], fitness: Callable):\n",
    "    best = population[0]\n",
    "    for ind in population:\n",
    "        if fitness(ind.phenotype) < fitness(best.phenotype):\n",
    "            best = ind\n",
    "    return best\n"
   ]
  },
  {
   "cell_type": "markdown",
   "metadata": {},
   "source": [
    "a) Para el primer caso (ecuación 1) considerar la representación binaria, una población inicial 15 individuos del cual debe seleccionar 10 padres y crear 10 descendientes, una taza de cruce de 0.8, una tasa de mutación de 0.01, donde el cruce y la mutación son seleccionadas de forma aleatoria (Usando los mismos criterios del ejemplo mostrado en Colab-note) realizar lo siguiente:\n",
    "\n",
    "• Usando el método de torneo para la selección de las nuevas generaciones (constantes de 15 individuos), evalúe la intensidad de selección para cada uno de los métodos de selección en la pregunta (2).\n"
   ]
  },
  {
   "cell_type": "code",
   "execution_count": 335,
   "metadata": {},
   "outputs": [
    {
     "name": "stdout",
     "output_type": "stream",
     "text": [
      "Generation: 10\n",
      "Generation: 20\n",
      "Generation: 30\n",
      "Generation: 40\n",
      "Generation: 50\n",
      "Generation: 60\n",
      "Generation: 70\n",
      "Generation: 80\n",
      "Generation: 90\n",
      "Generation: 100\n"
     ]
    },
    {
     "data": {
      "image/png": "[encoded data removed]",
      "text/plain": [
       "<Figure size 432x288 with 1 Axes>"
      ]
     },
     "metadata": {
      "needs_background": "light"
     },
     "output_type": "display_data"
    }
   ],
   "source": [
    "MAX_GENERATION = 100\n",
    "POPULATION_SIZE = 15\n",
    "args = IndividualArguments(domain_1, eps_1, n_var_1, GEN_SIZE_1, Representation.GRAY)\n",
    "initial_population = [Individual.newRandom(args) for _ in range(POPULATION_SIZE)]\n",
    "best = genenetic_algorithm(max_generation=100,\n",
    "                           fitness=f1,\n",
    "                           population=initial_population,\n",
    "                           selection=TournamentSelection(nro_individuals=10, tournament_size=3),\n",
    "                           crossover=Crossover(probability=0.8),\n",
    "                           mutation=Mutation(probability=0.01))\n"
   ]
  },
  {
   "cell_type": "code",
   "execution_count": 336,
   "metadata": {},
   "outputs": [
    {
     "name": "stdout",
     "output_type": "stream",
     "text": [
      "Optimal value\n",
      " x* = [-2.9687194525904204], f(x*) = -5.018773695719695\n"
     ]
    }
   ],
   "source": [
    "solution = get_best(best, f1)\n",
    "print(f\"Optimal value\\n x* = {solution.phenotype}, f(x*) = {f1(solution.phenotype)}\")"
   ]
  },
  {
   "cell_type": "markdown",
   "metadata": {},
   "source": [
    "b) Para el segundo caso (ecuación 2) considerar la representación Gray, una población inicial 20 individuos del cual debe seleccionar 15 padres y crear 15 descendientes, una taza de cruce de 0.8, una tasa de mutación de 0.01, donde el cruce y la mutación son seleccionadas de forma aleatoria (Usando los mismos criterios del ejemplo mostrado en Colab-note) realizar lo siguiente:\n",
    "\n",
    "• Usando el método de torneo para la selección de las nuevas generaciones (constantes de 20 individuos), evalúe la intensidad de selección para cada uno de los métodos de selección en la pregunta (2).\n"
   ]
  },
  {
   "cell_type": "code",
   "execution_count": 343,
   "metadata": {},
   "outputs": [
    {
     "name": "stdout",
     "output_type": "stream",
     "text": [
      "Generation: 10\n",
      "Generation: 20\n",
      "Generation: 30\n",
      "Generation: 40\n",
      "Generation: 50\n",
      "Generation: 60\n",
      "Generation: 70\n",
      "Generation: 80\n",
      "Generation: 90\n",
      "Generation: 100\n"
     ]
    },
    {
     "data": {
      "image/png": "[encoded data removed]",
      "text/plain": [
       "<Figure size 432x288 with 1 Axes>"
      ]
     },
     "metadata": {
      "needs_background": "light"
     },
     "output_type": "display_data"
    }
   ],
   "source": [
    "# GA CANONICAL FLOW\n",
    "MAX_GENERATION = 100\n",
    "POPULATION_SIZE = 20\n",
    "args2 = IndividualArguments(domain_2, eps_2, n_var_2, GEN_SIZE_2, Representation.BIN)\n",
    "initial_population = [Individual.newRandom(args2) for _ in range(POPULATION_SIZE)]\n",
    "\n",
    "# pipeline ga\n",
    "best = genenetic_algorithm(max_generation=MAX_GENERATION,\n",
    "                           fitness=f2,\n",
    "                           population=initial_population,\n",
    "                           selection=TournamentSelection(nro_individuals=15, tournament_size=5),\n",
    "                           crossover=Crossover(probability=0.8),\n",
    "                           mutation=Mutation(probability=0.01))\n",
    "\n"
   ]
  },
  {
   "cell_type": "code",
   "execution_count": 344,
   "metadata": {},
   "outputs": [
    {
     "name": "stdout",
     "output_type": "stream",
     "text": [
      "Optimal value\n",
      " x* = [-0.032258064516129004, 0.09677419354838701], f(x*) = 0.031521771255919276\n"
     ]
    }
   ],
   "source": [
    "solution = get_best(best, f2)\n",
    "print(f\"Optimal value\\n x* = {solution.phenotype}, f(x*) = {f2(solution.phenotype)}\")"
   ]
  },
  {
   "cell_type": "markdown",
   "metadata": {},
   "source": [
    "c) Para el tercer caso (ecuación 3) considerar la representación real, una población inicial 20 individuos del cual debe seleccionar 15 padres y crear 15 descendientes, una taza de cruce de 0.8, una tasa de mutación de 0.01, donde el cruce y la mutación son seleccionadas de forma aleatoria (Usando los mismos criterios del ejemplo mostrado en Colab-note) realizar lo siguiente:\n",
    "\n",
    "• Usando el método de torneo para la selección de las nuevas generaciones (constantes de 20 individuos), evalúe la intensidad de selección para cada uno de los métodos de selección en la pregunta (2).\n"
   ]
  },
  {
   "cell_type": "code",
   "execution_count": 379,
   "metadata": {},
   "outputs": [
    {
     "name": "stdout",
     "output_type": "stream",
     "text": [
      "Generation: 22\n",
      "Generation: 44\n",
      "Generation: 66\n",
      "Generation: 88\n",
      "Generation: 110\n",
      "Generation: 132\n",
      "Generation: 154\n",
      "Generation: 176\n",
      "Generation: 198\n",
      "Generation: 220\n",
      "Generation: 242\n",
      "Generation: 264\n",
      "Generation: 286\n",
      "Generation: 308\n",
      "Generation: 330\n",
      "Generation: 352\n",
      "Generation: 374\n",
      "Generation: 396\n",
      "Generation: 418\n",
      "Generation: 440\n",
      "Generation: 462\n",
      "Generation: 484\n"
     ]
    },
    {
     "data": {
      "image/png": "[encoded data removed]",
      "text/plain": [
       "<Figure size 432x288 with 1 Axes>"
      ]
     },
     "metadata": {
      "needs_background": "light"
     },
     "output_type": "display_data"
    }
   ],
   "source": [
    "# GA CANONICAL FLOW\n",
    "MAX_GENERATION = 500\n",
    "POPULATION_SIZE = 20\n",
    "args3 = IndividualArguments(domain_3, eps_3, n_var_3, GEN_SIZE_3, Representation.DECIMAL)\n",
    "initial_population = [Individual.newRandom(args3) for _ in range(POPULATION_SIZE)]\n",
    "\n",
    "# pipeline ga\n",
    "best = genenetic_algorithm(max_generation=MAX_GENERATION,\n",
    "                           fitness=f3,\n",
    "                           population=initial_population,\n",
    "                           selection=TournamentSelection(nro_individuals=15, tournament_size=5),\n",
    "                           crossover=Crossover(probability=0.8),\n",
    "                           mutation=Mutation(probability=0.01))\n",
    "\n"
   ]
  },
  {
   "cell_type": "code",
   "execution_count": 380,
   "metadata": {},
   "outputs": [
    {
     "name": "stdout",
     "output_type": "stream",
     "text": [
      "Optimal value\n",
      " x* = [13.224468926400759, 24.76035, 39.220613, 57.923091], f(x*) = 42796.87434467451\n"
     ]
    }
   ],
   "source": [
    "solution = get_best(best, f3)\n",
    "print(f\"Optimal value\\n x* = {solution.phenotype}, f(x*) = {f1(solution.phenotype)}\")"
   ]
  }
 ],
 "metadata": {
  "interpreter": {
   "hash": "590f4a299ae404e723bbc5f32e9a7b98b836c3c65ce9112bc934ac92a06ceee3"
  },
  "kernelspec": {
   "display_name": "Python 3.10.4 64-bit",
   "language": "python",
   "name": "python3"
  },
  "language_info": {
   "codemirror_mode": {
    "name": "ipython",
    "version": 3
   },
   "file_extension": ".py",
   "mimetype": "text/x-python",
   "name": "python",
   "nbconvert_exporter": "python",
   "pygments_lexer": "ipython3",
   "version": "3.10.4"
  },
  "orig_nbformat": 4
 },
 "nbformat": 4,
 "nbformat_minor": 2
}

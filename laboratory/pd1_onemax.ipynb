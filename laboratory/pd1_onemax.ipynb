{
  "cells": [
    {
      "cell_type": "markdown",
      "metadata": {
        "id": "rKolIu6OwBVj"
      },
      "source": [
        "Alumno: Jordi Joel Bardales Rojas"
      ]
    },
    {
      "cell_type": "code",
      "execution_count": 158,
      "metadata": {
        "id": "7ALI_OlPpezC"
      },
      "outputs": [],
      "source": [
        "from __future__ import annotations\n",
        "import copy\n",
        "import random\n",
        "import math\n",
        "import bin_repr as bi\n",
        "import matplotlib.pyplot as plt\n"
      ]
    },
    {
      "cell_type": "markdown",
      "metadata": {
        "id": "UR_6gwuXubsQ"
      },
      "source": [
        "# Pregunta  1"
      ]
    },
    {
      "cell_type": "code",
      "execution_count": 159,
      "metadata": {
        "id": "2hy-627QKzV4"
      },
      "outputs": [],
      "source": [
        "show = lambda my_bin: \"\".join(str(e) for e in my_bin)"
      ]
    },
    {
      "cell_type": "code",
      "execution_count": 160,
      "metadata": {
        "id": "aitr7dlzAtfB"
      },
      "outputs": [],
      "source": [
        "number = 256\n",
        "bits = int(math.log2(number)) + 1"
      ]
    },
    {
      "cell_type": "code",
      "execution_count": 161,
      "metadata": {
        "colab": {
          "base_uri": "https://localhost:8080/"
        },
        "id": "Yn2_1V4BsiBj",
        "outputId": "f0b61363-02d0-4b10-e4e3-8f300729db8f"
      },
      "outputs": [
        {
          "name": "stdout",
          "output_type": "stream",
          "text": [
            "Python: 0b100000000\n",
            "Code:   100000000\n"
          ]
        }
      ],
      "source": [
        "print(\"Python:\", bin(number))\n",
        "print(\"Code:  \", show(bi.dec2bin(number, bits)))"
      ]
    },
    {
      "cell_type": "code",
      "execution_count": 162,
      "metadata": {
        "colab": {
          "base_uri": "https://localhost:8080/"
        },
        "id": "uA1W4ddExVzo",
        "outputId": "07031ac9-b6af-4582-b4d2-29c71e8a443b"
      },
      "outputs": [
        {
          "name": "stdout",
          "output_type": "stream",
          "text": [
            "Bin:  100000000\n",
            "Gray: 110000000\n"
          ]
        }
      ],
      "source": [
        "my_bin = bi.dec2bin(number, bits)\n",
        "my_gray = bi.bin2gray(my_bin)\n",
        "print(\"Bin: \", show(my_bin))\n",
        "print(\"Gray:\", show(my_gray))"
      ]
    },
    {
      "cell_type": "code",
      "execution_count": 163,
      "metadata": {
        "colab": {
          "base_uri": "https://localhost:8080/"
        },
        "id": "mBJghcFGFHbr",
        "outputId": "5047abe1-6ecf-426e-bfee-ad4c3da44ecd"
      },
      "outputs": [
        {
          "name": "stdout",
          "output_type": "stream",
          "text": [
            "Gray: 110000000\n",
            "Bin:  100000000\n"
          ]
        }
      ],
      "source": [
        "my_bin = bi.gray2bin(my_gray)\n",
        "print(\"Gray:\", show(my_gray))\n",
        "print(\"Bin: \", show(my_bin))"
      ]
    },
    {
      "cell_type": "markdown",
      "metadata": {
        "id": "tdq7UfghKrSD"
      },
      "source": [
        "# Pregunta 2\n",
        "Para todo valor entero de x en el rango de $[−5, 5]$, generar las cadenas binarias y en código de gray.\n",
        "\n",
        "*Solución:*"
      ]
    },
    {
      "cell_type": "code",
      "execution_count": 164,
      "metadata": {
        "colab": {
          "base_uri": "https://localhost:8080/"
        },
        "id": "0HnXIQe4Kig4",
        "outputId": "129b4e34-2ccf-4ae9-a93a-221e71bb4d29"
      },
      "outputs": [
        {
          "name": "stdout",
          "output_type": "stream",
          "text": [
            "n = 0 = [0, 0, 0, 0] = [0, 0, 0, 0]\n",
            "n = 1 = [0, 0, 0, 1] = [0, 0, 0, 1]\n",
            "n = 2 = [0, 0, 1, 0] = [0, 0, 1, 1]\n",
            "n = 3 = [0, 0, 1, 1] = [0, 0, 1, 0]\n",
            "n = 4 = [0, 1, 0, 0] = [0, 1, 1, 0]\n",
            "n = 5 = [0, 1, 0, 1] = [0, 1, 1, 1]\n",
            "n = 6 = [0, 1, 1, 0] = [0, 1, 0, 1]\n",
            "n = 7 = [0, 1, 1, 1] = [0, 1, 0, 0]\n",
            "n = 8 = [1, 0, 0, 0] = [1, 1, 0, 0]\n",
            "n = 9 = [1, 0, 0, 1] = [1, 1, 0, 1]\n"
          ]
        }
      ],
      "source": [
        "domain = [-5, 5]\n",
        "step = 1\n",
        "\n",
        "u_map = [bi.my_map(i, domain[0], domain[1], step) for i in range(domain[0], domain[1], step)]\n",
        "bits = math.ceil(math.log2(u_map[-1]))\n",
        "for u in u_map:\n",
        "    u_bin = bi.dec2bin(u, bits)\n",
        "    print(f\"n = {u} = {u_bin} = {bi.bin2gray(u_bin)}\")\n"
      ]
    },
    {
      "cell_type": "markdown",
      "metadata": {
        "id": "FgoLfDDQON-k"
      },
      "source": [
        "Para valores discretos de $x$ con una precisión de $10^{-3}$ en el rango de $[−5, 5]$, generar $10$ cadenas binarias y en código de gray de forma aleatoria."
      ]
    },
    {
      "cell_type": "code",
      "execution_count": 165,
      "metadata": {
        "colab": {
          "base_uri": "https://localhost:8080/"
        },
        "id": "TIQMPkAGLojJ",
        "outputId": "a59b39d6-7490-4002-ecd5-5bcc916a1d12"
      },
      "outputs": [
        {
          "name": "stdout",
          "output_type": "stream",
          "text": [
            "n = 7267 = [0, 1, 1, 1, 0, 0, 0, 1, 1, 0, 0, 0, 1, 1] = [0, 1, 0, 0, 1, 0, 0, 1, 0, 1, 0, 0, 1, 0])\n",
            "n = 8223 = [1, 0, 0, 0, 0, 0, 0, 0, 0, 1, 1, 1, 1, 1] = [1, 1, 0, 0, 0, 0, 0, 0, 0, 1, 0, 0, 0, 0])\n",
            "n = 6182 = [0, 1, 1, 0, 0, 0, 0, 0, 1, 0, 0, 1, 1, 0] = [0, 1, 0, 1, 0, 0, 0, 0, 1, 1, 0, 1, 0, 1])\n",
            "n = 4087 = [0, 0, 1, 1, 1, 1, 1, 1, 1, 1, 0, 1, 1, 1] = [0, 0, 1, 0, 0, 0, 0, 0, 0, 0, 1, 1, 0, 0])\n",
            "n = 6234 = [0, 1, 1, 0, 0, 0, 0, 1, 0, 1, 1, 0, 1, 0] = [0, 1, 0, 1, 0, 0, 0, 1, 1, 1, 0, 1, 1, 1])\n",
            "n = 331 = [0, 0, 0, 0, 0, 1, 0, 1, 0, 0, 1, 0, 1, 1] = [0, 0, 0, 0, 0, 1, 1, 1, 1, 0, 1, 1, 1, 0])\n",
            "n = 4257 = [0, 1, 0, 0, 0, 0, 1, 0, 1, 0, 0, 0, 0, 1] = [0, 1, 1, 0, 0, 0, 1, 1, 1, 1, 0, 0, 0, 1])\n",
            "n = 3026 = [0, 0, 1, 0, 1, 1, 1, 1, 0, 1, 0, 0, 1, 0] = [0, 0, 1, 1, 1, 0, 0, 0, 1, 1, 1, 0, 1, 1])\n",
            "n = 9147 = [1, 0, 0, 0, 1, 1, 1, 0, 1, 1, 1, 0, 1, 1] = [1, 1, 0, 0, 1, 0, 0, 1, 1, 0, 0, 1, 1, 0])\n",
            "n = 8321 = [1, 0, 0, 0, 0, 0, 1, 0, 0, 0, 0, 0, 0, 1] = [1, 1, 0, 0, 0, 0, 1, 1, 0, 0, 0, 0, 0, 1])\n"
          ]
        }
      ],
      "source": [
        "domain = [-5, 5]\n",
        "step = 1e-3\n",
        "\n",
        "u_map = [random.randint(0, round((domain[1] - domain[0]) / step)) for _ in range(10)]\n",
        "bits = math.ceil(math.log2(max(u_map)))\n",
        "for u in u_map:\n",
        "    u_bin = bi.dec2bin(u, bits)\n",
        "    print(f\"n = {u} = {u_bin} = {bi.bin2gray(u_bin)})\")\n"
      ]
    },
    {
      "cell_type": "markdown",
      "metadata": {
        "id": "nTbNZc8PYaFp"
      },
      "source": [
        "Para valores discretos de $x$ e $y$ con una precisión de $10^{−3}$ donde $x \\in [−5, 5]$ e $y ∈ [0, 10]$, generar $10$ cadenas binarias y en código de gray de forma aleatoria."
      ]
    },
    {
      "cell_type": "code",
      "execution_count": 166,
      "metadata": {
        "colab": {
          "base_uri": "https://localhost:8080/"
        },
        "id": "ZGeh29GTYlPc",
        "outputId": "b28515d1-f614-4431-8022-fa5bf11142a3"
      },
      "outputs": [
        {
          "name": "stdout",
          "output_type": "stream",
          "text": [
            "(x, y) = (3.9879999999999995, 0.925)\n",
            "(10001100011100, 00001110011101) = (11001010010010, 00001001010011)\n",
            "(x, y) = (2.2300000000000004, 5.863)\n",
            "(01110000111110, 01011011100111) = (01001000100001, 01110110010100)\n",
            "(x, y) = (3.9369999999999994, 0.35100000000000003)\n",
            "(10001011101001, 00000101011111) = (11001110011101, 00000111110000)\n",
            "(x, y) = (1.963, 5.929)\n",
            "(01101100110011, 01011100101001) = (01011010101010, 01110010111101)\n",
            "(x, y) = (4.915000000000001, 5.679)\n",
            "(10011010111011, 01011000101111) = (11010111100110, 01110100111000)\n",
            "(x, y) = (4.507, 1.2510000000000001)\n",
            "(10010100100011, 00010011100011) = (11011110110010, 00011010010010)\n",
            "(x, y) = (-1.2109999999999999, 5.705)\n",
            "(00111011001101, 01011001001001) = (00100110101011, 01110101101101)\n",
            "(x, y) = (3.6850000000000005, 9.406)\n",
            "(10000111101101, 10010010111110) = (11000100011011, 11011011100001)\n",
            "(x, y) = (-2.15, 5.305)\n",
            "(00101100100010, 01010010111001) = (00111010110011, 01111011100101)\n",
            "(x, y) = (-0.09799999999999986, 6.47)\n",
            "(01001100100110, 01100101000110) = (01101010110101, 01010111100101)\n"
          ]
        }
      ],
      "source": [
        "domain_x = [-5, 5]\n",
        "domain_y = [0, 10]\n",
        "\n",
        "step = 1e-3\n",
        "\n",
        "n_itemx_x = round((domain_x[1] - domain_x[0]) / step)\n",
        "n_itemx_y = round((domain_x[1] - domain_x[0]) / step)\n",
        "\n",
        "u_map = [random.randint(0, n_itemx_x) for _ in range(10)]\n",
        "v_map = [random.randint(0, n_itemx_y) for _ in range(10)]\n",
        "\n",
        "bits_x = math.ceil(math.log2(n_itemx_x))\n",
        "bits_y = math.ceil(math.log2(n_itemx_y))\n",
        "\n",
        "for u, v in zip(u_map, v_map):\n",
        "    u_bin = bi.dec2bin(u, bits_x)\n",
        "    v_bin = bi.dec2bin(v, bits_x)\n",
        "    print(f\"(x, y) = ({bi.inverse_map(u, domain_x[0], step)}, {bi.inverse_map(v, domain_y[0], step)})\")\n",
        "    print(f\"({show(u_bin)}, {show(v_bin)}) = ({show(bi.bin2gray(u_bin))}, {show(bi.bin2gray(v_bin))})\")\n"
      ]
    },
    {
      "cell_type": "markdown",
      "metadata": {
        "id": "Ylg1ugh5bDWz"
      },
      "source": [
        "# Pregunta 3\n",
        "Usando las funciones anteriores, implementar el código para los siguientes casos:"
      ]
    },
    {
      "cell_type": "code",
      "execution_count": 167,
      "metadata": {
        "id": "_yLa8nfDZToD"
      },
      "outputs": [],
      "source": [
        "POPULATION = 20\n",
        "SELECTION = 10"
      ]
    },
    {
      "cell_type": "markdown",
      "metadata": {
        "id": "BvqbfUafi91Y"
      },
      "source": [
        "* Función población inicial, los individuos se deben elegir de forma aleatoria."
      ]
    },
    {
      "cell_type": "code",
      "execution_count": 168,
      "metadata": {
        "colab": {
          "base_uri": "https://localhost:8080/"
        },
        "id": "MQTn7Xy0fodm",
        "outputId": "36574eba-b02f-485b-bf8f-edd55ec62ed9"
      },
      "outputs": [
        {
          "name": "stdout",
          "output_type": "stream",
          "text": [
            "[5, 16, 15, 16, 1, 9, 18, 6, 12, 15, -15, -12, 15, -5, -11, 12, -9, 7, 8, 20]\n"
          ]
        }
      ],
      "source": [
        "domain = [-15, 20]\n",
        "step = 1\n",
        "\n",
        "population = [random.randint(domain[0], domain[1]) for _ in range(POPULATION)]\n",
        "print(population)"
      ]
    },
    {
      "cell_type": "markdown",
      "metadata": {
        "id": "FcH_YvkSjCsL"
      },
      "source": [
        "* Función de selección, la selección lo debe realizar de forma aleatoria."
      ]
    },
    {
      "cell_type": "code",
      "execution_count": 169,
      "metadata": {
        "colab": {
          "base_uri": "https://localhost:8080/"
        },
        "id": "N0HLM0OvgwhK",
        "outputId": "6ee17b9d-56b2-49b4-94ea-874e4eafad14"
      },
      "outputs": [],
      "source": [
        "# Función de selección, la selección lo debe realizar de forma aleatoria.\n",
        "def random_selection(poblation: list[int], k):\n",
        "    return random.sample(poblation, k=k)\n",
        "\n",
        "\n",
        "def mapping(population, domain, step):\n",
        "    selection_map = [bi.my_map(x, domain[0], domain[1], step) for x in population]\n",
        "    bits = math.ceil(math.log2(bi.my_map(domain[1], domain[0], domain[1], step)))\n",
        "    selection_gray = [bi.dec2bin(num, bits) for num in selection_map]\n",
        "    return selection_gray\n"
      ]
    },
    {
      "cell_type": "code",
      "execution_count": 170,
      "metadata": {},
      "outputs": [
        {
          "name": "stdout",
          "output_type": "stream",
          "text": [
            "[0, 1, 0, 1, 1, 0]\n",
            "[0, 0, 1, 0, 1, 0]\n",
            "[0, 1, 0, 1, 0, 1]\n",
            "[0, 1, 0, 1, 1, 1]\n",
            "[0, 0, 0, 0, 1, 1]\n",
            "[0, 1, 1, 0, 0, 0]\n",
            "[0, 1, 0, 1, 0, 0]\n",
            "[0, 1, 1, 1, 1, 0]\n",
            "[0, 0, 0, 0, 0, 0]\n",
            "[0, 1, 1, 0, 1, 1]\n"
          ]
        }
      ],
      "source": [
        "selection_gray = mapping(random_selection(population, SELECTION), domain, step)\n",
        "for ind in selection_gray:\n",
        "    print(ind)"
      ]
    },
    {
      "cell_type": "markdown",
      "metadata": {
        "id": "L62Mz-kZin-V"
      },
      "source": [
        "* Función de Recombinación, debe elegir un punto aleatorio dentro de la cadena y hacer el cruce para generar los descendientes."
      ]
    },
    {
      "cell_type": "code",
      "execution_count": 171,
      "metadata": {
        "id": "fNmmjdV8h0WN"
      },
      "outputs": [],
      "source": [
        "def crossover(p1: list, p2: list):\n",
        "    point = random.randint(1, len(p1) - 1)\n",
        "    c1, c2 = copy.deepcopy(p1), copy.deepcopy(p2)\n",
        "    c1[point:], c2[point:] = c2[point:], c1[point:]\n",
        "    return [c1, c2]\n"
      ]
    },
    {
      "cell_type": "code",
      "execution_count": 172,
      "metadata": {
        "colab": {
          "base_uri": "https://localhost:8080/"
        },
        "id": "LeBNxuS9r47r",
        "outputId": "24e9043e-2722-4432-a959-e9bffe60fbc6"
      },
      "outputs": [
        {
          "name": "stdout",
          "output_type": "stream",
          "text": [
            "Parent 1: [0, 1, 0, 1, 0, 0]\n",
            "Parent 2: [0, 1, 1, 1, 1, 0]\n",
            "Child 1: [0, 1, 0, 1, 1, 0]\n",
            "Child 2: [0, 1, 1, 1, 0, 0]\n"
          ]
        }
      ],
      "source": [
        "p1, p2 = random.sample(selection_gray, 2)\n",
        "offspring1, offspring2 = crossover(p1, p2)\n",
        "\n",
        "print(f\"Parent 1: {p1}\")\n",
        "print(f\"Parent 2: {p2}\")\n",
        "print(f\"Child 1: {offspring1}\")\n",
        "print(f\"Child 2: {offspring2}\")\n"
      ]
    },
    {
      "cell_type": "markdown",
      "metadata": {
        "id": "H-sSr4eduEm3"
      },
      "source": [
        "* Función de mutación, debe elegir un bit o una posición de la cadena y invertirlo el valor, es decir, si tiene cero cambiarlo a 1 o viceversa."
      ]
    },
    {
      "cell_type": "code",
      "execution_count": 173,
      "metadata": {
        "id": "tyVGZpoYsChy"
      },
      "outputs": [],
      "source": [
        "def mutation(ind: list):\n",
        "    mut = copy.deepcopy(ind)\n",
        "    point = random.randint(0, len(ind) - 1)\n",
        "    g1 = mut[point]\n",
        "    mut[point] = (g1 + 1) % 2\n",
        "    return mut\n"
      ]
    },
    {
      "cell_type": "code",
      "execution_count": 174,
      "metadata": {
        "colab": {
          "base_uri": "https://localhost:8080/"
        },
        "id": "AEVh_GA1tJl8",
        "outputId": "6510cee3-cb8c-4de7-9f49-addb45321a1c"
      },
      "outputs": [
        {
          "name": "stdout",
          "output_type": "stream",
          "text": [
            "Original: [0, 1, 0, 1, 0, 1]\n",
            "Mutated: [0, 1, 0, 0, 0, 1]\n"
          ]
        }
      ],
      "source": [
        "ind = random.choice(selection_gray)\n",
        "mut = mutation(ind)\n",
        "\n",
        "print(f\"Original: {ind}\")\n",
        "print(f\"Mutated: {mut}\")"
      ]
    },
    {
      "cell_type": "markdown",
      "metadata": {},
      "source": [
        "* Por último, implementarlo el algoritmo de canónico.\n"
      ]
    },
    {
      "cell_type": "markdown",
      "metadata": {},
      "source": [
        "# Pregunta 4 \n",
        "El problema OneMax (o One-Max) es una tarea de optimización simple que se utiliza a menudo como el ejemplo Hola mundo en los los frameworks de algoritmos genéticos.\n",
        "\n",
        "La tarea de OneMax es encontrar la cadena binaria de una longitud determinada que maximice la suma de sus dígitos. Por ejemplo, el problema OneMax de longitud 5 considerará candidatos como los siguientes:"
      ]
    },
    {
      "cell_type": "code",
      "execution_count": 175,
      "metadata": {},
      "outputs": [
        {
          "data": {
            "text/plain": [
              "[[0, 1, 1, 1, 0],\n",
              " [1, 0, 0, 1, 0],\n",
              " [0, 0, 1, 0, 0],\n",
              " [1, 0, 0, 1, 0],\n",
              " [0, 1, 0, 1, 0],\n",
              " [1, 0, 0, 1, 1],\n",
              " [1, 1, 0, 1, 0],\n",
              " [0, 1, 1, 1, 0],\n",
              " [0, 1, 0, 0, 0],\n",
              " [0, 1, 0, 1, 0]]"
            ]
          },
          "execution_count": 175,
          "metadata": {},
          "output_type": "execute_result"
        }
      ],
      "source": [
        "POPULATION_SIZE = 10\n",
        "SELECTION_SIZE = 6\n",
        "bits = 5\n",
        "domain = [0, 2**bits - 1]\n",
        "step = 1\n",
        "population = [random.randint(domain[0], domain[1]) for _ in range(POPULATION_SIZE)]\n",
        "population = mapping(population, domain, step)\n",
        "population\n"
      ]
    },
    {
      "cell_type": "code",
      "execution_count": 176,
      "metadata": {},
      "outputs": [
        {
          "data": {
            "text/plain": [
              "[[0, 1, 0, 1, 0],\n",
              " [0, 0, 1, 0, 0],\n",
              " [1, 0, 0, 1, 0],\n",
              " [1, 0, 0, 1, 1],\n",
              " [0, 1, 0, 0, 0],\n",
              " [0, 1, 1, 1, 0]]"
            ]
          },
          "execution_count": 176,
          "metadata": {},
          "output_type": "execute_result"
        }
      ],
      "source": [
        "selection = random_selection(population, SELECTION_SIZE)\n",
        "selection"
      ]
    },
    {
      "cell_type": "code",
      "execution_count": 177,
      "metadata": {},
      "outputs": [],
      "source": [
        "fitness = lambda x: sum(x)\n"
      ]
    },
    {
      "cell_type": "code",
      "execution_count": 178,
      "metadata": {},
      "outputs": [
        {
          "name": "stdout",
          "output_type": "stream",
          "text": [
            "Generación: 2, número de descendientes: 20\n",
            "Generación: 4, número de descendientes: 20\n",
            "Generación: 6, número de descendientes: 20\n",
            "Generación: 8, número de descendientes: 20\n",
            "Generación: 10, número de descendientes: 20\n"
          ]
        },
        {
          "data": {
            "image/png": "[encoded data removed]",
            "text/plain": [
              "<Figure size 432x288 with 1 Axes>"
            ]
          },
          "metadata": {
            "needs_background": "light"
          },
          "output_type": "display_data"
        }
      ],
      "source": [
        "max_generation = 10\n",
        "generation_number = 0\n",
        "best: list[int] = []\n",
        "while generation_number < max_generation:\n",
        "    generation_number += 1\n",
        "    # seleccion de los padres (para la reproducción)\n",
        "    parents = random_selection(population, POPULATION_SIZE)\n",
        "    # operadores de variación\n",
        "    offspring: list[int] = []\n",
        "    # crossover\n",
        "    for p1, p2 in zip(parents[0::2], parents[1::2]):\n",
        "        offspring += crossover(p1, p2)\n",
        "    # mutation\n",
        "    for ind in parents:\n",
        "            offspring.append(mutation(ind))\n",
        "    # λ individuos aptos + n padres\n",
        "    population += offspring\n",
        "    # seleccionamos un individuo random para la grafica\n",
        "    best.append(population[random.randint(0, len(population) - 1)])\n",
        "    # selección del ambiente n\n",
        "    population = random_selection(population, POPULATION_SIZE)\n",
        "    # impresión de la generación\n",
        "    if generation_number % int(max_generation / 5) == 0:\n",
        "        print(f\"Generación: {generation_number}, número de descendientes: {len(offspring)}\")\n",
        "\n",
        "plt.plot([fitness(phenotype) for phenotype in best], \"r-\")\n",
        "plt.title(f\"Generation number {generation_number}\")\n",
        "plt.ylabel(\"Fitness\")\n",
        "plt.xlabel(\"Generation\")\n",
        "plt.show()\n"
      ]
    },
    {
      "cell_type": "code",
      "execution_count": 179,
      "metadata": {},
      "outputs": [
        {
          "name": "stdout",
          "output_type": "stream",
          "text": [
            "Optimal value\n",
            " x* = [1, 1, 1, 1, 0], f(x*) = 4\n"
          ]
        }
      ],
      "source": [
        "solution = max(best, key=lambda x: fitness(x))\n",
        "print(f\"Optimal value\\n x* = {solution}, f(x*) = {fitness(solution)}\")"
      ]
    }
  ],
  "metadata": {
    "colab": {
      "collapsed_sections": [],
      "name": "PD1_evolutivas.ipynb",
      "provenance": []
    },
    "interpreter": {
      "hash": "590f4a299ae404e723bbc5f32e9a7b98b836c3c65ce9112bc934ac92a06ceee3"
    },
    "kernelspec": {
      "display_name": "Python 3.10.4 64-bit",
      "language": "python",
      "name": "python3"
    },
    "language_info": {
      "codemirror_mode": {
        "name": "ipython",
        "version": 3
      },
      "file_extension": ".py",
      "mimetype": "text/x-python",
      "name": "python",
      "nbconvert_exporter": "python",
      "pygments_lexer": "ipython3",
      "version": "3.10.6"
    }
  },
  "nbformat": 4,
  "nbformat_minor": 0
}

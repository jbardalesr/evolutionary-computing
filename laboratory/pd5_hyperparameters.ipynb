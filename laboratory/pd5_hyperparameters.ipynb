{
 "cells": [
  {
   "cell_type": "markdown",
   "metadata": {},
   "source": [
    "# Curso: CC521 A Programación Evolutiva 2022-1\n",
    "Alumno: Jordi Joel Bardales Rojas"
   ]
  },
  {
   "cell_type": "markdown",
   "metadata": {},
   "source": [
    "## Práctica dirigida: Representación y Selección \n"
   ]
  },
  {
   "cell_type": "code",
   "execution_count": 13,
   "metadata": {},
   "outputs": [],
   "source": [
    "from __future__ import annotations\n",
    "import math\n",
    "import numpy as np\n",
    "from enum import Enum\n",
    "from bin_repr import dec2bin, bin2gray, my_map, inverse_map, bin2dec, gray2bin\n",
    "import copy\n",
    "import random\n",
    "import matplotlib.pyplot as plt\n",
    "from typing import Callable, NamedTuple\n",
    "from itertools import combinations\n",
    "from abc import ABC, abstractmethod\n"
   ]
  },
  {
   "cell_type": "markdown",
   "metadata": {},
   "source": [
    "## Algoritmo Genético binario (Cuaderno de notas del Colab)\n",
    "\n",
    "Para las dos primeras funciones de De Jong:\n"
   ]
  },
  {
   "cell_type": "code",
   "execution_count": 14,
   "metadata": {},
   "outputs": [],
   "source": [
    "F1 = lambda x: x[0]**2 + x[1]**2 + x[2]**2\n",
    "F2 = lambda x: 100 * (x[0]**2 - x[1])**2 + (1 - x[0])**2\n",
    "# dominio\n",
    "domain_1, n_var_1 = [-1.0, 1], 3\n",
    "domain_2, n_var_2 = [-2, 2.0], 2\n"
   ]
  },
  {
   "cell_type": "markdown",
   "metadata": {},
   "source": [
    "Parámetros del individuo tipados"
   ]
  },
  {
   "cell_type": "code",
   "execution_count": 15,
   "metadata": {},
   "outputs": [],
   "source": [
    "class IndividualArguments(NamedTuple):\n",
    "    domain: tuple[int, int]\n",
    "    eps: float\n",
    "    n_var: int\n",
    "    gen_size: int\n"
   ]
  },
  {
   "cell_type": "markdown",
   "metadata": {},
   "source": [
    "Usando las métricas \"en linea\" y \"fuera de linea\" realizar lo siguiente:"
   ]
  },
  {
   "cell_type": "markdown",
   "metadata": {},
   "source": [
    "### 1. Determinar el tamaño de la población para ambas funciones, Seleccionar los hiperparámetros iniciales de acuerdo a su criterio"
   ]
  },
  {
   "cell_type": "markdown",
   "metadata": {},
   "source": [
    "### Algoritmo genético"
   ]
  },
  {
   "cell_type": "markdown",
   "metadata": {},
   "source": [
    "#### Representación"
   ]
  },
  {
   "cell_type": "code",
   "execution_count": 16,
   "metadata": {},
   "outputs": [],
   "source": [
    "class Individual():\n",
    "    def __init__(self, phenotype: list[float], args: IndividualArguments):\n",
    "        self.domain = args.domain\n",
    "        self.eps = args.eps\n",
    "        self.n_var = args.n_var\n",
    "        self.gen_size = args.gen_size\n",
    "        self.phenotype = phenotype\n",
    "\n",
    "    def getGenotype(self):\n",
    "        list_repr: list[int] = []\n",
    "        for gen in self.phenotype:\n",
    "            list_repr.extend(bin2gray(dec2bin(num=my_map(gen, self.domain[0], self.domain[1], self.eps), bits=self.gen_size)))\n",
    "        return list_repr\n",
    "\n",
    "    @classmethod\n",
    "    def new(cls, genotype, args: IndividualArguments):\n",
    "        phenotype: list[int] = []\n",
    "        for k in range(args.n_var):\n",
    "            gen = genotype[args.gen_size * k:args.gen_size * (k + 1)]\n",
    "            phenotype.append(inverse_map(bin2dec(gray2bin(gen)), args.domain[0], args.eps))\n",
    "        return cls(phenotype, args)\n",
    "\n",
    "    @staticmethod\n",
    "    def newLike(genotype: list[int], parent: Individual):\n",
    "        args = IndividualArguments(parent.domain, parent.eps, parent.n_var, parent.gen_size)\n",
    "        return Individual.new(genotype, args)\n",
    "\n",
    "    @classmethod\n",
    "    def newRandom(cls, args: IndividualArguments):\n",
    "        phenotype = [round(random.uniform(args.domain[0], args.domain[1]), 6) for _ in range(args.n_var)]\n",
    "        return cls(phenotype, args)\n"
   ]
  },
  {
   "cell_type": "markdown",
   "metadata": {},
   "source": [
    "#### Selección"
   ]
  },
  {
   "cell_type": "code",
   "execution_count": 17,
   "metadata": {},
   "outputs": [],
   "source": [
    "class Selection(ABC):\n",
    "    def __init__(self, num_individuals: int):\n",
    "        self.num_individuals = num_individuals\n",
    "\n",
    "    @abstractmethod\n",
    "    def get_individuals(self, population: list[Individual], fitness: list[float]):\n",
    "        pass\n",
    "\n",
    "\n",
    "class ProportionalSelection(Selection):\n",
    "    def __init__(self, num_individuals: int, delta: float = 0.0):\n",
    "        super().__init__(num_individuals)\n",
    "        self.delta = delta\n",
    "\n",
    "    def get_individuals(self, population: list[Individual], fitness: list[float]):\n",
    "        f_max = max(fitness)\n",
    "        fitness = f_max - np.array(fitness) + 1e-4 + self.delta\n",
    "        distribution = fitness / fitness.sum()\n",
    "        return random.choices(population, weights=distribution, k=self.num_individuals)\n",
    "\n",
    "\n",
    "class LinearRankingSelection(Selection):\n",
    "    def __init__(self, num_individuals: int, s: float):\n",
    "        super().__init__(num_individuals)\n",
    "        self.s = s\n",
    "\n",
    "    def get_individuals(self, population: list[Individual], fitness: list[float]):\n",
    "        mu = len(population)\n",
    "        pop_fit = zip(population, fitness)\n",
    "        sorted_pop_fit = sorted(pop_fit, key=lambda val: val[1], reverse=True)\n",
    "        pop_fit = list(zip(*sorted_pop_fit))\n",
    "        distribution = [(2 - self.s) / mu + 2 * i * (self.s - 1) / (mu * (mu - 1)) for i in range(mu)]\n",
    "        return random.choices(pop_fit[0], weights=distribution, k=self.num_individuals)\n",
    "\n",
    "\n",
    "class TournamentSelection(Selection):\n",
    "    def __init__(self, num_individuals: int, tournament_size: int):\n",
    "        super().__init__(num_individuals)\n",
    "        self.tournament_size = tournament_size\n",
    "\n",
    "    def get_individuals(self, population: list[Individual], fitness: list[float]):\n",
    "        pop_fit_zipped = list(zip(population, fitness))\n",
    "        selected: list[Individual] = []\n",
    "        for _ in range(self.num_individuals):\n",
    "            candidates = random.choices(pop_fit_zipped, k=self.tournament_size)\n",
    "            selected.append(min(candidates, key=lambda pop_fit: pop_fit[1])[0])\n",
    "        return selected\n",
    "\n",
    "\n",
    "class UniformSelection(Selection):\n",
    "    def __init__(self, num_individuals: int):\n",
    "        super().__init__(num_individuals)\n",
    "\n",
    "    def get_individuals(self, population: list[Individual], fitness: list[float] = None):\n",
    "        return random.choices(population, k=self.num_individuals)\n",
    "\n",
    "\n",
    "class RouletteSelection(Selection):\n",
    "    def __init__(self, num_individuals: int):\n",
    "        super().__init__(num_individuals)\n",
    "\n",
    "    def get_individuals(self, population: list[Individual], fitness: list[float]):\n",
    "        f_max = max(fitness)\n",
    "        fitness = f_max - np.array(fitness) + 1e-4\n",
    "        distribution = np.array(fitness) / sum(fitness)\n",
    "        return random.choices(population, weights=distribution, k=self.num_individuals)\n"
   ]
  },
  {
   "cell_type": "markdown",
   "metadata": {},
   "source": [
    "#### Cruzamiento"
   ]
  },
  {
   "cell_type": "code",
   "execution_count": 18,
   "metadata": {},
   "outputs": [],
   "source": [
    "class Crossover(ABC):\n",
    "    def __init__(self, probability: float):\n",
    "        self.probability = probability\n",
    "\n",
    "    @abstractmethod\n",
    "    def make(self, p1: Individual, p2: Individual):\n",
    "        pass\n",
    "\n",
    "\n",
    "class OnePointCrossover(Crossover):\n",
    "    def __init__(self, probability: float):\n",
    "        super().__init__(probability)\n",
    "\n",
    "    def make(self, p1: Individual, p2: Individual):\n",
    "        # dos hijos por pareja\n",
    "        if random.random() < self.probability:\n",
    "            c1 = copy.deepcopy(p1.getGenotype())\n",
    "            c2 = copy.deepcopy(p2.getGenotype())\n",
    "            point = random.randint(1, len(c1) - 2)\n",
    "\n",
    "            c1[point:], c2[point:] = c2[point:], c1[point:]\n",
    "            return Individual.newLike(c1, p1), Individual.newLike(c2, p2)\n",
    "        return None\n",
    "\n",
    "\n",
    "class NPointCrossover(Crossover):\n",
    "    def __init__(self, probability: float, n: int):\n",
    "        super().__init__(probability)\n",
    "        self.n = n\n",
    "\n",
    "    def make(self, p1: Individual, p2: Individual):\n",
    "        # dos hijos por pareja\n",
    "        if random.random() < self.probability:\n",
    "            ps = random.sample(range(1, p1.gen_size * p1.n_var - 1), self.n)\n",
    "            ps.append(0)\n",
    "            ps.append(p1.gen_size * p1.n_var)\n",
    "            ps = sorted(ps)\n",
    "            c1 = copy.deepcopy(p1.getGenotype())\n",
    "            c2 = copy.deepcopy(p2.getGenotype())\n",
    "            for i in range(0, self.n + 1):\n",
    "                if i % 2 == 0:\n",
    "                    continue\n",
    "                c1[ps[i]:ps[i + 1]], c2[ps[i]:ps[i + 1]] = c2[ps[i]:ps[i + 1]], c1[ps[i]:ps[i + 1]]\n",
    "\n",
    "            return Individual.newLike(c1, p1), Individual.newLike(c2, p2)\n",
    "        return None\n",
    "\n",
    "\n",
    "class ShuffleCrossover(Crossover):\n",
    "    def __init__(self, probability: float):\n",
    "        super().__init__(probability)\n",
    "\n",
    "    def make(self, p1: Individual, p2: Individual):\n",
    "        # dos hijos por pareja\n",
    "        if random.random() < self.probability:\n",
    "            index = list(range(0, p1.gen_size * p1.n_var))\n",
    "            random.shuffle(index)\n",
    "\n",
    "            p1_gen = np.array(p1.getGenotype())\n",
    "            p2_gen = np.array(p2.getGenotype())\n",
    "\n",
    "            c1 = np.copy(p1_gen[index])\n",
    "            c2 = np.copy(p1_gen[index])\n",
    "            temp = np.copy(p2_gen[index])\n",
    "\n",
    "            point = random.randint(1, len(c1) - 2)\n",
    "            # slice swap list isn't equals that slice in numpy\n",
    "            c1[point:], c2[:point] = temp[point:], temp[:point]\n",
    "\n",
    "            c1_unshuffle = np.zeros_like(c1, dtype=int)\n",
    "            c2_unshuffle = np.zeros_like(c2, dtype=int)\n",
    "\n",
    "            c1_unshuffle[index] = c1[index]\n",
    "            c2_unshuffle[index] = c2[index]\n",
    "            return Individual.newLike(c1_unshuffle, p1), Individual.newLike(c2_unshuffle, p2)\n",
    "        return None\n",
    "\n",
    "\n",
    "class UniformCrossover(Crossover):\n",
    "    def __init__(self, probability: float, swap_probability: float):\n",
    "        super().__init__(probability)\n",
    "        self.swap_probability = swap_probability\n",
    "\n",
    "    def make(self, p1: Individual, p2: Individual):\n",
    "        # dos hijos por pareja\n",
    "        if random.random() < self.probability:\n",
    "            # swap a random position i\n",
    "            c1 = copy.deepcopy(p1.getGenotype())\n",
    "            c2 = copy.deepcopy(p2.getGenotype())\n",
    "\n",
    "            for i in range(p1.gen_size * p1.n_var):\n",
    "                if random.random() < self.swap_probability:\n",
    "                    c1[i], c2[i] = c2[i], c1[i]\n",
    "            return Individual.newLike(c1, p1), Individual.newLike(c2, p2)\n",
    "        return None\n"
   ]
  },
  {
   "cell_type": "markdown",
   "metadata": {},
   "source": [
    "#### Mutación\n"
   ]
  },
  {
   "cell_type": "code",
   "execution_count": 19,
   "metadata": {},
   "outputs": [],
   "source": [
    "class Mutation(ABC):\n",
    "    def __init__(self, probability: float):\n",
    "        self.probability = probability\n",
    "\n",
    "    @abstractmethod\n",
    "    def make(self, p1: Individual, p2: Individual):\n",
    "        pass\n",
    "\n",
    "\n",
    "class OneFlipMutation(Mutation):\n",
    "    def __init__(self, probability: float):\n",
    "        super().__init__(probability)\n",
    "\n",
    "    def make(self, ind: Individual):\n",
    "        mut = copy.deepcopy(ind.getGenotype())\n",
    "        if random.random() < self.probability:\n",
    "            # punto aleatorio de la cadena\n",
    "            point = random.randint(0, len(mut) - 1)\n",
    "\n",
    "            if len(mut) > ind.n_var:\n",
    "                mut[point] = (mut[point] + 1) % 2\n",
    "            else:\n",
    "                mut[point] = random.uniform(ind.domain[0], ind.domain[1])\n",
    "            return Individual.newLike(mut, ind)\n",
    "        return None\n",
    "\n",
    "\n",
    "class UniformMutation(Mutation):\n",
    "    def __init__(self, probability: float):\n",
    "        super().__init__(probability)\n",
    "\n",
    "    def make(self, ind: Individual):\n",
    "        mut = copy.deepcopy(ind.getGenotype())\n",
    "        if random.random() < self.probability:\n",
    "            # punto aleatorio de la cadena\n",
    "            p = 0.5\n",
    "            for i in range(len(mut)):\n",
    "                if random.random() < p:\n",
    "                    mut[i] = (mut[i] + 1) % 2\n",
    "            return Individual.newLike(mut, ind)\n",
    "        return None\n",
    "\n",
    "\n",
    "class SwapMutation(Mutation):\n",
    "    def __init__(self, probability: float):\n",
    "        super().__init__(probability)\n",
    "\n",
    "    def make(self, ind: Individual):\n",
    "        mut = copy.deepcopy(ind.getGenotype())\n",
    "        if random.random() < self.probability:\n",
    "            i, j = random.sample(range(len(mut)), k=2)\n",
    "            mut[i], mut[j] = mut[j], mut[i]\n",
    "            return Individual.newLike(mut, ind)\n",
    "        return None\n",
    "\n",
    "\n",
    "class ReversingMutation(Mutation):\n",
    "    def __init__(self, probability: float):\n",
    "        super().__init__(probability)\n",
    "\n",
    "    def make(self, ind: Individual):\n",
    "        mut = copy.deepcopy(ind.getGenotype())\n",
    "        if random.random() < self.probability:\n",
    "            point = random.randint(0, len(mut) - 2)\n",
    "            mut[point] = (mut[point + 1] + 1) % 2\n",
    "            return Individual.newLike(mut, ind)\n",
    "        return None\n"
   ]
  },
  {
   "cell_type": "markdown",
   "metadata": {},
   "source": [
    "#### Esquema general de un AE genérico "
   ]
  },
  {
   "cell_type": "code",
   "execution_count": 20,
   "metadata": {},
   "outputs": [],
   "source": [
    "def genenetic_algorithm(max_generation: int,\n",
    "                        fitness: Callable[[list[float]], float],\n",
    "                        population: list[Individual],\n",
    "                        selection: Selection,\n",
    "                        crossover: Crossover,\n",
    "                        mutation: Mutation):\n",
    "    best: list[Individual] = []\n",
    "    generation_number = 0\n",
    "    while generation_number < max_generation:\n",
    "        generation_number += 1\n",
    "        # evaluacion de la aptitud de la población inicial (n individuos)\n",
    "        population_fitness = [fitness(ind.phenotype) for ind in population]\n",
    "        # seleccion de los padres (para la reproducción)\n",
    "        parents = selection.get_individuals(population, population_fitness)\n",
    "        # operadores de variación\n",
    "        offspring: list[Individual] = []\n",
    "        # crossover\n",
    "        for p1, p2 in zip(parents[0::2], parents[1::2]):\n",
    "            if (childs := crossover.make(p1, p2)) != None:\n",
    "                offspring += childs\n",
    "        # mutation\n",
    "        for ind in parents:\n",
    "            if (mutant := mutation.make(ind)) != None:\n",
    "                offspring.append(mutant)\n",
    "        # evaluacion de la aptitud de los λ descendientes\n",
    "        offspring_fitness = [fitness(ind.phenotype) for ind in offspring]\n",
    "\n",
    "        # λ individuos aptos + n padres\n",
    "        population += offspring\n",
    "        population_fitness += offspring_fitness\n",
    "        # seleccionamos un individuo para la grafica\n",
    "        best.append(population[random.randint(0, len(population) - 1)])\n",
    "        # selección del ambiente n\n",
    "        population = selection.get_individuals(population, population_fitness)\n",
    "        # impresión de la generación\n",
    "        if generation_number % int(max_generation / 10) == 0:\n",
    "            print(f\"Generación: {generation_number}, número de descendientes: {len(offspring)}\")\n",
    "\n",
    "    plt.plot([fitness(x.phenotype) for x in best], \"r-\")\n",
    "    plt.title(f\"{selection.__class__.__name__}, {crossover.__class__.__name__} & {mutation.__class__.__name__}\\nGeneration number {generation_number}\")\n",
    "    plt.ylabel(\"Fitness\")\n",
    "    plt.xlabel(\"Generation\")\n",
    "    plt.show()\n",
    "    return best\n"
   ]
  },
  {
   "cell_type": "code",
   "execution_count": 21,
   "metadata": {},
   "outputs": [
    {
     "name": "stdout",
     "output_type": "stream",
     "text": [
      "Generación: 2, número de descendientes: 13\n",
      "Generación: 4, número de descendientes: 10\n",
      "Generación: 6, número de descendientes: 13\n",
      "Generación: 8, número de descendientes: 8\n",
      "Generación: 10, número de descendientes: 12\n",
      "Generación: 12, número de descendientes: 14\n",
      "Generación: 14, número de descendientes: 12\n",
      "Generación: 16, número de descendientes: 6\n",
      "Generación: 18, número de descendientes: 14\n",
      "Generación: 20, número de descendientes: 12\n"
     ]
    },
    {
     "data": {
      "image/png": "[encoded data removed]",
      "text/plain": [
       "<Figure size 432x288 with 1 Axes>"
      ]
     },
     "metadata": {
      "needs_background": "light"
     },
     "output_type": "display_data"
    }
   ],
   "source": [
    "# GA CANONICAL HYPERPARAMETERS\n",
    "MAX_GENERATION = 20\n",
    "POPULATION_SIZE = 20\n",
    "GEN_SIZE_1 = 10\n",
    "SELECTED_SIZE = 15\n",
    "CROSSOVER_PROBABILITY = 0.8\n",
    "MUTATION_PROBABILITY = 0.01\n",
    "eps_1 = (domain_1[1] - domain_1[0]) / (2**GEN_SIZE_1 - 1)\n",
    "\n",
    "args = IndividualArguments(domain_1, eps_1, n_var_1, GEN_SIZE_1)\n",
    "initial_population = [Individual.newRandom(args) for _ in range(POPULATION_SIZE)]\n",
    "\n",
    "# PIPELINE GA TOURNAMENT SELECTION\n",
    "best = genenetic_algorithm(max_generation=MAX_GENERATION,\n",
    "                           fitness=F1,\n",
    "                           population=initial_population,\n",
    "                           selection=LinearRankingSelection(num_individuals=SELECTED_SIZE, s=1.5),\n",
    "                           crossover=OnePointCrossover(probability=CROSSOVER_PROBABILITY),\n",
    "                           mutation=OneFlipMutation(probability=MUTATION_PROBABILITY))\n"
   ]
  },
  {
   "cell_type": "code",
   "execution_count": 22,
   "metadata": {},
   "outputs": [
    {
     "name": "stdout",
     "output_type": "stream",
     "text": [
      "Optimal value with Tournament Selection\n",
      " x* = [-0.16911045943304004, 0.04398826979472137, 0.6011730205278591], f(x*) = 0.39194231597977686\n"
     ]
    }
   ],
   "source": [
    "solution1 = min(best, key=lambda x: F1(x.phenotype))\n",
    "print(f\"Optimal value with Tournament Selection\\n x* = {solution1.phenotype}, f(x*) = {F1(solution1.phenotype)}\")\n"
   ]
  },
  {
   "cell_type": "code",
   "execution_count": 23,
   "metadata": {},
   "outputs": [
    {
     "name": "stdout",
     "output_type": "stream",
     "text": [
      "Generación: 2, número de descendientes: 12\n",
      "Generación: 4, número de descendientes: 8\n",
      "Generación: 6, número de descendientes: 12\n",
      "Generación: 8, número de descendientes: 12\n",
      "Generación: 10, número de descendientes: 10\n",
      "Generación: 12, número de descendientes: 12\n",
      "Generación: 14, número de descendientes: 12\n",
      "Generación: 16, número de descendientes: 11\n",
      "Generación: 18, número de descendientes: 14\n",
      "Generación: 20, número de descendientes: 13\n"
     ]
    },
    {
     "data": {
      "image/png": "[encoded data removed]",
      "text/plain": [
       "<Figure size 432x288 with 1 Axes>"
      ]
     },
     "metadata": {
      "needs_background": "light"
     },
     "output_type": "display_data"
    }
   ],
   "source": [
    "# GA CANONICAL HYPERPARAMETERS\n",
    "MAX_GENERATION = 20\n",
    "POPULATION_SIZE = 20\n",
    "GEN_SIZE_2 = 10\n",
    "SELECTED_SIZE = 15\n",
    "CROSSOVER_PROBABILITY = 0.8\n",
    "MUTATION_PROBABILITY = 0.01\n",
    "eps_2 = (domain_2[1] - domain_2[0]) / (2**GEN_SIZE_2 - 1)\n",
    "\n",
    "args = IndividualArguments(domain_2, eps_2, n_var_2, GEN_SIZE_2)\n",
    "initial_population = [Individual.newRandom(args) for _ in range(POPULATION_SIZE)]\n",
    "\n",
    "# PIPELINE GA TOURNAMENT SELECTION\n",
    "best = genenetic_algorithm(max_generation=MAX_GENERATION,\n",
    "                           fitness=F2,\n",
    "                           population=initial_population,\n",
    "                           selection=LinearRankingSelection(num_individuals=SELECTED_SIZE, s=1.5),\n",
    "                           crossover=OnePointCrossover(probability=CROSSOVER_PROBABILITY),\n",
    "                           mutation=OneFlipMutation(probability=MUTATION_PROBABILITY))\n"
   ]
  },
  {
   "cell_type": "code",
   "execution_count": 24,
   "metadata": {},
   "outputs": [
    {
     "name": "stdout",
     "output_type": "stream",
     "text": [
      "Optimal value with Tournament Selection\n",
      " x* = [0.8035190615835779, 0.5219941348973607], f(x*) = 1.5675060332813993\n"
     ]
    }
   ],
   "source": [
    "solution2 = min(best, key=lambda x: F2(x.phenotype))\n",
    "print(f\"Optimal value with Tournament Selection\\n x* = {solution2.phenotype}, f(x*) = {F2(solution2.phenotype)}\")\n"
   ]
  }
 ],
 "metadata": {
  "interpreter": {
   "hash": "590f4a299ae404e723bbc5f32e9a7b98b836c3c65ce9112bc934ac92a06ceee3"
  },
  "kernelspec": {
   "display_name": "Python 3.10.4 64-bit",
   "language": "python",
   "name": "python3"
  },
  "language_info": {
   "codemirror_mode": {
    "name": "ipython",
    "version": 3
   },
   "file_extension": ".py",
   "mimetype": "text/x-python",
   "name": "python",
   "nbconvert_exporter": "python",
   "pygments_lexer": "ipython3",
   "version": "3.10.5"
  },
  "orig_nbformat": 4
 },
 "nbformat": 4,
 "nbformat_minor": 2
}

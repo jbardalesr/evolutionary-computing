{
  "cells": [
    {
      "cell_type": "markdown",
      "metadata": {
        "id": "ogJqH1s3Z5xX"
      },
      "source": [
        "# Examen Parcial: CC521 A Programación Evolutiva 2022-1\n",
        "Alumno: Jordi Joel Bardales Rojas"
      ]
    },
    {
      "cell_type": "code",
      "execution_count": 129,
      "metadata": {
        "id": "puDvDQ3KcWf6"
      },
      "outputs": [],
      "source": [
        "import random\n",
        "import numpy as np\n",
        "import copy\n",
        "import matplotlib.pyplot as plt\n",
        " "
      ]
    },
    {
      "cell_type": "markdown",
      "metadata": {
        "id": "cQPEemHbhF5q"
      },
      "source": [
        "## 1. Descripción del problema"
      ]
    },
    {
      "cell_type": "markdown",
      "metadata": {
        "id": "9Vgzq2HKcYe9"
      },
      "source": [
        "Tablero fijo inicial del problema "
      ]
    },
    {
      "cell_type": "code",
      "execution_count": 130,
      "metadata": {
        "id": "DBm4rq63cYLC"
      },
      "outputs": [],
      "source": [
        "nums = set(range(1, 10))\n",
        "\n",
        "sudoku = np.array([[0, 6, 0, 1, 0, 4, 0, 5, 0],\n",
        "                   [0, 0, 8, 3, 0, 5, 6, 0, 0],\n",
        "                   [2, 0, 0, 0, 0, 0, 0, 0, 1],\n",
        "                   [8, 0, 0, 4, 0, 7, 0, 0, 6],\n",
        "                   [0, 0, 6, 0, 0, 0, 3, 0 ,0],\n",
        "                   [7, 0, 0, 9, 0, 1, 0, 0, 4],\n",
        "                   [5, 0, 0 ,0, 0, 0, 0, 0, 2],\n",
        "                   [0, 0, 7, 2, 0 ,6, 9, 0, 0],\n",
        "                   [0, 4, 0, 5, 0, 8, 0, 7, 0]])"
      ]
    },
    {
      "cell_type": "markdown",
      "metadata": {
        "id": "0frjxda0Ctm9"
      },
      "source": [
        "Elementos faltantes de cada columna con su respectiva posición"
      ]
    },
    {
      "cell_type": "code",
      "execution_count": 131,
      "metadata": {
        "colab": {
          "base_uri": "https://localhost:8080/"
        },
        "id": "HDo8HSIKsyW7",
        "outputId": "d35b296a-a034-4ad5-a976-b2b43c145b01"
      },
      "outputs": [
        {
          "data": {
            "text/plain": [
              "[[array([1, 3, 4, 6, 9]), array([0, 1, 4, 7, 8])],\n",
              " [array([1, 2, 3, 5, 7, 8, 9]), array([1, 2, 3, 4, 5, 6, 7])],\n",
              " [array([1, 2, 3, 4, 5, 9]), array([0, 2, 3, 5, 6, 8])],\n",
              " [array([8, 6, 7]), array([2, 4, 6])],\n",
              " [array([1, 2, 3, 4, 5, 6, 7, 8, 9]), array([0, 1, 2, 3, 4, 5, 6, 7, 8])],\n",
              " [array([9, 2, 3]), array([2, 4, 6])],\n",
              " [array([1, 2, 4, 5, 7, 8]), array([0, 2, 3, 5, 6, 8])],\n",
              " [array([1, 2, 3, 4, 6, 8, 9]), array([1, 2, 3, 4, 5, 6, 7])],\n",
              " [array([3, 5, 7, 8, 9]), array([0, 1, 4, 7, 8])]]"
            ]
          },
          "execution_count": 131,
          "metadata": {},
          "output_type": "execute_result"
        }
      ],
      "source": [
        "def my_sudoku_map(sudoku: np.ndarray):\n",
        "    ind: list = []\n",
        "    for i in range(len(sudoku)):\n",
        "        row = set((sudoku[:, i])[sudoku[:, i] != 0])\n",
        "        pos = np.where(sudoku[:, i] == 0)[0]\n",
        "        compl = np.array(list(nums - nums.intersection(row)))\n",
        "        ind.append([compl, pos])\n",
        "    return ind\n",
        "\n",
        "sudoku_map = my_sudoku_map(sudoku)\n",
        "sudoku_map"
      ]
    },
    {
      "cell_type": "markdown",
      "metadata": {
        "id": "vqiAtexHC4Xj"
      },
      "source": [
        "Función que retorna un tablero sudoku dado un individuo"
      ]
    },
    {
      "cell_type": "code",
      "execution_count": 132,
      "metadata": {
        "id": "fT-fQN1fcqZc"
      },
      "outputs": [],
      "source": [
        "def eval_sudoku(individual: np.ndarray):\n",
        "    sudoku_temp = np.copy(sudoku)\n",
        "    for k in range(len(sudoku_temp)):    \n",
        "        sudoku_temp[(sudoku_map[k][1])[individual[k]], k] = sudoku_map[k][0]\n",
        "    return sudoku_temp"
      ]
    },
    {
      "cell_type": "markdown",
      "metadata": {
        "id": "NO1kjCuGaFzX"
      },
      "source": [
        "### 1. Represente en seudcódigo el esquema general del algoritmo genético. [1 punto]\n",
        "\n",
        "```\n",
        "poblacion_size = 80\n",
        "mientras generation_number < max_generation:\n",
        "    generation_number +=1\n",
        "    seleccion_padres_por_torneo: selection_size = 60, size = 30\n",
        "    crossover p=0.8\n",
        "    mutation p=0.2\n",
        "    seleccion_del_ambiente_por_torneo:  selection_size = 60, size = 30\n",
        "```\n",
        "\n",
        "    \n",
        "- "
      ]
    },
    {
      "cell_type": "markdown",
      "metadata": {
        "id": "SYPvrNZBaU9R"
      },
      "source": [
        "### 2. Describa la representación de los individuos y la población, y elabore su algoritmo. [2 puntos]\n",
        "\n",
        "Los individuos están representados por una lista de posibles permutaciones de una columna según los elementos restantes:\n",
        "\n",
        "Ejemplo:\n",
        "\n",
        "Para la columna 0 del sudoku se tiene los elementos [2, 8, 7, 5], entonces: \n",
        "* A = [1, 3, 4, 6, 9] Son los elementos restantes \n",
        "* B = [0, 1, 4, 7, 8] Posiciones vacias\n",
        "* C = [0, 1, 2, 3, 4] Permutación de las posiciones\n",
        "\n",
        "Con ello en las columnas no hay ningún elemento repetido, pues irán elementos que no se encuentran en la columna fija inicial del sudoku. Además el cruzamiento y mutación solo es una permutación de dichos elementos restantes.\n",
        "\n",
        "individuo[0] = [0, 1, 2, 3, 4]\n",
        "\n",
        "Lo mismo para las demas columnas del sudoku 0-8. No necesariamente todas tiene el mismo tamaño pues hay columnas con más elementos vacios que otras.\n",
        "\n",
        "individuo = [[0, 1, 2, 3, 4], [0, 1], [0, 1, 2], ..., [0, 1, 2, .., 7]]\n",
        "\n",
        "len(individuo) = 9"
      ]
    },
    {
      "cell_type": "code",
      "execution_count": 133,
      "metadata": {
        "colab": {
          "base_uri": "https://localhost:8080/"
        },
        "id": "Jq2tU9OZcl3a",
        "outputId": "a122db49-d7ae-42c2-e26e-61f0cc5eca96"
      },
      "outputs": [
        {
          "name": "stdout",
          "output_type": "stream",
          "text": [
            "Gen del individuo\n",
            "[0 3 4 2 1]\n",
            "[6 0 1 4 2 3 5]\n",
            "[5 0 1 3 2 4]\n",
            "[1 0 2]\n",
            "[2 4 1 3 0 6 5 7 8]\n",
            "[2 1 0]\n",
            "[4 5 2 3 1 0]\n",
            "[4 3 6 0 1 5 2]\n",
            "[4 2 3 1 0]\n",
            "\n",
            "Tablero llenado\n"
          ]
        },
        {
          "data": {
            "text/plain": [
              "array([[1, 6, 2, 1, 5, 4, 8, 5, 9],\n",
              "       [9, 2, 8, 3, 3, 5, 6, 4, 8],\n",
              "       [2, 3, 3, 6, 1, 3, 7, 6, 1],\n",
              "       [8, 7, 5, 4, 4, 7, 4, 9, 6],\n",
              "       [6, 8, 6, 8, 2, 2, 3, 2, 5],\n",
              "       [7, 5, 4, 9, 7, 1, 5, 1, 4],\n",
              "       [5, 9, 9, 7, 6, 9, 1, 8, 2],\n",
              "       [3, 1, 7, 2, 8, 6, 9, 3, 7],\n",
              "       [4, 4, 1, 5, 9, 8, 2, 7, 3]])"
            ]
          },
          "execution_count": 133,
          "metadata": {},
          "output_type": "execute_result"
        }
      ],
      "source": [
        "def my_individual(sudoku: np.ndarray):\n",
        "    ind: list = []\n",
        "    for k in range(len(sudoku)):\n",
        "        index = list(range(len((sudoku[:, k])[sudoku[:, k] == 0])))\n",
        "        random.shuffle(index)\n",
        "        ind.append(np.array(index))\n",
        "    return ind\n",
        "\n",
        "print(\"Gen del individuo\")\n",
        "individual = my_individual(sudoku)\n",
        "for row in individual: \n",
        "    print(row)\n",
        "print(\"\\nTablero llenado\")\n",
        "eval_sudoku(individual)"
      ]
    },
    {
      "cell_type": "markdown",
      "metadata": {
        "id": "gKstqC_xabNB"
      },
      "source": [
        "### 3. Elabore y explique su algoritmo para la generación de la población inicial. [2 puntos]\n"
      ]
    },
    {
      "cell_type": "markdown",
      "metadata": {
        "id": "BDCCkJxCb-Lm"
      },
      "source": [
        "Un individuo aleatorio es una permutación aleatoria de cada columna, la población consiste de 80 individuos aleatorios."
      ]
    },
    {
      "cell_type": "code",
      "execution_count": 134,
      "metadata": {
        "colab": {
          "base_uri": "https://localhost:8080/"
        },
        "id": "yycVT2FqeB5T",
        "outputId": "909d107f-c22c-4f94-d607-e4c367596f27"
      },
      "outputs": [
        {
          "name": "stdout",
          "output_type": "stream",
          "text": [
            "Individuo 0\n",
            "[[1 6 5 1 3 4 5 5 7]\n",
            " [6 7 8 3 1 5 6 2 8]\n",
            " [2 3 9 8 5 2 1 1 1]\n",
            " [8 5 3 4 4 7 4 8 6]\n",
            " [4 8 6 7 6 9 3 4 3]\n",
            " [7 1 4 9 7 1 7 3 4]\n",
            " [5 2 1 6 8 3 2 9 2]\n",
            " [3 9 7 2 2 6 9 6 9]\n",
            " [9 4 2 5 9 8 8 7 5]]\n",
            "Individuo 10\n",
            "[[4 6 3 1 3 4 7 5 3]\n",
            " [9 9 8 3 7 5 6 4 7]\n",
            " [2 5 9 6 5 2 4 3 1]\n",
            " [8 8 4 4 4 7 2 1 6]\n",
            " [3 2 6 8 6 9 3 2 9]\n",
            " [7 7 2 9 2 1 8 8 4]\n",
            " [5 3 1 7 1 3 5 9 2]\n",
            " [6 1 7 2 9 6 9 6 8]\n",
            " [1 4 5 5 8 8 1 7 5]]\n",
            "Individuo 20\n",
            "[[3 6 4 1 1 4 4 5 3]\n",
            " [4 8 8 3 4 5 6 6 5]\n",
            " [2 1 9 7 9 3 1 3 1]\n",
            " [8 2 3 4 3 7 5 9 6]\n",
            " [6 5 6 8 6 9 3 8 8]\n",
            " [7 3 1 9 7 1 2 1 4]\n",
            " [5 7 5 6 2 2 8 2 2]\n",
            " [9 9 7 2 5 6 9 4 9]\n",
            " [1 4 2 5 8 8 7 7 7]]\n",
            "Individuo 30\n",
            "[[6 6 5 1 7 4 7 5 7]\n",
            " [4 5 8 3 9 5 6 2 5]\n",
            " [2 2 2 6 2 2 8 9 1]\n",
            " [8 7 3 4 3 7 1 3 6]\n",
            " [3 3 6 8 4 9 3 8 9]\n",
            " [7 1 4 9 5 1 4 4 4]\n",
            " [5 9 1 7 1 3 5 1 2]\n",
            " [9 8 7 2 6 6 9 6 3]\n",
            " [1 4 9 5 8 8 2 7 8]]\n",
            "Individuo 40\n",
            "[[6 6 2 1 4 4 8 5 7]\n",
            " [3 1 8 3 6 5 6 6 8]\n",
            " [2 9 5 7 1 3 5 4 1]\n",
            " [8 3 3 4 5 7 2 2 6]\n",
            " [4 7 6 8 3 2 3 3 9]\n",
            " [7 8 9 9 9 1 1 8 4]\n",
            " [5 5 4 6 8 9 7 1 2]\n",
            " [1 2 7 2 2 6 9 9 3]\n",
            " [9 4 1 5 7 8 4 7 5]]\n",
            "Individuo 50\n",
            "[[6 6 3 1 1 4 2 5 9]\n",
            " [4 8 8 3 4 5 6 1 8]\n",
            " [2 9 5 6 2 3 5 8 1]\n",
            " [8 1 4 4 7 7 8 2 6]\n",
            " [9 7 6 7 3 9 3 4 5]\n",
            " [7 5 9 9 9 1 4 3 4]\n",
            " [5 3 2 8 5 2 1 9 2]\n",
            " [1 2 7 2 6 6 9 6 7]\n",
            " [3 4 1 5 8 8 7 7 3]]\n",
            "Individuo 60\n",
            "[[3 6 9 1 5 4 8 5 7]\n",
            " [1 2 8 3 1 5 6 9 8]\n",
            " [2 1 2 8 9 9 1 6 1]\n",
            " [8 9 5 4 2 7 2 1 6]\n",
            " [6 5 6 7 6 3 3 8 5]\n",
            " [7 3 3 9 8 1 4 2 4]\n",
            " [5 8 4 6 3 2 7 3 2]\n",
            " [9 7 7 2 7 6 9 4 3]\n",
            " [4 4 1 5 4 8 5 7 9]]\n",
            "Individuo 70\n",
            "[[1 6 9 1 4 4 4 5 5]\n",
            " [6 9 8 3 6 5 6 9 8]\n",
            " [2 8 5 7 1 3 7 8 1]\n",
            " [8 7 2 4 7 7 2 1 6]\n",
            " [9 2 6 8 3 2 3 4 3]\n",
            " [7 3 4 9 5 1 5 2 4]\n",
            " [5 1 1 6 8 9 8 3 2]\n",
            " [3 5 7 2 2 6 9 6 7]\n",
            " [4 4 3 5 9 8 1 7 9]]\n"
          ]
        }
      ],
      "source": [
        "POPULATION_SIZE = 80\n",
        "initial_population = [my_individual(sudoku) for _ in range(POPULATION_SIZE)]\n",
        "for i, ind in enumerate(initial_population):\n",
        "    if i%10 == 0: \n",
        "        print(f\"Individuo {i}\\n{eval_sudoku(ind)}\")"
      ]
    },
    {
      "cell_type": "code",
      "execution_count": 135,
      "metadata": {
        "colab": {
          "base_uri": "https://localhost:8080/"
        },
        "id": "MCY1a53GEmQx",
        "outputId": "50b83433-6c44-4388-d498-416c0f7018c6"
      },
      "outputs": [
        {
          "data": {
            "text/plain": [
              "362880"
            ]
          },
          "execution_count": 135,
          "metadata": {},
          "output_type": "execute_result"
        }
      ],
      "source": [
        "valor_max = 1*2*3*4*5*6*7*8*9\n",
        "valor_max"
      ]
    },
    {
      "cell_type": "markdown",
      "metadata": {
        "id": "WJVxuZf5aZcg"
      },
      "source": [
        "### 4. Defina y explique la función de adaptación (fitness), y elabore su algoritmo de evaluación. [2 puntos]\n",
        "Multiplicamos los elementos de la filas y las cuadriculas de $3\\times3$, luego restamos ambas. Hacemos esto para cada cuadrícula y fila. El valor óptimo es cuando este resultado es $0 (362880 - 362880 = 0)$ pues en teoria deben tener elementos únicos cuya multiplicacion es $1\\times2\\times3...\\times9=362880$. La columna siempre multiplicará $362880$ porque es una permutación con elementos únicos de todos los valores posibles $[1, 2, ..., 9]$."
      ]
    },
    {
      "cell_type": "code",
      "execution_count": 136,
      "metadata": {
        "id": "Cb85ouTOdrta"
      },
      "outputs": [],
      "source": [
        "def fitness(individual: list):\n",
        "    sudoku_temp = eval_sudoku(individual)\n",
        "    prod_crudricula = 1\n",
        "    sub_cruad_row = 0\n",
        "    for i in range(3):\n",
        "        for j in range(3):\n",
        "            sum_crudricula = sudoku_temp[3*i:3*(i + 1), 3*j:3*(j + 1)].prod()\n",
        "        prod_filas = sudoku_temp[i, :].prod()\n",
        "        sub_cruad_row += abs(sum_crudricula - prod_filas)\n",
        "    return sub_cruad_row\n"
      ]
    },
    {
      "cell_type": "markdown",
      "metadata": {
        "id": "7E_RC46gacnq"
      },
      "source": [
        "### 5. Elabore y explique su algoritmo para el operador de Cruzamiento. [2 puntos]\n",
        "Se está utilizan un crossover con 3 cortes de manera aleatorio en los genes fijados, en general se puede utilizar hasta 8 cortes. \n",
        "\n",
        "Ejemplo:\n",
        "\n",
        "p1 = [[3 0 1 2 4], [3 2 0 5 6 4 1],|corte [0 5 4 2 1 3],[0 1 2],|corte[0 1 2 7 6 5 4 8 3],[0 1 2],[5 0 3 4 2 1],|corte[0 6 1 2 4 5 3],[3 4 0 2 1]]\n",
        "\n",
        "p2 = [[4 1 2 3 0], [2 3 0 5 1 4 6],|corte [3 1 2 4 5 0],[2 1 0],|corte[1 2 7 0 5 6 3 8 4],[0 2 1],[3 0 5 4 1 2],|corte[6 0 4 2 1 5 3],[4 3 1 2 0]]\n",
        "\n",
        "Hijos resultado del cruzamiento\n",
        "\n",
        "c1 = [[3 0 1 2 4], [3 2 0 5 6 4 1], [3 1 2 4 5 0],[2 1 0], [0 1 2 7 6 5 4 8 3],[0 1 2],[5 0 3 4 2 1], [6 0 4 2 1 5 3],[4 3 1 2 0]]\n",
        "\n",
        "c2 = [[4 1 2 3 0], [2 3 0 5 1 4 6], [0 5 4 2 1 3],[0 1 2], [1 2 7 0 5 6 3 8 4],[0 2 1],[3 0 5 4 1 2], [0 6 1 2 4 5 3],[3 4 0 2 1]]\n"
      ]
    },
    {
      "cell_type": "code",
      "execution_count": 137,
      "metadata": {
        "id": "zB5AUeWcdVOa"
      },
      "outputs": [],
      "source": [
        "def my_crossover(p1: list, p2: list) -> list:\n",
        "    if random.random() < 0.8:\n",
        "        c1 = copy.deepcopy(p1)\n",
        "        c2 = copy.deepcopy(p2)\n",
        "        ps = random.sample(range(1, 8), 3)\n",
        "        ps.append(0)\n",
        "        ps.append(9)\n",
        "        ps = sorted(ps)\n",
        "        for i in range(len(ps) - 1):\n",
        "            if i % 2 == 0:\n",
        "                continue\n",
        "            c1[ps[i]:ps[i + 1]], c2[ps[i]:ps[i + 1]] = c2[ps[i]:ps[i + 1]], c1[ps[i]:ps[i + 1]]\n",
        "        return c1, c2\n",
        "    return None\n"
      ]
    },
    {
      "cell_type": "markdown",
      "metadata": {
        "id": "ojbPnnQ7adc8"
      },
      "source": [
        "### 6. Elabore y explique su algoritmo para el operador de Mutación. [2 puntos]\n"
      ]
    },
    {
      "cell_type": "markdown",
      "metadata": {
        "id": "APMtsNHQehQx"
      },
      "source": [
        "La mutación es simplemente generar permutar cada columna del individuo.\n",
        "\n",
        "shuffle(columna_i) para todo i en [0, 1, ..., 8] del individuo"
      ]
    },
    {
      "cell_type": "code",
      "execution_count": 138,
      "metadata": {
        "id": "r6yqZp1Xee5F"
      },
      "outputs": [],
      "source": [
        "def my_mutation(p1: list) -> np.ndarray:\n",
        "    if random.random() < 0.2:\n",
        "        child = copy.deepcopy(p1)\n",
        "        for i in range(len(child)):\n",
        "            random.shuffle(child[i])\n",
        "        return child\n",
        "    return None\n"
      ]
    },
    {
      "cell_type": "markdown",
      "metadata": {
        "id": "o8lDgN6UaeXP"
      },
      "source": [
        "### 7. Elabore y explique su algoritmo para la el método de selección de la siguiente generación. [2 puntos]\n",
        "\n",
        "Se está utilizando la selección por torneo, el cual se eligen `tournament_size` individuos de manera aleatoria y se selecciona el menor de ellos. El valor óptimo es cero."
      ]
    },
    {
      "cell_type": "code",
      "execution_count": 139,
      "metadata": {
        "id": "jEPMtMLItUjR"
      },
      "outputs": [],
      "source": [
        "def tournament_selection(num_individuals: int, tournament_size: int, population: list, fitness: list):\n",
        "    pop_fit_zipped = list(zip(population, fitness))\n",
        "    selected: list = []\n",
        "    for _ in range(num_individuals):\n",
        "        candidates = random.choices(pop_fit_zipped, k=tournament_size)\n",
        "        selected.append(min(candidates, key=lambda pop_fit: pop_fit[1])[0])\n",
        "    return selected"
      ]
    },
    {
      "cell_type": "markdown",
      "metadata": {
        "id": "gS96LPaMafHT"
      },
      "source": [
        "\n",
        "### 8. Programe el algoritmo genético haciendo uso de la plataforma de Google Colab. [5 puntos]"
      ]
    },
    {
      "cell_type": "code",
      "execution_count": 140,
      "metadata": {
        "colab": {
          "base_uri": "https://localhost:8080/",
          "height": 469
        },
        "id": "wpYzTce9S41b",
        "outputId": "104e0019-033f-40a6-b308-b3422bfe16b3"
      },
      "outputs": [
        {
          "name": "stdout",
          "output_type": "stream",
          "text": [
            "Generación: 1200, número de descendientes: 61\n",
            "Generación: 2400, número de descendientes: 59\n",
            "Generación: 3600, número de descendientes: 55\n",
            "Generación: 4800, número de descendientes: 66\n",
            "Generación: 6000, número de descendientes: 55\n",
            "Generación: 7200, número de descendientes: 58\n",
            "Generación: 8400, número de descendientes: 63\n",
            "Generación: 9600, número de descendientes: 68\n",
            "Generación: 10800, número de descendientes: 57\n",
            "Generación: 12000, número de descendientes: 57\n"
          ]
        },
        {
          "data": {
            "image/png": "[encoded data removed]",
            "text/plain": [
              "<Figure size 432x288 with 1 Axes>"
            ]
          },
          "metadata": {
            "needs_background": "light"
          },
          "output_type": "display_data"
        }
      ],
      "source": [
        "max_generation = 12000\n",
        "num_individuals = 60\n",
        "tournament_size = 10\n",
        "\n",
        "best: list = []\n",
        "generation_number = 0\n",
        "population = copy.deepcopy(initial_population)\n",
        "while generation_number < max_generation:\n",
        "    generation_number += 1\n",
        "    # evaluacion de la aptitud de la población inicial (n individuos)\n",
        "    population_fitness = [fitness(ind) for ind in population]\n",
        "    # seleccion de los padres (para la reproducción)\n",
        "    parents = tournament_selection(num_individuals, 30, population, population_fitness)\n",
        "    # operadores de variación\n",
        "    offspring: list = []\n",
        "    # crossover\n",
        "    for p1, p2 in zip(parents[0::2], parents[1::2]):\n",
        "        ind = my_crossover(p1, p2)\n",
        "        if ind != None:\n",
        "            offspring += ind\n",
        "    # mutation\n",
        "    for ind in parents:\n",
        "        ind = my_mutation(ind)\n",
        "        if ind != None:\n",
        "            offspring.append(ind)\n",
        "    # evaluacion de la aptitud de los λ descendientes\n",
        "    offspring_fitness = [fitness(ind) for ind in offspring]\n",
        "\n",
        "    prev_fitness = copy.deepcopy(population_fitness)\n",
        "    # λ individuos aptos + n padres\n",
        "    population += offspring\n",
        "    population_fitness += offspring_fitness\n",
        "    # seleccionamos un individuo para la grafica\n",
        "    best.append(population[random.randint(0, len(population) - 1)])\n",
        "    # selección del ambiente n\n",
        "    population = tournament_selection(num_individuals, 30, population, population_fitness)\n",
        "\n",
        "    # impresión de la generación\n",
        "    if generation_number % int(max_generation / 10) == 0:\n",
        "        print(f\"Generación: {generation_number}, número de descendientes: {len(offspring)}\")\n",
        "\n",
        "plt.plot([fitness(x) for x in best], \"r-\")\n",
        "plt.title(f\"Generation number {generation_number}\")\n",
        "plt.ylabel(\"Fitness\")\n",
        "plt.xlabel(\"Generation\")\n",
        "plt.show()\n"
      ]
    },
    {
      "cell_type": "code",
      "execution_count": 141,
      "metadata": {
        "colab": {
          "base_uri": "https://localhost:8080/"
        },
        "id": "xv09w_ERUWgk",
        "outputId": "328ee8c7-7bd3-483a-f095-c93222029756"
      },
      "outputs": [
        {
          "name": "stdout",
          "output_type": "stream",
          "text": [
            "Optimal value with Tournament Selection\n",
            " [[4 6 5 1 9 4 7 5 8]\n",
            " [6 9 8 3 1 5 6 6 5]\n",
            " [2 5 2 8 2 9 8 3 1]\n",
            " [8 8 1 4 6 7 4 8 6]\n",
            " [3 2 6 7 8 2 3 4 7]\n",
            " [7 7 9 9 7 1 2 9 4]\n",
            " [5 1 4 6 5 3 5 2 2]\n",
            " [1 3 7 2 3 6 9 1 3]\n",
            " [9 4 3 5 4 8 1 7 9]]\n",
            "f(x*) = 40284\n"
          ]
        }
      ],
      "source": [
        "solution = min(best, key=lambda x: fitness(x))\n",
        "\n",
        "sudoku_temp = eval_sudoku(solution)\n",
        "\n",
        "print(f\"Optimal value with Tournament Selection\\n {sudoku_temp}\\nf(x*) = {fitness(solution)}\")"
      ]
    },
    {
      "cell_type": "markdown",
      "metadata": {
        "id": "MdiRppS9hPHY"
      },
      "source": [
        "## Pregunta sobre el teorema del esquema [2 puntos]\n",
        "Calcular la ecuación y el valor estimado de los representantes del esquema $H$ que sean seleccionados.\n"
      ]
    },
    {
      "cell_type": "markdown",
      "metadata": {
        "id": "cczVo0xX29YG"
      },
      "source": [
        "Generacion = $\\tau$\n",
        "\n",
        "$N = 100$\n",
        "\n",
        "$K = m(H, \\tau) = 45$\n",
        "\n",
        "$O(H)=5\\quad H=[*, 1, 0, 1, *, *, 1, *, 0]$\n",
        "\n",
        "$\\bar{f}=\\frac{\\sum_{j=1}^{N}{f_j}}{N} = 75$\n",
        "\n",
        "$\\bar{f}(H)=\\frac{\\sum_{j=1}^{K}{\\hat f_j}}{m(H, \\tau)}=70$\n",
        "\n",
        "$P_c= 0.6$\n",
        "\n",
        "$P_m= 0.02$\n",
        "\n",
        "$P_r= 0.3$\n",
        "\n",
        "$P_i = \\frac{f_i}{\\sum_{j=1}^{N}{f_j}}$"
      ]
    },
    {
      "cell_type": "code",
      "execution_count": 1,
      "metadata": {
        "id": "etIkd7ng4l6z"
      },
      "outputs": [],
      "source": [
        "N = 100\n",
        "K = 45\n",
        "OH = 5\n",
        "mean_f = 75\n",
        "mean_fH = 70\n",
        "Pc = 0.6\n",
        "Pm = 0.02\n",
        "Pr = 0.3\n"
      ]
    },
    {
      "cell_type": "code",
      "execution_count": 2,
      "metadata": {
        "colab": {
          "base_uri": "https://localhost:8080/"
        },
        "id": "hjAKMyB3B0z5",
        "outputId": "0c46b4f2-ab9d-47a4-d286-dd766ecabd86"
      },
      "outputs": [
        {
          "data": {
            "text/plain": [
              "0.42"
            ]
          },
          "execution_count": 2,
          "metadata": {},
          "output_type": "execute_result"
        }
      ],
      "source": [
        "P_H = mean_fH*K/(mean_f*N)\n",
        "P_H"
      ]
    },
    {
      "cell_type": "markdown",
      "metadata": {
        "id": "ElGCaaiTCV-6"
      },
      "source": [
        "### Probabilidad de seleccionar un representante del esquema $H$\n"
      ]
    },
    {
      "cell_type": "markdown",
      "metadata": {
        "id": "TPsi5mcD_rvc"
      },
      "source": [
        "\n",
        "$P_H=\\frac{\\sum_{i=1}^{K}{\\hat{f}_i}}{\\sum_{j=1}^{N}{f_j}}=\\frac{\\overline{f}(H)\\times m(H, \\tau)}{\\overline{f}\\times N} = \\frac{70\\times 45}{75\\times 100}=0.42$"
      ]
    },
    {
      "cell_type": "markdown",
      "metadata": {
        "id": "v4bpqTXC4OCr"
      },
      "source": [
        "###Valor estimado de los representantes del esquema H:\n"
      ]
    },
    {
      "cell_type": "markdown",
      "metadata": {
        "id": "ZHaBd8Zw-Wm6"
      },
      "source": [
        "#### 1. Valor estimado de que los representates sean seleccionados y pasen intacto:\n"
      ]
    },
    {
      "cell_type": "code",
      "execution_count": 144,
      "metadata": {
        "colab": {
          "base_uri": "https://localhost:8080/"
        },
        "id": "0X2FPgIU4QyS",
        "outputId": "dab6323b-0dfe-4912-a26b-ef480a555ffe"
      },
      "outputs": [
        {
          "data": {
            "text/plain": [
              "16.8"
            ]
          },
          "execution_count": 144,
          "metadata": {},
          "output_type": "execute_result"
        }
      ],
      "source": [
        "(1 - Pc)*K*mean_fH/mean_f"
      ]
    },
    {
      "cell_type": "markdown",
      "metadata": {
        "id": "TLz8vK965iDs"
      },
      "source": [
        "$$\\left(1-P_{c}\\right) m(H, \\tau) \\frac{\\bar{f}(H)}{\\bar{f}} = 16.8$$"
      ]
    },
    {
      "cell_type": "markdown",
      "metadata": {
        "id": "mJTaVzlD5UrO"
      },
      "source": [
        "#### 2. El valor esperado de las cadenas seleccionadas para la recombinación que aún se mantienen en el esquema $H$   es\n"
      ]
    },
    {
      "cell_type": "code",
      "execution_count": 145,
      "metadata": {
        "colab": {
          "base_uri": "https://localhost:8080/"
        },
        "id": "9QBYkip85PwY",
        "outputId": "add18e77-abc1-4e0a-ba1c-fe608f2bbb7d"
      },
      "outputs": [
        {
          "data": {
            "text/plain": [
              "17.639999999999997"
            ]
          },
          "execution_count": 145,
          "metadata": {},
          "output_type": "execute_result"
        }
      ],
      "source": [
        "Pc*(K*mean_fH/mean_f*(1 - Pr))"
      ]
    },
    {
      "cell_type": "markdown",
      "metadata": {
        "id": "0OWrVQIe6R7L"
      },
      "source": [
        "$$P_{c}\\left[m(H, \\tau) \\frac{\\bar{f}(H)}{\\bar{f}}\\left(1-P_{r}\\right)\\right]=17.64$$"
      ]
    },
    {
      "cell_type": "markdown",
      "metadata": {
        "id": "nqvTBEY_9FCu"
      },
      "source": [
        "#### 3. Añadiendo proceso mutación"
      ]
    },
    {
      "cell_type": "code",
      "execution_count": 146,
      "metadata": {
        "colab": {
          "base_uri": "https://localhost:8080/"
        },
        "id": "9TqF4B4r9dVB",
        "outputId": "d156de18-d19b-483e-ae83-396181b4397c"
      },
      "outputs": [
        {
          "data": {
            "text/plain": [
              "0.9039207967999999"
            ]
          },
          "execution_count": 146,
          "metadata": {},
          "output_type": "execute_result"
        }
      ],
      "source": [
        "(1 - Pm)**OH"
      ]
    },
    {
      "cell_type": "markdown",
      "metadata": {
        "id": "YU41Iaf26ZJ9"
      },
      "source": [
        "Por lo tanto la ecuación del esquema $H$ después de la selección y cruzamiento es:\n",
        "$$m(H, \\tau + 1) \\ge (16.8 + 17.64)*0.90392 = 31.131$$"
      ]
    },
    {
      "cell_type": "markdown",
      "metadata": {
        "id": "ZnaGTYHJ8KHJ"
      },
      "source": [
        "Tambien se puede obtener de la siguiente manera"
      ]
    },
    {
      "cell_type": "code",
      "execution_count": 147,
      "metadata": {
        "colab": {
          "base_uri": "https://localhost:8080/"
        },
        "id": "9_vkHBu-6Ngo",
        "outputId": "7243ff53-0573-4bc0-f222-9d11a3a4b62a"
      },
      "outputs": [
        {
          "data": {
            "text/plain": [
              "31.131032241792003"
            ]
          },
          "execution_count": 147,
          "metadata": {},
          "output_type": "execute_result"
        }
      ],
      "source": [
        "K*mean_fH/mean_f*(1 - Pr*Pc)*(1 - Pm)**OH"
      ]
    },
    {
      "cell_type": "markdown",
      "metadata": {
        "id": "3W4kLies8lv3"
      },
      "source": [
        "$$m(H, \\tau +1)\\ge m(H, \\tau) \\frac{\\bar{f}(H)}{\\bar{f}}\\left(1-P_{r}P_{c}\\right){(1 - P_m)}^{O(H)}=31.131$$"
      ]
    }
  ],
  "metadata": {
    "colab": {
      "collapsed_sections": [],
      "name": "parcial_sudoku.ipynb",
      "provenance": []
    },
    "kernelspec": {
      "display_name": "Python 3.10.4 64-bit",
      "language": "python",
      "name": "python3"
    },
    "language_info": {
      "codemirror_mode": {
        "name": "ipython",
        "version": 3
      },
      "file_extension": ".py",
      "mimetype": "text/x-python",
      "name": "python",
      "nbconvert_exporter": "python",
      "pygments_lexer": "ipython3",
      "version": "3.10.6"
    },
    "vscode": {
      "interpreter": {
        "hash": "590f4a299ae404e723bbc5f32e9a7b98b836c3c65ce9112bc934ac92a06ceee3"
      }
    }
  },
  "nbformat": 4,
  "nbformat_minor": 0
}
